{
 "cells": [
  {
   "cell_type": "code",
   "execution_count": null,
   "metadata": {},
   "outputs": [],
   "source": [
    "# https://statcompute.wordpress.com/2017/01/08/an-example-of-merge-layer-in-keras/"
   ]
  },
  {
   "cell_type": "code",
   "execution_count": 1,
   "metadata": {},
   "outputs": [
    {
     "name": "stderr",
     "output_type": "stream",
     "text": [
      "Using TensorFlow backend.\n"
     ]
    }
   ],
   "source": [
    "from sklearn.utils import class_weight\n",
    "\n",
    "from sklearn.model_selection import train_test_split\n",
    "import numpy as np\n",
    "from keras.models import Sequential\n",
    "from keras.layers import Dense,Merge\n",
    "from keras.layers import LSTM\n",
    "\n",
    "# For the plots \n",
    "import matplotlib.pyplot as plt\n",
    "\n",
    "# For controlling the training parameters in the midst of training itself\n",
    "from keras.callbacks import ModelCheckpoint,EarlyStopping, ReduceLROnPlateau\n",
    "\n",
    "# For creating directory to save the models\n",
    "import os"
   ]
  },
  {
   "cell_type": "code",
   "execution_count": 2,
   "metadata": {},
   "outputs": [],
   "source": [
    "# Load the data\n",
    "X = np.load(\"X (1).npy\")\n",
    "Y = np.load(\"Y (1).npy\")"
   ]
  },
  {
   "cell_type": "code",
   "execution_count": 3,
   "metadata": {},
   "outputs": [],
   "source": [
    "# Split the test train and pass it into validation\n",
    "\n",
    "X_train, X_test, Y_train, Y_test = train_test_split(X, Y, test_size=0.1, random_state=42)"
   ]
  },
  {
   "cell_type": "code",
   "execution_count": 4,
   "metadata": {},
   "outputs": [
    {
     "data": {
      "text/plain": [
       "array([[ 0.02168554, -1.0548047 ,  0.40987068, ..., -0.30923844,\n",
       "         0.35082002, -1.92649141],\n",
       "       [-0.15416558, -0.11757356,  0.45027281, ...,  0.50488142,\n",
       "         0.79703528, -0.81547943],\n",
       "       [ 0.19885802, -1.2065653 , -1.64577139, ...,  4.01158599,\n",
       "         0.40503207,  1.13326333],\n",
       "       ..., \n",
       "       [-0.4378321 , -1.64126673,  0.6659438 , ...,  0.72965238,\n",
       "         1.40637856, -1.41041953],\n",
       "       [-1.29651088, -1.74769129,  0.39096358, ...,  1.08826687,\n",
       "        -1.24826029,  2.69560618],\n",
       "       [-1.62809107, -1.02241376,  1.60640286, ...,  0.3292707 ,\n",
       "        -2.03422071,  0.64199374]])"
      ]
     },
     "execution_count": 4,
     "metadata": {},
     "output_type": "execute_result"
    }
   ],
   "source": [
    "X_test[:,:100]"
   ]
  },
  {
   "cell_type": "code",
   "execution_count": 5,
   "metadata": {},
   "outputs": [],
   "source": [
    "# Reshape the stuff according to the the shape Keras expects it to be !\n",
    "data_lstm = X_train[:,:100].reshape((X_train[:,:100].shape[0], 100, 1))\n",
    "target = Y_train.reshape((Y_train.shape[0], 1))\n",
    "\n",
    "val_data_lstm = X_test[:,:100].reshape(X_test[:,:100].shape[0],100,1)\n",
    "val_target = Y_test.reshape(Y_test.shape[0],1)"
   ]
  },
  {
   "cell_type": "code",
   "execution_count": 6,
   "metadata": {},
   "outputs": [
    {
     "data": {
      "text/plain": [
       "(2923, 100, 1)"
      ]
     },
     "execution_count": 6,
     "metadata": {},
     "output_type": "execute_result"
    }
   ],
   "source": [
    "data_lstm.shape"
   ]
  },
  {
   "cell_type": "code",
   "execution_count": 7,
   "metadata": {},
   "outputs": [],
   "source": [
    "data_mw = X_train[:,-1].reshape((X_train[:,-1].shape[0],1))\n",
    "val_data_mw = X_test[:,-1].reshape((X_test[:,-1].shape[0],1))"
   ]
  },
  {
   "cell_type": "code",
   "execution_count": 8,
   "metadata": {},
   "outputs": [
    {
     "data": {
      "text/plain": [
       "(325, 1)"
      ]
     },
     "execution_count": 8,
     "metadata": {},
     "output_type": "execute_result"
    }
   ],
   "source": [
    "val_data_mw.shape"
   ]
  },
  {
   "cell_type": "code",
   "execution_count": 9,
   "metadata": {},
   "outputs": [
    {
     "data": {
      "text/plain": [
       "(325, 1)"
      ]
     },
     "execution_count": 9,
     "metadata": {},
     "output_type": "execute_result"
    }
   ],
   "source": [
    "val_target.shape"
   ]
  },
  {
   "cell_type": "code",
   "execution_count": 57,
   "metadata": {},
   "outputs": [
    {
     "name": "stderr",
     "output_type": "stream",
     "text": [
      "/usr/local/lib/python3.5/dist-packages/ipykernel_launcher.py:14: UserWarning: The `Merge` layer is deprecated and will be removed after 08/2017. Use instead layers from `keras.layers.merge`, e.g. `add`, `concatenate`, etc.\n",
      "  \n"
     ]
    }
   ],
   "source": [
    "# The standard model\n",
    "# Here 50, the dimensionality of the output from LSTM is just a random no and has no suxh signifance, \n",
    "# That ^^ shuould be search via a hyperparameter search\n",
    "\n",
    "branch1 = Sequential()\n",
    "\n",
    "# The a<final output> will have 50 numbers \n",
    "branch1.add(LSTM(50, input_shape=(100, 1)))\n",
    "\n",
    "branch2 = Sequential()\n",
    "branch2.add(Dense(10,input_dim=1))\n",
    "# Get those 50 numbers and put that into one output !\n",
    "model =Sequential()\n",
    "model.add(Merge([branch1, branch2], mode = 'concat'))\n",
    "model.add(Dense(1,activation='tanh'))\n",
    "model.add(Dense(1,activation='relu'))"
   ]
  },
  {
   "cell_type": "code",
   "execution_count": 58,
   "metadata": {},
   "outputs": [],
   "source": [
    "# Define the output for the saving the checkpoint (best models)\n",
    "\n",
    "outputFolder = './output-lstm'\n",
    "if not os.path.exists(outputFolder):\n",
    "    os.makedirs(outputFolder)\n",
    "filepath=outputFolder+\"/Weights-{epoch:02d}-{val_acc:.2f}.hdf5\""
   ]
  },
  {
   "cell_type": "code",
   "execution_count": 59,
   "metadata": {},
   "outputs": [],
   "source": [
    "# The callback function for model checkpoint saving\n",
    "checkpoint = ModelCheckpoint(filepath, monitor='val_acc', verbose=1,save_best_only=True,\\\n",
    "                             save_weights_only=True,mode='auto')\n",
    "\n",
    "# The callback function for earlystopping\n",
    "\n",
    "earlystop = EarlyStopping(monitor='val_loss',patience=10, \\\n",
    "                          verbose=1, mode='auto')\n",
    "\n",
    "# The callback function for reducing learning rate on plateus\n",
    "\n",
    "reduce_lr = ReduceLROnPlateau(monitor='val_loss', factor=0.1,\n",
    "                              patience=3, min_lr=0.00001)"
   ]
  },
  {
   "cell_type": "code",
   "execution_count": 60,
   "metadata": {},
   "outputs": [],
   "source": [
    "# Put all those calback in a list\n",
    "callbacks = [earlystop, checkpoint, reduce_lr]"
   ]
  },
  {
   "cell_type": "code",
   "execution_count": 61,
   "metadata": {
    "scrolled": true
   },
   "outputs": [
    {
     "name": "stderr",
     "output_type": "stream",
     "text": [
      "/home/sangeet/.local/lib/python3.5/site-packages/keras/models.py:944: UserWarning: The `nb_epoch` argument in `fit` has been renamed `epochs`.\n",
      "  warnings.warn('The `nb_epoch` argument in `fit` '\n"
     ]
    },
    {
     "name": "stdout",
     "output_type": "stream",
     "text": [
      "Train on 2923 samples, validate on 325 samples\n",
      "Epoch 1/10000\n",
      "\n",
      "Epoch 00001: val_acc improved from -inf to 0.80000, saving model to ./output-lstm/Weights-01-0.80.hdf5\n",
      " - 2s - loss: 3.1573 - acc: 0.7988 - val_loss: 3.8501 - val_acc: 0.8000\n",
      "Epoch 2/10000\n",
      "\n",
      "Epoch 00002: val_acc did not improve\n",
      " - 1s - loss: 3.1459 - acc: 0.7999 - val_loss: 3.8370 - val_acc: 0.8000\n",
      "Epoch 3/10000\n",
      "\n",
      "Epoch 00003: val_acc improved from 0.80000 to 0.80308, saving model to ./output-lstm/Weights-03-0.80.hdf5\n",
      " - 1s - loss: 3.1338 - acc: 0.8019 - val_loss: 3.8247 - val_acc: 0.8031\n",
      "Epoch 4/10000\n",
      "\n",
      "Epoch 00004: val_acc did not improve\n",
      " - 1s - loss: 3.1221 - acc: 0.8023 - val_loss: 3.8141 - val_acc: 0.8031\n",
      "Epoch 5/10000\n",
      "\n",
      "Epoch 00005: val_acc did not improve\n",
      " - 1s - loss: 3.1127 - acc: 0.8029 - val_loss: 3.8068 - val_acc: 0.8031\n",
      "Epoch 6/10000\n",
      "\n",
      "Epoch 00006: val_acc did not improve\n",
      " - 1s - loss: 3.1073 - acc: 0.8033 - val_loss: 3.8039 - val_acc: 0.8031\n",
      "Epoch 7/10000\n",
      "\n",
      "Epoch 00007: val_acc did not improve\n",
      " - 1s - loss: 3.1054 - acc: 0.8033 - val_loss: 3.8031 - val_acc: 0.8031\n",
      "Epoch 8/10000\n",
      "\n",
      "Epoch 00008: val_acc did not improve\n",
      " - 1s - loss: 3.1044 - acc: 0.8036 - val_loss: 3.8031 - val_acc: 0.8031\n",
      "Epoch 9/10000\n",
      "\n",
      "Epoch 00009: val_acc did not improve\n",
      " - 1s - loss: 3.1043 - acc: 0.8036 - val_loss: 3.8031 - val_acc: 0.8031\n",
      "Epoch 10/10000\n",
      "\n",
      "Epoch 00010: val_acc did not improve\n",
      " - 1s - loss: 3.1043 - acc: 0.8036 - val_loss: 3.8031 - val_acc: 0.8031\n",
      "Epoch 11/10000\n",
      "\n",
      "Epoch 00011: val_acc did not improve\n",
      " - 1s - loss: 3.1043 - acc: 0.8036 - val_loss: 3.8031 - val_acc: 0.8031\n",
      "Epoch 12/10000\n",
      "\n",
      "Epoch 00012: val_acc did not improve\n",
      " - 1s - loss: 3.1043 - acc: 0.8036 - val_loss: 3.8031 - val_acc: 0.8031\n",
      "Epoch 13/10000\n",
      "\n",
      "Epoch 00013: val_acc did not improve\n",
      " - 1s - loss: 3.1043 - acc: 0.8036 - val_loss: 3.8031 - val_acc: 0.8031\n",
      "Epoch 14/10000\n",
      "\n",
      "Epoch 00014: val_acc did not improve\n",
      " - 1s - loss: 3.1043 - acc: 0.8036 - val_loss: 3.8031 - val_acc: 0.8031\n",
      "Epoch 15/10000\n",
      "\n",
      "Epoch 00015: val_acc did not improve\n",
      " - 1s - loss: 3.1043 - acc: 0.8036 - val_loss: 3.8031 - val_acc: 0.8031\n",
      "Epoch 16/10000\n",
      "\n",
      "Epoch 00016: val_acc did not improve\n",
      " - 1s - loss: 3.1043 - acc: 0.8036 - val_loss: 3.8031 - val_acc: 0.8031\n",
      "Epoch 17/10000\n",
      "\n",
      "Epoch 00017: val_acc did not improve\n",
      " - 1s - loss: 3.1043 - acc: 0.8036 - val_loss: 3.8031 - val_acc: 0.8031\n",
      "Epoch 18/10000\n",
      "\n",
      "Epoch 00018: val_acc did not improve\n",
      " - 1s - loss: 3.1043 - acc: 0.8036 - val_loss: 3.8031 - val_acc: 0.8031\n",
      "Epoch 00018: early stopping\n"
     ]
    }
   ],
   "source": [
    "# I have decided to use mean_absolute_error , beacuse for some reason mean squared e\n",
    "model.compile(loss='mean_absolute_error', optimizer='adam',metrics=['accuracy'])\n",
    "model_info = model.fit([data_lstm,data_mw], target, nb_epoch=10000, batch_size=1000, verbose=2,validation_data=([val_data_lstm,val_data_mw],val_target),\n",
    "                   callbacks=callbacks)"
   ]
  },
  {
   "cell_type": "code",
   "execution_count": 62,
   "metadata": {},
   "outputs": [],
   "source": [
    "def plot_model_history(model_history):\n",
    "    fig, axs = plt.subplots(1,2,figsize=(15,5))\n",
    "    # summarize history for accuracy\n",
    "    axs[0].plot(range(1,len(model_history.history['acc'])+1),model_history.history['acc'])\n",
    "    axs[0].plot(range(1,len(model_history.history['val_acc'])+1),model_history.history['val_acc'])\n",
    "    axs[0].set_title('Model Accuracy')\n",
    "    axs[0].set_ylabel('Accuracy')\n",
    "    axs[0].set_xlabel('Epoch')\n",
    "    axs[0].set_xticks(np.arange(1,len(model_history.history['acc'])+1),len(model_history.history['acc'])/10)\n",
    "    axs[0].legend(['train', 'val'], loc='best')\n",
    "    # summarize history for loss\n",
    "    axs[1].plot(range(1,len(model_history.history['loss'])+1),model_history.history['loss'])\n",
    "    axs[1].plot(range(1,len(model_history.history['val_loss'])+1),model_history.history['val_loss'])\n",
    "    axs[1].set_title('Model Loss')\n",
    "    axs[1].set_ylabel('Loss')\n",
    "    axs[1].set_xlabel('Epoch')\n",
    "    axs[1].set_xticks(np.arange(1,len(model_history.history['loss'])+1),len(model_history.history['loss'])/10)\n",
    "    axs[1].legend(['train', 'val'], loc='best')\n",
    "    plt.show()"
   ]
  },
  {
   "cell_type": "code",
   "execution_count": 63,
   "metadata": {},
   "outputs": [
    {
     "data": {
      "image/png": "[encoded data removed]",
      "text/plain": [
       "<matplotlib.figure.Figure at 0x7fe3a260c1d0>"
      ]
     },
     "metadata": {},
     "output_type": "display_data"
    }
   ],
   "source": [
    "plot_model_history(model_info)"
   ]
  },
  {
   "cell_type": "code",
   "execution_count": 64,
   "metadata": {},
   "outputs": [],
   "source": [
    "from sklearn.metrics import mean_squared_error\n",
    "mse = mean_squared_error(val_target, model.predict([val_data_lstm,val_data_mw]))"
   ]
  },
  {
   "cell_type": "code",
   "execution_count": 65,
   "metadata": {},
   "outputs": [
    {
     "data": {
      "text/plain": [
       "25.412646153846154"
      ]
     },
     "execution_count": 65,
     "metadata": {},
     "output_type": "execute_result"
    }
   ],
   "source": [
    "mse*19/200"
   ]
  },
  {
   "cell_type": "code",
   "execution_count": 66,
   "metadata": {},
   "outputs": [
    {
     "data": {
      "text/plain": [
       "15.973650359219977"
      ]
     },
     "execution_count": 66,
     "metadata": {},
     "output_type": "execute_result"
    }
   ],
   "source": [
    "mean_squared_error(target,model.predict([data_lstm,data_mw]))*19/200"
   ]
  },
  {
   "cell_type": "code",
   "execution_count": null,
   "metadata": {},
   "outputs": [],
   "source": []
  }
 ],
 "metadata": {
  "kernelspec": {
   "display_name": "Python 3",
   "language": "python",
   "name": "python3"
  },
  "language_info": {
   "codemirror_mode": {
    "name": "ipython",
    "version": 3
   },
   "file_extension": ".py",
   "mimetype": "text/x-python",
   "name": "python",
   "nbconvert_exporter": "python",
   "pygments_lexer": "ipython3",
   "version": "3.5.2"
  }
 },
 "nbformat": 4,
 "nbformat_minor": 2
}
