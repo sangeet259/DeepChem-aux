{
 "cells": [
  {
   "cell_type": "code",
   "execution_count": null,
   "metadata": {},
   "outputs": [],
   "source": [
    "#https://stackoverflow.com/questions/43396572/dimension-of-shape-in-conv1d"
   ]
  },
  {
   "cell_type": "code",
   "execution_count": 1,
   "metadata": {},
   "outputs": [
    {
     "name": "stderr",
     "output_type": "stream",
     "text": [
      "Using TensorFlow backend.\n"
     ]
    }
   ],
   "source": [
    "from sklearn.utils import class_weight\n",
    "\n",
    "from sklearn.model_selection import train_test_split\n",
    "import numpy as np\n",
    "from keras.models import Sequential\n",
    "from keras.layers import Dense,Merge,Flatten\n",
    "from keras.layers import Conv1D,Reshape\n",
    "\n",
    "# For the plots \n",
    "import matplotlib.pyplot as plt\n",
    "\n",
    "# For controlling the training parameters in the midst of training itself\n",
    "from keras.callbacks import ModelCheckpoint,EarlyStopping, ReduceLROnPlateau\n",
    "\n",
    "# For creating directory to save the models\n",
    "import os"
   ]
  },
  {
   "cell_type": "code",
   "execution_count": 2,
   "metadata": {},
   "outputs": [],
   "source": [
    "# Load the data\n",
    "X = np.load(\"X (1).npy\")\n",
    "Y = np.load(\"Y (1).npy\")"
   ]
  },
  {
   "cell_type": "code",
   "execution_count": 3,
   "metadata": {},
   "outputs": [],
   "source": [
    "# Split the test train and pass it into validation\n",
    "\n",
    "X_train, X_test, Y_train, Y_test = train_test_split(X, Y, test_size=0.1, random_state=42)"
   ]
  },
  {
   "cell_type": "code",
   "execution_count": 4,
   "metadata": {},
   "outputs": [],
   "source": [
    "# Reshape the stuff according to the the shape Keras expects it to be !\n",
    "data_lstm = X_train[:,:100].reshape((X_train[:,:100].shape[0], 100, 1))\n",
    "target = Y_train.reshape((Y_train.shape[0], 1))\n",
    "\n",
    "val_data_lstm = X_test[:,:100].reshape(X_test[:,:100].shape[0],100,1)\n",
    "val_target = Y_test.reshape(Y_test.shape[0],1)"
   ]
  },
  {
   "cell_type": "code",
   "execution_count": 5,
   "metadata": {},
   "outputs": [],
   "source": [
    "data_mw = X_train[:,-1].reshape((X_train[:,-1].shape[0],1))\n",
    "val_data_mw = X_test[:,-1].reshape((X_test[:,-1].shape[0],1))"
   ]
  },
  {
   "cell_type": "code",
   "execution_count": 6,
   "metadata": {},
   "outputs": [
    {
     "data": {
      "text/plain": [
       "(325, 1)"
      ]
     },
     "execution_count": 6,
     "metadata": {},
     "output_type": "execute_result"
    }
   ],
   "source": [
    "val_data_mw.shape"
   ]
  },
  {
   "cell_type": "code",
   "execution_count": 7,
   "metadata": {},
   "outputs": [
    {
     "data": {
      "text/plain": [
       "(325, 1)"
      ]
     },
     "execution_count": 7,
     "metadata": {},
     "output_type": "execute_result"
    }
   ],
   "source": [
    "val_target.shape"
   ]
  },
  {
   "cell_type": "code",
   "execution_count": 8,
   "metadata": {},
   "outputs": [
    {
     "name": "stderr",
     "output_type": "stream",
     "text": [
      "/usr/local/lib/python3.5/dist-packages/ipykernel_launcher.py:21: UserWarning: The `Merge` layer is deprecated and will be removed after 08/2017. Use instead layers from `keras.layers.merge`, e.g. `add`, `concatenate`, etc.\n"
     ]
    }
   ],
   "source": [
    "branch1 = Sequential()\n",
    "\n",
    "branch1.add(Conv1D(2,3,activation='relu',input_shape=(100, 1)))\n",
    "branch1.add(Conv1D(4,3,activation='relu'))\n",
    "branch1.add(Conv1D(6,3,activation='tanh'))\n",
    "branch1.add(Conv1D(8,3,activation='relu'))\n",
    "branch1.add(Conv1D(10,3,activation='relu'))\n",
    "branch1.add(Flatten())\n",
    "\n",
    "branch1.add(Dense(10))\n",
    "\n",
    "\n",
    "\n",
    "\n",
    "branch2 = Sequential()\n",
    "branch2.add(Dense(10,input_dim=1))\n",
    "branch2.add(Dense(10,activation='relu'))\n",
    "            \n",
    "            \n",
    "model =Sequential()\n",
    "model.add(Merge([branch1, branch2], mode = 'concat'))\n",
    "model.add(Dense(1,activation='tanh'))\n",
    "model.add(Dense(1,activation='relu'))"
   ]
  },
  {
   "cell_type": "code",
   "execution_count": 9,
   "metadata": {},
   "outputs": [],
   "source": [
    "# Define the output for the saving the checkpoint (best models)\n",
    "\n",
    "outputFolder = './output-cnn'\n",
    "if not os.path.exists(outputFolder):\n",
    "    os.makedirs(outputFolder)\n",
    "filepath=outputFolder+\"/Weights-{epoch:02d}-{val_acc:.2f}.hdf5\""
   ]
  },
  {
   "cell_type": "code",
   "execution_count": 10,
   "metadata": {},
   "outputs": [],
   "source": [
    "# The callback function for model checkpoint saving\n",
    "checkpoint = ModelCheckpoint(filepath, monitor='val_acc', verbose=1,save_best_only=True,\\\n",
    "                             save_weights_only=True,mode='auto')\n",
    "\n",
    "# The callback function for earlystopping\n",
    "\n",
    "earlystop = EarlyStopping(monitor='val_loss',patience=10, \\\n",
    "                          verbose=1, mode='auto')\n",
    "\n",
    "# The callback function for reducing learning rate on plateus\n",
    "\n",
    "reduce_lr = ReduceLROnPlateau(monitor='val_loss', factor=0.1,\n",
    "                              patience=3, min_lr=0.00001)"
   ]
  },
  {
   "cell_type": "code",
   "execution_count": 11,
   "metadata": {},
   "outputs": [],
   "source": [
    "# Put all those calback in a list\n",
    "callbacks = [earlystop, checkpoint, reduce_lr]"
   ]
  },
  {
   "cell_type": "code",
   "execution_count": 12,
   "metadata": {
    "scrolled": false
   },
   "outputs": [
    {
     "name": "stderr",
     "output_type": "stream",
     "text": [
      "/home/sangeet/.local/lib/python3.5/site-packages/keras/models.py:944: UserWarning: The `nb_epoch` argument in `fit` has been renamed `epochs`.\n",
      "  warnings.warn('The `nb_epoch` argument in `fit` '\n"
     ]
    },
    {
     "name": "stdout",
     "output_type": "stream",
     "text": [
      "Train on 2923 samples, validate on 325 samples\n",
      "Epoch 1/10000\n",
      "\n",
      "Epoch 00001: val_acc improved from -inf to 0.80308, saving model to ./output-cnn/Weights-01-0.80.hdf5\n",
      " - 11s - loss: 3.1069 - acc: 0.8036 - val_loss: 3.8031 - val_acc: 0.8031\n",
      "Epoch 2/10000\n",
      "\n",
      "Epoch 00002: val_acc did not improve\n",
      " - 0s - loss: 3.1043 - acc: 0.8036 - val_loss: 3.8031 - val_acc: 0.8031\n",
      "Epoch 3/10000\n",
      "\n",
      "Epoch 00003: val_acc did not improve\n",
      " - 0s - loss: 3.1043 - acc: 0.8036 - val_loss: 3.8031 - val_acc: 0.8031\n",
      "Epoch 4/10000\n",
      "\n",
      "Epoch 00004: val_acc did not improve\n",
      " - 0s - loss: 3.1043 - acc: 0.8036 - val_loss: 3.8031 - val_acc: 0.8031\n",
      "Epoch 5/10000\n",
      "\n",
      "Epoch 00005: val_acc did not improve\n",
      " - 0s - loss: 3.1043 - acc: 0.8036 - val_loss: 3.8031 - val_acc: 0.8031\n",
      "Epoch 6/10000\n",
      "\n",
      "Epoch 00006: val_acc did not improve\n",
      " - 0s - loss: 3.1043 - acc: 0.8036 - val_loss: 3.8031 - val_acc: 0.8031\n",
      "Epoch 7/10000\n",
      "\n",
      "Epoch 00007: val_acc did not improve\n",
      " - 0s - loss: 3.1043 - acc: 0.8036 - val_loss: 3.8031 - val_acc: 0.8031\n",
      "Epoch 8/10000\n",
      "\n",
      "Epoch 00008: val_acc did not improve\n",
      " - 0s - loss: 3.1043 - acc: 0.8036 - val_loss: 3.8031 - val_acc: 0.8031\n",
      "Epoch 9/10000\n",
      "\n",
      "Epoch 00009: val_acc did not improve\n",
      " - 0s - loss: 3.1043 - acc: 0.8036 - val_loss: 3.8031 - val_acc: 0.8031\n",
      "Epoch 10/10000\n",
      "\n",
      "Epoch 00010: val_acc did not improve\n",
      " - 0s - loss: 3.1043 - acc: 0.8036 - val_loss: 3.8031 - val_acc: 0.8031\n",
      "Epoch 11/10000\n",
      "\n",
      "Epoch 00011: val_acc did not improve\n",
      " - 0s - loss: 3.1043 - acc: 0.8036 - val_loss: 3.8031 - val_acc: 0.8031\n",
      "Epoch 00011: early stopping\n"
     ]
    }
   ],
   "source": [
    "# I have decided to use mean_absolute_error , beacuse for some reason mean squared e\n",
    "model.compile(loss='mean_absolute_error', optimizer='adam',metrics=['accuracy'])\n",
    "model_info = model.fit([data_lstm,data_mw], target, nb_epoch=10000, batch_size=1000, verbose=2,validation_data=([val_data_lstm,val_data_mw],val_target),\n",
    "                   callbacks=callbacks)"
   ]
  },
  {
   "cell_type": "code",
   "execution_count": 13,
   "metadata": {},
   "outputs": [],
   "source": [
    "def plot_model_history(model_history):\n",
    "    fig, axs = plt.subplots(1,2,figsize=(15,5))\n",
    "    # summarize history for accuracy\n",
    "    axs[0].plot(range(1,len(model_history.history['acc'])+1),model_history.history['acc'])\n",
    "    axs[0].plot(range(1,len(model_history.history['val_acc'])+1),model_history.history['val_acc'])\n",
    "    axs[0].set_title('Model Accuracy')\n",
    "    axs[0].set_ylabel('Accuracy')\n",
    "    axs[0].set_xlabel('Epoch')\n",
    "    axs[0].set_xticks(np.arange(1,len(model_history.history['acc'])+1),len(model_history.history['acc'])/10)\n",
    "    axs[0].legend(['train', 'val'], loc='best')\n",
    "    # summarize history for loss\n",
    "    axs[1].plot(range(1,len(model_history.history['loss'])+1),model_history.history['loss'])\n",
    "    axs[1].plot(range(1,len(model_history.history['val_loss'])+1),model_history.history['val_loss'])\n",
    "    axs[1].set_title('Model Loss')\n",
    "    axs[1].set_ylabel('Loss')\n",
    "    axs[1].set_xlabel('Epoch')\n",
    "    axs[1].set_xticks(np.arange(1,len(model_history.history['loss'])+1),len(model_history.history['loss'])/10)\n",
    "    axs[1].legend(['train', 'val'], loc='best')\n",
    "    plt.show()"
   ]
  },
  {
   "cell_type": "code",
   "execution_count": 14,
   "metadata": {},
   "outputs": [
    {
     "data": {
      "image/png": "[encoded data removed]",
      "text/plain": [
       "<matplotlib.figure.Figure at 0x7fe7d3a15c18>"
      ]
     },
     "metadata": {},
     "output_type": "display_data"
    }
   ],
   "source": [
    "plot_model_history(model_info)"
   ]
  },
  {
   "cell_type": "code",
   "execution_count": 15,
   "metadata": {},
   "outputs": [],
   "source": [
    "from sklearn.metrics import mean_squared_error\n",
    "mse = mean_squared_error(val_target, model.predict([val_data_lstm,val_data_mw]))"
   ]
  },
  {
   "cell_type": "code",
   "execution_count": 16,
   "metadata": {},
   "outputs": [
    {
     "data": {
      "text/plain": [
       "25.412646153846154"
      ]
     },
     "execution_count": 16,
     "metadata": {},
     "output_type": "execute_result"
    }
   ],
   "source": [
    "mse*19/200"
   ]
  },
  {
   "cell_type": "code",
   "execution_count": 17,
   "metadata": {},
   "outputs": [
    {
     "data": {
      "text/plain": [
       "15.973650359219977"
      ]
     },
     "execution_count": 17,
     "metadata": {},
     "output_type": "execute_result"
    }
   ],
   "source": [
    "mean_squared_error(target,model.predict([data_lstm,data_mw]))*19/200"
   ]
  }
 ],
 "metadata": {
  "kernelspec": {
   "display_name": "Python 3",
   "language": "python",
   "name": "python3"
  },
  "language_info": {
   "codemirror_mode": {
    "name": "ipython",
    "version": 3
   },
   "file_extension": ".py",
   "mimetype": "text/x-python",
   "name": "python",
   "nbconvert_exporter": "python",
   "pygments_lexer": "ipython3",
   "version": "3.5.2"
  }
 },
 "nbformat": 4,
 "nbformat_minor": 2
}
