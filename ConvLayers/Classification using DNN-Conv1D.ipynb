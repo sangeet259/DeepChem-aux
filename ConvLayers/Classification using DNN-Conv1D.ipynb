{
 "cells": [
  {
   "cell_type": "code",
   "execution_count": 2,
   "metadata": {},
   "outputs": [],
   "source": [
    "import torch\n",
    "import torch.nn as nn\n",
    "from torch.autograd import Variable\n",
    "import numpy as np\n",
    "import matplotlib.pyplot as plt\n",
    "import torch.nn.functional as F\n",
    "from sklearn.model_selection import train_test_split\n",
    "import torch.nn.functional as F"
   ]
  },
  {
   "cell_type": "code",
   "execution_count": 3,
   "metadata": {},
   "outputs": [],
   "source": [
    "X=np.load(\"X.npy\")\n",
    "Y=np.load(\"Y.npy\")"
   ]
  },
  {
   "cell_type": "code",
   "execution_count": 4,
   "metadata": {},
   "outputs": [],
   "source": [
    "# Expand the dimensions to add a dimension in between ie from N,100 to N,1,100\n",
    "# This is because conv1D requires this format of N,C,L\n",
    "# N = mini batch size \n",
    "# C = Channels : 1 in this case\n",
    "# L = length or no of features : 100 here\n",
    "X=np.expand_dims(X,axis=1)"
   ]
  },
  {
   "cell_type": "code",
   "execution_count": 5,
   "metadata": {},
   "outputs": [],
   "source": [
    "X_train, X_test, Y_train, Y_test = train_test_split(X, Y, test_size=0.05, random_state=42)"
   ]
  },
  {
   "cell_type": "code",
   "execution_count": 6,
   "metadata": {},
   "outputs": [
    {
     "data": {
      "text/plain": [
       "(3263, 1, 100)"
      ]
     },
     "execution_count": 6,
     "metadata": {},
     "output_type": "execute_result"
    }
   ],
   "source": [
    "X.shape"
   ]
  },
  {
   "cell_type": "code",
   "execution_count": 7,
   "metadata": {},
   "outputs": [],
   "source": [
    "input_size = 100\n",
    "num_classes = 500\n",
    "batch_size = 100\n",
    "learning_rate = 0.0001"
   ]
  },
  {
   "cell_type": "code",
   "execution_count": 20,
   "metadata": {},
   "outputs": [],
   "source": [
    "class Net(nn.Module):\n",
    "    def __init__(self,input_size,num_classes):\n",
    "        super(Net, self).__init__()\n",
    "        self.conv1 = nn.Conv1d(1, 10, kernel_size=5)\n",
    "        self.conv2 = nn.Conv1d(10, 20, kernel_size=5)\n",
    "        self.conv3 = nn.Conv1d(20, 30, kernel_size=5)\n",
    "        self.conv4 = nn.Conv1d(30, 40, kernel_size=5)\n",
    "        self.conv5 = nn.Conv1d(40, 50, kernel_size=5)\n",
    "        self.conv2_drop = nn.Dropout()\n",
    "        self.fc1 = nn.Linear(4000, 50)\n",
    "        self.fc2 = nn.Linear(50, 500)\n",
    "        self.relu = nn.ReLU()\n",
    "#         self.relu = nn.ReLU()\n",
    "\n",
    "    def forward(self, x):\n",
    "        out = self.conv1(x)\n",
    "        out = self.relu(out)\n",
    "        out = self.conv2(out)\n",
    "        out = self.conv2_drop(out)\n",
    "        \n",
    "        out = self.conv3(out)\n",
    "        out = self.relu(out)\n",
    "        out = self.conv2_drop(out)\n",
    "        \n",
    "        out = self.conv4(out)\n",
    "        out = self.relu(out)\n",
    "        out = self.conv2_drop(out)\n",
    "        \n",
    "        out = self.conv5(out)\n",
    "        out = self.relu(out)\n",
    "        out = self.conv2_drop(out)\n",
    "        \n",
    "        out = self.relu(out)\n",
    "        out = out.view(-1,4000)\n",
    "        out = self.fc1(out)\n",
    "        out = self.relu(out)\n",
    "        out = self.fc2(out)\n",
    "        out = self.relu(out)\n",
    "        return out\n",
    "        \n",
    "#         return out"
   ]
  },
  {
   "cell_type": "code",
   "execution_count": 21,
   "metadata": {},
   "outputs": [],
   "source": [
    "model = Net(input_size,num_classes)"
   ]
  },
  {
   "cell_type": "code",
   "execution_count": 22,
   "metadata": {},
   "outputs": [
    {
     "data": {
      "text/plain": [
       "Net(\n",
       "  (conv1): Conv1d (1, 10, kernel_size=(5,), stride=(1,))\n",
       "  (conv2): Conv1d (10, 20, kernel_size=(5,), stride=(1,))\n",
       "  (conv3): Conv1d (20, 30, kernel_size=(5,), stride=(1,))\n",
       "  (conv4): Conv1d (30, 40, kernel_size=(5,), stride=(1,))\n",
       "  (conv5): Conv1d (40, 50, kernel_size=(5,), stride=(1,))\n",
       "  (conv2_drop): Dropout(p=0.5)\n",
       "  (fc1): Linear(in_features=4000, out_features=50)\n",
       "  (fc2): Linear(in_features=50, out_features=500)\n",
       "  (relu): ReLU()\n",
       ")"
      ]
     },
     "execution_count": 22,
     "metadata": {},
     "output_type": "execute_result"
    }
   ],
   "source": [
    "model.cuda()"
   ]
  },
  {
   "cell_type": "code",
   "execution_count": 23,
   "metadata": {},
   "outputs": [],
   "source": [
    "criterion = nn.CrossEntropyLoss()  \n",
    "optimizer = torch.optim.Adam(model.parameters(), lr=learning_rate)\n",
    "# optimizer = torch.optim.SGD(model.parameters(), lr=0.01, momentum=0.5)"
   ]
  },
  {
   "cell_type": "code",
   "execution_count": 24,
   "metadata": {},
   "outputs": [],
   "source": [
    "epochs=100"
   ]
  },
  {
   "cell_type": "code",
   "execution_count": 25,
   "metadata": {
    "scrolled": true
   },
   "outputs": [
    {
     "name": "stdout",
     "output_type": "stream",
     "text": [
      "epoch 1, loss 0.41005468368530273\n",
      "epoch 2, loss 0.6029276847839355\n",
      "epoch 3, loss 0.6363272666931152\n",
      "epoch 4, loss 0.3928227424621582\n",
      "epoch 5, loss 0.5231156349182129\n",
      "epoch 6, loss 0.3263363838195801\n",
      "epoch 7, loss 0.5751805305480957\n",
      "epoch 8, loss 0.4044961929321289\n",
      "epoch 9, loss 0.32589149475097656\n",
      "epoch 10, loss 0.5601582527160645\n",
      "epoch 11, loss 0.2398052215576172\n",
      "epoch 12, loss 0.5331926345825195\n",
      "epoch 13, loss 0.40486717224121094\n",
      "epoch 14, loss 0.2447977066040039\n",
      "epoch 15, loss 0.38222599029541016\n",
      "epoch 16, loss 0.29659223556518555\n",
      "epoch 17, loss 0.5030755996704102\n",
      "epoch 18, loss 0.6226072311401367\n",
      "epoch 19, loss 0.3017759323120117\n",
      "epoch 20, loss 0.34270477294921875\n",
      "epoch 21, loss 0.42222023010253906\n",
      "epoch 22, loss 0.5824832916259766\n",
      "epoch 23, loss 0.5717935562133789\n",
      "epoch 24, loss 0.6430435180664062\n",
      "epoch 25, loss 0.15785884857177734\n",
      "epoch 26, loss 0.4818587303161621\n",
      "epoch 27, loss 0.3072361946105957\n",
      "epoch 28, loss 0.7268223762512207\n",
      "epoch 29, loss 0.556365966796875\n",
      "epoch 30, loss 0.1591930389404297\n",
      "epoch 31, loss 0.268918514251709\n",
      "epoch 32, loss 0.64093017578125\n",
      "epoch 33, loss 0.6682429313659668\n",
      "epoch 34, loss 0.5770363807678223\n",
      "epoch 35, loss 0.18833255767822266\n",
      "epoch 36, loss 0.7710299491882324\n",
      "epoch 37, loss 0.6397919654846191\n",
      "epoch 38, loss 0.6283268928527832\n",
      "epoch 39, loss 0.4365882873535156\n",
      "epoch 40, loss 0.5909662246704102\n",
      "epoch 41, loss 0.39151811599731445\n",
      "epoch 42, loss 0.6995220184326172\n",
      "epoch 43, loss 0.7618927955627441\n",
      "epoch 44, loss 0.6216411590576172\n",
      "epoch 45, loss 0.4352283477783203\n",
      "epoch 46, loss 0.5564336776733398\n",
      "epoch 47, loss 0.4201188087463379\n",
      "epoch 48, loss 0.31450891494750977\n",
      "epoch 49, loss 0.646049976348877\n",
      "epoch 50, loss 0.6609382629394531\n",
      "epoch 51, loss 0.5210185050964355\n",
      "epoch 52, loss 0.5646810531616211\n",
      "epoch 53, loss 0.45496225357055664\n",
      "epoch 54, loss 0.5153489112854004\n",
      "epoch 55, loss 0.6665277481079102\n",
      "epoch 56, loss 0.3286166191101074\n",
      "epoch 57, loss 0.8254222869873047\n",
      "epoch 58, loss 0.3777952194213867\n",
      "epoch 59, loss 1.3807249069213867\n",
      "epoch 60, loss 0.46574831008911133\n",
      "epoch 61, loss 1.4295783042907715\n",
      "epoch 62, loss 0.2206878662109375\n",
      "epoch 63, loss 0.6869034767150879\n",
      "epoch 64, loss 0.7452445030212402\n",
      "epoch 65, loss 0.5685138702392578\n",
      "epoch 66, loss 0.3421492576599121\n",
      "epoch 67, loss 0.515688419342041\n",
      "epoch 68, loss 0.8396768569946289\n",
      "epoch 69, loss 0.6100296974182129\n",
      "epoch 70, loss 0.5555944442749023\n",
      "epoch 71, loss 0.26657867431640625\n",
      "epoch 72, loss 0.30540990829467773\n",
      "epoch 73, loss 0.35836362838745117\n",
      "epoch 74, loss 0.28594541549682617\n",
      "epoch 75, loss 0.6408839225769043\n",
      "epoch 76, loss 0.6595296859741211\n",
      "epoch 77, loss 0.6598124504089355\n",
      "epoch 78, loss 0.3908987045288086\n",
      "epoch 79, loss 0.19105148315429688\n",
      "epoch 80, loss 0.3965754508972168\n",
      "epoch 81, loss 0.5020174980163574\n",
      "epoch 82, loss 0.21601200103759766\n",
      "epoch 83, loss 0.464963436126709\n",
      "epoch 84, loss 0.38654327392578125\n",
      "epoch 85, loss 0.5349702835083008\n",
      "epoch 86, loss 0.9468040466308594\n",
      "epoch 87, loss 0.6023249626159668\n",
      "epoch 88, loss 0.6592187881469727\n",
      "epoch 89, loss 0.5163130760192871\n",
      "epoch 90, loss 0.763638973236084\n",
      "epoch 91, loss 0.3874049186706543\n",
      "epoch 92, loss 0.11388206481933594\n",
      "epoch 93, loss 1.3886308670043945\n",
      "epoch 94, loss 1.0573554039001465\n",
      "epoch 95, loss 0.7136783599853516\n",
      "epoch 96, loss 0.9410767555236816\n",
      "epoch 97, loss 0.23118209838867188\n",
      "epoch 98, loss 0.11875247955322266\n",
      "epoch 99, loss 0.6632852554321289\n",
      "epoch 100, loss 0.494565486907959\n"
     ]
    }
   ],
   "source": [
    "# test\n",
    "losses=[]\n",
    "lr_updates=0\n",
    "for epoch in range(epochs):\n",
    "    \n",
    "    epoch +=1\n",
    "    for x,y in zip(X_train,Y_train):\n",
    "        y=np.array([y])\n",
    "        x=torch.from_numpy(np.expand_dims(x, axis=0))\n",
    "#         x=torch.from_numpy(x)\n",
    "        y=torch.from_numpy(y)\n",
    "        \n",
    "        inputs = Variable(x.type(torch.cuda.FloatTensor))\n",
    "        labels = Variable(y.type(torch.cuda.LongTensor))\n",
    "        \n",
    "        #clear grads\n",
    "        optimizer.zero_grad()\n",
    "#         print(\"gradients cleared\")\n",
    "        #forward to get predicted values\n",
    "        \n",
    "        outputs = model.forward(inputs)\n",
    "#         print(\"Forward pass done\")\n",
    "        loss = criterion(outputs, labels)\n",
    "#         print(\"loss calculated\")\n",
    "        \n",
    "        \n",
    "        loss.backward()# back props\n",
    "#         print(\"backprop done\")\n",
    "        optimizer.step()# update the parameters\n",
    "    losses.append(float(loss))\n",
    "    print('epoch {}, loss {}'.format(epoch,loss.data[0]))"
   ]
  },
  {
   "cell_type": "code",
   "execution_count": 26,
   "metadata": {},
   "outputs": [
    {
     "data": {
      "text/plain": [
       "torch.Size([1, 500])"
      ]
     },
     "execution_count": 26,
     "metadata": {},
     "output_type": "execute_result"
    }
   ],
   "source": [
    "outputs.shape"
   ]
  },
  {
   "cell_type": "code",
   "execution_count": 27,
   "metadata": {},
   "outputs": [
    {
     "data": {
      "text/plain": [
       "torch.Size([1])"
      ]
     },
     "execution_count": 27,
     "metadata": {},
     "output_type": "execute_result"
    }
   ],
   "source": [
    "labels.shape"
   ]
  },
  {
   "cell_type": "code",
   "execution_count": 28,
   "metadata": {},
   "outputs": [],
   "source": [
    "# FOR TRAIn MODEL\n",
    "model_pred=model(Variable(torch.from_numpy(X_train).type(torch.cuda.FloatTensor)))"
   ]
  },
  {
   "cell_type": "code",
   "execution_count": 29,
   "metadata": {},
   "outputs": [
    {
     "name": "stdout",
     "output_type": "stream",
     "text": [
      "The train accuracy is 74.86285898676994\n"
     ]
    }
   ],
   "source": [
    "correct=0\n",
    "total_train_compounds=len(Y_train)\n",
    "for i,compound in enumerate(model_pred):\n",
    "    \n",
    "    \n",
    "    max_,max_index=torch.max(compound,0)\n",
    "    if (int(max_index)==Y_train[i]):\n",
    "        correct+=1\n",
    "\n",
    "print(\"The train accuracy is {}\".format((correct/total_train_compounds)*100))"
   ]
  },
  {
   "cell_type": "code",
   "execution_count": 30,
   "metadata": {},
   "outputs": [],
   "source": [
    "# Testing "
   ]
  },
  {
   "cell_type": "code",
   "execution_count": 31,
   "metadata": {},
   "outputs": [],
   "source": [
    "# FOR TEST MODEL\n",
    "model_pred_test=model(Variable(torch.from_numpy(X_test).type(torch.cuda.FloatTensor)))"
   ]
  },
  {
   "cell_type": "code",
   "execution_count": 32,
   "metadata": {},
   "outputs": [
    {
     "name": "stdout",
     "output_type": "stream",
     "text": [
      "The test accuracy is 76.21951219512195\n"
     ]
    }
   ],
   "source": [
    "# The test accuracy\n",
    "test_correct=0\n",
    "total_test_compounds=len(Y_test)\n",
    "Y_test_pred=[]\n",
    "for i,test_compound in enumerate(model_pred_test):\n",
    "    \n",
    "    \n",
    "    max_,max_index=torch.max(test_compound,0)\n",
    "    Y_test_pred.append(int(max_index))\n",
    "    if (int(max_index)==Y_test[i]):\n",
    "        test_correct+=1\n",
    "\n",
    "print(\"The test accuracy is {}\".format((test_correct/total_test_compounds)*100))"
   ]
  },
  {
   "cell_type": "code",
   "execution_count": null,
   "metadata": {},
   "outputs": [],
   "source": [
    "import matplotlib.pyplot as plt\n",
    "%matplotlib inline"
   ]
  },
  {
   "cell_type": "code",
   "execution_count": null,
   "metadata": {},
   "outputs": [],
   "source": [
    "# FOR THE ENTIRE DATASET"
   ]
  },
  {
   "cell_type": "code",
   "execution_count": null,
   "metadata": {},
   "outputs": [],
   "source": [
    "model_pred_total=model(Variable(torch.from_numpy(X).type(torch.cuda.FloatTensor)))"
   ]
  },
  {
   "cell_type": "code",
   "execution_count": null,
   "metadata": {},
   "outputs": [],
   "source": [
    "# The test accuracy\n",
    "total_correct=0\n",
    "total_compounds=len(Y)\n",
    "Y_predicited=[]\n",
    "for i,compound in enumerate(model_pred_total):\n",
    "\n",
    "    max_,max_index=torch.max(compound,0)\n",
    "    Y_predicited.append(int(max_index))\n",
    "    if (int(max_index)==Y[i]):\n",
    "        total_correct+=1\n",
    "\n",
    "print(\"The total accuracy is {}\".format((total_correct/total_compounds)*100))"
   ]
  },
  {
   "cell_type": "code",
   "execution_count": null,
   "metadata": {
    "scrolled": false
   },
   "outputs": [],
   "source": [
    "plt.plot(Y_predicited)"
   ]
  },
  {
   "cell_type": "code",
   "execution_count": null,
   "metadata": {},
   "outputs": [],
   "source": [
    "torch.save(model.state_dict(),\"Classification using DNN-Conv1D.pyt\")"
   ]
  },
  {
   "cell_type": "code",
   "execution_count": null,
   "metadata": {},
   "outputs": [],
   "source": [
    "Y"
   ]
  },
  {
   "cell_type": "code",
   "execution_count": null,
   "metadata": {},
   "outputs": [],
   "source": [
    "Y_predicited"
   ]
  },
  {
   "cell_type": "code",
   "execution_count": null,
   "metadata": {},
   "outputs": [],
   "source": [
    "plt.plot(Y_predicited)"
   ]
  },
  {
   "cell_type": "code",
   "execution_count": null,
   "metadata": {},
   "outputs": [],
   "source": [
    "Y.shape"
   ]
  },
  {
   "cell_type": "code",
   "execution_count": null,
   "metadata": {},
   "outputs": [],
   "source": [
    "cor=zip(Y_predicited,Y)"
   ]
  },
  {
   "cell_type": "code",
   "execution_count": null,
   "metadata": {},
   "outputs": [],
   "source": [
    "plt.plot(list(cor))"
   ]
  },
  {
   "cell_type": "code",
   "execution_count": null,
   "metadata": {},
   "outputs": [],
   "source": [
    "list(cor)"
   ]
  },
  {
   "cell_type": "code",
   "execution_count": null,
   "metadata": {},
   "outputs": [],
   "source": [
    "plt.plot(losses)"
   ]
  },
  {
   "cell_type": "code",
   "execution_count": null,
   "metadata": {},
   "outputs": [],
   "source": [
    "type(losses)"
   ]
  },
  {
   "cell_type": "code",
   "execution_count": null,
   "metadata": {},
   "outputs": [],
   "source": [
    "losses"
   ]
  },
  {
   "cell_type": "code",
   "execution_count": null,
   "metadata": {},
   "outputs": [],
   "source": [
    "list(Y)"
   ]
  },
  {
   "cell_type": "code",
   "execution_count": null,
   "metadata": {},
   "outputs": [],
   "source": [
    "np.save(\"Y_pred_conv1D\",Y_predicited)"
   ]
  },
  {
   "cell_type": "code",
   "execution_count": null,
   "metadata": {},
   "outputs": [],
   "source": [
    "%matplotlib notebook"
   ]
  },
  {
   "cell_type": "code",
   "execution_count": null,
   "metadata": {},
   "outputs": [],
   "source": [
    "np.save(\"Y_pred_conv\",Y_test_pred)"
   ]
  },
  {
   "cell_type": "code",
   "execution_count": null,
   "metadata": {},
   "outputs": [],
   "source": [
    "np.save(\"Y_test\",Y_test)"
   ]
  }
 ],
 "metadata": {
  "kernelspec": {
   "display_name": "Python 3",
   "language": "python",
   "name": "python3"
  },
  "language_info": {
   "codemirror_mode": {
    "name": "ipython",
    "version": 3
   },
   "file_extension": ".py",
   "mimetype": "text/x-python",
   "name": "python",
   "nbconvert_exporter": "python",
   "pygments_lexer": "ipython3",
   "version": "3.6.3"
  }
 },
 "nbformat": 4,
 "nbformat_minor": 2
}
