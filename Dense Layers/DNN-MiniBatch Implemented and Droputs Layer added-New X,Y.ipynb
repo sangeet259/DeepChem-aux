{
 "cells": [
  {
   "cell_type": "raw",
   "metadata": {},
   "source": [
    "The last layer is ReLU!"
   ]
  },
  {
   "cell_type": "code",
   "execution_count": 1,
   "metadata": {},
   "outputs": [],
   "source": [
    "import torch\n",
    "import torch.nn as nn\n",
    "from torch.autograd import Variable\n",
    "import numpy as np\n",
    "import matplotlib.pyplot as plt\n",
    "\n",
    "from sklearn.model_selection import train_test_split"
   ]
  },
  {
   "cell_type": "code",
   "execution_count": 2,
   "metadata": {},
   "outputs": [],
   "source": [
    "X=np.load(\"X (1).npy\")\n",
    "Y=np.load(\"Y (1).npy\")"
   ]
  },
  {
   "cell_type": "code",
   "execution_count": 3,
   "metadata": {},
   "outputs": [],
   "source": [
    "X_train, X_test, Y_train, Y_test = train_test_split(X, Y, test_size=0.1, random_state=42)"
   ]
  },
  {
   "cell_type": "code",
   "execution_count": 4,
   "metadata": {},
   "outputs": [],
   "source": [
    "input_size = 101\n",
    "hidden_size = 200\n",
    "num_classes = 200\n",
    "num_epochs = 5\n",
    "batch_size = 100\n",
    "learning_rate = 0.0001"
   ]
  },
  {
   "cell_type": "code",
   "execution_count": 5,
   "metadata": {},
   "outputs": [],
   "source": [
    "class Net(nn.Module):\n",
    "    def __init__(self, input_size, hidden_size, num_classes):\n",
    "        super(Net, self).__init__()\n",
    "        self.fc1 = nn.Linear(input_size, hidden_size) \n",
    "        self.relu = nn.ReLU()\n",
    "        self.fc2 = nn.Linear(hidden_size, num_classes)\n",
    "        self.tanh = nn.Tanh()\n",
    "        self.dropout = nn.Dropout(p=.4)\n",
    "    \n",
    "    def forward(self, x):\n",
    "        out = self.fc1(x)\n",
    "        out = self.dropout(out)\n",
    "        out = self.tanh(out)\n",
    "        out = self.fc2(out)\n",
    "        out = self.relu(out)\n",
    "        return out"
   ]
  },
  {
   "cell_type": "code",
   "execution_count": 6,
   "metadata": {},
   "outputs": [],
   "source": [
    "model = Net(input_size,hidden_size,num_classes)\n",
    "model.cuda()\n",
    "criterion = nn.CrossEntropyLoss()  \n",
    "optimizer = torch.optim.Adam(model.parameters(), lr=learning_rate)"
   ]
  },
  {
   "cell_type": "code",
   "execution_count": 7,
   "metadata": {},
   "outputs": [
    {
     "data": {
      "text/plain": [
       "292"
      ]
     },
     "execution_count": 7,
     "metadata": {},
     "output_type": "execute_result"
    }
   ],
   "source": [
    "X_train.shape[0]//10"
   ]
  },
  {
   "cell_type": "code",
   "execution_count": 8,
   "metadata": {},
   "outputs": [
    {
     "data": {
      "text/plain": [
       "(2923,)"
      ]
     },
     "execution_count": 8,
     "metadata": {},
     "output_type": "execute_result"
    }
   ],
   "source": [
    "Y_train.shape"
   ]
  },
  {
   "cell_type": "code",
   "execution_count": 9,
   "metadata": {},
   "outputs": [],
   "source": [
    "epochs = 10000"
   ]
  },
  {
   "cell_type": "code",
   "execution_count": 10,
   "metadata": {
    "scrolled": true
   },
   "outputs": [
    {
     "data": {
      "text/plain": [
       "(2920, 101)"
      ]
     },
     "execution_count": 10,
     "metadata": {},
     "output_type": "execute_result"
    }
   ],
   "source": [
    "X_train[:-3].shape"
   ]
  },
  {
   "cell_type": "code",
   "execution_count": 33,
   "metadata": {
    "collapsed": true
   },
   "outputs": [
    {
     "name": "stdout",
     "output_type": "stream",
     "text": [
      "10 : 0.0003294944763183594\n",
      "20 : 0.0010057449107989669\n",
      "30 : 0.02921733818948269\n",
      "40 : 0.0027200698386877775\n",
      "50 : 0.023241901770234108\n",
      "60 : 0.0045227049849927425\n",
      "70 : 0.017035961151123047\n",
      "80 : 0.0007905960083007812\n",
      "90 : 0.0056320191361010075\n",
      "100 : 0.0017828941345214844\n",
      "110 : 0.012082194909453392\n",
      "120 : 0.0004860878107137978\n",
      "130 : 0.006000423338264227\n",
      "140 : 0.003907680511474609\n",
      "150 : 0.006641483400017023\n",
      "160 : 0.0018233299488201737\n",
      "170 : 0.009909629821777344\n",
      "180 : 0.001825618790462613\n",
      "190 : 0.11467504501342773\n",
      "200 : 0.003722286317497492\n",
      "210 : 0.002323722932487726\n",
      "220 : 0.001446628593839705\n",
      "230 : 0.004514789674431086\n",
      "240 : 0.011658191680908203\n",
      "250 : 0.0028302192222326994\n",
      "260 : 0.00053319928701967\n",
      "270 : 0.00025653839111328125\n",
      "280 : 0.005766677670180798\n",
      "290 : 0.0893397331237793\n",
      "300 : 0.00027294160099700093\n",
      "310 : 8.049011375987902e-05\n",
      "320 : 0.03471040725708008\n",
      "330 : 0.0005620956653729081\n",
      "340 : 0.12432785332202911\n",
      "350 : 0.05651378631591797\n",
      "360 : 0.0009113311534747481\n",
      "370 : 0.00141735072247684\n",
      "380 : 0.01507425308227539\n",
      "390 : 0.001951026963070035\n",
      "400 : 0.0002248764067189768\n",
      "410 : 0.033853817731142044\n",
      "420 : 0.0004956245538778603\n",
      "430 : 0.07420177757740021\n",
      "440 : 0.00010042190842796117\n",
      "450 : 0.010831165127456188\n",
      "460 : 0.0009433746454305947\n",
      "470 : 0.0004581451357807964\n",
      "480 : 0.40385332703590393\n",
      "490 : 0.0013164520496502519\n",
      "500 : 0.0005830765003338456\n",
      "510 : 0.01164102554321289\n",
      "520 : 0.007332229521125555\n",
      "530 : 0.0038747787475585938\n",
      "540 : 0.17161330580711365\n",
      "550 : 0.005081749055534601\n",
      "560 : 0.261805921792984\n",
      "570 : 0.00242958078160882\n",
      "580 : 0.012296008877456188\n",
      "590 : 0.17078618705272675\n",
      "600 : 0.00011692046973621473\n",
      "610 : 0.0007326126215048134\n",
      "620 : 0.0014234542613849044\n",
      "630 : 0.012273979373276234\n",
      "640 : 0.0013806342612951994\n",
      "650 : 0.1240028366446495\n",
      "660 : 0.008369827643036842\n",
      "670 : 0.0007190704345703125\n",
      "680 : 0.002039241837337613\n",
      "690 : 0.0004211425839457661\n",
      "700 : 0.0005245208740234375\n",
      "710 : 0.0007782935863360763\n",
      "720 : 0.0019422530895099044\n",
      "730 : 0.19465132057666779\n",
      "740 : 0.0002529144403524697\n",
      "750 : 0.0009553909185342491\n",
      "760 : 0.0004976272466592491\n",
      "770 : 0.005440330598503351\n",
      "780 : 0.02952270582318306\n",
      "790 : 0.10361576080322266\n",
      "800 : 0.002128124237060547\n",
      "810 : 0.0011246681679040194\n",
      "820 : 0.01107025146484375\n",
      "830 : 0.00107746128924191\n",
      "840 : 0.0001312255917582661\n",
      "850 : 0.003173255827277899\n",
      "860 : 0.026535892859101295\n",
      "870 : 3.814697265625e-05\n",
      "880 : 0.0015675544273108244\n",
      "890 : 0.0033337592612951994\n",
      "900 : 0.0013702393043786287\n",
      "910 : 0.037135981023311615\n",
      "920 : 0.12703104317188263\n",
      "930 : 0.07478857040405273\n",
      "940 : 0.0033922195434570312\n",
      "950 : 0.0004009246767964214\n",
      "960 : 0.00043544769869185984\n",
      "970 : 0.003311252687126398\n",
      "980 : 0.004015731625258923\n",
      "990 : 0.0001237869291799143\n",
      "1000 : 0.0034457207657396793\n",
      "1010 : 0.21913298964500427\n",
      "1020 : 0.0008975982782430947\n",
      "1030 : 0.0013385772472247481\n",
      "1040 : 0.04601287841796875\n",
      "1050 : 0.0057846070267260075\n",
      "1060 : 0.0004957198980264366\n",
      "1070 : 0.008047008886933327\n",
      "1080 : 0.0002864837588276714\n",
      "1090 : 0.0007510185241699219\n",
      "1100 : 0.020058726891875267\n",
      "1110 : 0.0048920633271336555\n",
      "1120 : 0.0007566452259197831\n",
      "1130 : 9.956360008800402e-05\n",
      "1140 : 4.615783836925402e-05\n",
      "1150 : 0.035642337054014206\n",
      "1160 : 0.0009675979381427169\n",
      "1170 : 0.0008989333873614669\n",
      "1180 : 0.0003468513605184853\n",
      "1190 : 0.00313739781267941\n",
      "1200 : 0.008739089593291283\n",
      "1210 : 0.0007755279657430947\n",
      "1220 : 3.509521411615424e-05\n",
      "1230 : 0.0027200698386877775\n",
      "1240 : 0.01047363318502903\n",
      "1250 : 0.06425619125366211\n",
      "1260 : 0.2645583152770996\n",
      "1270 : 0.0011271476978436112\n",
      "1280 : 0.00048732757568359375\n",
      "1290 : 0.09961108863353729\n",
      "1300 : 0.03187761455774307\n",
      "1310 : 0.0006620407220907509\n",
      "1320 : 0.0009267806890420616\n",
      "1330 : 0.017017364501953125\n",
      "1340 : 0.0014926909934729338\n",
      "1350 : 0.002091026399284601\n",
      "1360 : 0.0005672454717569053\n",
      "1370 : 9.641647193348035e-05\n",
      "1380 : 0.005112743470817804\n",
      "1390 : 0.14496536552906036\n",
      "1400 : 0.008402633480727673\n",
      "1410 : 0.0036085129249840975\n",
      "1420 : 0.0026484490372240543\n",
      "1430 : 0.0004993438487872481\n",
      "1440 : 0.0029382705688476562\n",
      "1450 : 0.0005690574762411416\n",
      "1460 : 0.00038127898005768657\n",
      "1470 : 0.0002940177801065147\n",
      "1480 : 8.468628220725805e-05\n",
      "1490 : 0.005754947662353516\n",
      "1500 : 5.702972339349799e-05\n",
      "1510 : 0.016265869140625\n",
      "1520 : 0.00041103363037109375\n",
      "1530 : 0.0009088516235351562\n",
      "1540 : 9.880065772449598e-05\n",
      "1550 : 0.0028787613846361637\n",
      "1560 : 0.000537872314453125\n",
      "1570 : 0.0004070281866006553\n",
      "1580 : 0.0006839752313680947\n",
      "1590 : 0.0014018059009686112\n",
      "1600 : 0.011836719699203968\n",
      "1610 : 0.1197599396109581\n",
      "1620 : 0.002065467881038785\n",
      "1630 : 0.04096202924847603\n",
      "1640 : 0.0005598068237304688\n",
      "1650 : 0.04177255555987358\n",
      "1660 : 0.0002000808744924143\n",
      "1670 : 0.022835349664092064\n",
      "1680 : 0.001493740128353238\n",
      "1690 : 0.023386668413877487\n",
      "1700 : 0.0002940177801065147\n",
      "1710 : 9.670257713878527e-05\n",
      "1720 : 0.004801941104233265\n",
      "1730 : 0.00017251967801712453\n",
      "1740 : 0.401698499917984\n",
      "1750 : 0.00037364958552643657\n",
      "1760 : 0.0005443572881631553\n",
      "1770 : 0.00017089843458961695\n",
      "1780 : 0.005940628238022327\n",
      "1790 : 0.00015630721463821828\n",
      "1800 : 0.003062725067138672\n",
      "1810 : 0.0086669921875\n",
      "1820 : 0.005801486782729626\n",
      "1830 : 0.014443492516875267\n",
      "1840 : 0.0384521484375\n",
      "1850 : 0.00015583037748001516\n",
      "1860 : 0.005484390072524548\n",
      "1870 : 0.005079078488051891\n",
      "1880 : 0.000887966132722795\n",
      "1890 : 5.931854320806451e-05\n",
      "1900 : 8.94546537892893e-05\n",
      "1910 : 0.0004694938543252647\n",
      "1920 : 0.0072654723189771175\n",
      "1930 : 0.000712490058504045\n",
      "1940 : 0.010723304934799671\n",
      "1950 : 0.02232532575726509\n",
      "1960 : 0.015802383422851562\n",
      "1970 : 0.007418346591293812\n",
      "1980 : 0.01148080825805664\n",
      "1990 : 0.09211330115795135\n",
      "2000 : 0.01012639980763197\n",
      "2010 : 5.7220458984375e-06\n",
      "2020 : 0.01599426195025444\n",
      "2030 : 0.00121479039080441\n",
      "2040 : 0.0002681732294149697\n",
      "2050 : 4.425048973644152e-05\n",
      "2060 : 0.000217437744140625\n",
      "2070 : 0.03976640850305557\n",
      "2080 : 6.866455078125e-05\n",
      "2090 : 0.0008645057678222656\n",
      "2100 : 0.0057585714384913445\n",
      "2110 : 0.044915102422237396\n",
      "2120 : 0.048718832433223724\n",
      "2130 : 0.043218422681093216\n",
      "2140 : 0.007350063417106867\n",
      "2150 : 0.0006694793701171875\n",
      "2160 : 4.1484832763671875e-05\n",
      "2170 : 0.00031719208345748484\n",
      "2180 : 0.13532857596874237\n",
      "2190 : 0.0041900635696947575\n",
      "2200 : 0.0006168365362100303\n",
      "2210 : 0.0035508156288415194\n",
      "2220 : 0.00189208984375\n",
      "2230 : 0.001614475273527205\n",
      "2240 : 0.00023784636869095266\n",
      "2250 : 0.030568504706025124\n",
      "2260 : 0.0007107734563760459\n",
      "2270 : 0.0002476692316122353\n",
      "2280 : 0.002704048063606024\n",
      "2290 : 0.0006162643549032509\n",
      "2300 : 4.234314110362902e-05\n",
      "2310 : 0.009575843811035156\n",
      "2320 : 0.02529611624777317\n",
      "2330 : 0.00019760131544899195\n",
      "2340 : 0.008375739678740501\n",
      "2350 : 0.00032367705716751516\n",
      "2360 : 0.00011100769188487902\n",
      "2370 : 5.064010474598035e-05\n",
      "2380 : 0.00040683746919967234\n",
      "2390 : 0.0015808105235919356\n",
      "2400 : 0.025956343859434128\n",
      "2410 : 0.0009550094837322831\n",
      "2420 : 0.01635761186480522\n",
      "2430 : 0.007113456726074219\n",
      "2440 : 0.00849151611328125\n",
      "2450 : 0.0008937835809774697\n",
      "2460 : 0.000920200371183455\n",
      "2470 : 0.019978046417236328\n",
      "2480 : 0.00019521712965797633\n",
      "2490 : 0.0009411812061443925\n",
      "2500 : 0.0131066320464015\n",
      "2510 : 0.00019397735013626516\n",
      "2520 : 0.0004980087396688759\n",
      "2530 : 0.0008353233570232987\n",
      "2540 : 0.0009784698486328125\n",
      "2550 : 0.011336135677993298\n",
      "2560 : 0.0006447791820392013\n",
      "2570 : 0.00014629363431595266\n",
      "2580 : 0.0002134323149221018\n",
      "2590 : 0.01844167709350586\n",
      "2600 : 0.0011890411842614412\n",
      "2610 : 0.002892112825065851\n",
      "2620 : 0.09181585162878036\n",
      "2630 : 1.3351440202313825e-06\n",
      "2640 : 0.00041522979154251516\n",
      "2650 : 0.0006105423090048134\n",
      "2660 : 0.08343067020177841\n",
      "2670 : 0.0018550872337073088\n",
      "2680 : 0.003223323728889227\n",
      "2690 : 0.012930870056152344\n",
      "2700 : 6.752014451194555e-05\n",
      "2710 : 7.45773286325857e-05\n",
      "2720 : 0.020321369171142578\n",
      "2730 : 0.22760000824928284\n",
      "2740 : 0.013341808691620827\n",
      "2750 : 2.8324127924861386e-05\n",
      "2760 : 0.005555343814194202\n",
      "2770 : 7.2479248046875e-05\n",
      "2780 : 0.0002989768981933594\n",
      "2790 : 0.0003760337713174522\n",
      "2800 : 0.004395199008285999\n",
      "2810 : 0.001079559326171875\n",
      "2820 : 0.004511833190917969\n",
      "2830 : 0.001210880232974887\n",
      "2840 : 0.0003529548703227192\n",
      "2850 : 0.019919872283935547\n",
      "2860 : 0.000286102294921875\n",
      "2870 : 0.0318482406437397\n",
      "2880 : 0.00033435822115279734\n",
      "2890 : 0.13944177329540253\n",
      "2900 : 0.07844505459070206\n",
      "2910 : 0.00019884109497070312\n",
      "2920 : 0.0004493713495321572\n",
      "2930 : 0.00014629363431595266\n"
     ]
    },
    {
     "ename": "KeyboardInterrupt",
     "evalue": "",
     "output_type": "error",
     "traceback": [
      "\u001b[0;31m---------------------------------------------------------------------------\u001b[0m",
      "\u001b[0;31mKeyboardInterrupt\u001b[0m                         Traceback (most recent call last)",
      "\u001b[0;32m<ipython-input-33-c5085d339744>\u001b[0m in \u001b[0;36m<module>\u001b[0;34m()\u001b[0m\n\u001b[1;32m     15\u001b[0m         \u001b[0moptimizer\u001b[0m\u001b[0;34m.\u001b[0m\u001b[0mzero_grad\u001b[0m\u001b[0;34m(\u001b[0m\u001b[0;34m)\u001b[0m\u001b[0;34m\u001b[0m\u001b[0m\n\u001b[1;32m     16\u001b[0m         \u001b[0;31m#forward to get predicted values\u001b[0m\u001b[0;34m\u001b[0m\u001b[0;34m\u001b[0m\u001b[0m\n\u001b[0;32m---> 17\u001b[0;31m         \u001b[0moutputs\u001b[0m \u001b[0;34m=\u001b[0m \u001b[0mmodel\u001b[0m\u001b[0;34m.\u001b[0m\u001b[0mforward\u001b[0m\u001b[0;34m(\u001b[0m\u001b[0minputs\u001b[0m\u001b[0;34m)\u001b[0m\u001b[0;34m\u001b[0m\u001b[0m\n\u001b[0m\u001b[1;32m     18\u001b[0m         \u001b[0mloss\u001b[0m \u001b[0;34m=\u001b[0m \u001b[0mcriterion\u001b[0m\u001b[0;34m(\u001b[0m\u001b[0moutputs\u001b[0m\u001b[0;34m,\u001b[0m \u001b[0mlabels\u001b[0m\u001b[0;34m)\u001b[0m\u001b[0;34m\u001b[0m\u001b[0m\n\u001b[1;32m     19\u001b[0m \u001b[0;34m\u001b[0m\u001b[0m\n",
      "\u001b[0;32m<ipython-input-5-04d5e7828a86>\u001b[0m in \u001b[0;36mforward\u001b[0;34m(self, x)\u001b[0m\n\u001b[1;32m     10\u001b[0m     \u001b[0;32mdef\u001b[0m \u001b[0mforward\u001b[0m\u001b[0;34m(\u001b[0m\u001b[0mself\u001b[0m\u001b[0;34m,\u001b[0m \u001b[0mx\u001b[0m\u001b[0;34m)\u001b[0m\u001b[0;34m:\u001b[0m\u001b[0;34m\u001b[0m\u001b[0m\n\u001b[1;32m     11\u001b[0m         \u001b[0mout\u001b[0m \u001b[0;34m=\u001b[0m \u001b[0mself\u001b[0m\u001b[0;34m.\u001b[0m\u001b[0mfc1\u001b[0m\u001b[0;34m(\u001b[0m\u001b[0mx\u001b[0m\u001b[0;34m)\u001b[0m\u001b[0;34m\u001b[0m\u001b[0m\n\u001b[0;32m---> 12\u001b[0;31m         \u001b[0mout\u001b[0m \u001b[0;34m=\u001b[0m \u001b[0mself\u001b[0m\u001b[0;34m.\u001b[0m\u001b[0mdropout\u001b[0m\u001b[0;34m(\u001b[0m\u001b[0mout\u001b[0m\u001b[0;34m)\u001b[0m\u001b[0;34m\u001b[0m\u001b[0m\n\u001b[0m\u001b[1;32m     13\u001b[0m         \u001b[0mout\u001b[0m \u001b[0;34m=\u001b[0m \u001b[0mself\u001b[0m\u001b[0;34m.\u001b[0m\u001b[0mtanh\u001b[0m\u001b[0;34m(\u001b[0m\u001b[0mout\u001b[0m\u001b[0;34m)\u001b[0m\u001b[0;34m\u001b[0m\u001b[0m\n\u001b[1;32m     14\u001b[0m         \u001b[0mout\u001b[0m \u001b[0;34m=\u001b[0m \u001b[0mself\u001b[0m\u001b[0;34m.\u001b[0m\u001b[0mfc2\u001b[0m\u001b[0;34m(\u001b[0m\u001b[0mout\u001b[0m\u001b[0;34m)\u001b[0m\u001b[0;34m\u001b[0m\u001b[0m\n",
      "\u001b[0;32m/usr/local/lib/python3.5/dist-packages/torch/nn/modules/module.py\u001b[0m in \u001b[0;36m__call__\u001b[0;34m(self, *input, **kwargs)\u001b[0m\n\u001b[1;32m    323\u001b[0m         \u001b[0;32mfor\u001b[0m \u001b[0mhook\u001b[0m \u001b[0;32min\u001b[0m \u001b[0mself\u001b[0m\u001b[0;34m.\u001b[0m\u001b[0m_forward_pre_hooks\u001b[0m\u001b[0;34m.\u001b[0m\u001b[0mvalues\u001b[0m\u001b[0;34m(\u001b[0m\u001b[0;34m)\u001b[0m\u001b[0;34m:\u001b[0m\u001b[0;34m\u001b[0m\u001b[0m\n\u001b[1;32m    324\u001b[0m             \u001b[0mhook\u001b[0m\u001b[0;34m(\u001b[0m\u001b[0mself\u001b[0m\u001b[0;34m,\u001b[0m \u001b[0minput\u001b[0m\u001b[0;34m)\u001b[0m\u001b[0;34m\u001b[0m\u001b[0m\n\u001b[0;32m--> 325\u001b[0;31m         \u001b[0mresult\u001b[0m \u001b[0;34m=\u001b[0m \u001b[0mself\u001b[0m\u001b[0;34m.\u001b[0m\u001b[0mforward\u001b[0m\u001b[0;34m(\u001b[0m\u001b[0;34m*\u001b[0m\u001b[0minput\u001b[0m\u001b[0;34m,\u001b[0m \u001b[0;34m**\u001b[0m\u001b[0mkwargs\u001b[0m\u001b[0;34m)\u001b[0m\u001b[0;34m\u001b[0m\u001b[0m\n\u001b[0m\u001b[1;32m    326\u001b[0m         \u001b[0;32mfor\u001b[0m \u001b[0mhook\u001b[0m \u001b[0;32min\u001b[0m \u001b[0mself\u001b[0m\u001b[0;34m.\u001b[0m\u001b[0m_forward_hooks\u001b[0m\u001b[0;34m.\u001b[0m\u001b[0mvalues\u001b[0m\u001b[0;34m(\u001b[0m\u001b[0;34m)\u001b[0m\u001b[0;34m:\u001b[0m\u001b[0;34m\u001b[0m\u001b[0m\n\u001b[1;32m    327\u001b[0m             \u001b[0mhook_result\u001b[0m \u001b[0;34m=\u001b[0m \u001b[0mhook\u001b[0m\u001b[0;34m(\u001b[0m\u001b[0mself\u001b[0m\u001b[0;34m,\u001b[0m \u001b[0minput\u001b[0m\u001b[0;34m,\u001b[0m \u001b[0mresult\u001b[0m\u001b[0;34m)\u001b[0m\u001b[0;34m\u001b[0m\u001b[0m\n",
      "\u001b[0;32m/usr/local/lib/python3.5/dist-packages/torch/nn/modules/dropout.py\u001b[0m in \u001b[0;36mforward\u001b[0;34m(self, input)\u001b[0m\n\u001b[1;32m     44\u001b[0m \u001b[0;34m\u001b[0m\u001b[0m\n\u001b[1;32m     45\u001b[0m     \u001b[0;32mdef\u001b[0m \u001b[0mforward\u001b[0m\u001b[0;34m(\u001b[0m\u001b[0mself\u001b[0m\u001b[0;34m,\u001b[0m \u001b[0minput\u001b[0m\u001b[0;34m)\u001b[0m\u001b[0;34m:\u001b[0m\u001b[0;34m\u001b[0m\u001b[0m\n\u001b[0;32m---> 46\u001b[0;31m         \u001b[0;32mreturn\u001b[0m \u001b[0mF\u001b[0m\u001b[0;34m.\u001b[0m\u001b[0mdropout\u001b[0m\u001b[0;34m(\u001b[0m\u001b[0minput\u001b[0m\u001b[0;34m,\u001b[0m \u001b[0mself\u001b[0m\u001b[0;34m.\u001b[0m\u001b[0mp\u001b[0m\u001b[0;34m,\u001b[0m \u001b[0mself\u001b[0m\u001b[0;34m.\u001b[0m\u001b[0mtraining\u001b[0m\u001b[0;34m,\u001b[0m \u001b[0mself\u001b[0m\u001b[0;34m.\u001b[0m\u001b[0minplace\u001b[0m\u001b[0;34m)\u001b[0m\u001b[0;34m\u001b[0m\u001b[0m\n\u001b[0m\u001b[1;32m     47\u001b[0m \u001b[0;34m\u001b[0m\u001b[0m\n\u001b[1;32m     48\u001b[0m     \u001b[0;32mdef\u001b[0m \u001b[0m__repr__\u001b[0m\u001b[0;34m(\u001b[0m\u001b[0mself\u001b[0m\u001b[0;34m)\u001b[0m\u001b[0;34m:\u001b[0m\u001b[0;34m\u001b[0m\u001b[0m\n",
      "\u001b[0;32m/usr/local/lib/python3.5/dist-packages/torch/nn/functional.py\u001b[0m in \u001b[0;36mdropout\u001b[0;34m(input, p, training, inplace)\u001b[0m\n\u001b[1;32m    524\u001b[0m \u001b[0;34m\u001b[0m\u001b[0m\n\u001b[1;32m    525\u001b[0m \u001b[0;32mdef\u001b[0m \u001b[0mdropout\u001b[0m\u001b[0;34m(\u001b[0m\u001b[0minput\u001b[0m\u001b[0;34m,\u001b[0m \u001b[0mp\u001b[0m\u001b[0;34m=\u001b[0m\u001b[0;36m0.5\u001b[0m\u001b[0;34m,\u001b[0m \u001b[0mtraining\u001b[0m\u001b[0;34m=\u001b[0m\u001b[0;32mFalse\u001b[0m\u001b[0;34m,\u001b[0m \u001b[0minplace\u001b[0m\u001b[0;34m=\u001b[0m\u001b[0;32mFalse\u001b[0m\u001b[0;34m)\u001b[0m\u001b[0;34m:\u001b[0m\u001b[0;34m\u001b[0m\u001b[0m\n\u001b[0;32m--> 526\u001b[0;31m     \u001b[0;32mreturn\u001b[0m \u001b[0m_functions\u001b[0m\u001b[0;34m.\u001b[0m\u001b[0mdropout\u001b[0m\u001b[0;34m.\u001b[0m\u001b[0mDropout\u001b[0m\u001b[0;34m.\u001b[0m\u001b[0mapply\u001b[0m\u001b[0;34m(\u001b[0m\u001b[0minput\u001b[0m\u001b[0;34m,\u001b[0m \u001b[0mp\u001b[0m\u001b[0;34m,\u001b[0m \u001b[0mtraining\u001b[0m\u001b[0;34m,\u001b[0m \u001b[0minplace\u001b[0m\u001b[0;34m)\u001b[0m\u001b[0;34m\u001b[0m\u001b[0m\n\u001b[0m\u001b[1;32m    527\u001b[0m \u001b[0;34m\u001b[0m\u001b[0m\n\u001b[1;32m    528\u001b[0m \u001b[0;34m\u001b[0m\u001b[0m\n",
      "\u001b[0;31mKeyboardInterrupt\u001b[0m: "
     ]
    }
   ],
   "source": [
    "# test\n",
    "losses=[]\n",
    "dev_set_loss=[]\n",
    "for epoch in range(epochs):\n",
    "    \n",
    "    epoch +=1\n",
    "    for x,y in zip(np.split(X_train[:-3],X_train.shape[0]//10,axis=0),np.split(Y_train[:-3],Y_train.shape[0]//10,axis=0)):\n",
    "        x=torch.from_numpy(x)\n",
    "        y=torch.from_numpy(y)\n",
    "\n",
    "        inputs = Variable(x.type(torch.cuda.FloatTensor))\n",
    "        labels = Variable(y.type(torch.cuda.LongTensor))\n",
    "\n",
    "        #clear grads\n",
    "        optimizer.zero_grad()\n",
    "        #forward to get predicted values\n",
    "        outputs = model.forward(inputs)\n",
    "        loss = criterion(outputs, labels)\n",
    "\n",
    "        losses.append(float(loss))\n",
    "        loss.backward()# back props\n",
    "        optimizer.step()# update the parameters\n",
    "    if(epoch%10 == 0):\n",
    "        print(\"{} : {}\".format(epoch,float(loss)))"
   ]
  },
  {
   "cell_type": "markdown",
   "metadata": {},
   "source": [
    "## Evaluate the performance on the training data"
   ]
  },
  {
   "cell_type": "code",
   "execution_count": 34,
   "metadata": {},
   "outputs": [
    {
     "name": "stdout",
     "output_type": "stream",
     "text": [
      "The train accuracy is 98.52890865549094\n"
     ]
    }
   ],
   "source": [
    "# X_train and Y_train\n",
    "model_pred=model(Variable(torch.from_numpy(X_train).type(torch.cuda.FloatTensor)))\n",
    "\n",
    "train_correct=0\n",
    "Y_train_pred=[]\n",
    "total_train_compounds=len(Y_train)\n",
    "for i,train_compound in enumerate(model_pred):\n",
    "    \n",
    "    \n",
    "    max_,max_index=torch.max(train_compound,0)\n",
    "    Y_train_pred.append(int(max_index))\n",
    "    if (int(max_index)==Y_train[i]):\n",
    "        train_correct+=1\n",
    "\n",
    "print(\"The train accuracy is {}\".format((train_correct/total_train_compounds)*100))"
   ]
  },
  {
   "cell_type": "markdown",
   "metadata": {},
   "source": [
    "## Evaluate the model on the testing data"
   ]
  },
  {
   "cell_type": "code",
   "execution_count": 35,
   "metadata": {},
   "outputs": [
    {
     "name": "stdout",
     "output_type": "stream",
     "text": [
      "The test accuracy is 77.23076923076924\n"
     ]
    }
   ],
   "source": [
    "# X_test and Y_test\n",
    "model_pred_test=model(Variable(torch.from_numpy(X_test).type(torch.cuda.FloatTensor)))\n",
    "\n",
    "# The test accuracy\n",
    "test_correct=0\n",
    "Y_test_pred=[]\n",
    "total_test_compounds=len(Y_test)\n",
    "for i,test_compound in enumerate(model_pred_test):\n",
    "    \n",
    "    \n",
    "    max_,max_index=torch.max(test_compound,0)\n",
    "    Y_test_pred.append(int(max_index))\n",
    "    if (int(max_index)==Y_test[i]):\n",
    "        test_correct+=1\n",
    "\n",
    "print(\"The test accuracy is {}\".format((test_correct/total_test_compounds)*100))"
   ]
  },
  {
   "cell_type": "code",
   "execution_count": 28,
   "metadata": {},
   "outputs": [],
   "source": [
    "import matplotlib.pyplot as plt\n",
    "%matplotlib inline"
   ]
  },
  {
   "cell_type": "code",
   "execution_count": 29,
   "metadata": {
    "scrolled": true
   },
   "outputs": [],
   "source": [
    "## Saved , uncomment the below line if you want to save it\n",
    "# np.save(\"Y_test\",Y_test)\n",
    "# np.save(\"Y_test_pred.npy\",np.array(Y_test_pred))"
   ]
  },
  {
   "cell_type": "code",
   "execution_count": 36,
   "metadata": {},
   "outputs": [
    {
     "data": {
      "text/plain": [
       "[<matplotlib.lines.Line2D at 0x7f00840a07b8>]"
      ]
     },
     "execution_count": 36,
     "metadata": {},
     "output_type": "execute_result"
    },
    {
     "data": {
      "image/png": "[encoded data removed]",
      "text/plain": [
       "<matplotlib.figure.Figure at 0x7f008408e7b8>"
      ]
     },
     "metadata": {},
     "output_type": "display_data"
    }
   ],
   "source": [
    "plt.plot(Y_test_pred)"
   ]
  },
  {
   "cell_type": "code",
   "execution_count": 37,
   "metadata": {},
   "outputs": [
    {
     "data": {
      "text/plain": [
       "[<matplotlib.lines.Line2D at 0x7f008405e6a0>]"
      ]
     },
     "execution_count": 37,
     "metadata": {},
     "output_type": "execute_result"
    },
    {
     "data": {
      "image/png": "[encoded data removed]",
      "text/plain": [
       "<matplotlib.figure.Figure at 0x7f0086dcaf98>"
      ]
     },
     "metadata": {},
     "output_type": "display_data"
    }
   ],
   "source": [
    "plt.plot(Y_test-Y_test_pred)"
   ]
  },
  {
   "cell_type": "code",
   "execution_count": 38,
   "metadata": {},
   "outputs": [
    {
     "data": {
      "text/plain": [
       "<matplotlib.collections.PathCollection at 0x7f007d9358d0>"
      ]
     },
     "execution_count": 38,
     "metadata": {},
     "output_type": "execute_result"
    },
    {
     "data": {
      "image/png": "[encoded data removed]",
      "text/plain": [
       "<matplotlib.figure.Figure at 0x7f00840507b8>"
      ]
     },
     "metadata": {},
     "output_type": "display_data"
    }
   ],
   "source": [
    "plt.scatter(Y_test,Y_test_pred)"
   ]
  },
  {
   "cell_type": "code",
   "execution_count": 39,
   "metadata": {},
   "outputs": [],
   "source": [
    "## For the entire dataset"
   ]
  },
  {
   "cell_type": "code",
   "execution_count": 40,
   "metadata": {},
   "outputs": [
    {
     "name": "stdout",
     "output_type": "stream",
     "text": [
      "The total accuracy is 96.39778325123153\n"
     ]
    }
   ],
   "source": [
    "#X and Y\n",
    "model_pred=model(Variable(torch.from_numpy(X).type(torch.cuda.FloatTensor)))\n",
    "correct=0\n",
    "Y_pred=[]\n",
    "total_compounds=len(Y)\n",
    "for i,compound in enumerate(model_pred):\n",
    "    \n",
    "    \n",
    "    max_,max_index=torch.max(compound,0)\n",
    "    Y_pred.append(int(max_index))\n",
    "    if (int(max_index)==Y[i]):\n",
    "        correct+=1\n",
    "\n",
    "print(\"The total accuracy is {}\".format((correct/total_compounds)*100))"
   ]
  },
  {
   "cell_type": "code",
   "execution_count": 41,
   "metadata": {},
   "outputs": [
    {
     "data": {
      "text/plain": [
       "[<matplotlib.lines.Line2D at 0x7f007d8f5e10>]"
      ]
     },
     "execution_count": 41,
     "metadata": {},
     "output_type": "execute_result"
    },
    {
     "data": {
      "image/png": "[encoded data removed]",
      "text/plain": [
       "<matplotlib.figure.Figure at 0x7f007d951358>"
      ]
     },
     "metadata": {},
     "output_type": "display_data"
    }
   ],
   "source": [
    "plt.plot(Y_pred)"
   ]
  },
  {
   "cell_type": "code",
   "execution_count": 42,
   "metadata": {},
   "outputs": [],
   "source": [
    "from sklearn.metrics import mean_squared_error"
   ]
  },
  {
   "cell_type": "code",
   "execution_count": 43,
   "metadata": {},
   "outputs": [
    {
     "data": {
      "text/plain": [
       "4.6108313376667809"
      ]
     },
     "execution_count": 43,
     "metadata": {},
     "output_type": "execute_result"
    }
   ],
   "source": [
    "mean_squared_error(Y_train,Y_train_pred)*19/200"
   ]
  },
  {
   "cell_type": "code",
   "execution_count": 44,
   "metadata": {},
   "outputs": [
    {
     "data": {
      "text/plain": [
       "24.328476923076924"
      ]
     },
     "execution_count": 44,
     "metadata": {},
     "output_type": "execute_result"
    }
   ],
   "source": [
    "mean_squared_error(Y_test,Y_test_pred)*19/200"
   ]
  },
  {
   "cell_type": "code",
   "execution_count": 45,
   "metadata": {},
   "outputs": [
    {
     "data": {
      "text/plain": [
       "6.833974753694581"
      ]
     },
     "execution_count": 45,
     "metadata": {},
     "output_type": "execute_result"
    }
   ],
   "source": [
    "mean_squared_error(Y,Y_pred)*19/200"
   ]
  }
 ],
 "metadata": {
  "kernelspec": {
   "display_name": "Python 3",
   "language": "python",
   "name": "python3"
  },
  "language_info": {
   "codemirror_mode": {
    "name": "ipython",
    "version": 3
   },
   "file_extension": ".py",
   "mimetype": "text/x-python",
   "name": "python",
   "nbconvert_exporter": "python",
   "pygments_lexer": "ipython3",
   "version": "3.5.2"
  }
 },
 "nbformat": 4,
 "nbformat_minor": 2
}
