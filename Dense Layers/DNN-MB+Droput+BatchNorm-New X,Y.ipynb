{
 "cells": [
  {
   "cell_type": "raw",
   "metadata": {},
   "source": [
    "Added BatchNorm"
   ]
  },
  {
   "cell_type": "code",
   "execution_count": 1,
   "metadata": {},
   "outputs": [],
   "source": [
    "import torch\n",
    "import torch.nn as nn\n",
    "from torch.autograd import Variable\n",
    "import numpy as np\n",
    "import matplotlib.pyplot as plt\n",
    "\n",
    "from sklearn.model_selection import train_test_split"
   ]
  },
  {
   "cell_type": "code",
   "execution_count": 2,
   "metadata": {},
   "outputs": [],
   "source": [
    "X=np.load(\"X (1).npy\")\n",
    "Y=np.load(\"Y (1).npy\")"
   ]
  },
  {
   "cell_type": "code",
   "execution_count": 3,
   "metadata": {},
   "outputs": [],
   "source": [
    "X_train, X_test, Y_train, Y_test = train_test_split(X, Y, test_size=0.1, random_state=42)"
   ]
  },
  {
   "cell_type": "code",
   "execution_count": 4,
   "metadata": {},
   "outputs": [],
   "source": [
    "input_size = 101\n",
    "hidden_size = 200\n",
    "num_classes = 200\n",
    "num_epochs = 5\n",
    "batch_size = 100\n",
    "learning_rate = 0.0001"
   ]
  },
  {
   "cell_type": "code",
   "execution_count": 5,
   "metadata": {},
   "outputs": [],
   "source": [
    "class Net(nn.Module):\n",
    "    def __init__(self, input_size, hidden_size, num_classes):\n",
    "        super(Net, self).__init__()\n",
    "        self.fc1 = nn.Linear(input_size, hidden_size) \n",
    "        self.relu = nn.ReLU()\n",
    "        self.tanh = nn.Tanh()\n",
    "        self.fc2 = nn.Linear(hidden_size, num_classes)\n",
    "        self.dropout = nn.Dropout(p=.4)\n",
    "        self.batch_norm1 = nn.BatchNorm1d(input_size)\n",
    "    \n",
    "    def forward(self, x):\n",
    "        out = self.batch_norm1(x)\n",
    "        out = self.fc1(out)\n",
    "        out = self.dropout(out)\n",
    "        out = self.tanh(out)\n",
    "        out = self.fc2(out)\n",
    "        out = self.relu(out)\n",
    "        return out"
   ]
  },
  {
   "cell_type": "code",
   "execution_count": 6,
   "metadata": {
    "scrolled": true
   },
   "outputs": [],
   "source": [
    "model = Net(input_size,hidden_size,num_classes)\n",
    "model.cuda()\n",
    "criterion = nn.CrossEntropyLoss()  \n",
    "optimizer = torch.optim.Adam(model.parameters(), lr=learning_rate)"
   ]
  },
  {
   "cell_type": "code",
   "execution_count": 7,
   "metadata": {},
   "outputs": [
    {
     "data": {
      "text/plain": [
       "292"
      ]
     },
     "execution_count": 7,
     "metadata": {},
     "output_type": "execute_result"
    }
   ],
   "source": [
    "X_train.shape[0]//10"
   ]
  },
  {
   "cell_type": "code",
   "execution_count": 8,
   "metadata": {},
   "outputs": [
    {
     "data": {
      "text/plain": [
       "(2923,)"
      ]
     },
     "execution_count": 8,
     "metadata": {},
     "output_type": "execute_result"
    }
   ],
   "source": [
    "Y_train.shape"
   ]
  },
  {
   "cell_type": "code",
   "execution_count": 9,
   "metadata": {},
   "outputs": [],
   "source": [
    "epochs = 1000"
   ]
  },
  {
   "cell_type": "code",
   "execution_count": 11,
   "metadata": {},
   "outputs": [
    {
     "data": {
      "text/plain": [
       "(2920, 101)"
      ]
     },
     "execution_count": 11,
     "metadata": {},
     "output_type": "execute_result"
    }
   ],
   "source": [
    "X_train[:-3].shape"
   ]
  },
  {
   "cell_type": "code",
   "execution_count": null,
   "metadata": {
    "scrolled": true
   },
   "outputs": [],
   "source": [
    "# test\n",
    "losses=[]\n",
    "dev_set_loss=[]\n",
    "for epoch in range(epochs):\n",
    "    \n",
    "    epoch +=1\n",
    "    for x,y in zip(np.split(X_train[:-3],X_train.shape[0]//10,axis=0),np.split(Y_train[:-3],Y_train.shape[0]//10,axis=0)):\n",
    "        \n",
    "   from sklearn.metrics import mean_squared_error     x=torch.from_numpy(x)\n",
    "        y=torch.from_numpy(y)\n",
    "\n",
    "        inputs = Variable(x.type(torch.cuda.FloatTensor))\n",
    "        labels = Variable(y.type(torch.cuda.LongTensor))\n",
    "\n",
    "        #clear grads\n",
    "        optimizer.zero_grad()\n",
    "        #forward to get predicted values\n",
    "        outputs = model.forward(inputs)\n",
    "        loss = criterion(outputs, labels)\n",
    "\n",
    "#         # let's check the state of dev set\n",
    "        \n",
    "#         inputs_dev = Variable(torch.from_numpy(X_dev).type(torch.cuda.FloatTensor))\n",
    "#         labels_dev = Variable(torch.from_numpy(Y_dev).type(torch.cuda.LongTensor))\n",
    "        \n",
    "#         outputs_dev=model.forward(inputs_dev)\n",
    "        \n",
    "#         dev_set_loss.append(criterion(outputs_dev,labels_dev))\n",
    "        try:\n",
    "            if (float(loss)<min(losses)):\n",
    "                torch.save(model.state_dict(),\"DNN-MB+Droput+BatchNorm.pytorch\")\n",
    "        except ValueError as err:\n",
    "            print(err)\n",
    "        losses.append(float(loss))\n",
    "        \n",
    "        loss.backward()# back props\n",
    "        optimizer.step()# update the parameters\n",
    "    if(epoch%10 == 0):\n",
    "        print(\"{} : {}\".format(epoch,float(loss)))"
   ]
  },
  {
   "cell_type": "code",
   "execution_count": 13,
   "metadata": {},
   "outputs": [
    {
     "data": {
      "text/plain": [
       "0.002627086592838168"
      ]
     },
     "execution_count": 13,
     "metadata": {},
     "output_type": "execute_result"
    }
   ],
   "source": [
    "min(losses)"
   ]
  },
  {
   "cell_type": "markdown",
   "metadata": {},
   "source": [
    "## Evaluate the performance on the training data"
   ]
  },
  {
   "cell_type": "code",
   "execution_count": 14,
   "metadata": {
    "scrolled": true
   },
   "outputs": [
    {
     "name": "stdout",
     "output_type": "stream",
     "text": [
      "The train accuracy is 82.3811152925077\n"
     ]
    }
   ],
   "source": [
    "# X_train and Y_train\n",
    "model_pred=model(Variable(torch.from_numpy(X_train).type(torch.cuda.FloatTensor)))\n",
    "\n",
    "train_correct=0\n",
    "Y_train_pred=[]\n",
    "total_train_compounds=len(Y_train)\n",
    "for i,train_compound in enumerate(model_pred):\n",
    "    \n",
    "    \n",
    "    max_,max_index=torch.max(train_compound,0)\n",
    "    Y_train_pred.append(int(max_index))\n",
    "    if (int(max_index)==Y_train[i]):\n",
    "        train_correct+=1\n",
    "\n",
    "print(\"The train accuracy is {}\".format((train_correct/total_train_compounds)*100))"
   ]
  },
  {
   "cell_type": "markdown",
   "metadata": {},
   "source": [
    "## Evaluate the model on the testing data"
   ]
  },
  {
   "cell_type": "code",
   "execution_count": 15,
   "metadata": {},
   "outputs": [
    {
     "name": "stdout",
     "output_type": "stream",
     "text": [
      "The test accuracy is 79.07692307692308\n"
     ]
    }
   ],
   "source": [
    "# X_test and Y_test\n",
    "model_pred_test=model(Variable(torch.from_numpy(X_test).type(torch.cuda.FloatTensor)))\n",
    "\n",
    "# The test accuracy\n",
    "test_correct=0\n",
    "Y_test_pred=[]\n",
    "total_test_compounds=len(Y_test)\n",
    "for i,test_compound in enumerate(model_pred_test):\n",
    "    \n",
    "    \n",
    "    max_,max_index=torch.max(test_compound,0)\n",
    "    Y_test_pred.append(int(max_index))\n",
    "    if (int(max_index)==Y_test[i]):\n",
    "        test_correct+=1\n",
    "\n",
    "print(\"The test accuracy is {}\".format((test_correct/total_test_compounds)*100))"
   ]
  },
  {
   "cell_type": "code",
   "execution_count": 16,
   "metadata": {},
   "outputs": [],
   "source": [
    "import matplotlib.pyplot as plt\n",
    "%matplotlib inline"
   ]
  },
  {
   "cell_type": "code",
   "execution_count": 17,
   "metadata": {
    "scrolled": true
   },
   "outputs": [],
   "source": [
    "## Saved , uncomment the below line if you want to save it\n",
    "# np.save(\"Y_test\",Y_test)\n",
    "# np.save(\"Y_test_pred.npy\",np.array(Y_test_pred))"
   ]
  },
  {
   "cell_type": "code",
   "execution_count": 18,
   "metadata": {},
   "outputs": [
    {
     "data": {
      "text/plain": [
       "[<matplotlib.lines.Line2D at 0x7f15bd5b7a58>]"
      ]
     },
     "execution_count": 18,
     "metadata": {},
     "output_type": "execute_result"
    },
    {
     "data": {
      "image/png": "[encoded data removed]",
      "text/plain": [
       "<matplotlib.figure.Figure at 0x7f15bc833c50>"
      ]
     },
     "metadata": {},
     "output_type": "display_data"
    }
   ],
   "source": [
    "plt.plot(Y_test_pred)"
   ]
  },
  {
   "cell_type": "code",
   "execution_count": 19,
   "metadata": {},
   "outputs": [],
   "source": [
    "## For the entire dataset"
   ]
  },
  {
   "cell_type": "code",
   "execution_count": 20,
   "metadata": {},
   "outputs": [
    {
     "name": "stdout",
     "output_type": "stream",
     "text": [
      "The total accuracy is 82.38916256157636\n"
     ]
    }
   ],
   "source": [
    "#X and Y\n",
    "model_pred=model(Variable(torch.from_numpy(X).type(torch.cuda.FloatTensor)))\n",
    "correct=0\n",
    "Y_pred=[]\n",
    "total_compounds=len(Y)\n",
    "for i,compound in enumerate(model_pred):\n",
    "    \n",
    "    \n",
    "    max_,max_index=torch.max(compound,0)\n",
    "    Y_pred.append(int(max_index))\n",
    "    if (int(max_index)==Y[i]):\n",
    "        correct+=1\n",
    "\n",
    "print(\"The total accuracy is {}\".format((correct/total_compounds)*100))"
   ]
  },
  {
   "cell_type": "code",
   "execution_count": 21,
   "metadata": {
    "scrolled": false
   },
   "outputs": [
    {
     "data": {
      "text/plain": [
       "[<matplotlib.lines.Line2D at 0x7f155d9a5c88>]"
      ]
     },
     "execution_count": 21,
     "metadata": {},
     "output_type": "execute_result"
    },
    {
     "data": {
      "image/png": "[encoded data removed]",
      "text/plain": [
       "<matplotlib.figure.Figure at 0x7f15bc7ee748>"
      ]
     },
     "metadata": {},
     "output_type": "display_data"
    }
   ],
   "source": [
    "plt.plot(Y_pred)"
   ]
  },
  {
   "cell_type": "code",
   "execution_count": 24,
   "metadata": {},
   "outputs": [],
   "source": [
    "torch.save(model.state_dict(),\"mb_plus_droput.pytorch\")"
   ]
  },
  {
   "cell_type": "code",
   "execution_count": 80,
   "metadata": {},
   "outputs": [],
   "source": [
    "model.load_state_dict(torch.load(\"test.pytorch\"))"
   ]
  },
  {
   "cell_type": "code",
   "execution_count": 22,
   "metadata": {},
   "outputs": [],
   "source": [
    "from sklearn.metrics import mean_squared_error"
   ]
  },
  {
   "cell_type": "code",
   "execution_count": 23,
   "metadata": {},
   "outputs": [
    {
     "data": {
      "text/plain": [
       "26.443030769230766"
      ]
     },
     "execution_count": 23,
     "metadata": {},
     "output_type": "execute_result"
    }
   ],
   "source": [
    "mean_squared_error(Y_test,Y_test_pred)*19/200"
   ]
  },
  {
   "cell_type": "code",
   "execution_count": null,
   "metadata": {},
   "outputs": [],
   "source": []
  }
 ],
 "metadata": {
  "kernelspec": {
   "display_name": "Python 3",
   "language": "python",
   "name": "python3"
  },
  "language_info": {
   "codemirror_mode": {
    "name": "ipython",
    "version": 3
   },
   "file_extension": ".py",
   "mimetype": "text/x-python",
   "name": "python",
   "nbconvert_exporter": "python",
   "pygments_lexer": "ipython3",
   "version": "3.5.2"
  }
 },
 "nbformat": 4,
 "nbformat_minor": 2
}
