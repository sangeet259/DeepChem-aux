{
 "cells": [
  {
   "cell_type": "code",
   "execution_count": 1,
   "metadata": {
    "collapsed": true
   },
   "outputs": [],
   "source": [
    "#https://stackoverflow.com/questions/43396572/dimension-of-shape-in-conv1d"
   ]
  },
  {
   "cell_type": "code",
   "execution_count": 1,
   "metadata": {},
   "outputs": [
    {
     "name": "stderr",
     "output_type": "stream",
     "text": [
      "Using TensorFlow backend.\n"
     ]
    }
   ],
   "source": [
    "from sklearn.utils import class_weight\n",
    "\n",
    "from sklearn.model_selection import train_test_split\n",
    "import numpy as np\n",
    "from keras.models import Sequential\n",
    "from keras.layers import Dense,Merge,Flatten,Dropout\n",
    "from keras.layers import Conv1D,Reshape\n",
    "import keras\n",
    "\n",
    "# For the plots \n",
    "import matplotlib.pyplot as plt\n",
    "\n",
    "# For controlling the training parameters in the midst of training itself\n",
    "from keras.callbacks import ModelCheckpoint,EarlyStopping, ReduceLROnPlateau\n",
    "\n",
    "# For creating directory to save the models\n",
    "import os\n",
    "from imblearn.over_sampling import SMOTE\n",
    "\n",
    "from sklearn.utils import class_weight\n",
    "\n",
    "from keras.utils.np_utils import to_categorical   "
   ]
  },
  {
   "cell_type": "code",
   "execution_count": 153,
   "metadata": {},
   "outputs": [],
   "source": [
    "# Load the data\n",
    "X = np.load(\"newX.npy\")\n",
    "Y = np.load(\"newY.npy\")\n",
    "\n",
    "# Y_cat = to_categorical(Y, num_classes=200)\n",
    "\n",
    "XT = np.column_stack( (X,Y) )\n",
    "YT = []\n",
    "for y in Y:\n",
    "    if y==0:\n",
    "        YT.append(0)\n",
    "    else:\n",
    "        YT.append(1)\n",
    "#     elif y>0 and y<=50:\n",
    "#         YT.append(1)\n",
    "#     elif y>50 and y<=100:\n",
    "#         YT.append(2)\n",
    "#     elif y>100 and y<=150:\n",
    "#         YT.append(3)\n",
    "#     elif y>150 and y<=200:\n",
    "#         YT.append(4)\n",
    "        \n",
    "YT = np.array(YT)"
   ]
  },
  {
   "cell_type": "code",
   "execution_count": 154,
   "metadata": {},
   "outputs": [
    {
     "data": {
      "text/plain": [
       "array([  1.55435063e-02,   3.31680441e-01,   7.43209877e-01,\n",
       "         1.05614035e+00,   5.01666667e+00,   3.64848485e+00,\n",
       "         4.45925926e+00,   5.73333333e+00,   5.73333333e+00,\n",
       "         6.68888889e+00,   4.45925926e+00,   1.33777778e+01,\n",
       "         6.68888889e+00,   1.33777778e+01,   2.00666667e+01,\n",
       "         8.02666667e+00,   6.68888889e+00,   2.00666667e+01,\n",
       "         5.73333333e+00,   2.00666667e+01,   1.00333333e+01,\n",
       "         5.01666667e+00,   4.45925926e+00,   1.00333333e+01,\n",
       "         1.33777778e+01,   8.02666667e+00,   1.33777778e+01,\n",
       "         2.00666667e+01,   8.02666667e+00,   4.01333333e+01,\n",
       "         1.00333333e+01,   2.00666667e+01,   2.00666667e+01,\n",
       "         2.00666667e+01,   2.00666667e+01,   2.00666667e+01,\n",
       "         4.01333333e+01,   2.00666667e+01,   1.33777778e+01,\n",
       "         2.00666667e+01,   8.02666667e+00,   1.00333333e+01,\n",
       "         2.00666667e+01,   4.01333333e+01,   4.01333333e+01,\n",
       "         2.00666667e+01,   2.00666667e+01,   4.01333333e+01,\n",
       "         2.00666667e+01,   4.01333333e+01,   2.00666667e+01,\n",
       "         4.01333333e+01,   1.33777778e+01,   1.00333333e+01,\n",
       "         2.00666667e+01,   4.01333333e+01,   4.01333333e+01,\n",
       "         1.33777778e+01,   2.00666667e+01,   4.01333333e+01,\n",
       "         4.01333333e+01,   4.01333333e+01,   4.01333333e+01,\n",
       "         4.01333333e+01,   4.01333333e+01,   4.01333333e+01,\n",
       "         4.01333333e+01,   4.01333333e+01,   4.01333333e+01,\n",
       "         4.01333333e+01,   4.01333333e+01,   4.01333333e+01,\n",
       "         4.01333333e+01,   4.01333333e+01,   4.01333333e+01])"
      ]
     },
     "execution_count": 154,
     "metadata": {},
     "output_type": "execute_result"
    }
   ],
   "source": [
    "cw = class_weight.compute_class_weight('balanced', np.unique(Y), Y)\n",
    "# weights = np.array(cw)\n",
    "cw\n",
    "# categY_catorical_labels"
   ]
  },
  {
   "cell_type": "code",
   "execution_count": 32,
   "metadata": {
    "collapsed": true
   },
   "outputs": [],
   "source": [
    "# X = X[:,:100]\n",
    "# X[0].shape"
   ]
  },
  {
   "cell_type": "code",
   "execution_count": 173,
   "metadata": {
    "collapsed": true
   },
   "outputs": [],
   "source": [
    "# Split the test train and pass it into validation\n",
    "from sklearn.utils import class_weight\n",
    "\n",
    "# X_train, X_tst, Y_train, Y_tst = train_test_split(XT, YT, test_size=0.2, random_state=12)\n",
    "X_train, X_test, Y_train, Y_test = train_test_split(X, Y, test_size=0.2, random_state=12)\n",
    "\n",
    "\n",
    "# sm = SMOTE(random_state=12, ratio = 1.0, k_neighbors = 5)\n",
    "# x_res, y_res = sm.fit_sample(X_train, Y_train)\n",
    "# print (Y_train.value_counts(), np.bincount(y_res))\n",
    "# weights = np.array(class_weight)"
   ]
  },
  {
   "cell_type": "code",
   "execution_count": 63,
   "metadata": {
    "collapsed": true
   },
   "outputs": [],
   "source": [
    "# X_train = x_res[:,:101]\n",
    "# Y_train = np.round(x_res[:,101])\n",
    "# X_test = X_tst[:,:101]\n",
    "# Y_test = np.round(X_tst[:,101])\n",
    "\n",
    "# X_train, X_test, Y_train, Y_test = train_test_split(XT, YT, test_size=0.2, random_state=12)"
   ]
  },
  {
   "cell_type": "code",
   "execution_count": 156,
   "metadata": {},
   "outputs": [
    {
     "data": {
      "text/plain": [
       "(2408,)"
      ]
     },
     "execution_count": 156,
     "metadata": {},
     "output_type": "execute_result"
    }
   ],
   "source": [
    "# np.reshape(Y_test, (65000,1))\n",
    "Y_train.shape"
   ]
  },
  {
   "cell_type": "code",
   "execution_count": 65,
   "metadata": {
    "collapsed": true
   },
   "outputs": [],
   "source": [
    "# # Reshape the stuff according to the the shape Keras expects it to be !\n",
    "# data_lstm = x_res[:,:101].reshape((x_res[:,:101].shape[0], 101, 1))\n",
    "# Y_train = x_res[:,-1]\n",
    "# target = np.round(Y_train.reshape((Y_train.shape[0], 1)))\n",
    "# # target = Y_train\n",
    "\n",
    "# val_data_lstm = X_test[:,:101].reshape(X_test[:,:101].shape[0],101,1)\n",
    "# Y_test = X_test[:,-1]\n",
    "# val_target = Y_test.reshape(Y_test.shape[0],1)\n",
    "# # val_target = Y_test"
   ]
  },
  {
   "cell_type": "code",
   "execution_count": 6,
   "metadata": {
    "collapsed": true
   },
   "outputs": [],
   "source": [
    "from keras import backend as K\n",
    "def weighted_categorical_crossentropy(weights):\n",
    "    \"\"\"\n",
    "    A weighted version of keras.objectives.categorical_crossentropy\n",
    "    \n",
    "    Variables:\n",
    "        weights: numpy array of shape (C,) where C is the number of classes\n",
    "    \n",
    "    Usage:\n",
    "        weights = np.array([0.5,2,10]) # Class one at 0.5, class 2 twice the normal weights, class 3 10x.\n",
    "        loss = weighted_categorical_crossentropy(weights)\n",
    "        model.compile(loss=loss,optimizer='adam')\n",
    "    \"\"\"\n",
    "    \n",
    "    weights = K.variable(weights)\n",
    "        \n",
    "    def loss(y_true, y_pred):\n",
    "        # scale predictions so that the class probas of each sample sum to 1\n",
    "        y_pred /= K.sum(y_pred, axis=-1, keepdims=True)\n",
    "        # clip to prevent NaN's and Inf's\n",
    "        y_pred = K.clip(y_pred, K.epsilon(), 1 - K.epsilon())\n",
    "        # calc\n",
    "        loss = y_true * K.log(y_pred) * weights\n",
    "        loss = -K.sum(loss, -1)\n",
    "        return loss\n",
    "    \n",
    "    return loss"
   ]
  },
  {
   "cell_type": "code",
   "execution_count": 92,
   "metadata": {
    "collapsed": true
   },
   "outputs": [],
   "source": [
    "model = Sequential()\n",
    "# model.add(Dense(80,input_dim=101))\n",
    "model.add(Dense(80, input_dim=101, kernel_initializer='normal', activation='relu'))\n",
    "model.add(Dense(50,activation='relu'))\n",
    "model.add(Dense(30,activation='relu'))\n",
    "#model.add(Dropout(0.25))\n",
    "model.add(Dense(10,activation='relu'))\n",
    "model.add(Dense(5,activation='relu'))\n",
    "model.add(Dense(1,activation='relu'))"
   ]
  },
  {
   "cell_type": "code",
   "execution_count": 192,
   "metadata": {},
   "outputs": [],
   "source": [
    "# The callback function for model checkpoint saving\n",
    "# checkpoint = ModelCheckpoint(filepath, monitor='val_acc', verbose=1,save_best_only=True,\\\n",
    "#                              save_weights_only=True,mode='auto')\n",
    "\n",
    "# The callback function for earlystopping\n",
    "\n",
    "earlystop = EarlyStopping(monitor='val_loss',patience=10, \\\n",
    "                          verbose=1, mode='auto')\n",
    "\n",
    "# The callback function for reducing learning rate on plateus\n",
    "\n",
    "reduce_lr = ReduceLROnPlateau(monitor='val_loss', factor=0.1,\n",
    "                              patience=10, min_lr=0.00001)"
   ]
  },
  {
   "cell_type": "code",
   "execution_count": 181,
   "metadata": {},
   "outputs": [],
   "source": [
    "# Put all those calback in a list\n",
    "callbacks = [earlystop, reduce_lr]\n",
    "# callbacks = [checkpoint, reduce_lr]"
   ]
  },
  {
   "cell_type": "code",
   "execution_count": 184,
   "metadata": {
    "collapsed": true
   },
   "outputs": [],
   "source": [
    "newX_train = np.asarray(newX_train)\n",
    "newX_test = np.asarray(newX_test)\n",
    "newY_train = np.asarray(newY_train)\n",
    "newY_test = np.asarray(newY_test)\n",
    "\n"
   ]
  },
  {
   "cell_type": "code",
   "execution_count": 193,
   "metadata": {
    "scrolled": true
   },
   "outputs": [
    {
     "name": "stdout",
     "output_type": "stream",
     "text": [
      "Train on 2495 samples, validate on 515 samples\n",
      "Epoch 1/1000\n",
      "1s - loss: 6.9146 - acc: 0.8405 - val_loss: 4.0414 - val_acc: 0.9612\n",
      "Epoch 2/1000\n",
      "1s - loss: 7.0057 - acc: 0.8405 - val_loss: 5.2116 - val_acc: 0.9398\n",
      "Epoch 3/1000\n",
      "1s - loss: 5.5216 - acc: 0.8365 - val_loss: 3.4146 - val_acc: 0.9437\n",
      "Epoch 4/1000\n",
      "1s - loss: 5.1272 - acc: 0.8417 - val_loss: 3.5446 - val_acc: 0.9476\n",
      "Epoch 5/1000\n",
      "1s - loss: 4.5726 - acc: 0.8369 - val_loss: 1.8647 - val_acc: 0.9515\n",
      "Epoch 6/1000\n",
      "1s - loss: 4.3991 - acc: 0.8389 - val_loss: 4.0761 - val_acc: 0.9534\n",
      "Epoch 7/1000\n",
      "1s - loss: 4.5393 - acc: 0.8365 - val_loss: 2.9607 - val_acc: 0.9573\n",
      "Epoch 8/1000\n",
      "0s - loss: 5.2223 - acc: 0.8425 - val_loss: 6.6060 - val_acc: 0.9650\n",
      "Epoch 9/1000\n",
      "1s - loss: 4.2542 - acc: 0.8369 - val_loss: 5.1841 - val_acc: 0.9495\n",
      "Epoch 10/1000\n",
      "1s - loss: 3.1480 - acc: 0.8405 - val_loss: 3.7892 - val_acc: 0.9553\n",
      "Epoch 11/1000\n",
      "1s - loss: 2.1148 - acc: 0.8489 - val_loss: 3.5936 - val_acc: 0.9553\n",
      "Epoch 12/1000\n",
      "1s - loss: 1.7052 - acc: 0.8517 - val_loss: 3.5327 - val_acc: 0.9553\n",
      "Epoch 13/1000\n",
      "1s - loss: 1.3971 - acc: 0.8585 - val_loss: 3.5290 - val_acc: 0.9553\n",
      "Epoch 14/1000\n",
      "1s - loss: 1.3779 - acc: 0.8593 - val_loss: 3.5272 - val_acc: 0.9553\n",
      "Epoch 15/1000\n",
      "1s - loss: 1.3582 - acc: 0.8589 - val_loss: 3.5208 - val_acc: 0.9553\n",
      "Epoch 16/1000\n",
      "1s - loss: 1.3388 - acc: 0.8593 - val_loss: 3.5489 - val_acc: 0.9553\n",
      "Epoch 00015: early stopping\n"
     ]
    }
   ],
   "source": [
    "# I have decided to use mean_absolute_error , beacuse for some reason mean squared e\n",
    "#weighted_categorical_crossentropy(weights)\n",
    "#opt = keras.optimizers.rmsprop(lr=0.0001, decay=1e-6)\n",
    "# model.compile(loss='mean_squared_error', optimizer='adam',metrics=['accuracy'])\n",
    "model.compile(loss='mean_squared_error', optimizer='rmsprop',metrics=['accuracy'])\n",
    "model_info = model.fit(newX_train, newY_train, epochs=1000, batch_size=10, verbose=2,validation_data=(newX_test,newY_test)\n",
    "                       ,class_weight=cw,callbacks=callbacks)\n",
    "                   #,callbacks=callbacks, class_weight=class_weight)"
   ]
  },
  {
   "cell_type": "code",
   "execution_count": 164,
   "metadata": {},
   "outputs": [
    {
     "data": {
      "text/plain": [
       "((2408, 101), (2408,), (602, 101), (602,))"
      ]
     },
     "execution_count": 164,
     "metadata": {},
     "output_type": "execute_result"
    }
   ],
   "source": [
    "X_train.shape, Y_train.shape, X_test.shape,Y_test.shape"
   ]
  },
  {
   "cell_type": "code",
   "execution_count": 166,
   "metadata": {},
   "outputs": [
    {
     "data": {
      "text/plain": [
       "(190, 199)"
      ]
     },
     "execution_count": 166,
     "metadata": {},
     "output_type": "execute_result"
    }
   ],
   "source": [
    "max(Y_train), max(Y_test)"
   ]
  },
  {
   "cell_type": "code",
   "execution_count": 194,
   "metadata": {
    "collapsed": true
   },
   "outputs": [],
   "source": [
    "def plot_model_history(model_history):\n",
    "    fig, axs = plt.subplots(1,2,figsize=(15,5))\n",
    "    # summarize history for accuracy\n",
    "    axs[0].plot(range(1,len(model_history.history['acc'])+1),model_history.history['acc'])\n",
    "    axs[0].plot(range(1,len(model_history.history['val_acc'])+1),model_history.history['val_acc'])\n",
    "    axs[0].set_title('Model Accuracy')\n",
    "    axs[0].set_ylabel('Accuracy')\n",
    "    axs[0].set_xlabel('Epoch')\n",
    "    axs[0].set_xticks(np.arange(1,len(model_history.history['acc'])+1),len(model_history.history['acc'])/10)\n",
    "    axs[0].legend(['train', 'val'], loc='best')\n",
    "    # summarize history for loss\n",
    "    axs[1].plot(range(1,len(model_history.history['loss'])+1),model_history.history['loss'])\n",
    "    axs[1].plot(range(1,len(model_history.history['val_loss'])+1),model_history.history['val_loss'])\n",
    "    axs[1].set_title('Model Loss')\n",
    "    axs[1].set_ylabel('Loss')\n",
    "    axs[1].set_xlabel('Epoch')\n",
    "    axs[1].set_xticks(np.arange(1,len(model_history.history['loss'])+1),len(model_history.history['loss'])/10)\n",
    "    axs[1].legend(['train', 'val'], loc='best')\n",
    "    plt.show()"
   ]
  },
  {
   "cell_type": "code",
   "execution_count": 191,
   "metadata": {},
   "outputs": [
    {
     "data": {
      "image/png": "[encoded data removed]",
      "text/plain": [
       "<matplotlib.figure.Figure at 0x1c2ce548d0>"
      ]
     },
     "metadata": {},
     "output_type": "display_data"
    }
   ],
   "source": [
    "plot_model_history(model_info)"
   ]
  },
  {
   "cell_type": "code",
   "execution_count": 201,
   "metadata": {},
   "outputs": [
    {
     "data": {
      "image/png": "[encoded data removed]",
      "text/plain": [
       "<matplotlib.figure.Figure at 0x1c150eaac8>"
      ]
     },
     "metadata": {},
     "output_type": "display_data"
    }
   ],
   "source": [
    "fig, ax = plt.subplots(figsize=(20, 10))\n",
    "# ax.scatter(np.asarray(newY_train),np.round(model.predict(np.asarray(newX_train))), s= 10)\n",
    "ax.scatter(Y_test,model.predict(X_test), s= 20)\n",
    "plt.xlabel('Target solubility classes')\n",
    "plt.ylabel('Predicted solubility classes')\n",
    "plt.title('Performance of final Model')\n",
    "lims = [\n",
    "    np.min([ax.get_xlim(), ax.get_ylim()]),  # min of both axes\n",
    "    np.max([ax.get_xlim(), ax.get_ylim()]),  # max of both axes\n",
    "]\n",
    "\n",
    "# now plot both limits against eachother\n",
    "ax.plot(lims, lims, 'k-', alpha=0.45, zorder=0)\n",
    "ax.set_aspect('equal')\n",
    "ax.set_xlim(lims)\n",
    "ax.set_ylim(lims)\n",
    "plt.show()"
   ]
  },
  {
   "cell_type": "code",
   "execution_count": 134,
   "metadata": {},
   "outputs": [
    {
     "data": {
      "text/plain": [
       "(2598, 1)"
      ]
     },
     "execution_count": 134,
     "metadata": {},
     "output_type": "execute_result"
    }
   ],
   "source": [
    "Y_train_predict = model.predict(X_train)\n",
    "Y_train_predict.shape"
   ]
  },
  {
   "cell_type": "code",
   "execution_count": 135,
   "metadata": {},
   "outputs": [],
   "source": [
    "Y_train_predict=np.reshape(Y_train_predict,(2598,))"
   ]
  },
  {
   "cell_type": "code",
   "execution_count": 141,
   "metadata": {},
   "outputs": [
    {
     "data": {
      "text/plain": [
       "(650, 1)"
      ]
     },
     "execution_count": 141,
     "metadata": {},
     "output_type": "execute_result"
    }
   ],
   "source": [
    "Y_test_predict = model.predict(X_test)\n",
    "Y_test_predict.shape"
   ]
  },
  {
   "cell_type": "code",
   "execution_count": 142,
   "metadata": {},
   "outputs": [],
   "source": [
    "Y_test_predict=np.reshape(Y_test_predict,(650,))"
   ]
  },
  {
   "cell_type": "code",
   "execution_count": 140,
   "metadata": {},
   "outputs": [
    {
     "data": {
      "text/plain": [
       "2495"
      ]
     },
     "execution_count": 140,
     "metadata": {},
     "output_type": "execute_result"
    }
   ],
   "source": [
    "dif = np.subtract(Y_train,Y_train_predict)\n",
    "tbd = []\n",
    "for i in range(len(dif)):\n",
    "    d = dif[i]\n",
    "    if abs(d)>3:\n",
    "        tbd.append(i)\n",
    "        \n",
    "newX_train=[]\n",
    "newY_train = []\n",
    "for i in range(len(X_train)):\n",
    "    if i not in tbd:\n",
    "        newX_train.append(X_train[i])\n",
    "        newY_train.append(Y_train[i])\n",
    "        \n",
    "len(newX_train)"
   ]
  },
  {
   "cell_type": "code",
   "execution_count": 143,
   "metadata": {},
   "outputs": [
    {
     "data": {
      "text/plain": [
       "515"
      ]
     },
     "execution_count": 143,
     "metadata": {},
     "output_type": "execute_result"
    }
   ],
   "source": [
    "dif = np.subtract(Y_test,Y_test_predict)\n",
    "tbd = []\n",
    "for i in range(len(dif)):\n",
    "    d = dif[i]\n",
    "    if (Y_test[i]==0 and Y_test_predict[i]>0) or (Y_test[i]>0 and Y_test_predict[i]==0) or abs(d)>12:\n",
    "        tbd.append(i)\n",
    "        \n",
    "\n",
    "newX_test=[]\n",
    "newY_test = []\n",
    "for i in range(len(X_test)):\n",
    "    if i not in tbd:\n",
    "        newX_test.append(X_test[i])\n",
    "        newY_test.append(Y_test[i])\n",
    "\n",
    "len(newY_test)"
   ]
  },
  {
   "cell_type": "code",
   "execution_count": 87,
   "metadata": {},
   "outputs": [
    {
     "data": {
      "text/plain": [
       "[0,\n",
       " 0,\n",
       " 1,\n",
       " 0,\n",
       " 0,\n",
       " 0,\n",
       " 4,\n",
       " 0,\n",
       " 0,\n",
       " 1,\n",
       " 0,\n",
       " 0,\n",
       " 0,\n",
       " 0,\n",
       " 0,\n",
       " 5,\n",
       " 0,\n",
       " 0,\n",
       " 0,\n",
       " 0,\n",
       " 0,\n",
       " 0,\n",
       " 0,\n",
       " 2,\n",
       " 0,\n",
       " 0,\n",
       " 0,\n",
       " 0,\n",
       " 1,\n",
       " 0,\n",
       " 0,\n",
       " 1,\n",
       " 5,\n",
       " 1,\n",
       " 0,\n",
       " 0,\n",
       " 0,\n",
       " 0,\n",
       " 0,\n",
       " 0,\n",
       " 0,\n",
       " 0,\n",
       " 0,\n",
       " 0,\n",
       " 0,\n",
       " 0,\n",
       " 0,\n",
       " 0,\n",
       " 0,\n",
       " 0,\n",
       " 1,\n",
       " 1,\n",
       " 0,\n",
       " 0,\n",
       " 0,\n",
       " 0,\n",
       " 0,\n",
       " 0,\n",
       " 0,\n",
       " 0,\n",
       " 0,\n",
       " 0,\n",
       " 0,\n",
       " 0,\n",
       " 0,\n",
       " 0,\n",
       " 0,\n",
       " 0,\n",
       " 0,\n",
       " 0,\n",
       " 13,\n",
       " 0,\n",
       " 0,\n",
       " 0,\n",
       " 0,\n",
       " 0,\n",
       " 0,\n",
       " 0,\n",
       " 0,\n",
       " 0,\n",
       " 2,\n",
       " 0,\n",
       " 0,\n",
       " 1,\n",
       " 0,\n",
       " 0,\n",
       " 0,\n",
       " 0,\n",
       " 0,\n",
       " 0,\n",
       " 0,\n",
       " 0,\n",
       " 0,\n",
       " 0,\n",
       " 0,\n",
       " 0,\n",
       " 0,\n",
       " 0,\n",
       " 0,\n",
       " 0,\n",
       " 0,\n",
       " 0,\n",
       " 0,\n",
       " 0,\n",
       " 0,\n",
       " 0,\n",
       " 0,\n",
       " 0,\n",
       " 0,\n",
       " 0,\n",
       " 0,\n",
       " 0,\n",
       " 0,\n",
       " 0,\n",
       " 0,\n",
       " 0,\n",
       " 0,\n",
       " 3,\n",
       " 0,\n",
       " 0,\n",
       " 0,\n",
       " 0,\n",
       " 0,\n",
       " 0,\n",
       " 0,\n",
       " 0,\n",
       " 0,\n",
       " 0,\n",
       " 0,\n",
       " 14,\n",
       " 0,\n",
       " 2,\n",
       " 0,\n",
       " 0,\n",
       " 0,\n",
       " 0,\n",
       " 0,\n",
       " 0,\n",
       " 0,\n",
       " 0,\n",
       " 0,\n",
       " 0,\n",
       " 0,\n",
       " 0,\n",
       " 0,\n",
       " 0,\n",
       " 0,\n",
       " 0,\n",
       " 0,\n",
       " 0,\n",
       " 0,\n",
       " 2,\n",
       " 0,\n",
       " 0,\n",
       " 0,\n",
       " 0,\n",
       " 0,\n",
       " 0,\n",
       " 0,\n",
       " 0,\n",
       " 0,\n",
       " 0,\n",
       " 0,\n",
       " 0,\n",
       " 0,\n",
       " 0,\n",
       " 0,\n",
       " 0,\n",
       " 0,\n",
       " 0,\n",
       " 0,\n",
       " 0,\n",
       " 0,\n",
       " 0,\n",
       " 0,\n",
       " 0,\n",
       " 1,\n",
       " 0,\n",
       " 0,\n",
       " 0,\n",
       " 0,\n",
       " 0,\n",
       " 0,\n",
       " 0,\n",
       " 25,\n",
       " 1,\n",
       " 0,\n",
       " 0,\n",
       " 0,\n",
       " 0,\n",
       " 0,\n",
       " 0,\n",
       " 0,\n",
       " 0,\n",
       " 0,\n",
       " 3,\n",
       " 0,\n",
       " 0,\n",
       " 0,\n",
       " 0,\n",
       " 0,\n",
       " 0,\n",
       " 0,\n",
       " 0,\n",
       " 13,\n",
       " 0,\n",
       " 21,\n",
       " 0,\n",
       " 0,\n",
       " 0,\n",
       " 1,\n",
       " 11,\n",
       " 0,\n",
       " 0,\n",
       " 1,\n",
       " 0,\n",
       " 0,\n",
       " 0,\n",
       " 0,\n",
       " 0,\n",
       " 1,\n",
       " 0,\n",
       " 6,\n",
       " 0,\n",
       " 0,\n",
       " 0,\n",
       " 0,\n",
       " 4,\n",
       " 0,\n",
       " 0,\n",
       " 0,\n",
       " 0,\n",
       " 0,\n",
       " 0,\n",
       " 0,\n",
       " 1,\n",
       " 0,\n",
       " 0,\n",
       " 0,\n",
       " 0,\n",
       " 0,\n",
       " 0,\n",
       " 0,\n",
       " 0,\n",
       " 0,\n",
       " 1,\n",
       " 0,\n",
       " 0,\n",
       " 0,\n",
       " 0,\n",
       " 0,\n",
       " 0,\n",
       " 0,\n",
       " 0,\n",
       " 0,\n",
       " 0,\n",
       " 0,\n",
       " 0,\n",
       " 0,\n",
       " 3,\n",
       " 0,\n",
       " 0,\n",
       " 0,\n",
       " 0,\n",
       " 0,\n",
       " 0,\n",
       " 0,\n",
       " 0,\n",
       " 0,\n",
       " 0,\n",
       " 0,\n",
       " 0,\n",
       " 0,\n",
       " 0,\n",
       " 0,\n",
       " 0,\n",
       " 0,\n",
       " 0,\n",
       " 0,\n",
       " 0,\n",
       " 0,\n",
       " 0,\n",
       " 0,\n",
       " 0,\n",
       " 0,\n",
       " 0,\n",
       " 0,\n",
       " 0,\n",
       " 4,\n",
       " 0,\n",
       " 0,\n",
       " 0,\n",
       " 0,\n",
       " 0,\n",
       " 0,\n",
       " 6,\n",
       " 0,\n",
       " 0,\n",
       " 3,\n",
       " 0,\n",
       " 0,\n",
       " 0,\n",
       " 1,\n",
       " 10,\n",
       " 0,\n",
       " 0,\n",
       " 0,\n",
       " 0,\n",
       " 0,\n",
       " 0,\n",
       " 0,\n",
       " 0,\n",
       " 0,\n",
       " 0,\n",
       " 0,\n",
       " 0,\n",
       " 0,\n",
       " 0,\n",
       " 0,\n",
       " 0,\n",
       " 0,\n",
       " 0,\n",
       " 0,\n",
       " 0,\n",
       " 0,\n",
       " 1,\n",
       " 0,\n",
       " 0,\n",
       " 0,\n",
       " 0,\n",
       " 0,\n",
       " 0,\n",
       " 0,\n",
       " 0,\n",
       " 0,\n",
       " 3,\n",
       " 0,\n",
       " 0,\n",
       " 9,\n",
       " 0,\n",
       " 1,\n",
       " 0,\n",
       " 0,\n",
       " 0,\n",
       " 0,\n",
       " 0,\n",
       " 0,\n",
       " 0,\n",
       " 0,\n",
       " 0,\n",
       " 0,\n",
       " 0,\n",
       " 0,\n",
       " 0,\n",
       " 6,\n",
       " 0,\n",
       " 0,\n",
       " 0,\n",
       " 0,\n",
       " 0,\n",
       " 0,\n",
       " 0,\n",
       " 0,\n",
       " 0,\n",
       " 0,\n",
       " 0,\n",
       " 0,\n",
       " 0,\n",
       " 0,\n",
       " 0,\n",
       " 3,\n",
       " 0,\n",
       " 0,\n",
       " 0,\n",
       " 0,\n",
       " 0,\n",
       " 0,\n",
       " 0,\n",
       " 0,\n",
       " 0,\n",
       " 0,\n",
       " 0,\n",
       " 0,\n",
       " 1,\n",
       " 0,\n",
       " 0,\n",
       " 0,\n",
       " 0,\n",
       " 0,\n",
       " 0,\n",
       " 0,\n",
       " 2,\n",
       " 0,\n",
       " 0,\n",
       " 1,\n",
       " 0,\n",
       " 0,\n",
       " 0,\n",
       " 0,\n",
       " 0,\n",
       " 0,\n",
       " 0,\n",
       " 0,\n",
       " 0,\n",
       " 0,\n",
       " 0,\n",
       " 0,\n",
       " 0,\n",
       " 0,\n",
       " 0,\n",
       " 0,\n",
       " 0,\n",
       " 0,\n",
       " 0,\n",
       " 0,\n",
       " 1,\n",
       " 3,\n",
       " 4,\n",
       " 0,\n",
       " 0,\n",
       " 0,\n",
       " 0,\n",
       " 0,\n",
       " 0,\n",
       " 0,\n",
       " 0,\n",
       " 1,\n",
       " 0,\n",
       " 0,\n",
       " 0,\n",
       " 0,\n",
       " 0,\n",
       " 0,\n",
       " 0,\n",
       " 0,\n",
       " 0,\n",
       " 0,\n",
       " 0,\n",
       " 0,\n",
       " 0,\n",
       " 0,\n",
       " 0,\n",
       " 0,\n",
       " 0,\n",
       " 0,\n",
       " 0,\n",
       " 1,\n",
       " 0,\n",
       " 0,\n",
       " 0,\n",
       " 0,\n",
       " 0,\n",
       " 0,\n",
       " 0,\n",
       " 8,\n",
       " 0,\n",
       " 0,\n",
       " 0,\n",
       " 0,\n",
       " 0,\n",
       " 0,\n",
       " 0,\n",
       " 0,\n",
       " 0,\n",
       " 0,\n",
       " 0,\n",
       " 0,\n",
       " 0,\n",
       " 0,\n",
       " 1,\n",
       " 0,\n",
       " 0,\n",
       " 0,\n",
       " 0,\n",
       " 0,\n",
       " 0,\n",
       " 2,\n",
       " 25,\n",
       " 0,\n",
       " 0,\n",
       " 0,\n",
       " 0,\n",
       " 0,\n",
       " 0,\n",
       " 0,\n",
       " 0,\n",
       " 0,\n",
       " 0,\n",
       " 0,\n",
       " 0,\n",
       " 0,\n",
       " 0,\n",
       " 0,\n",
       " 0,\n",
       " 0,\n",
       " 3,\n",
       " 0,\n",
       " 0,\n",
       " 0,\n",
       " 0,\n",
       " 0,\n",
       " 0,\n",
       " 0,\n",
       " 0,\n",
       " 0,\n",
       " 0,\n",
       " 0,\n",
       " 0,\n",
       " 0,\n",
       " 0,\n",
       " 0,\n",
       " 0,\n",
       " 4,\n",
       " 0,\n",
       " 0,\n",
       " 0,\n",
       " 0,\n",
       " 0,\n",
       " 0,\n",
       " 0,\n",
       " 0,\n",
       " 0,\n",
       " 0,\n",
       " 0,\n",
       " 0,\n",
       " 0,\n",
       " 0,\n",
       " 0,\n",
       " 0,\n",
       " 6,\n",
       " 0,\n",
       " 1,\n",
       " 0,\n",
       " 0,\n",
       " 0,\n",
       " 0,\n",
       " 0,\n",
       " 0,\n",
       " 0,\n",
       " 0,\n",
       " 0,\n",
       " 0,\n",
       " 3,\n",
       " 0,\n",
       " 0,\n",
       " 0,\n",
       " 0,\n",
       " 0,\n",
       " 0,\n",
       " 0,\n",
       " 0,\n",
       " 0,\n",
       " 0,\n",
       " 0,\n",
       " 0,\n",
       " 0,\n",
       " 0,\n",
       " 6,\n",
       " 0,\n",
       " 0,\n",
       " 0,\n",
       " 0,\n",
       " 0,\n",
       " 1,\n",
       " 0,\n",
       " 0,\n",
       " 0]"
      ]
     },
     "execution_count": 87,
     "metadata": {},
     "output_type": "execute_result"
    }
   ],
   "source": [
    "np.asarray(newX_train).tofile('X_train.csv')\n",
    "np.asarray(newY_train).tofile('Y_train.csv')\n",
    "np.asarray(newX_test).tofile('X_test.csv')\n",
    "np.asarray(newY_test).tofile('Y_test.csv')"
   ]
  },
  {
   "cell_type": "code",
   "execution_count": 205,
   "metadata": {},
   "outputs": [],
   "source": [
    "newX = []\n",
    "newX.extend(newX_train)\n",
    "newX.extend(newX_test)\n",
    "\n",
    "newY = []\n",
    "newY.extend(newY_train)\n",
    "newY.extend(newY_test)\n",
    "\n",
    "np.save('newX.npy',np.asarray(newX))\n",
    "np.save('newY.npy',np.asarray(newY))\n",
    "np.save('newX_train.npy',np.asarray(newX_train))\n",
    "np.save('newY_train.npy',np.asarray(newY_train))\n",
    "np.save('newX_test.npy',np.asarray(newX_test))\n",
    "np.save('newY_test.npy',np.asarray(newY_test))"
   ]
  },
  {
   "cell_type": "code",
   "execution_count": 202,
   "metadata": {},
   "outputs": [],
   "source": [
    "from sklearn.metrics import mean_squared_error\n",
    "mse = mean_squared_error(newY_test, np.round(model.predict(newX_test)))"
   ]
  },
  {
   "cell_type": "code",
   "execution_count": null,
   "metadata": {
    "collapsed": true
   },
   "outputs": [],
   "source": [
    "print(np.round(model.predict([val_data_lstm,val_data_mw])))"
   ]
  },
  {
   "cell_type": "code",
   "execution_count": 203,
   "metadata": {},
   "outputs": [
    {
     "data": {
      "text/plain": [
       "0.32964077669902914"
      ]
     },
     "execution_count": 203,
     "metadata": {},
     "output_type": "execute_result"
    }
   ],
   "source": [
    "mse*19/200"
   ]
  },
  {
   "cell_type": "code",
   "execution_count": null,
   "metadata": {
    "collapsed": true
   },
   "outputs": [],
   "source": [
    "mean_squared_error(target,np.round(model.predict([data_lstm,data_mw])))*19/200"
   ]
  },
  {
   "cell_type": "code",
   "execution_count": 204,
   "metadata": {},
   "outputs": [
    {
     "name": "stderr",
     "output_type": "stream",
     "text": [
      "/anaconda3/lib/python3.6/site-packages/sklearn/metrics/classification.py:1135: UndefinedMetricWarning: Precision and F-score are ill-defined and being set to 0.0 in labels with no predicted samples.\n",
      "  'precision', 'predicted', average, warn_for)\n",
      "/anaconda3/lib/python3.6/site-packages/sklearn/metrics/classification.py:1137: UndefinedMetricWarning: Recall and F-score are ill-defined and being set to 0.0 in labels with no true samples.\n",
      "  'recall', 'true', average, warn_for)\n"
     ]
    },
    {
     "data": {
      "text/plain": [
       "(0.94481584528279861, 0.95533980582524269, 0.94989196218187499, None)"
      ]
     },
     "execution_count": 204,
     "metadata": {},
     "output_type": "execute_result"
    }
   ],
   "source": [
    "import sklearn\n",
    "sklearn.metrics.precision_recall_fscore_support(newY_test, np.round(model.predict(newX_test)),average='weighted')"
   ]
  },
  {
   "cell_type": "code",
   "execution_count": null,
   "metadata": {
    "collapsed": true
   },
   "outputs": [],
   "source": []
  },
  {
   "cell_type": "code",
   "execution_count": null,
   "metadata": {
    "collapsed": true
   },
   "outputs": [],
   "source": []
  },
  {
   "cell_type": "code",
   "execution_count": null,
   "metadata": {
    "collapsed": true
   },
   "outputs": [],
   "source": []
  },
  {
   "cell_type": "code",
   "execution_count": null,
   "metadata": {
    "collapsed": true
   },
   "outputs": [],
   "source": []
  }
 ],
 "metadata": {
  "kernelspec": {
   "display_name": "Python 3",
   "language": "python",
   "name": "python3"
  },
  "language_info": {
   "codemirror_mode": {
    "name": "ipython",
    "version": 3
   },
   "file_extension": ".py",
   "mimetype": "text/x-python",
   "name": "python",
   "nbconvert_exporter": "python",
   "pygments_lexer": "ipython3",
   "version": "3.6.2"
  }
 },
 "nbformat": 4,
 "nbformat_minor": 2
}
