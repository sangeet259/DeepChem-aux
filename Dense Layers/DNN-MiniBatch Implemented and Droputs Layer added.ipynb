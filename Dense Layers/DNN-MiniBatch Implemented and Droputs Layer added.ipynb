{
 "cells": [
  {
   "cell_type": "raw",
   "metadata": {},
   "source": [
    "The last layer is ReLU!"
   ]
  },
  {
   "cell_type": "code",
   "execution_count": 1,
   "metadata": {},
   "outputs": [],
   "source": [
    "import torch\n",
    "import torch.nn as nn\n",
    "from torch.autograd import Variable\n",
    "import numpy as np\n",
    "import matplotlib.pyplot as plt\n",
    "\n",
    "from sklearn.model_selection import train_test_split"
   ]
  },
  {
   "cell_type": "code",
   "execution_count": 2,
   "metadata": {},
   "outputs": [],
   "source": [
    "X=np.load(\"X.npy\")\n",
    "Y=np.load(\"Y.npy\")"
   ]
  },
  {
   "cell_type": "code",
   "execution_count": 4,
   "metadata": {},
   "outputs": [],
   "source": [
    "X_train, X_test, Y_train, Y_test = train_test_split(X, Y, test_size=0.1, random_state=42)"
   ]
  },
  {
   "cell_type": "code",
   "execution_count": 5,
   "metadata": {},
   "outputs": [],
   "source": [
    "input_size = 100\n",
    "hidden_size = 200\n",
    "num_classes = 500\n",
    "num_epochs = 5\n",
    "batch_size = 100\n",
    "learning_rate = 0.0001"
   ]
  },
  {
   "cell_type": "code",
   "execution_count": 6,
   "metadata": {},
   "outputs": [],
   "source": [
    "class Net(nn.Module):\n",
    "    def __init__(self, input_size, hidden_size, num_classes):\n",
    "        super(Net, self).__init__()\n",
    "        self.fc1 = nn.Linear(input_size, hidden_size) \n",
    "        self.relu = nn.ReLU()\n",
    "        self.fc2 = nn.Linear(hidden_size, num_classes)\n",
    "        self.dropout = nn.Dropout(p=.4)\n",
    "    \n",
    "    def forward(self, x):\n",
    "        out = self.fc1(x)\n",
    "        out = self.dropout(out)\n",
    "        out = self.relu(out)\n",
    "        out = self.fc2(out)\n",
    "        out = self.relu(out)\n",
    "        return out"
   ]
  },
  {
   "cell_type": "code",
   "execution_count": 7,
   "metadata": {},
   "outputs": [],
   "source": [
    "model = Net(input_size,hidden_size,num_classes)\n",
    "model.cuda()\n",
    "criterion = nn.CrossEntropyLoss()  \n",
    "optimizer = torch.optim.Adam(model.parameters(), lr=learning_rate)"
   ]
  },
  {
   "cell_type": "code",
   "execution_count": 9,
   "metadata": {},
   "outputs": [
    {
     "data": {
      "text/plain": [
       "293"
      ]
     },
     "execution_count": 9,
     "metadata": {},
     "output_type": "execute_result"
    }
   ],
   "source": [
    "X_train.shape[0]//10"
   ]
  },
  {
   "cell_type": "code",
   "execution_count": 10,
   "metadata": {},
   "outputs": [
    {
     "data": {
      "text/plain": [
       "(2936,)"
      ]
     },
     "execution_count": 10,
     "metadata": {},
     "output_type": "execute_result"
    }
   ],
   "source": [
    "Y_train.shape"
   ]
  },
  {
   "cell_type": "code",
   "execution_count": 11,
   "metadata": {},
   "outputs": [],
   "source": [
    "epochs = 1000"
   ]
  },
  {
   "cell_type": "code",
   "execution_count": 13,
   "metadata": {},
   "outputs": [
    {
     "data": {
      "text/plain": [
       "(2930, 100)"
      ]
     },
     "execution_count": 13,
     "metadata": {},
     "output_type": "execute_result"
    }
   ],
   "source": [
    "X_train[:-6].shape"
   ]
  },
  {
   "cell_type": "code",
   "execution_count": 14,
   "metadata": {},
   "outputs": [
    {
     "name": "stdout",
     "output_type": "stream",
     "text": [
      "10 : 1.9487292766571045\n",
      "20 : 1.9371833801269531\n",
      "30 : 1.9519903659820557\n",
      "40 : 1.804044485092163\n",
      "50 : 2.133953809738159\n",
      "60 : 2.2504703998565674\n",
      "70 : 1.9855839014053345\n",
      "80 : 1.5686806440353394\n",
      "90 : 1.5845364332199097\n",
      "100 : 1.6748218536376953\n",
      "110 : 1.756394624710083\n",
      "120 : 1.8751875162124634\n",
      "130 : 1.6740293502807617\n",
      "140 : 1.7810783386230469\n",
      "150 : 1.8121726512908936\n",
      "160 : 1.673094391822815\n",
      "170 : 1.5088783502578735\n",
      "180 : 1.7905080318450928\n",
      "190 : 1.8641427755355835\n",
      "200 : 1.7346950769424438\n",
      "210 : 1.6917330026626587\n",
      "220 : 1.3419077396392822\n",
      "230 : 2.022068977355957\n",
      "240 : 1.6388171911239624\n",
      "250 : 1.6291544437408447\n",
      "260 : 1.8542896509170532\n",
      "270 : 1.8274052143096924\n",
      "280 : 1.7875665426254272\n",
      "290 : 1.587560772895813\n",
      "300 : 1.7024551630020142\n",
      "310 : 1.7503461837768555\n",
      "320 : 1.7545913457870483\n",
      "330 : 1.714766263961792\n",
      "340 : 1.4150859117507935\n",
      "350 : 1.9452095031738281\n",
      "360 : 1.2383304834365845\n",
      "370 : 1.4364306926727295\n",
      "380 : 1.7348623275756836\n",
      "390 : 1.5328106880187988\n",
      "400 : 1.3418476581573486\n",
      "410 : 1.5693708658218384\n",
      "420 : 1.4587920904159546\n",
      "430 : 1.3740934133529663\n",
      "440 : 1.3401659727096558\n",
      "450 : 1.528998851776123\n",
      "460 : 1.2595455646514893\n",
      "470 : 1.432920217514038\n",
      "480 : 1.4521067142486572\n",
      "490 : 1.5626325607299805\n",
      "500 : 1.9039709568023682\n",
      "510 : 1.2583259344100952\n",
      "520 : 1.5302029848098755\n",
      "530 : 1.8600136041641235\n",
      "540 : 1.6019487380981445\n",
      "550 : 1.9023727178573608\n",
      "560 : 1.3167140483856201\n",
      "570 : 1.4900139570236206\n",
      "580 : 1.2887024879455566\n",
      "590 : 1.0894476175308228\n",
      "600 : 1.5348025560379028\n",
      "610 : 1.6414552927017212\n",
      "620 : 1.3811589479446411\n",
      "630 : 1.0325615406036377\n",
      "640 : 1.4323079586029053\n",
      "650 : 1.6134099960327148\n",
      "660 : 1.5965940952301025\n",
      "670 : 1.1392853260040283\n",
      "680 : 1.39322030544281\n",
      "690 : 1.3282395601272583\n",
      "700 : 1.0578796863555908\n",
      "710 : 1.6344728469848633\n",
      "720 : 1.265870451927185\n",
      "730 : 1.2406686544418335\n",
      "740 : 1.1086547374725342\n",
      "750 : 1.333064317703247\n",
      "760 : 1.7289613485336304\n",
      "770 : 1.0072567462921143\n",
      "780 : 1.5182121992111206\n",
      "790 : 1.7896639108657837\n",
      "800 : 1.0266709327697754\n",
      "810 : 1.7969658374786377\n",
      "820 : 1.6064484119415283\n",
      "830 : 1.9412353038787842\n",
      "840 : 1.2891559600830078\n",
      "850 : 1.5220303535461426\n",
      "860 : 1.628766655921936\n",
      "870 : 1.8661267757415771\n",
      "880 : 0.9547688364982605\n",
      "890 : 1.384820818901062\n",
      "900 : 1.8827505111694336\n",
      "910 : 1.3265269994735718\n",
      "920 : 1.8134746551513672\n",
      "930 : 1.2061858177185059\n",
      "940 : 1.129122257232666\n",
      "950 : 1.0525245666503906\n",
      "960 : 1.6764377355575562\n",
      "970 : 1.463937520980835\n",
      "980 : 1.205744981765747\n",
      "990 : 1.0442163944244385\n",
      "1000 : 1.1639341115951538\n"
     ]
    }
   ],
   "source": [
    "# test\n",
    "losses=[]\n",
    "dev_set_loss=[]\n",
    "for epoch in range(epochs):\n",
    "    \n",
    "    epoch +=1\n",
    "    for x,y in zip(np.split(X_train[:-6],X_train.shape[0]//10,axis=0),np.split(Y_train[:-6],Y_train.shape[0]//10,axis=0)):\n",
    "        \n",
    "        x=torch.from_numpy(x)\n",
    "        y=torch.from_numpy(y)\n",
    "\n",
    "        inputs = Variable(x.type(torch.cuda.FloatTensor))\n",
    "        labels = Variable(y.type(torch.cuda.LongTensor))\n",
    "\n",
    "        #clear grads\n",
    "        optimizer.zero_grad()\n",
    "        #forward to get predicted values\n",
    "        outputs = model.forward(inputs)\n",
    "        loss = criterion(outputs, labels)\n",
    "\n",
    "#         # let's check the state of dev set\n",
    "        \n",
    "#         inputs_dev = Variable(torch.from_numpy(X_dev).type(torch.cuda.FloatTensor))\n",
    "#         labels_dev = Variable(torch.from_numpy(Y_dev).type(torch.cuda.LongTensor))\n",
    "        \n",
    "#         outputs_dev=model.forward(inputs_dev)\n",
    "        \n",
    "#         dev_set_loss.append(criterion(outputs_dev,labels_dev))\n",
    "\n",
    "\n",
    "        losses.append(float(loss))\n",
    "        loss.backward()# back props\n",
    "        optimizer.step()# update the parameters\n",
    "    if(epoch%10 == 0):\n",
    "        print(\"{} : {}\".format(epoch,float(loss)))"
   ]
  },
  {
   "cell_type": "markdown",
   "metadata": {},
   "source": [
    "## Evaluate the performance on the training data"
   ]
  },
  {
   "cell_type": "code",
   "execution_count": 15,
   "metadata": {},
   "outputs": [
    {
     "name": "stdout",
     "output_type": "stream",
     "text": [
      "The train accuracy is 84.53678474114442\n"
     ]
    }
   ],
   "source": [
    "# X_train and Y_train\n",
    "model_pred=model(Variable(torch.from_numpy(X_train).type(torch.cuda.FloatTensor)))\n",
    "\n",
    "train_correct=0\n",
    "Y_train_pred=[]\n",
    "total_train_compounds=len(Y_train)\n",
    "for i,train_compound in enumerate(model_pred):\n",
    "    \n",
    "    \n",
    "    max_,max_index=torch.max(train_compound,0)\n",
    "    Y_train_pred.append(int(max_index))\n",
    "    if (int(max_index)==Y_train[i]):\n",
    "        train_correct+=1\n",
    "\n",
    "print(\"The train accuracy is {}\".format((train_correct/total_train_compounds)*100))"
   ]
  },
  {
   "cell_type": "markdown",
   "metadata": {},
   "source": [
    "## Evaluate the model on the testing data"
   ]
  },
  {
   "cell_type": "code",
   "execution_count": 16,
   "metadata": {},
   "outputs": [
    {
     "name": "stdout",
     "output_type": "stream",
     "text": [
      "The test accuracy is 71.55963302752293\n"
     ]
    }
   ],
   "source": [
    "# X_test and Y_test\n",
    "model_pred_test=model(Variable(torch.from_numpy(X_test).type(torch.cuda.FloatTensor)))\n",
    "\n",
    "# The test accuracy\n",
    "test_correct=0\n",
    "Y_test_pred=[]\n",
    "total_test_compounds=len(Y_test)\n",
    "for i,test_compound in enumerate(model_pred_test):\n",
    "    \n",
    "    \n",
    "    max_,max_index=torch.max(test_compound,0)\n",
    "    Y_test_pred.append(int(max_index))\n",
    "    if (int(max_index)==Y_test[i]):\n",
    "        test_correct+=1\n",
    "\n",
    "print(\"The test accuracy is {}\".format((test_correct/total_test_compounds)*100))"
   ]
  },
  {
   "cell_type": "code",
   "execution_count": 17,
   "metadata": {},
   "outputs": [],
   "source": [
    "import matplotlib.pyplot as plt\n",
    "%matplotlib inline"
   ]
  },
  {
   "cell_type": "code",
   "execution_count": 18,
   "metadata": {
    "scrolled": true
   },
   "outputs": [],
   "source": [
    "## Saved , uncomment the below line if you want to save it\n",
    "# np.save(\"Y_test\",Y_test)\n",
    "# np.save(\"Y_test_pred.npy\",np.array(Y_test_pred))"
   ]
  },
  {
   "cell_type": "code",
   "execution_count": 19,
   "metadata": {},
   "outputs": [
    {
     "data": {
      "text/plain": [
       "[<matplotlib.lines.Line2D at 0x7f1a6d288668>]"
      ]
     },
     "execution_count": 19,
     "metadata": {},
     "output_type": "execute_result"
    },
    {
     "data": {
      "image/png": "[encoded data removed]",
      "text/plain": [
       "<matplotlib.figure.Figure at 0x7f1ab93b8d30>"
      ]
     },
     "metadata": {},
     "output_type": "display_data"
    }
   ],
   "source": [
    "plt.plot(Y_test_pred)"
   ]
  },
  {
   "cell_type": "code",
   "execution_count": 20,
   "metadata": {},
   "outputs": [],
   "source": [
    "## For the entire dataset"
   ]
  },
  {
   "cell_type": "code",
   "execution_count": 21,
   "metadata": {},
   "outputs": [
    {
     "name": "stdout",
     "output_type": "stream",
     "text": [
      "The total accuracy is 83.69598528961079\n"
     ]
    }
   ],
   "source": [
    "#X and Y\n",
    "model_pred=model(Variable(torch.from_numpy(X).type(torch.cuda.FloatTensor)))\n",
    "correct=0\n",
    "Y_pred=[]\n",
    "total_compounds=len(Y)\n",
    "for i,compound in enumerate(model_pred):\n",
    "    \n",
    "    \n",
    "    max_,max_index=torch.max(compound,0)\n",
    "    Y_pred.append(int(max_index))\n",
    "    if (int(max_index)==Y[i]):\n",
    "        correct+=1\n",
    "\n",
    "print(\"The total accuracy is {}\".format((correct/total_compounds)*100))"
   ]
  },
  {
   "cell_type": "code",
   "execution_count": 22,
   "metadata": {
    "scrolled": true
   },
   "outputs": [
    {
     "data": {
      "text/plain": [
       "[<matplotlib.lines.Line2D at 0x7f1a6d2041d0>]"
      ]
     },
     "execution_count": 22,
     "metadata": {},
     "output_type": "execute_result"
    },
    {
     "data": {
      "image/png": "[encoded data removed]",
      "text/plain": [
       "<matplotlib.figure.Figure at 0x7f1a6d249eb8>"
      ]
     },
     "metadata": {},
     "output_type": "display_data"
    }
   ],
   "source": [
    "plt.plot(Y_pred)"
   ]
  }
 ],
 "metadata": {
  "kernelspec": {
   "display_name": "Python 3",
   "language": "python",
   "name": "python3"
  },
  "language_info": {
   "codemirror_mode": {
    "name": "ipython",
    "version": 3
   },
   "file_extension": ".py",
   "mimetype": "text/x-python",
   "name": "python",
   "nbconvert_exporter": "python",
   "pygments_lexer": "ipython3",
   "version": "3.5.2"
  }
 },
 "nbformat": 4,
 "nbformat_minor": 2
}
