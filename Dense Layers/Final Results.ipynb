{
 "cells": [
  {
   "cell_type": "markdown",
   "metadata": {
    "collapsed": true
   },
   "source": [
    "# Final Results - EUCHEMS 2018"
   ]
  },
  {
   "cell_type": "code",
   "execution_count": 1,
   "metadata": {},
   "outputs": [
    {
     "name": "stderr",
     "output_type": "stream",
     "text": [
      "Using TensorFlow backend.\n"
     ]
    }
   ],
   "source": [
    "from sklearn.utils import class_weight\n",
    "\n",
    "from sklearn.model_selection import train_test_split\n",
    "import numpy as np\n",
    "from keras.models import Sequential\n",
    "from keras.layers import Dense,Merge,Flatten,Dropout\n",
    "from keras.layers import Conv1D,Reshape\n",
    "from keras.layers import LSTM\n",
    "import keras\n",
    "\n",
    "# For the plots \n",
    "import matplotlib.pyplot as plt\n",
    "\n",
    "# For controlling the training parameters in the midst of training itself\n",
    "from keras.callbacks import ModelCheckpoint,EarlyStopping, ReduceLROnPlateau\n",
    "\n",
    "# For creating directory to save the models\n",
    "import os\n",
    "from imblearn.over_sampling import SMOTE\n",
    "\n",
    "from sklearn.utils import class_weight\n",
    "\n",
    "from keras.utils.np_utils import to_categorical   \n",
    "\n",
    "\n",
    "import turicreate as tc\n"
   ]
  },
  {
   "cell_type": "code",
   "execution_count": 17,
   "metadata": {},
   "outputs": [],
   "source": [
    "# Load the data\n",
    "X = np.load(\"X_reg.npy\")\n",
    "Y = np.load(\"Y_reg.npy\")\n",
    "\n",
    "Y = np.log10(Y)\n",
    "\n",
    "\n",
    "from sklearn.preprocessing import RobustScaler\n",
    "\n",
    "sc_y = RobustScaler().fit(Y.reshape(-1, 1))\n",
    "Y = sc_y.transform(Y.reshape(-1, 1))\n",
    "Y = Y.reshape(-1,)"
   ]
  },
  {
   "cell_type": "code",
   "execution_count": 18,
   "metadata": {},
   "outputs": [
    {
     "data": {
      "text/html": [
       "<pre>Materializing SArray...</pre>"
      ],
      "text/plain": [
       "Materializing SArray..."
      ]
     },
     "metadata": {},
     "output_type": "display_data"
    },
    {
     "data": {
      "text/html": [
       "<pre>Done.</pre>"
      ],
      "text/plain": [
       "Done."
      ]
     },
     "metadata": {},
     "output_type": "display_data"
    },
    {
     "data": {
      "text/html": [
       "<html>                 <body>                     <iframe style=\"border:0;margin:0\" width=\"800\" height=\"620\" srcdoc='<html lang=\"en\">                         <head>                             <script src=\"https://cdnjs.cloudflare.com/ajax/libs/vega/3.0.8/vega.js\"></script>                             <script src=\"https://cdnjs.cloudflare.com/ajax/libs/vega-embed/3.0.0-rc7/vega-embed.js\"></script>                             <script src=\"https://cdnjs.cloudflare.com/ajax/libs/vega-tooltip/0.5.1/vega-tooltip.min.js\"></script>                             <link rel=\"stylesheet\" type=\"text/css\" href=\"https://cdnjs.cloudflare.com/ajax/libs/vega-tooltip/0.5.1/vega-tooltip.min.css\">                             <style>                             .vega-actions > a{                                 color:white;                                 text-decoration: none;                                 font-family: \"Arial\";                                 cursor:pointer;                                 padding:5px;                                 background:#AAAAAA;                                 border-radius:4px;                                 padding-left:10px;                                 padding-right:10px;                                 margin-right:5px;                             }                             .vega-actions{                                 margin-top:20px;                                 text-align:center                             }                            .vega-actions > a{                                 background:#999999;                            }                             </style>                         </head>                         <body>                             <div id=\"vis\">                             </div>                             <script>                                 var vega_json = \"{\\\"$schema\\\": \\\"https://vega.github.io/schema/vega/v3.0.json\\\", \\\"description\\\": \\\"A simple bar chart with embedded data.\\\", \\\"autosize\\\": \\\"pad\\\", \\\"padding\\\": 5, \\\"width\\\": 600, \\\"height\\\": 400, \\\"title\\\": {\\\"text\\\": \\\"Distribution of Values [float]\\\", \\\"offset\\\": 30}, \\\"style\\\": \\\"cell\\\", \\\"data\\\": [{\\\"name\\\": \\\"source_2\\\", \\\"values\\\": [{\\\"left\\\": -4.02614, \\\"right\\\": -3.74488, \\\"count\\\": 1}, {\\\"left\\\": -3.74488, \\\"right\\\": -3.46362, \\\"count\\\": 1}, {\\\"left\\\": -3.46362, \\\"right\\\": -3.18236, \\\"count\\\": 3}, {\\\"left\\\": -3.18236, \\\"right\\\": -2.9011, \\\"count\\\": 5}, {\\\"left\\\": -2.9011, \\\"right\\\": -2.61984, \\\"count\\\": 9}, {\\\"left\\\": -2.61984, \\\"right\\\": -2.33858, \\\"count\\\": 16}, {\\\"left\\\": -2.33858, \\\"right\\\": -2.05732, \\\"count\\\": 36}, {\\\"left\\\": -2.05732, \\\"right\\\": -1.77606, \\\"count\\\": 60}, {\\\"left\\\": -1.77606, \\\"right\\\": -1.4948, \\\"count\\\": 71}, {\\\"left\\\": -1.4948, \\\"right\\\": -1.21354, \\\"count\\\": 109}, {\\\"left\\\": -1.21354, \\\"right\\\": -0.93228, \\\"count\\\": 133}, {\\\"left\\\": -0.93228, \\\"right\\\": -0.65102, \\\"count\\\": 249}, {\\\"left\\\": -0.65102, \\\"right\\\": -0.36976, \\\"count\\\": 306}, {\\\"left\\\": -0.36976, \\\"right\\\": -0.0884994, \\\"count\\\": 440}, {\\\"left\\\": -0.0884994, \\\"right\\\": 0.192761, \\\"count\\\": 507}, {\\\"left\\\": 0.192761, \\\"right\\\": 0.474021, \\\"count\\\": 467}, {\\\"left\\\": 0.474021, \\\"right\\\": 0.755282, \\\"count\\\": 368}, {\\\"left\\\": 0.755282, \\\"right\\\": 1.03654, \\\"count\\\": 226}, {\\\"left\\\": 1.03654, \\\"right\\\": 1.3178, \\\"count\\\": 196}, {\\\"left\\\": 1.3178, \\\"right\\\": 1.59906, \\\"count\\\": 22}], \\\"progress\\\": 100.0}, {\\\"name\\\": \\\"data_0\\\", \\\"source\\\": \\\"source_2\\\", \\\"transform\\\": [{\\\"type\\\": \\\"formula\\\", \\\"expr\\\": \\\"toNumber(datum[\\\\\\\"left\\\\\\\"])\\\", \\\"as\\\": \\\"left\\\"}, {\\\"type\\\": \\\"formula\\\", \\\"expr\\\": \\\"toNumber(datum[\\\\\\\"right\\\\\\\"])\\\", \\\"as\\\": \\\"right\\\"}, {\\\"type\\\": \\\"formula\\\", \\\"expr\\\": \\\"toNumber(datum[\\\\\\\"count\\\\\\\"])\\\", \\\"as\\\": \\\"count\\\"}, {\\\"type\\\": \\\"filter\\\", \\\"expr\\\": \\\"datum[\\\\\\\"left\\\\\\\"] !== null && !isNaN(datum[\\\\\\\"left\\\\\\\"]) && datum[\\\\\\\"count\\\\\\\"] !== null && !isNaN(datum[\\\\\\\"count\\\\\\\"])\\\"}]}], \\\"marks\\\": [{\\\"name\\\": \\\"marks\\\", \\\"type\\\": \\\"rect\\\", \\\"style\\\": [\\\"rect\\\"], \\\"from\\\": {\\\"data\\\": \\\"data_0\\\"}, \\\"encode\\\": {\\\"hover\\\": {\\\"fill\\\": {\\\"value\\\": \\\"#7EC2F3\\\"}}, \\\"update\\\": {\\\"x\\\": {\\\"scale\\\": \\\"x\\\", \\\"field\\\": \\\"left\\\"}, \\\"x2\\\": {\\\"scale\\\": \\\"x\\\", \\\"field\\\": \\\"right\\\"}, \\\"y\\\": {\\\"scale\\\": \\\"y\\\", \\\"field\\\": \\\"count\\\"}, \\\"y2\\\": {\\\"scale\\\": \\\"y\\\", \\\"value\\\": 0}, \\\"fill\\\": {\\\"value\\\": \\\"#108EE9\\\"}}}}], \\\"scales\\\": [{\\\"name\\\": \\\"x\\\", \\\"type\\\": \\\"linear\\\", \\\"domain\\\": {\\\"data\\\": \\\"data_0\\\", \\\"fields\\\": [\\\"left\\\", \\\"right\\\"], \\\"sort\\\": true}, \\\"range\\\": [0, {\\\"signal\\\": \\\"width\\\"}], \\\"nice\\\": true, \\\"zero\\\": false}, {\\\"name\\\": \\\"y\\\", \\\"type\\\": \\\"linear\\\", \\\"domain\\\": {\\\"data\\\": \\\"data_0\\\", \\\"field\\\": \\\"count\\\"}, \\\"range\\\": [{\\\"signal\\\": \\\"height\\\"}, 0], \\\"nice\\\": true, \\\"zero\\\": true}], \\\"axes\\\": [{\\\"title\\\": \\\"Values\\\", \\\"scale\\\": \\\"x\\\", \\\"labelOverlap\\\": true, \\\"orient\\\": \\\"bottom\\\", \\\"tickCount\\\": {\\\"signal\\\": \\\"ceil(width/40)\\\"}, \\\"zindex\\\": 1}, {\\\"scale\\\": \\\"x\\\", \\\"domain\\\": false, \\\"grid\\\": true, \\\"labels\\\": false, \\\"maxExtent\\\": 0, \\\"minExtent\\\": 0, \\\"orient\\\": \\\"bottom\\\", \\\"tickCount\\\": {\\\"signal\\\": \\\"ceil(width/40)\\\"}, \\\"ticks\\\": false, \\\"zindex\\\": 0, \\\"gridScale\\\": \\\"y\\\"}, {\\\"title\\\": \\\"Count\\\", \\\"scale\\\": \\\"y\\\", \\\"labelOverlap\\\": true, \\\"orient\\\": \\\"left\\\", \\\"tickCount\\\": {\\\"signal\\\": \\\"ceil(height/40)\\\"}, \\\"zindex\\\": 1}, {\\\"scale\\\": \\\"y\\\", \\\"domain\\\": false, \\\"grid\\\": true, \\\"labels\\\": false, \\\"maxExtent\\\": 0, \\\"minExtent\\\": 0, \\\"orient\\\": \\\"left\\\", \\\"tickCount\\\": {\\\"signal\\\": \\\"ceil(height/40)\\\"}, \\\"ticks\\\": false, \\\"zindex\\\": 0, \\\"gridScale\\\": \\\"x\\\"}], \\\"config\\\": {\\\"axis\\\": {\\\"labelFont\\\": \\\"HelveticaNeue, Arial\\\", \\\"labelFontSize\\\": 12, \\\"labelPadding\\\": 10, \\\"labelColor\\\": \\\"rgba(0,0,0,0.65)\\\", \\\"titleFont\\\": \\\"HelveticaNeue-Medium, Arial\\\", \\\"titleFontWeight\\\": \\\"normal\\\", \\\"titlePadding\\\": 30, \\\"titleFontSize\\\": 15, \\\"titleColor\\\": \\\"rgba(0,0,0,0.65)\\\"}, \\\"axisY\\\": {\\\"minExtent\\\": 30}, \\\"style\\\": {\\\"rect\\\": {\\\"stroke\\\": \\\"rgba(200, 200, 200, 0.5)\\\"}, \\\"group-title\\\": {\\\"fontSize\\\": 29, \\\"font\\\": \\\"HelveticaNeue, Arial\\\", \\\"fontWeight\\\": \\\"normal\\\", \\\"fill\\\": \\\"rgba(0,0,0,0.65)\\\"}}}}\";                                 var vega_json_parsed = JSON.parse(vega_json);                                 var toolTipOpts = {                                     showAllFields: true                                 };                                 if(vega_json_parsed[\"metadata\"] != null){                                     if(vega_json_parsed[\"metadata\"][\"bubbleOpts\"] != null){                                         toolTipOpts = vega_json_parsed[\"metadata\"][\"bubbleOpts\"];                                     };                                 };                                 vegaEmbed(\"#vis\", vega_json_parsed).then(function (result) {                                     vegaTooltip.vega(result.view, toolTipOpts);                                  });                             </script>                         </body>                     </html>' src=\"demo_iframe_srcdoc.htm\">                         <p>Your browser does not support iframes.</p>                     </iframe>                 </body>             </html>"
      ],
      "text/plain": [
       "<IPython.core.display.HTML object>"
      ]
     },
     "metadata": {},
     "output_type": "display_data"
    }
   ],
   "source": [
    "SY =  tc.SArray(Y)\n",
    "SY.show()"
   ]
  },
  {
   "cell_type": "markdown",
   "metadata": {},
   "source": [
    "# Normal Regression"
   ]
  },
  {
   "cell_type": "code",
   "execution_count": 19,
   "metadata": {
    "collapsed": true
   },
   "outputs": [],
   "source": [
    "X_train, X_test, Y_train, Y_test = train_test_split(X, Y, test_size=0.2, random_state=42)"
   ]
  },
  {
   "cell_type": "code",
   "execution_count": 20,
   "metadata": {},
   "outputs": [
    {
     "name": "stdout",
     "output_type": "stream",
     "text": [
      "PROGRESS: Creating a validation set from 5 percent of training data. This may take a while.\n",
      "          You can set ``validation_set=None`` to disable validation tracking.\n",
      "\n"
     ]
    },
    {
     "data": {
      "text/html": [
       "<pre>Boosted trees regression:</pre>"
      ],
      "text/plain": [
       "Boosted trees regression:"
      ]
     },
     "metadata": {},
     "output_type": "display_data"
    },
    {
     "data": {
      "text/html": [
       "<pre>--------------------------------------------------------</pre>"
      ],
      "text/plain": [
       "--------------------------------------------------------"
      ]
     },
     "metadata": {},
     "output_type": "display_data"
    },
    {
     "data": {
      "text/html": [
       "<pre>Number of examples          : 2431</pre>"
      ],
      "text/plain": [
       "Number of examples          : 2431"
      ]
     },
     "metadata": {},
     "output_type": "display_data"
    },
    {
     "data": {
      "text/html": [
       "<pre>Number of features          : 1</pre>"
      ],
      "text/plain": [
       "Number of features          : 1"
      ]
     },
     "metadata": {},
     "output_type": "display_data"
    },
    {
     "data": {
      "text/html": [
       "<pre>Number of unpacked features : 101</pre>"
      ],
      "text/plain": [
       "Number of unpacked features : 101"
      ]
     },
     "metadata": {},
     "output_type": "display_data"
    },
    {
     "data": {
      "text/html": [
       "<pre>+-----------+--------------+--------------------+----------------------+---------------+-----------------+</pre>"
      ],
      "text/plain": [
       "+-----------+--------------+--------------------+----------------------+---------------+-----------------+"
      ]
     },
     "metadata": {},
     "output_type": "display_data"
    },
    {
     "data": {
      "text/html": [
       "<pre>| Iteration | Elapsed Time | Training-max_error | Validation-max_error | Training-rmse | Validation-rmse |</pre>"
      ],
      "text/plain": [
       "| Iteration | Elapsed Time | Training-max_error | Validation-max_error | Training-rmse | Validation-rmse |"
      ]
     },
     "metadata": {},
     "output_type": "display_data"
    },
    {
     "data": {
      "text/html": [
       "<pre>+-----------+--------------+--------------------+----------------------+---------------+-----------------+</pre>"
      ],
      "text/plain": [
       "+-----------+--------------+--------------------+----------------------+---------------+-----------------+"
      ]
     },
     "metadata": {},
     "output_type": "display_data"
    },
    {
     "data": {
      "text/html": [
       "<pre>| 1         | 0.061553     | 3.943760           | 2.866671             | 0.773104      | 0.896174        |</pre>"
      ],
      "text/plain": [
       "| 1         | 0.061553     | 3.943760           | 2.866671             | 0.773104      | 0.896174        |"
      ]
     },
     "metadata": {},
     "output_type": "display_data"
    },
    {
     "data": {
      "text/html": [
       "<pre>| 2         | 0.099727     | 3.409814           | 2.427495             | 0.631243      | 0.753531        |</pre>"
      ],
      "text/plain": [
       "| 2         | 0.099727     | 3.409814           | 2.427495             | 0.631243      | 0.753531        |"
      ]
     },
     "metadata": {},
     "output_type": "display_data"
    },
    {
     "data": {
      "text/html": [
       "<pre>| 3         | 0.129405     | 2.790117           | 2.177829             | 0.531888      | 0.663813        |</pre>"
      ],
      "text/plain": [
       "| 3         | 0.129405     | 2.790117           | 2.177829             | 0.531888      | 0.663813        |"
      ]
     },
     "metadata": {},
     "output_type": "display_data"
    },
    {
     "data": {
      "text/html": [
       "<pre>| 4         | 0.167078     | 2.402244           | 2.128570             | 0.463117      | 0.613076        |</pre>"
      ],
      "text/plain": [
       "| 4         | 0.167078     | 2.402244           | 2.128570             | 0.463117      | 0.613076        |"
      ]
     },
     "metadata": {},
     "output_type": "display_data"
    },
    {
     "data": {
      "text/html": [
       "<pre>| 5         | 0.224479     | 1.970294           | 1.696620             | 0.417550      | 0.579956        |</pre>"
      ],
      "text/plain": [
       "| 5         | 0.224479     | 1.970294           | 1.696620             | 0.417550      | 0.579956        |"
      ]
     },
     "metadata": {},
     "output_type": "display_data"
    },
    {
     "data": {
      "text/html": [
       "<pre>| 6         | 0.266837     | 1.850266           | 1.627039             | 0.385336      | 0.556590        |</pre>"
      ],
      "text/plain": [
       "| 6         | 0.266837     | 1.850266           | 1.627039             | 0.385336      | 0.556590        |"
      ]
     },
     "metadata": {},
     "output_type": "display_data"
    },
    {
     "data": {
      "text/html": [
       "<pre>| 11        | 0.455263     | 1.240068           | 1.806008             | 0.291426      | 0.534672        |</pre>"
      ],
      "text/plain": [
       "| 11        | 0.455263     | 1.240068           | 1.806008             | 0.291426      | 0.534672        |"
      ]
     },
     "metadata": {},
     "output_type": "display_data"
    },
    {
     "data": {
      "text/html": [
       "<pre>| 25        | 1.116815     | 0.778141           | 1.657670             | 0.183050      | 0.535648        |</pre>"
      ],
      "text/plain": [
       "| 25        | 1.116815     | 0.778141           | 1.657670             | 0.183050      | 0.535648        |"
      ]
     },
     "metadata": {},
     "output_type": "display_data"
    },
    {
     "data": {
      "text/html": [
       "<pre>| 50        | 1.991158     | 0.522924           | 1.511157             | 0.081356      | 0.535441        |</pre>"
      ],
      "text/plain": [
       "| 50        | 1.991158     | 0.522924           | 1.511157             | 0.081356      | 0.535441        |"
      ]
     },
     "metadata": {},
     "output_type": "display_data"
    },
    {
     "data": {
      "text/html": [
       "<pre>| 51        | 2.027010     | 0.514737           | 1.512545             | 0.079624      | 0.535186        |</pre>"
      ],
      "text/plain": [
       "| 51        | 2.027010     | 0.514737           | 1.512545             | 0.079624      | 0.535186        |"
      ]
     },
     "metadata": {},
     "output_type": "display_data"
    },
    {
     "data": {
      "text/html": [
       "<pre>| 75        | 2.970585     | 0.235877           | 1.509503             | 0.038606      | 0.537663        |</pre>"
      ],
      "text/plain": [
       "| 75        | 2.970585     | 0.235877           | 1.509503             | 0.038606      | 0.537663        |"
      ]
     },
     "metadata": {},
     "output_type": "display_data"
    },
    {
     "data": {
      "text/html": [
       "<pre>| 100       | 3.989804     | 0.116853           | 1.516853             | 0.019401      | 0.538443        |</pre>"
      ],
      "text/plain": [
       "| 100       | 3.989804     | 0.116853           | 1.516853             | 0.019401      | 0.538443        |"
      ]
     },
     "metadata": {},
     "output_type": "display_data"
    },
    {
     "data": {
      "text/html": [
       "<pre>| 101       | 4.030787     | 0.116193           | 1.516498             | 0.018997      | 0.538531        |</pre>"
      ],
      "text/plain": [
       "| 101       | 4.030787     | 0.116193           | 1.516498             | 0.018997      | 0.538531        |"
      ]
     },
     "metadata": {},
     "output_type": "display_data"
    },
    {
     "data": {
      "text/html": [
       "<pre>| 125       | 4.849948     | 0.113506           | 1.526636             | 0.010498      | 0.538620        |</pre>"
      ],
      "text/plain": [
       "| 125       | 4.849948     | 0.113506           | 1.526636             | 0.010498      | 0.538620        |"
      ]
     },
     "metadata": {},
     "output_type": "display_data"
    },
    {
     "data": {
      "text/html": [
       "<pre>| 150       | 5.679410     | 0.112952           | 1.523113             | 0.005944      | 0.538056        |</pre>"
      ],
      "text/plain": [
       "| 150       | 5.679410     | 0.112952           | 1.523113             | 0.005944      | 0.538056        |"
      ]
     },
     "metadata": {},
     "output_type": "display_data"
    },
    {
     "data": {
      "text/html": [
       "<pre>| 175       | 6.521187     | 0.112620           | 1.522110             | 0.003999      | 0.538288        |</pre>"
      ],
      "text/plain": [
       "| 175       | 6.521187     | 0.112620           | 1.522110             | 0.003999      | 0.538288        |"
      ]
     },
     "metadata": {},
     "output_type": "display_data"
    },
    {
     "data": {
      "text/html": [
       "<pre>| 200       | 6.954929     | 0.112983           | 1.522116             | 0.003718      | 0.538244        |</pre>"
      ],
      "text/plain": [
       "| 200       | 6.954929     | 0.112983           | 1.522116             | 0.003718      | 0.538244        |"
      ]
     },
     "metadata": {},
     "output_type": "display_data"
    },
    {
     "data": {
      "text/html": [
       "<pre>| 225       | 7.260419     | 0.112983           | 1.522116             | 0.003718      | 0.538244        |</pre>"
      ],
      "text/plain": [
       "| 225       | 7.260419     | 0.112983           | 1.522116             | 0.003718      | 0.538244        |"
      ]
     },
     "metadata": {},
     "output_type": "display_data"
    },
    {
     "data": {
      "text/html": [
       "<pre>| 250       | 7.450807     | 0.112983           | 1.522116             | 0.003718      | 0.538244        |</pre>"
      ],
      "text/plain": [
       "| 250       | 7.450807     | 0.112983           | 1.522116             | 0.003718      | 0.538244        |"
      ]
     },
     "metadata": {},
     "output_type": "display_data"
    },
    {
     "data": {
      "text/html": [
       "<pre>| 275       | 7.651828     | 0.112983           | 1.522116             | 0.003718      | 0.538244        |</pre>"
      ],
      "text/plain": [
       "| 275       | 7.651828     | 0.112983           | 1.522116             | 0.003718      | 0.538244        |"
      ]
     },
     "metadata": {},
     "output_type": "display_data"
    },
    {
     "data": {
      "text/html": [
       "<pre>| 300       | 7.886050     | 0.112983           | 1.522116             | 0.003718      | 0.538244        |</pre>"
      ],
      "text/plain": [
       "| 300       | 7.886050     | 0.112983           | 1.522116             | 0.003718      | 0.538244        |"
      ]
     },
     "metadata": {},
     "output_type": "display_data"
    },
    {
     "data": {
      "text/html": [
       "<pre>| 325       | 8.083259     | 0.112983           | 1.522116             | 0.003718      | 0.538244        |</pre>"
      ],
      "text/plain": [
       "| 325       | 8.083259     | 0.112983           | 1.522116             | 0.003718      | 0.538244        |"
      ]
     },
     "metadata": {},
     "output_type": "display_data"
    },
    {
     "data": {
      "text/html": [
       "<pre>| 350       | 8.289112     | 0.112983           | 1.522116             | 0.003718      | 0.538244        |</pre>"
      ],
      "text/plain": [
       "| 350       | 8.289112     | 0.112983           | 1.522116             | 0.003718      | 0.538244        |"
      ]
     },
     "metadata": {},
     "output_type": "display_data"
    },
    {
     "data": {
      "text/html": [
       "<pre>| 375       | 8.620856     | 0.112983           | 1.522116             | 0.003718      | 0.538244        |</pre>"
      ],
      "text/plain": [
       "| 375       | 8.620856     | 0.112983           | 1.522116             | 0.003718      | 0.538244        |"
      ]
     },
     "metadata": {},
     "output_type": "display_data"
    },
    {
     "data": {
      "text/html": [
       "<pre>| 400       | 8.846033     | 0.112983           | 1.522116             | 0.003718      | 0.538244        |</pre>"
      ],
      "text/plain": [
       "| 400       | 8.846033     | 0.112983           | 1.522116             | 0.003718      | 0.538244        |"
      ]
     },
     "metadata": {},
     "output_type": "display_data"
    },
    {
     "data": {
      "text/html": [
       "<pre>| 425       | 9.057636     | 0.112983           | 1.522116             | 0.003718      | 0.538244        |</pre>"
      ],
      "text/plain": [
       "| 425       | 9.057636     | 0.112983           | 1.522116             | 0.003718      | 0.538244        |"
      ]
     },
     "metadata": {},
     "output_type": "display_data"
    },
    {
     "data": {
      "text/html": [
       "<pre>| 450       | 9.286366     | 0.112983           | 1.522116             | 0.003718      | 0.538244        |</pre>"
      ],
      "text/plain": [
       "| 450       | 9.286366     | 0.112983           | 1.522116             | 0.003718      | 0.538244        |"
      ]
     },
     "metadata": {},
     "output_type": "display_data"
    },
    {
     "data": {
      "text/html": [
       "<pre>| 475       | 9.484616     | 0.112983           | 1.522116             | 0.003718      | 0.538244        |</pre>"
      ],
      "text/plain": [
       "| 475       | 9.484616     | 0.112983           | 1.522116             | 0.003718      | 0.538244        |"
      ]
     },
     "metadata": {},
     "output_type": "display_data"
    },
    {
     "data": {
      "text/html": [
       "<pre>| 500       | 9.670836     | 0.112983           | 1.522116             | 0.003718      | 0.538244        |</pre>"
      ],
      "text/plain": [
       "| 500       | 9.670836     | 0.112983           | 1.522116             | 0.003718      | 0.538244        |"
      ]
     },
     "metadata": {},
     "output_type": "display_data"
    },
    {
     "data": {
      "text/html": [
       "<pre>| 501       | 9.679065     | 0.112983           | 1.522116             | 0.003718      | 0.538244        |</pre>"
      ],
      "text/plain": [
       "| 501       | 9.679065     | 0.112983           | 1.522116             | 0.003718      | 0.538244        |"
      ]
     },
     "metadata": {},
     "output_type": "display_data"
    },
    {
     "data": {
      "text/html": [
       "<pre>| 525       | 9.871493     | 0.112983           | 1.522116             | 0.003718      | 0.538244        |</pre>"
      ],
      "text/plain": [
       "| 525       | 9.871493     | 0.112983           | 1.522116             | 0.003718      | 0.538244        |"
      ]
     },
     "metadata": {},
     "output_type": "display_data"
    },
    {
     "data": {
      "text/html": [
       "<pre>| 550       | 10.047621    | 0.112983           | 1.522116             | 0.003718      | 0.538244        |</pre>"
      ],
      "text/plain": [
       "| 550       | 10.047621    | 0.112983           | 1.522116             | 0.003718      | 0.538244        |"
      ]
     },
     "metadata": {},
     "output_type": "display_data"
    },
    {
     "data": {
      "text/html": [
       "<pre>| 575       | 10.215798    | 0.112983           | 1.522116             | 0.003718      | 0.538244        |</pre>"
      ],
      "text/plain": [
       "| 575       | 10.215798    | 0.112983           | 1.522116             | 0.003718      | 0.538244        |"
      ]
     },
     "metadata": {},
     "output_type": "display_data"
    },
    {
     "data": {
      "text/html": [
       "<pre>| 600       | 10.388337    | 0.112983           | 1.522116             | 0.003718      | 0.538244        |</pre>"
      ],
      "text/plain": [
       "| 600       | 10.388337    | 0.112983           | 1.522116             | 0.003718      | 0.538244        |"
      ]
     },
     "metadata": {},
     "output_type": "display_data"
    },
    {
     "data": {
      "text/html": [
       "<pre>+-----------+--------------+--------------------+----------------------+---------------+-----------------+</pre>"
      ],
      "text/plain": [
       "+-----------+--------------+--------------------+----------------------+---------------+-----------------+"
      ]
     },
     "metadata": {},
     "output_type": "display_data"
    }
   ],
   "source": [
    "dataY_train =  tc.SArray(Y_train.tolist())\n",
    "dataX_train = tc.SArray(X_train.tolist())\n",
    "data_train = tc.SFrame()\n",
    "data_train = data_train.add_column(dataX_train,'X')\n",
    "data_train = data_train.add_column(dataY_train,'Soluble')\n",
    "\n",
    "dataY_test =  tc.SArray(Y_test.tolist())\n",
    "dataX_test = tc.SArray(X_test.tolist())\n",
    "data_test = tc.SFrame()\n",
    "data_test = data_test.add_column(dataX_test,'X')\n",
    "data_test = data_test.add_column(dataY_test,'Soluble')\n",
    "\n",
    "# train_data, test_data = data.random_split(0.8)\n",
    "\n",
    "reg_model = tc.boosted_trees_regression.create(data_train, target='Soluble',features = ['X'],max_iterations = 600)"
   ]
  },
  {
   "cell_type": "code",
   "execution_count": 108,
   "metadata": {},
   "outputs": [
    {
     "name": "stdout",
     "output_type": "stream",
     "text": [
      "R2:  0.63811093922\n",
      "Mean Absolute Error (in g/litre):  0.295532830283\n",
      "Root Mean Squared Error (in g/litre):  1.0847409913172246\n"
     ]
    }
   ],
   "source": [
    "# reg_model.evaluate(data_test)\n",
    "import sklearn\n",
    "from math import sqrt\n",
    "predictions = reg_model.predict(data_test)\n",
    "pred = predictions\n",
    "act = list(data_test['Soluble'])\n",
    "R2 = sklearn.metrics.r2_score(act, pred)\n",
    "print(\"R2: \",R2)\n",
    "\n",
    "r_act = sc_y.inverse_transform(np.array(act).reshape(-1, 1))\n",
    "r_act = 10**r_act.reshape(-1,)\n",
    "\n",
    "r_pred = sc_y.inverse_transform(np.array(pred).reshape(-1, 1))\n",
    "r_pred = 10**r_pred.reshape(-1,)\n",
    "\n",
    "\n",
    "RMSE = sqrt(sklearn.metrics.mean_squared_error(r_act,r_pred))\n",
    "MAE = sklearn.metrics.mean_absolute_error(r_act,r_pred)\n",
    "\n",
    "print('Mean Absolute Error (in g/litre): ', MAE)\n",
    "print('Root Mean Squared Error (in g/litre): ', RMSE)"
   ]
  },
  {
   "cell_type": "code",
   "execution_count": 22,
   "metadata": {},
   "outputs": [
    {
     "data": {
      "image/png": "[encoded data removed]",
      "text/plain": [
       "<matplotlib.figure.Figure at 0x1c2bbd3518>"
      ]
     },
     "metadata": {},
     "output_type": "display_data"
    }
   ],
   "source": [
    "fig, ax = plt.subplots(figsize=(20, 10))\n",
    "ax.scatter(pred,act,s=10)\n",
    "plt.xlabel('Target solubility classes')\n",
    "plt.ylabel('Predicted solubility classes')\n",
    "plt.title('Performance of final Model')\n",
    "lims = [\n",
    "    np.min([ax.get_xlim(), ax.get_ylim()]),  # min of both axes\n",
    "    np.max([ax.get_xlim(), ax.get_ylim()]),  # max of both axes\n",
    "]\n",
    "\n",
    "# now plot both limits against eachother\n",
    "ax.plot(lims, lims, 'k-', alpha=0.45, zorder=0)\n",
    "ax.set_aspect('equal')\n",
    "ax.set_xlim(lims)\n",
    "ax.set_ylim(lims)\n",
    "plt.show()"
   ]
  },
  {
   "cell_type": "code",
   "execution_count": 110,
   "metadata": {},
   "outputs": [
    {
     "name": "stdout",
     "output_type": "stream",
     "text": [
      "PROGRESS: Creating a validation set from 5 percent of training data. This may take a while.\n",
      "          You can set ``validation_set=None`` to disable validation tracking.\n",
      "\n"
     ]
    },
    {
     "data": {
      "text/html": [
       "<pre>Linear regression:</pre>"
      ],
      "text/plain": [
       "Linear regression:"
      ]
     },
     "metadata": {},
     "output_type": "display_data"
    },
    {
     "data": {
      "text/html": [
       "<pre>--------------------------------------------------------</pre>"
      ],
      "text/plain": [
       "--------------------------------------------------------"
      ]
     },
     "metadata": {},
     "output_type": "display_data"
    },
    {
     "data": {
      "text/html": [
       "<pre>Number of examples          : 2438</pre>"
      ],
      "text/plain": [
       "Number of examples          : 2438"
      ]
     },
     "metadata": {},
     "output_type": "display_data"
    },
    {
     "data": {
      "text/html": [
       "<pre>Number of features          : 1</pre>"
      ],
      "text/plain": [
       "Number of features          : 1"
      ]
     },
     "metadata": {},
     "output_type": "display_data"
    },
    {
     "data": {
      "text/html": [
       "<pre>Number of unpacked features : 101</pre>"
      ],
      "text/plain": [
       "Number of unpacked features : 101"
      ]
     },
     "metadata": {},
     "output_type": "display_data"
    },
    {
     "data": {
      "text/html": [
       "<pre>Number of coefficients    : 102</pre>"
      ],
      "text/plain": [
       "Number of coefficients    : 102"
      ]
     },
     "metadata": {},
     "output_type": "display_data"
    },
    {
     "data": {
      "text/html": [
       "<pre>Starting Newton Method</pre>"
      ],
      "text/plain": [
       "Starting Newton Method"
      ]
     },
     "metadata": {},
     "output_type": "display_data"
    },
    {
     "data": {
      "text/html": [
       "<pre>--------------------------------------------------------</pre>"
      ],
      "text/plain": [
       "--------------------------------------------------------"
      ]
     },
     "metadata": {},
     "output_type": "display_data"
    },
    {
     "data": {
      "text/html": [
       "<pre>+-----------+----------+--------------+--------------------+----------------------+---------------+-----------------+</pre>"
      ],
      "text/plain": [
       "+-----------+----------+--------------+--------------------+----------------------+---------------+-----------------+"
      ]
     },
     "metadata": {},
     "output_type": "display_data"
    },
    {
     "data": {
      "text/html": [
       "<pre>| Iteration | Passes   | Elapsed Time | Training-max_error | Validation-max_error | Training-rmse | Validation-rmse |</pre>"
      ],
      "text/plain": [
       "| Iteration | Passes   | Elapsed Time | Training-max_error | Validation-max_error | Training-rmse | Validation-rmse |"
      ]
     },
     "metadata": {},
     "output_type": "display_data"
    },
    {
     "data": {
      "text/html": [
       "<pre>+-----------+----------+--------------+--------------------+----------------------+---------------+-----------------+</pre>"
      ],
      "text/plain": [
       "+-----------+----------+--------------+--------------------+----------------------+---------------+-----------------+"
      ]
     },
     "metadata": {},
     "output_type": "display_data"
    },
    {
     "data": {
      "text/html": [
       "<pre>| 1         | 2        | 0.112443     | 2.856891           | 2.148564             | 0.548878      | 0.535059        |</pre>"
      ],
      "text/plain": [
       "| 1         | 2        | 0.112443     | 2.856891           | 2.148564             | 0.548878      | 0.535059        |"
      ]
     },
     "metadata": {},
     "output_type": "display_data"
    },
    {
     "data": {
      "text/html": [
       "<pre>+-----------+----------+--------------+--------------------+----------------------+---------------+-----------------+</pre>"
      ],
      "text/plain": [
       "+-----------+----------+--------------+--------------------+----------------------+---------------+-----------------+"
      ]
     },
     "metadata": {},
     "output_type": "display_data"
    },
    {
     "data": {
      "text/html": [
       "<pre>SUCCESS: Optimal solution found.</pre>"
      ],
      "text/plain": [
       "SUCCESS: Optimal solution found."
      ]
     },
     "metadata": {},
     "output_type": "display_data"
    },
    {
     "data": {
      "text/html": [
       "<pre></pre>"
      ],
      "text/plain": []
     },
     "metadata": {},
     "output_type": "display_data"
    }
   ],
   "source": [
    "lin_reg_model = tc.linear_regression.create(data_train, target='Soluble',features = ['X'])"
   ]
  },
  {
   "cell_type": "code",
   "execution_count": 112,
   "metadata": {},
   "outputs": [
    {
     "name": "stdout",
     "output_type": "stream",
     "text": [
      "R2:  0.525234390977\n",
      "Mean Absolute Error (in g/litre):  0.354574459979\n",
      "Root Mean Squared Error (in g/litre):  1.3486846946082123\n"
     ]
    }
   ],
   "source": [
    "import sklearn\n",
    "from math import sqrt\n",
    "predictions = lin_reg_model.predict(data_test)\n",
    "pred = predictions\n",
    "act = list(data_test['Soluble'])\n",
    "R2 = sklearn.metrics.r2_score(act, pred)\n",
    "print(\"R2: \",R2)\n",
    "\n",
    "r_act = sc_y.inverse_transform(np.array(act).reshape(-1, 1))\n",
    "r_act = 10**r_act.reshape(-1,)\n",
    "\n",
    "r_pred = sc_y.inverse_transform(np.array(pred).reshape(-1, 1))\n",
    "r_pred = 10**r_pred.reshape(-1,)\n",
    "\n",
    "\n",
    "RMSE = sqrt(sklearn.metrics.mean_squared_error(r_act,r_pred))\n",
    "MAE = sklearn.metrics.mean_absolute_error(r_act,r_pred)\n",
    "\n",
    "print('Mean Absolute Error (in g/litre): ', MAE)\n",
    "print('Root Mean Squared Error (in g/litre): ', RMSE)"
   ]
  },
  {
   "cell_type": "code",
   "execution_count": 113,
   "metadata": {},
   "outputs": [
    {
     "data": {
      "image/png": "[encoded data removed]",
      "text/plain": [
       "<matplotlib.figure.Figure at 0x1c3c8315c0>"
      ]
     },
     "metadata": {},
     "output_type": "display_data"
    }
   ],
   "source": [
    "fig, ax = plt.subplots(figsize=(20, 10))\n",
    "ax.scatter(pred,act,s=10)\n",
    "plt.xlabel('Target solubility classes')\n",
    "plt.ylabel('Predicted solubility classes')\n",
    "plt.title('Performance of final Model')\n",
    "lims = [\n",
    "    np.min([ax.get_xlim(), ax.get_ylim()]),  # min of both axes\n",
    "    np.max([ax.get_xlim(), ax.get_ylim()]),  # max of both axes\n",
    "]\n",
    "\n",
    "# now plot both limits against eachother\n",
    "ax.plot(lims, lims, 'k-', alpha=0.45, zorder=0)\n",
    "ax.set_aspect('equal')\n",
    "ax.set_xlim(lims)\n",
    "ax.set_ylim(lims)\n",
    "plt.show()"
   ]
  },
  {
   "cell_type": "markdown",
   "metadata": {},
   "source": [
    "# Simple Dense Network"
   ]
  },
  {
   "cell_type": "code",
   "execution_count": 32,
   "metadata": {
    "collapsed": true
   },
   "outputs": [],
   "source": [
    "X_train = X_train.reshape((X_train.shape[0], 101, ))\n",
    "Y_train = Y_train.reshape((Y_train.shape[0], ))\n",
    "\n",
    "X_test = X_test.reshape((X_test.shape[0], 101, ))\n",
    "Y_test = Y_test.reshape((Y_test.shape[0], ))"
   ]
  },
  {
   "cell_type": "code",
   "execution_count": 33,
   "metadata": {},
   "outputs": [
    {
     "name": "stderr",
     "output_type": "stream",
     "text": [
      "/anaconda3/lib/python3.6/site-packages/tensorflow/python/util/tf_inspect.py:45: DeprecationWarning: inspect.getargspec() is deprecated, use inspect.signature() or inspect.getfullargspec()\n",
      "  if d.decorator_argspec is not None), _inspect.getargspec(target))\n"
     ]
    }
   ],
   "source": [
    "model = Sequential()\n",
    "model.add(Dense(200, input_dim=101, kernel_initializer='normal', activation='tanh'))\n",
    "model.add(Dense(50,activation='relu'))\n",
    "model.add(Dense(10,activation='relu'))\n",
    "model.add(Dropout(0.2))\n",
    "model.add(Dense(5,activation='linear'))\n",
    "model.add(Dense(1,activation='linear'))"
   ]
  },
  {
   "cell_type": "code",
   "execution_count": 34,
   "metadata": {
    "collapsed": true
   },
   "outputs": [],
   "source": [
    "earlystop = EarlyStopping(monitor='val_loss',patience=5, verbose=1, mode='auto')\n",
    "reduce_lr = ReduceLROnPlateau(monitor='val_loss', factor=0.1, patience=10, min_lr=0.00001)"
   ]
  },
  {
   "cell_type": "code",
   "execution_count": 35,
   "metadata": {
    "collapsed": true
   },
   "outputs": [],
   "source": [
    "callbacks = [earlystop, reduce_lr]"
   ]
  },
  {
   "cell_type": "code",
   "execution_count": 36,
   "metadata": {
    "scrolled": true
   },
   "outputs": [
    {
     "name": "stdout",
     "output_type": "stream",
     "text": [
      "Train on 2580 samples, validate on 645 samples\n",
      "Epoch 1/100\n",
      "0s - loss: 0.4807 - val_loss: 0.4125\n",
      "Epoch 2/100\n",
      "0s - loss: 0.3801 - val_loss: 0.3255\n",
      "Epoch 3/100\n",
      "0s - loss: 0.3268 - val_loss: 0.3648\n",
      "Epoch 4/100\n",
      "0s - loss: 0.3004 - val_loss: 0.2970\n",
      "Epoch 5/100\n",
      "0s - loss: 0.2860 - val_loss: 0.2948\n",
      "Epoch 6/100\n",
      "0s - loss: 0.2720 - val_loss: 0.2994\n",
      "Epoch 7/100\n",
      "0s - loss: 0.2653 - val_loss: 0.2866\n",
      "Epoch 8/100\n",
      "0s - loss: 0.2401 - val_loss: 0.2554\n",
      "Epoch 9/100\n",
      "0s - loss: 0.2500 - val_loss: 0.2857\n",
      "Epoch 10/100\n",
      "0s - loss: 0.2328 - val_loss: 0.2781\n",
      "Epoch 11/100\n",
      "0s - loss: 0.2302 - val_loss: 0.2575\n",
      "Epoch 12/100\n",
      "0s - loss: 0.2193 - val_loss: 0.2551\n",
      "Epoch 13/100\n",
      "0s - loss: 0.2103 - val_loss: 0.2709\n",
      "Epoch 14/100\n",
      "0s - loss: 0.2149 - val_loss: 0.2810\n",
      "Epoch 15/100\n",
      "0s - loss: 0.2146 - val_loss: 0.2721\n",
      "Epoch 16/100\n",
      "0s - loss: 0.2028 - val_loss: 0.2517\n",
      "Epoch 17/100\n",
      "0s - loss: 0.1970 - val_loss: 0.2435\n",
      "Epoch 18/100\n",
      "0s - loss: 0.1950 - val_loss: 0.2608\n",
      "Epoch 19/100\n",
      "0s - loss: 0.1823 - val_loss: 0.2655\n",
      "Epoch 20/100\n",
      "0s - loss: 0.1904 - val_loss: 0.2492\n",
      "Epoch 21/100\n",
      "0s - loss: 0.1806 - val_loss: 0.2467\n",
      "Epoch 22/100\n",
      "0s - loss: 0.1771 - val_loss: 0.2427\n",
      "Epoch 23/100\n",
      "0s - loss: 0.1858 - val_loss: 0.2562\n",
      "Epoch 24/100\n",
      "0s - loss: 0.1785 - val_loss: 0.2491\n",
      "Epoch 25/100\n",
      "0s - loss: 0.1758 - val_loss: 0.2420\n",
      "Epoch 26/100\n",
      "0s - loss: 0.1708 - val_loss: 0.2733\n",
      "Epoch 27/100\n",
      "0s - loss: 0.1675 - val_loss: 0.2581\n",
      "Epoch 28/100\n",
      "0s - loss: 0.1729 - val_loss: 0.2550\n",
      "Epoch 29/100\n",
      "0s - loss: 0.1694 - val_loss: 0.2493\n",
      "Epoch 30/100\n",
      "0s - loss: 0.1649 - val_loss: 0.2600\n",
      "Epoch 31/100\n",
      "0s - loss: 0.1608 - val_loss: 0.2554\n",
      "Epoch 32/100\n",
      "0s - loss: 0.1603 - val_loss: 0.2649\n",
      "Epoch 33/100\n",
      "0s - loss: 0.1571 - val_loss: 0.2754\n",
      "Epoch 34/100\n",
      "0s - loss: 0.1554 - val_loss: 0.2807\n",
      "Epoch 35/100\n",
      "0s - loss: 0.1512 - val_loss: 0.2631\n",
      "Epoch 36/100\n",
      "0s - loss: 0.1497 - val_loss: 0.2516\n",
      "Epoch 37/100\n",
      "0s - loss: 0.1460 - val_loss: 0.2546\n",
      "Epoch 38/100\n",
      "0s - loss: 0.1460 - val_loss: 0.2774\n",
      "Epoch 39/100\n",
      "0s - loss: 0.1570 - val_loss: 0.2440\n",
      "Epoch 40/100\n",
      "0s - loss: 0.1481 - val_loss: 0.2533\n",
      "Epoch 41/100\n",
      "0s - loss: 0.1427 - val_loss: 0.2455\n",
      "Epoch 42/100\n",
      "0s - loss: 0.1326 - val_loss: 0.2426\n",
      "Epoch 43/100\n",
      "0s - loss: 0.1299 - val_loss: 0.2611\n",
      "Epoch 44/100\n",
      "0s - loss: 0.1359 - val_loss: 0.2507\n",
      "Epoch 45/100\n",
      "0s - loss: 0.1341 - val_loss: 0.2639\n",
      "Epoch 46/100\n",
      "0s - loss: 0.1343 - val_loss: 0.2688\n",
      "Epoch 47/100\n",
      "0s - loss: 0.1391 - val_loss: 0.2491\n",
      "Epoch 48/100\n",
      "0s - loss: 0.1379 - val_loss: 0.2524\n",
      "Epoch 49/100\n",
      "0s - loss: 0.1250 - val_loss: 0.2440\n",
      "Epoch 50/100\n",
      "0s - loss: 0.1274 - val_loss: 0.2619\n",
      "Epoch 51/100\n",
      "0s - loss: 0.1259 - val_loss: 0.2612\n",
      "Epoch 52/100\n",
      "0s - loss: 0.1203 - val_loss: 0.2522\n",
      "Epoch 53/100\n",
      "0s - loss: 0.1224 - val_loss: 0.2495\n",
      "Epoch 54/100\n",
      "0s - loss: 0.1176 - val_loss: 0.2738\n",
      "Epoch 55/100\n",
      "0s - loss: 0.1197 - val_loss: 0.2544\n",
      "Epoch 56/100\n",
      "0s - loss: 0.1180 - val_loss: 0.2566\n",
      "Epoch 57/100\n",
      "0s - loss: 0.1175 - val_loss: 0.2534\n",
      "Epoch 58/100\n",
      "0s - loss: 0.1187 - val_loss: 0.2661\n",
      "Epoch 59/100\n",
      "0s - loss: 0.1196 - val_loss: 0.2632\n",
      "Epoch 60/100\n",
      "0s - loss: 0.1146 - val_loss: 0.2711\n",
      "Epoch 61/100\n",
      "0s - loss: 0.1127 - val_loss: 0.2478\n",
      "Epoch 62/100\n",
      "0s - loss: 0.1150 - val_loss: 0.2597\n",
      "Epoch 63/100\n",
      "0s - loss: 0.1135 - val_loss: 0.2488\n",
      "Epoch 64/100\n",
      "0s - loss: 0.1164 - val_loss: 0.2573\n",
      "Epoch 65/100\n",
      "0s - loss: 0.1117 - val_loss: 0.2706\n",
      "Epoch 66/100\n",
      "0s - loss: 0.1144 - val_loss: 0.2747\n",
      "Epoch 67/100\n",
      "0s - loss: 0.1152 - val_loss: 0.2607\n",
      "Epoch 68/100\n",
      "0s - loss: 0.1115 - val_loss: 0.2534\n",
      "Epoch 69/100\n",
      "0s - loss: 0.1028 - val_loss: 0.2664\n",
      "Epoch 70/100\n",
      "0s - loss: 0.1070 - val_loss: 0.2739\n",
      "Epoch 71/100\n",
      "0s - loss: 0.1124 - val_loss: 0.2705\n",
      "Epoch 72/100\n",
      "0s - loss: 0.1117 - val_loss: 0.2624\n",
      "Epoch 73/100\n",
      "0s - loss: 0.1063 - val_loss: 0.2835\n",
      "Epoch 74/100\n",
      "0s - loss: 0.1065 - val_loss: 0.2556\n",
      "Epoch 75/100\n",
      "0s - loss: 0.0985 - val_loss: 0.2631\n",
      "Epoch 76/100\n",
      "0s - loss: 0.1100 - val_loss: 0.2532\n",
      "Epoch 77/100\n",
      "0s - loss: 0.1086 - val_loss: 0.2550\n",
      "Epoch 78/100\n",
      "0s - loss: 0.1070 - val_loss: 0.2614\n",
      "Epoch 79/100\n",
      "0s - loss: 0.1019 - val_loss: 0.2536\n",
      "Epoch 80/100\n",
      "0s - loss: 0.1024 - val_loss: 0.2705\n",
      "Epoch 81/100\n",
      "0s - loss: 0.1023 - val_loss: 0.2572\n",
      "Epoch 82/100\n",
      "0s - loss: 0.1026 - val_loss: 0.2552\n",
      "Epoch 83/100\n",
      "0s - loss: 0.1016 - val_loss: 0.2630\n",
      "Epoch 84/100\n",
      "0s - loss: 0.0988 - val_loss: 0.2610\n",
      "Epoch 85/100\n",
      "0s - loss: 0.0940 - val_loss: 0.2568\n",
      "Epoch 86/100\n",
      "0s - loss: 0.0951 - val_loss: 0.2551\n",
      "Epoch 87/100\n",
      "0s - loss: 0.0981 - val_loss: 0.2589\n",
      "Epoch 88/100\n",
      "0s - loss: 0.0908 - val_loss: 0.2512\n",
      "Epoch 89/100\n",
      "0s - loss: 0.0972 - val_loss: 0.2585\n",
      "Epoch 90/100\n",
      "0s - loss: 0.1047 - val_loss: 0.2573\n",
      "Epoch 91/100\n",
      "0s - loss: 0.0932 - val_loss: 0.2617\n",
      "Epoch 92/100\n",
      "0s - loss: 0.0917 - val_loss: 0.2595\n",
      "Epoch 93/100\n",
      "0s - loss: 0.0922 - val_loss: 0.2526\n",
      "Epoch 94/100\n",
      "0s - loss: 0.0962 - val_loss: 0.2624\n",
      "Epoch 95/100\n",
      "0s - loss: 0.0944 - val_loss: 0.2507\n",
      "Epoch 96/100\n",
      "0s - loss: 0.0920 - val_loss: 0.2356\n",
      "Epoch 97/100\n",
      "0s - loss: 0.0912 - val_loss: 0.2638\n",
      "Epoch 98/100\n",
      "0s - loss: 0.0932 - val_loss: 0.2521\n",
      "Epoch 99/100\n",
      "0s - loss: 0.0878 - val_loss: 0.2709\n",
      "Epoch 100/100\n",
      "0s - loss: 0.0921 - val_loss: 0.2591\n"
     ]
    }
   ],
   "source": [
    "model.compile(loss='mean_squared_error', optimizer='rmsprop')\n",
    "model_info = model.fit(X_train, Y_train, epochs=100, batch_size=100, verbose=2,\n",
    "                       validation_data=(X_test,Y_test))#,callbacks=callbacks)"
   ]
  },
  {
   "cell_type": "code",
   "execution_count": 37,
   "metadata": {},
   "outputs": [
    {
     "data": {
      "image/png": "[encoded data removed]",
      "text/plain": [
       "<matplotlib.figure.Figure at 0x1c3136a438>"
      ]
     },
     "metadata": {},
     "output_type": "display_data"
    }
   ],
   "source": [
    "def plot_model_history(model_history):\n",
    "    fig, axs = plt.subplots(figsize=(15,5))\n",
    "    axs.plot(range(1,len(model_history.history['loss'])+1),model_history.history['loss'])\n",
    "    axs.plot(range(1,len(model_history.history['val_loss'])+1),model_history.history['val_loss'])\n",
    "    axs.set_title('Model Loss')\n",
    "    axs.set_ylabel('Loss')\n",
    "    axs.set_xlabel('Epoch')\n",
    "    axs.set_xticks(np.arange(1,len(model_history.history['loss'])+1),len(model_history.history['loss'])/10)\n",
    "    axs.legend(['train', 'val'], loc='best')\n",
    "    plt.show()\n",
    "\n",
    "plot_model_history(model_info)"
   ]
  },
  {
   "cell_type": "code",
   "execution_count": 97,
   "metadata": {},
   "outputs": [
    {
     "name": "stdout",
     "output_type": "stream",
     "text": [
      "R2:  0.631096645479\n",
      "Mean Absolute Error (in g/litre):  0.659853980048\n",
      "Root Mean Squared Error (in g/litre):  6.352623511543814\n"
     ]
    }
   ],
   "source": [
    "import sklearn\n",
    "pred = model.predict(X_test)\n",
    "act = Y_test\n",
    "R2 = sklearn.metrics.r2_score(act, pred)\n",
    "print(\"R2: \",R2)\n",
    "\n",
    "r_act = sc_y.inverse_transform(np.array(act).reshape(-1, 1))\n",
    "r_act = 10**r_act.reshape(-1,)\n",
    "\n",
    "r_pred = sc_y.inverse_transform(np.array(pred).reshape(-1, 1))\n",
    "r_pred = 10**r_pred.reshape(-1,)\n",
    "\n",
    "\n",
    "RMSE = sqrt(sklearn.metrics.mean_squared_error(r_act,r_pred))\n",
    "MAE = sklearn.metrics.mean_absolute_error(r_act,r_pred)\n",
    "\n",
    "print('Mean Absolute Error (in g/litre): ', MAE)\n",
    "print('Root Mean Squared Error (in g/litre): ', RMSE)"
   ]
  },
  {
   "cell_type": "code",
   "execution_count": 15,
   "metadata": {},
   "outputs": [
    {
     "data": {
      "image/png": "[encoded data removed]",
      "text/plain": [
       "<matplotlib.figure.Figure at 0x1c29b7b860>"
      ]
     },
     "metadata": {},
     "output_type": "display_data"
    }
   ],
   "source": [
    "fig, ax = plt.subplots(figsize=(20, 10))\n",
    "ax.scatter(Y_test,model.predict(X_test), s= 10)\n",
    "plt.xlabel('Target solubility classes')\n",
    "plt.ylabel('Predicted solubility classes')\n",
    "plt.title('Performance of final Model')\n",
    "lims = [\n",
    "    np.min([ax.get_xlim(), ax.get_ylim()]),  # min of both axes\n",
    "    np.max([ax.get_xlim(), ax.get_ylim()]),  # max of both axes\n",
    "]\n",
    "\n",
    "# now plot both limits against eachother\n",
    "ax.plot(lims, lims, 'k-', alpha=0.45, zorder=0)\n",
    "ax.set_aspect('equal')\n",
    "ax.set_xlim(lims)\n",
    "ax.set_ylim(lims)\n",
    "plt.show()"
   ]
  },
  {
   "cell_type": "markdown",
   "metadata": {},
   "source": [
    "# CNN"
   ]
  },
  {
   "cell_type": "code",
   "execution_count": 39,
   "metadata": {
    "collapsed": true
   },
   "outputs": [],
   "source": [
    "data_cnn = X_train[:,:100].reshape((X_train[:,:100].shape[0], 100, 1))\n",
    "val_data_cnn = X_test[:,:100].reshape(X_test[:,:100].shape[0],100,1)\n",
    "target = Y_train.reshape(Y_train.shape[0],1)\n",
    "val_target = Y_test.reshape(Y_test.shape[0],1)\n",
    "data_mw = X_train[:,-1].reshape((X_train[:,-1].shape[0],1))\n",
    "val_data_mw = X_test[:,-1].reshape((X_test[:,-1].shape[0],1))\n",
    "# val_target = Y_test"
   ]
  },
  {
   "cell_type": "code",
   "execution_count": 40,
   "metadata": {},
   "outputs": [
    {
     "name": "stderr",
     "output_type": "stream",
     "text": [
      "/anaconda3/lib/python3.6/site-packages/tensorflow/python/util/tf_inspect.py:45: DeprecationWarning: inspect.getargspec() is deprecated, use inspect.signature() or inspect.getfullargspec()\n",
      "  if d.decorator_argspec is not None), _inspect.getargspec(target))\n",
      "/anaconda3/lib/python3.6/site-packages/ipykernel_launcher.py:19: UserWarning: The `Merge` layer is deprecated and will be removed after 08/2017. Use instead layers from `keras.layers.merge`, e.g. `add`, `concatenate`, etc.\n"
     ]
    }
   ],
   "source": [
    "branch1 = Sequential()\n",
    "\n",
    "branch1.add(Conv1D(2,3,activation='tanh',input_shape=(100, 1)))\n",
    "branch1.add(Conv1D(4,3,activation='tanh'))\n",
    "branch1.add(Conv1D(6,3,activation='tanh'))\n",
    "branch1.add(Dropout(0.2))\n",
    "branch1.add(Conv1D(8,3,activation='tanh'))\n",
    "branch1.add(Conv1D(10,3,activation='relu'))\n",
    "branch1.add(Flatten())\n",
    "branch1.add(Dense(10))\n",
    "\n",
    "\n",
    "branch2 = Sequential()\n",
    "branch2.add(Dense(10,input_dim=1))\n",
    "branch2.add(Dense(10,activation='linear'))\n",
    "            \n",
    "            \n",
    "cnnmodel =Sequential()\n",
    "cnnmodel.add(Merge([branch1, branch2], mode = 'concat'))\n",
    "cnnmodel.add(Dense(1,activation='linear'))\n",
    "cnnmodel.add(Dense(1,activation='linear'))"
   ]
  },
  {
   "cell_type": "code",
   "execution_count": 43,
   "metadata": {},
   "outputs": [
    {
     "name": "stdout",
     "output_type": "stream",
     "text": [
      "Train on 2580 samples, validate on 645 samples\n",
      "Epoch 1/20\n",
      "0s - loss: 0.2962 - val_loss: 0.2961\n",
      "Epoch 2/20\n",
      "0s - loss: 0.2878 - val_loss: 0.3084\n",
      "Epoch 3/20\n",
      "0s - loss: 0.2794 - val_loss: 0.2909\n",
      "Epoch 4/20\n",
      "0s - loss: 0.2789 - val_loss: 0.2810\n",
      "Epoch 5/20\n",
      "0s - loss: 0.2759 - val_loss: 0.2792\n",
      "Epoch 6/20\n",
      "0s - loss: 0.2709 - val_loss: 0.2789\n",
      "Epoch 7/20\n",
      "0s - loss: 0.2797 - val_loss: 0.2887\n",
      "Epoch 8/20\n",
      "0s - loss: 0.2726 - val_loss: 0.2773\n",
      "Epoch 9/20\n",
      "0s - loss: 0.2701 - val_loss: 0.2876\n",
      "Epoch 10/20\n",
      "0s - loss: 0.2627 - val_loss: 0.2946\n",
      "Epoch 11/20\n",
      "0s - loss: 0.2679 - val_loss: 0.2854\n",
      "Epoch 12/20\n",
      "0s - loss: 0.2608 - val_loss: 0.2817\n",
      "Epoch 13/20\n",
      "0s - loss: 0.2619 - val_loss: 0.2862\n",
      "Epoch 14/20\n",
      "0s - loss: 0.2607 - val_loss: 0.2795\n",
      "Epoch 15/20\n",
      "0s - loss: 0.2602 - val_loss: 0.2826\n",
      "Epoch 16/20\n",
      "0s - loss: 0.2571 - val_loss: 0.2805\n",
      "Epoch 17/20\n",
      "0s - loss: 0.2527 - val_loss: 0.2783\n",
      "Epoch 18/20\n",
      "0s - loss: 0.2592 - val_loss: 0.2978\n",
      "Epoch 19/20\n",
      "0s - loss: 0.2552 - val_loss: 0.2921\n",
      "Epoch 20/20\n",
      "0s - loss: 0.2520 - val_loss: 0.2823\n"
     ]
    }
   ],
   "source": [
    "cnnmodel.compile(loss='mean_squared_error', optimizer='adam')\n",
    "cnnmodel_info = cnnmodel.fit([data_cnn,data_mw], target, epochs=20, batch_size=100, verbose=2,\n",
    "                          validation_data=([val_data_cnn,val_data_mw],val_target))"
   ]
  },
  {
   "cell_type": "code",
   "execution_count": 99,
   "metadata": {},
   "outputs": [
    {
     "name": "stdout",
     "output_type": "stream",
     "text": [
      "R2:  0.597962549453\n",
      "Mean Absolute Error (in g/litre):  0.326776055304\n",
      "Root Mean Squared Error (in g/litre):  1.281002269463329\n"
     ]
    }
   ],
   "source": [
    "import sklearn\n",
    "pred = cnnmodel.predict([val_data_cnn,val_data_mw])\n",
    "act = val_target\n",
    "R2 = sklearn.metrics.r2_score(act, pred)\n",
    "print(\"R2: \",R2)\n",
    "\n",
    "r_act = sc_y.inverse_transform(np.array(act).reshape(-1, 1))\n",
    "r_act = 10**r_act.reshape(-1,)\n",
    "\n",
    "r_pred = sc_y.inverse_transform(np.array(pred).reshape(-1, 1))\n",
    "r_pred = 10**r_pred.reshape(-1,)\n",
    "\n",
    "\n",
    "RMSE = sqrt(sklearn.metrics.mean_squared_error(r_act,r_pred))\n",
    "MAE = sklearn.metrics.mean_absolute_error(r_act,r_pred)\n",
    "\n",
    "print('Mean Absolute Error (in g/litre): ', MAE)\n",
    "print('Root Mean Squared Error (in g/litre): ', RMSE)"
   ]
  },
  {
   "cell_type": "code",
   "execution_count": 19,
   "metadata": {},
   "outputs": [
    {
     "data": {
      "image/png": "[encoded data removed]",
      "text/plain": [
       "<matplotlib.figure.Figure at 0x1c2968a940>"
      ]
     },
     "metadata": {},
     "output_type": "display_data"
    }
   ],
   "source": [
    "fig, ax = plt.subplots(figsize=(20, 10))\n",
    "ax.scatter(val_target,cnnmodel.predict([val_data_cnn,val_data_mw]), s= 10)\n",
    "plt.xlabel('Target solubility classes')\n",
    "plt.ylabel('Predicted solubility classes')\n",
    "plt.title('Performance of final Model')\n",
    "lims = [\n",
    "    np.min([ax.get_xlim(), ax.get_ylim()]),  # min of both axes\n",
    "    np.max([ax.get_xlim(), ax.get_ylim()]),  # max of both axes\n",
    "]\n",
    "\n",
    "# now plot both limits against eachother\n",
    "ax.plot(lims, lims, 'k-', alpha=0.45, zorder=0)\n",
    "ax.set_aspect('equal')\n",
    "ax.set_xlim(lims)\n",
    "ax.set_ylim(lims)\n",
    "plt.show()"
   ]
  },
  {
   "cell_type": "markdown",
   "metadata": {},
   "source": [
    "# RNN - Performs very poorly"
   ]
  },
  {
   "cell_type": "code",
   "execution_count": 61,
   "metadata": {},
   "outputs": [],
   "source": [
    "# # The standard model\n",
    "# # Here 50, the dimensionality of the output from LSTM is just a random no and has no suxh signifance, \n",
    "# # That ^^ shuould be search via a hyperparameter search\n",
    "\n",
    "# branch1 = Sequential()\n",
    "# # The a<final output> will have 50 numbers \n",
    "# branch1.add(LSTM(100, input_shape=(100, 1)))\n",
    "# # branch1.add(Dropout(0.2))\n",
    "# branch1.add(Dense(200,activation='tanh'))\n",
    "\n",
    "\n",
    "\n",
    "# branch2 = Sequential()\n",
    "# branch2.add(Dense(5,input_dim=1))\n",
    "# rnnmodel =Sequential()\n",
    "# rnnmodel.add(Merge([branch1, branch2], mode = 'concat'))\n",
    "# rnnmodel.add(Dense(10,activation='relu'))\n",
    "# rnnmodel.add(Dense(5,activation='linear'))\n",
    "# rnnmodel.add(Dense(1,activation='linear'))"
   ]
  },
  {
   "cell_type": "code",
   "execution_count": 62,
   "metadata": {
    "collapsed": true
   },
   "outputs": [],
   "source": [
    "# rnnmodel.compile(loss='mean_squared_error', optimizer='rmsprop')\n",
    "# rnnmodel_info = cnnmodel.fit([data_cnn,data_mw], target, epochs=100, batch_size=1000, verbose=2,\n",
    "#                           validation_data=([val_data_cnn,val_data_mw],val_target))"
   ]
  },
  {
   "cell_type": "code",
   "execution_count": 63,
   "metadata": {},
   "outputs": [],
   "source": [
    "# fig, ax = plt.subplots(figsize=(20, 10))\n",
    "# ax.scatter(val_target,rnnmodel.predict([val_data_cnn,val_data_mw]), s= 10)\n",
    "# plt.xlabel('Target solubility classes')\n",
    "# plt.ylabel('Predicted solubility classes')\n",
    "# plt.title('Performance of final Model')\n",
    "# lims = [\n",
    "#     np.min([ax.get_xlim(), ax.get_ylim()]),  # min of both axes\n",
    "#     np.max([ax.get_xlim(), ax.get_ylim()]),  # max of both axes\n",
    "# ]\n",
    "\n",
    "# # now plot both limits against eachother\n",
    "# ax.plot(lims, lims, 'k-', alpha=0.45, zorder=0)\n",
    "# ax.set_aspect('equal')\n",
    "# ax.set_xlim(lims)\n",
    "# ax.set_ylim(lims)\n",
    "# plt.show()"
   ]
  },
  {
   "cell_type": "markdown",
   "metadata": {},
   "source": [
    "# AutoSklearn"
   ]
  },
  {
   "cell_type": "code",
   "execution_count": 23,
   "metadata": {},
   "outputs": [],
   "source": [
    "# import sklearn.model_selection\n",
    "# import sklearn.datasets\n",
    "# import sklearn.metrics\n",
    "\n",
    "# import autosklearn.regression\n",
    "\n",
    "# X_train, X_test, Y_train, Y_test = train_test_split(X, Y, test_size=0.2, random_state=42)\n",
    "# feature_types = (['numerical'] * 101)# + ['categorical'] + (['numerical'] * 9)\n",
    "\n",
    "# automl = autosklearn.regression.AutoSklearnRegressor()\n",
    "# #     time_left_for_this_task=120,\n",
    "# #     per_run_time_limit=30,\n",
    "# #     tmp_folder='/tmp/autosklearn_regression_example_tmp',\n",
    "# #     output_folder='/tmp/autosklearn_regression_example_out',\n",
    "# # )\n",
    "\n",
    "# automl.fit(X_train, Y_train)#, dataset_name='molc',feat_type=feature_types)\n",
    "\n",
    "# print(automl.show_models())\n",
    "# predictions = automl.predict(X_test)\n",
    "# print(\"R2 score:\", sklearn.metrics.r2_score(Y_test, predictions))"
   ]
  },
  {
   "cell_type": "code",
   "execution_count": 24,
   "metadata": {
    "collapsed": true
   },
   "outputs": [
    {
     "name": "stderr",
     "output_type": "stream",
     "text": [
      "/anaconda3/lib/python3.6/site-packages/sklearn/base.py:312: UserWarning: Trying to unpickle estimator Imputer from version 0.19.2 when using version 0.19.0. This might lead to breaking code or invalid results. Use at your own risk.\n",
      "  UserWarning)\n",
      "/anaconda3/lib/python3.6/site-packages/sklearn/base.py:312: UserWarning: Trying to unpickle estimator VarianceThreshold from version 0.19.2 when using version 0.19.0. This might lead to breaking code or invalid results. Use at your own risk.\n",
      "  UserWarning)\n",
      "/anaconda3/lib/python3.6/site-packages/sklearn/base.py:312: UserWarning: Trying to unpickle estimator MinMaxScaler from version 0.19.2 when using version 0.19.0. This might lead to breaking code or invalid results. Use at your own risk.\n",
      "  UserWarning)\n",
      "/anaconda3/lib/python3.6/site-packages/sklearn/base.py:312: UserWarning: Trying to unpickle estimator SelectPercentile from version 0.19.2 when using version 0.19.0. This might lead to breaking code or invalid results. Use at your own risk.\n",
      "  UserWarning)\n",
      "/anaconda3/lib/python3.6/site-packages/sklearn/base.py:312: UserWarning: Trying to unpickle estimator Ridge from version 0.19.2 when using version 0.19.0. This might lead to breaking code or invalid results. Use at your own risk.\n",
      "  UserWarning)\n",
      "/anaconda3/lib/python3.6/site-packages/sklearn/base.py:312: UserWarning: Trying to unpickle estimator Nystroem from version 0.19.2 when using version 0.19.0. This might lead to breaking code or invalid results. Use at your own risk.\n",
      "  UserWarning)\n",
      "/anaconda3/lib/python3.6/site-packages/sklearn/base.py:312: UserWarning: Trying to unpickle estimator LinearSVR from version 0.19.2 when using version 0.19.0. This might lead to breaking code or invalid results. Use at your own risk.\n",
      "  UserWarning)\n",
      "/anaconda3/lib/python3.6/site-packages/sklearn/base.py:312: UserWarning: Trying to unpickle estimator ExtraTreeRegressor from version 0.19.2 when using version 0.19.0. This might lead to breaking code or invalid results. Use at your own risk.\n",
      "  UserWarning)\n",
      "/anaconda3/lib/python3.6/site-packages/sklearn/base.py:312: UserWarning: Trying to unpickle estimator ExtraTreesRegressor from version 0.19.2 when using version 0.19.0. This might lead to breaking code or invalid results. Use at your own risk.\n",
      "  UserWarning)\n",
      "/anaconda3/lib/python3.6/site-packages/sklearn/base.py:312: UserWarning: Trying to unpickle estimator SelectFromModel from version 0.19.2 when using version 0.19.0. This might lead to breaking code or invalid results. Use at your own risk.\n",
      "  UserWarning)\n",
      "/anaconda3/lib/python3.6/site-packages/sklearn/base.py:312: UserWarning: Trying to unpickle estimator DecisionTreeRegressor from version 0.19.2 when using version 0.19.0. This might lead to breaking code or invalid results. Use at your own risk.\n",
      "  UserWarning)\n",
      "/anaconda3/lib/python3.6/site-packages/sklearn/base.py:312: UserWarning: Trying to unpickle estimator GradientBoostingRegressor from version 0.19.2 when using version 0.19.0. This might lead to breaking code or invalid results. Use at your own risk.\n",
      "  UserWarning)\n",
      "/anaconda3/lib/python3.6/site-packages/sklearn/base.py:312: UserWarning: Trying to unpickle estimator Normalizer from version 0.19.2 when using version 0.19.0. This might lead to breaking code or invalid results. Use at your own risk.\n",
      "  UserWarning)\n",
      "/anaconda3/lib/python3.6/site-packages/sklearn/base.py:312: UserWarning: Trying to unpickle estimator RandomForestRegressor from version 0.19.2 when using version 0.19.0. This might lead to breaking code or invalid results. Use at your own risk.\n",
      "  UserWarning)\n",
      "/anaconda3/lib/python3.6/site-packages/sklearn/base.py:312: UserWarning: Trying to unpickle estimator QuantileTransformer from version 0.19.2 when using version 0.19.0. This might lead to breaking code or invalid results. Use at your own risk.\n",
      "  UserWarning)\n",
      "/anaconda3/lib/python3.6/site-packages/sklearn/base.py:312: UserWarning: Trying to unpickle estimator FeatureAgglomeration from version 0.19.2 when using version 0.19.0. This might lead to breaking code or invalid results. Use at your own risk.\n",
      "  UserWarning)\n",
      "/anaconda3/lib/python3.6/site-packages/sklearn/base.py:312: UserWarning: Trying to unpickle estimator StandardScaler from version 0.19.2 when using version 0.19.0. This might lead to breaking code or invalid results. Use at your own risk.\n",
      "  UserWarning)\n",
      "/anaconda3/lib/python3.6/site-packages/sklearn/base.py:312: UserWarning: Trying to unpickle estimator SGDRegressor from version 0.19.2 when using version 0.19.0. This might lead to breaking code or invalid results. Use at your own risk.\n",
      "  UserWarning)\n",
      "/anaconda3/lib/python3.6/site-packages/sklearn/base.py:312: UserWarning: Trying to unpickle estimator KernelCenterer from version 0.19.2 when using version 0.19.0. This might lead to breaking code or invalid results. Use at your own risk.\n",
      "  UserWarning)\n",
      "/anaconda3/lib/python3.6/site-packages/sklearn/base.py:312: UserWarning: Trying to unpickle estimator KernelPCA from version 0.19.2 when using version 0.19.0. This might lead to breaking code or invalid results. Use at your own risk.\n",
      "  UserWarning)\n",
      "/anaconda3/lib/python3.6/site-packages/sklearn/base.py:312: UserWarning: Trying to unpickle estimator SVR from version 0.19.2 when using version 0.19.0. This might lead to breaking code or invalid results. Use at your own risk.\n",
      "  UserWarning)\n",
      "/anaconda3/lib/python3.6/site-packages/sklearn/base.py:312: UserWarning: Trying to unpickle estimator RobustScaler from version 0.19.2 when using version 0.19.0. This might lead to breaking code or invalid results. Use at your own risk.\n",
      "  UserWarning)\n",
      "/anaconda3/lib/python3.6/site-packages/sklearn/base.py:312: UserWarning: Trying to unpickle estimator AdaBoostRegressor from version 0.19.2 when using version 0.19.0. This might lead to breaking code or invalid results. Use at your own risk.\n",
      "  UserWarning)\n",
      "/anaconda3/lib/python3.6/site-packages/sklearn/base.py:312: UserWarning: Trying to unpickle estimator PCA from version 0.19.2 when using version 0.19.0. This might lead to breaking code or invalid results. Use at your own risk.\n",
      "  UserWarning)\n",
      "[WARNING] [19:03:50:autosklearn.util.backend] Could not delete output dir: /tmp/autosklearn_output_2799_1042\n",
      "[WARNING] [19:03:50:autosklearn.util.backend] Could not delete tmp dir: /tmp/autosklearn_tmp_2799_1042\n"
     ]
    }
   ],
   "source": [
    "import pickle\n",
    "with open('auto_model.pkl','rb') as handle:\n",
    "    automl = pickle.load(handle)"
   ]
  },
  {
   "cell_type": "code",
   "execution_count": 100,
   "metadata": {},
   "outputs": [
    {
     "name": "stdout",
     "output_type": "stream",
     "text": [
      "R2:  0.654090017418\n",
      "Mean Absolute Error (in g/litre):  0.306127788458\n",
      "Root Mean Squared Error (in g/litre):  1.13155944277618\n"
     ]
    }
   ],
   "source": [
    "import sklearn\n",
    "pred = automl.predict(X_test)\n",
    "act = Y_test\n",
    "R2 = sklearn.metrics.r2_score(act, pred)\n",
    "print(\"R2: \",R2)\n",
    "\n",
    "r_act = sc_y.inverse_transform(np.array(act).reshape(-1, 1))\n",
    "r_act = 10**r_act.reshape(-1,)\n",
    "\n",
    "r_pred = sc_y.inverse_transform(np.array(pred).reshape(-1, 1))\n",
    "r_pred = 10**r_pred.reshape(-1,)\n",
    "\n",
    "\n",
    "RMSE = sqrt(sklearn.metrics.mean_squared_error(r_act,r_pred))\n",
    "MAE = sklearn.metrics.mean_absolute_error(r_act,r_pred)\n",
    "\n",
    "print('Mean Absolute Error (in g/litre): ', MAE)\n",
    "print('Root Mean Squared Error (in g/litre): ', RMSE)"
   ]
  },
  {
   "cell_type": "code",
   "execution_count": 25,
   "metadata": {},
   "outputs": [
    {
     "data": {
      "image/png": "[encoded data removed]",
      "text/plain": [
       "<matplotlib.figure.Figure at 0x1c30642278>"
      ]
     },
     "metadata": {},
     "output_type": "display_data"
    }
   ],
   "source": [
    "predictions = automl.predict(X_test)\n",
    "fig, ax = plt.subplots(figsize=(20, 10))\n",
    "ax.scatter(Y_test,predictions, s= 10)\n",
    "plt.xlabel('Target solubility classes')\n",
    "plt.ylabel('Predicted solubility classes')\n",
    "plt.title('Performance of final Model')\n",
    "lims = [\n",
    "    np.min([ax.get_xlim(), ax.get_ylim()]),  # min of both axes\n",
    "    np.max([ax.get_xlim(), ax.get_ylim()]),  # max of both axes\n",
    "]\n",
    "\n",
    "# now plot both limits against eachother\n",
    "ax.plot(lims, lims, 'k-', alpha=0.45, zorder=0)\n",
    "ax.set_aspect('equal')\n",
    "ax.set_xlim(lims)\n",
    "ax.set_ylim(lims)\n",
    "plt.show()"
   ]
  },
  {
   "cell_type": "markdown",
   "metadata": {},
   "source": [
    "# SkNN"
   ]
  },
  {
   "cell_type": "code",
   "execution_count": 105,
   "metadata": {},
   "outputs": [
    {
     "data": {
      "text/plain": [
       "Regressor(batch_size=1, callback=None, debug=False, dropout_rate=None,\n",
       "     f_stable=0.001,\n",
       "     hidden0=<sknn.nn.Layer `Rectifier`: name='hidden0', units=200, frozen=False>,\n",
       "     hidden1=<sknn.nn.Layer `Rectifier`: name='hidden1', units=50, frozen=False>,\n",
       "     hidden2=<sknn.nn.Layer `Linear`: name='hidden2', units=10, frozen=False>,\n",
       "     layers=[<sknn.nn.Layer `Rectifier`: name='hidden0', units=200, frozen=False>, <sknn.nn.Layer `Rectifier`: name='hidden1', units=50, frozen=False>, <sknn.nn.Layer `Linear`: name='hidden2', units=10, frozen=False>, <sknn.nn.Layer `Linear`: name='output', units=1, frozen=False>],\n",
       "     learning_momentum=0.9, learning_rate=0.002, learning_rule='sgd',\n",
       "     loss_type=None, n_iter=15, n_stable=10, normalize=None,\n",
       "     output=<sknn.nn.Layer `Linear`: name='output', units=1, frozen=False>,\n",
       "     parameters=None, random_state=None, regularize=None, valid_set=None,\n",
       "     valid_size=0.0, verbose=None, warning=None, weight_decay=None)"
      ]
     },
     "execution_count": 105,
     "metadata": {},
     "output_type": "execute_result"
    }
   ],
   "source": [
    "from sknn.mlp import Regressor, Layer\n",
    "from sklearn.grid_search import RandomizedSearchCV,GridSearchCV\n",
    "from scipy import stats\n",
    "\n",
    "\n",
    "nn = Regressor(\n",
    "    layers=[\n",
    "        Layer(\"Rectifier\", units=200),\n",
    "        Layer(\"Rectifier\", units=50),\n",
    "        Layer(\"Linear\", units=10),\n",
    "        Layer(\"Linear\")],\n",
    "    learning_rate=0.002,\n",
    "    n_iter=15)\n",
    "\n",
    "# rs = RandomizedSearchCV(nn, param_distributions={\n",
    "#     'learning_rate': stats.uniform(0.001, 0.005),\n",
    "#     'hidden0__units': stats.randint(50, 200),\n",
    "#     'hidden0__type': [\"Rectifier\", \"Sigmoid\", \"Tanh\"]})\n",
    "\n",
    "# gs = GridSearchCV(nn, param_grid={\n",
    "#     'learning_rate': [0.005, 0.001],\n",
    "#     'hidden0__units': [50, 100, 200],\n",
    "#     'hidden0__type': [\"Rectifier\", \"Sigmoid\", \"Tanh\"]})\n",
    "\n",
    "nn.fit(X_train, Y_train)"
   ]
  },
  {
   "cell_type": "code",
   "execution_count": 106,
   "metadata": {},
   "outputs": [
    {
     "name": "stdout",
     "output_type": "stream",
     "text": [
      "R2:  0.59807888513\n",
      "Mean Absolute Error (in g/litre):  0.387457642652\n",
      "Root Mean Squared Error (in g/litre):  1.559464562483134\n"
     ]
    }
   ],
   "source": [
    "import sklearn\n",
    "pred = nn.predict(X_test)\n",
    "act = Y_test\n",
    "R2 = sklearn.metrics.r2_score(act, pred)\n",
    "print(\"R2: \",R2)\n",
    "\n",
    "r_act = sc_y.inverse_transform(np.array(act).reshape(-1, 1))\n",
    "r_act = 10**r_act.reshape(-1,)\n",
    "\n",
    "r_pred = sc_y.inverse_transform(np.array(pred).reshape(-1, 1))\n",
    "r_pred = 10**r_pred.reshape(-1,)\n",
    "\n",
    "\n",
    "RMSE = sqrt(sklearn.metrics.mean_squared_error(r_act,r_pred))\n",
    "MAE = sklearn.metrics.mean_absolute_error(r_act,r_pred)\n",
    "\n",
    "print('Mean Absolute Error (in g/litre): ', MAE)\n",
    "print('Root Mean Squared Error (in g/litre): ', RMSE)"
   ]
  },
  {
   "cell_type": "code",
   "execution_count": 109,
   "metadata": {},
   "outputs": [
    {
     "data": {
      "image/png": "[encoded data removed]",
      "text/plain": [
       "<matplotlib.figure.Figure at 0x1c39b1ff60>"
      ]
     },
     "metadata": {},
     "output_type": "display_data"
    }
   ],
   "source": [
    "predictions = nn.predict(X_test)\n",
    "fig, ax = plt.subplots(figsize=(20, 10))\n",
    "ax.scatter(Y_test,predictions, s= 10)\n",
    "plt.xlabel('Target solubility classes')\n",
    "plt.ylabel('Predicted solubility classes')\n",
    "plt.title('Performance of final Model')\n",
    "lims = [\n",
    "    np.min([ax.get_xlim(), ax.get_ylim()]),  # min of both axes\n",
    "    np.max([ax.get_xlim(), ax.get_ylim()]),  # max of both axes\n",
    "]\n",
    "\n",
    "# now plot both limits against eachother\n",
    "ax.plot(lims, lims, 'k-', alpha=0.45, zorder=0)\n",
    "ax.set_aspect('equal')\n",
    "ax.set_xlim(lims)\n",
    "ax.set_ylim(lims)\n",
    "plt.show()"
   ]
  },
  {
   "cell_type": "code",
   "execution_count": null,
   "metadata": {},
   "outputs": [],
   "source": [
    "| ConvNet  | R2:  0.6282006384214354\n",
    "Mean Absolute Error (in g/litre):  0.3070177533342374\n",
    "Root Mean Squared Error (in g/litre):  1.1441674799207011 |\n",
    "| -------- | --------------------------------------------------------------------------------------------------------------------------------------- |\n",
    "| DenseNet | R2:  0.6453372173722867\n",
    "Mean Absolute Error (in g/litre):  0.37831501737500695\n",
    "Root Mean Squared Error (in g/litre):  1.380492964248265 |"
   ]
  },
  {
   "cell_type": "code",
   "execution_count": null,
   "metadata": {
    "collapsed": true
   },
   "outputs": [],
   "source": []
  }
 ],
 "metadata": {
  "kernelspec": {
   "display_name": "Python 3",
   "language": "python",
   "name": "python3"
  },
  "language_info": {
   "codemirror_mode": {
    "name": "ipython",
    "version": 3
   },
   "file_extension": ".py",
   "mimetype": "text/x-python",
   "name": "python",
   "nbconvert_exporter": "python",
   "pygments_lexer": "ipython3",
   "version": "3.6.3"
  }
 },
 "nbformat": 4,
 "nbformat_minor": 2
}
