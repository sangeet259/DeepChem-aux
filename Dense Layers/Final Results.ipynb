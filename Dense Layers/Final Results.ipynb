{
 "cells": [
  {
   "cell_type": "markdown",
   "metadata": {
    "collapsed": true
   },
   "source": [
    "# Final Results - EUCHEMS 2018"
   ]
  },
  {
   "cell_type": "code",
   "execution_count": 3,
   "metadata": {},
   "outputs": [],
   "source": [
    "from sklearn.utils import class_weight\n",
    "\n",
    "from sklearn.model_selection import train_test_split\n",
    "import numpy as np\n",
    "from keras.models import Sequential\n",
    "from keras.layers import Dense,Flatten,Dropout\n",
    "# from keras.layers import Merge\n",
    "from keras.layers import Conv1D,Reshape\n",
    "from keras.layers import LSTM\n",
    "import keras\n",
    "\n",
    "# For the plots\n",
    "import matplotlib.pyplot as plt\n",
    "\n",
    "# For controlling the training parameters in the midst of training itself\n",
    "from keras.callbacks import ModelCheckpoint,EarlyStopping, ReduceLROnPlateau\n",
    "\n",
    "# For creating directory to save the models\n",
    "import os\n",
    "from imblearn.over_sampling import SMOTE\n",
    "\n",
    "from sklearn.utils import class_weight\n",
    "\n",
    "from keras.utils.np_utils import to_categorical   \n",
    "\n",
    "\n",
    "import turicreate as tc\n"
   ]
  },
  {
   "cell_type": "code",
   "execution_count": 5,
   "metadata": {},
   "outputs": [],
   "source": [
    "# make this cell work acc to the new api\n",
    "# from keras.layers import Merge"
   ]
  },
  {
   "cell_type": "code",
   "execution_count": 6,
   "metadata": {},
   "outputs": [],
   "source": [
    "# Load the data\n",
    "X = np.load(\"X_reg.npy\")\n",
    "Y = np.load(\"Y_reg.npy\")\n",
    "\n",
    "Y = np.log10(Y)\n",
    "\n",
    "\n",
    "from sklearn.preprocessing import RobustScaler\n",
    "\n",
    "sc_y = RobustScaler().fit(Y.reshape(-1, 1))\n",
    "Y = sc_y.transform(Y.reshape(-1, 1))\n",
    "Y = Y.reshape(-1,)"
   ]
  },
  {
   "cell_type": "code",
   "execution_count": 11,
   "metadata": {
    "collapsed": true
   },
   "outputs": [
    {
     "ename": "TypeError",
     "evalue": "'tuple' object is not callable",
     "output_type": "error",
     "traceback": [
      "\u001b[0;31m---------------------------------------------------------------------------\u001b[0m",
      "\u001b[0;31mTypeError\u001b[0m                                 Traceback (most recent call last)",
      "\u001b[0;32m<ipython-input-11-386b8665a4c0>\u001b[0m in \u001b[0;36m<module>\u001b[0;34m\u001b[0m\n\u001b[0;32m----> 1\u001b[0;31m \u001b[0mX\u001b[0m\u001b[0;34m.\u001b[0m\u001b[0mshape\u001b[0m\u001b[0;34m(\u001b[0m\u001b[0;34m)\u001b[0m\u001b[0;34m\u001b[0m\u001b[0m\n\u001b[0m",
      "\u001b[0;31mTypeError\u001b[0m: 'tuple' object is not callable"
     ]
    }
   ],
   "source": []
  },
  {
   "cell_type": "code",
   "execution_count": 14,
   "metadata": {},
   "outputs": [],
   "source": [
    "SY =  tc.SArray(Y)\n",
    "# SY.show()"
   ]
  },
  {
   "cell_type": "code",
   "execution_count": 15,
   "metadata": {},
   "outputs": [
    {
     "data": {
      "text/plain": [
       "turicreate.data_structures.sarray.SArray"
      ]
     },
     "execution_count": 15,
     "metadata": {},
     "output_type": "execute_result"
    }
   ],
   "source": [
    "# type(SY)"
   ]
  },
  {
   "cell_type": "markdown",
   "metadata": {},
   "source": [
    "# Normal Regression"
   ]
  },
  {
   "cell_type": "code",
   "execution_count": 16,
   "metadata": {},
   "outputs": [],
   "source": [
    "X_train, X_test, Y_train, Y_test = train_test_split(X, Y, test_size=0.2, random_state=42)"
   ]
  },
  {
   "cell_type": "code",
   "execution_count": 17,
   "metadata": {},
   "outputs": [
    {
     "name": "stdout",
     "output_type": "stream",
     "text": [
      "PROGRESS: Creating a validation set from 5 percent of training data. This may take a while.\n",
      "          You can set ``validation_set=None`` to disable validation tracking.\n",
      "\n"
     ]
    },
    {
     "data": {
      "text/html": [
       "<pre>Boosted trees regression:</pre>"
      ],
      "text/plain": [
       "Boosted trees regression:"
      ]
     },
     "metadata": {},
     "output_type": "display_data"
    },
    {
     "data": {
      "text/html": [
       "<pre>--------------------------------------------------------</pre>"
      ],
      "text/plain": [
       "--------------------------------------------------------"
      ]
     },
     "metadata": {},
     "output_type": "display_data"
    },
    {
     "data": {
      "text/html": [
       "<pre>Number of examples          : 2463</pre>"
      ],
      "text/plain": [
       "Number of examples          : 2463"
      ]
     },
     "metadata": {},
     "output_type": "display_data"
    },
    {
     "data": {
      "text/html": [
       "<pre>Number of features          : 1</pre>"
      ],
      "text/plain": [
       "Number of features          : 1"
      ]
     },
     "metadata": {},
     "output_type": "display_data"
    },
    {
     "data": {
      "text/html": [
       "<pre>Number of unpacked features : 101</pre>"
      ],
      "text/plain": [
       "Number of unpacked features : 101"
      ]
     },
     "metadata": {},
     "output_type": "display_data"
    },
    {
     "data": {
      "text/html": [
       "<pre>+-----------+--------------+--------------------+----------------------+---------------+-----------------+</pre>"
      ],
      "text/plain": [
       "+-----------+--------------+--------------------+----------------------+---------------+-----------------+"
      ]
     },
     "metadata": {},
     "output_type": "display_data"
    },
    {
     "data": {
      "text/html": [
       "<pre>| Iteration | Elapsed Time | Training-max_error | Validation-max_error | Training-rmse | Validation-rmse |</pre>"
      ],
      "text/plain": [
       "| Iteration | Elapsed Time | Training-max_error | Validation-max_error | Training-rmse | Validation-rmse |"
      ]
     },
     "metadata": {},
     "output_type": "display_data"
    },
    {
     "data": {
      "text/html": [
       "<pre>+-----------+--------------+--------------------+----------------------+---------------+-----------------+</pre>"
      ],
      "text/plain": [
       "+-----------+--------------+--------------------+----------------------+---------------+-----------------+"
      ]
     },
     "metadata": {},
     "output_type": "display_data"
    },
    {
     "data": {
      "text/html": [
       "<pre>| 1         | 0.078406     | 3.827802           | 3.090068             | 0.777390      | 0.845297        |</pre>"
      ],
      "text/plain": [
       "| 1         | 0.078406     | 3.827802           | 3.090068             | 0.777390      | 0.845297        |"
      ]
     },
     "metadata": {},
     "output_type": "display_data"
    },
    {
     "data": {
      "text/html": [
       "<pre>| 2         | 0.114883     | 3.202163           | 2.762130             | 0.631311      | 0.723918        |</pre>"
      ],
      "text/plain": [
       "| 2         | 0.114883     | 3.202163           | 2.762130             | 0.631311      | 0.723918        |"
      ]
     },
     "metadata": {},
     "output_type": "display_data"
    },
    {
     "data": {
      "text/html": [
       "<pre>| 3         | 0.142867     | 2.619628           | 2.577476             | 0.534786      | 0.648008        |</pre>"
      ],
      "text/plain": [
       "| 3         | 0.142867     | 2.619628           | 2.577476             | 0.534786      | 0.648008        |"
      ]
     },
     "metadata": {},
     "output_type": "display_data"
    },
    {
     "data": {
      "text/html": [
       "<pre>| 4         | 0.167236     | 2.263177           | 2.450784             | 0.467599      | 0.606371        |</pre>"
      ],
      "text/plain": [
       "| 4         | 0.167236     | 2.263177           | 2.450784             | 0.467599      | 0.606371        |"
      ]
     },
     "metadata": {},
     "output_type": "display_data"
    },
    {
     "data": {
      "text/html": [
       "<pre>| 5         | 0.192596     | 1.977732           | 2.404569             | 0.420160      | 0.581564        |</pre>"
      ],
      "text/plain": [
       "| 5         | 0.192596     | 1.977732           | 2.404569             | 0.420160      | 0.581564        |"
      ]
     },
     "metadata": {},
     "output_type": "display_data"
    },
    {
     "data": {
      "text/html": [
       "<pre>| 6         | 0.215050     | 1.908150           | 2.227062             | 0.386611      | 0.560558        |</pre>"
      ],
      "text/plain": [
       "| 6         | 0.215050     | 1.908150           | 2.227062             | 0.386611      | 0.560558        |"
      ]
     },
     "metadata": {},
     "output_type": "display_data"
    },
    {
     "data": {
      "text/html": [
       "<pre>| 11        | 0.303758     | 1.489045           | 1.964757             | 0.295201      | 0.537336        |</pre>"
      ],
      "text/plain": [
       "| 11        | 0.303758     | 1.489045           | 1.964757             | 0.295201      | 0.537336        |"
      ]
     },
     "metadata": {},
     "output_type": "display_data"
    },
    {
     "data": {
      "text/html": [
       "<pre>| 50        | 0.885603     | 0.400364           | 1.893130             | 0.080589      | 0.532247        |</pre>"
      ],
      "text/plain": [
       "| 50        | 0.885603     | 0.400364           | 1.893130             | 0.080589      | 0.532247        |"
      ]
     },
     "metadata": {},
     "output_type": "display_data"
    },
    {
     "data": {
      "text/html": [
       "<pre>| 51        | 0.909656     | 0.399986           | 1.878790             | 0.078800      | 0.531560        |</pre>"
      ],
      "text/plain": [
       "| 51        | 0.909656     | 0.399986           | 1.878790             | 0.078800      | 0.531560        |"
      ]
     },
     "metadata": {},
     "output_type": "display_data"
    },
    {
     "data": {
      "text/html": [
       "<pre>| 100       | 1.638984     | 0.131480           | 1.858947             | 0.020730      | 0.533645        |</pre>"
      ],
      "text/plain": [
       "| 100       | 1.638984     | 0.131480           | 1.858947             | 0.020730      | 0.533645        |"
      ]
     },
     "metadata": {},
     "output_type": "display_data"
    },
    {
     "data": {
      "text/html": [
       "<pre>| 101       | 1.663875     | 0.130425           | 1.858814             | 0.020188      | 0.533775        |</pre>"
      ],
      "text/plain": [
       "| 101       | 1.663875     | 0.130425           | 1.858814             | 0.020188      | 0.533775        |"
      ]
     },
     "metadata": {},
     "output_type": "display_data"
    },
    {
     "data": {
      "text/html": [
       "<pre>| 150       | 2.499336     | 0.113759           | 1.859433             | 0.005820      | 0.533534        |</pre>"
      ],
      "text/plain": [
       "| 150       | 2.499336     | 0.113759           | 1.859433             | 0.005820      | 0.533534        |"
      ]
     },
     "metadata": {},
     "output_type": "display_data"
    },
    {
     "data": {
      "text/html": [
       "<pre>| 200       | 3.051906     | 0.113566           | 1.856717             | 0.003687      | 0.533659        |</pre>"
      ],
      "text/plain": [
       "| 200       | 3.051906     | 0.113566           | 1.856717             | 0.003687      | 0.533659        |"
      ]
     },
     "metadata": {},
     "output_type": "display_data"
    },
    {
     "data": {
      "text/html": [
       "<pre>| 250       | 3.210312     | 0.113566           | 1.856717             | 0.003687      | 0.533659        |</pre>"
      ],
      "text/plain": [
       "| 250       | 3.210312     | 0.113566           | 1.856717             | 0.003687      | 0.533659        |"
      ]
     },
     "metadata": {},
     "output_type": "display_data"
    },
    {
     "data": {
      "text/html": [
       "<pre>| 300       | 3.366040     | 0.113566           | 1.856717             | 0.003687      | 0.533659        |</pre>"
      ],
      "text/plain": [
       "| 300       | 3.366040     | 0.113566           | 1.856717             | 0.003687      | 0.533659        |"
      ]
     },
     "metadata": {},
     "output_type": "display_data"
    },
    {
     "data": {
      "text/html": [
       "<pre>| 350       | 3.525909     | 0.113566           | 1.856717             | 0.003687      | 0.533659        |</pre>"
      ],
      "text/plain": [
       "| 350       | 3.525909     | 0.113566           | 1.856717             | 0.003687      | 0.533659        |"
      ]
     },
     "metadata": {},
     "output_type": "display_data"
    },
    {
     "data": {
      "text/html": [
       "<pre>| 400       | 3.685533     | 0.113566           | 1.856717             | 0.003687      | 0.533659        |</pre>"
      ],
      "text/plain": [
       "| 400       | 3.685533     | 0.113566           | 1.856717             | 0.003687      | 0.533659        |"
      ]
     },
     "metadata": {},
     "output_type": "display_data"
    },
    {
     "data": {
      "text/html": [
       "<pre>| 450       | 3.896477     | 0.113566           | 1.856717             | 0.003687      | 0.533659        |</pre>"
      ],
      "text/plain": [
       "| 450       | 3.896477     | 0.113566           | 1.856717             | 0.003687      | 0.533659        |"
      ]
     },
     "metadata": {},
     "output_type": "display_data"
    },
    {
     "data": {
      "text/html": [
       "<pre>| 500       | 4.096378     | 0.113566           | 1.856717             | 0.003687      | 0.533659        |</pre>"
      ],
      "text/plain": [
       "| 500       | 4.096378     | 0.113566           | 1.856717             | 0.003687      | 0.533659        |"
      ]
     },
     "metadata": {},
     "output_type": "display_data"
    },
    {
     "data": {
      "text/html": [
       "<pre>| 501       | 4.101359     | 0.113566           | 1.856717             | 0.003687      | 0.533659        |</pre>"
      ],
      "text/plain": [
       "| 501       | 4.101359     | 0.113566           | 1.856717             | 0.003687      | 0.533659        |"
      ]
     },
     "metadata": {},
     "output_type": "display_data"
    },
    {
     "data": {
      "text/html": [
       "<pre>| 550       | 4.275018     | 0.113566           | 1.856717             | 0.003687      | 0.533659        |</pre>"
      ],
      "text/plain": [
       "| 550       | 4.275018     | 0.113566           | 1.856717             | 0.003687      | 0.533659        |"
      ]
     },
     "metadata": {},
     "output_type": "display_data"
    },
    {
     "data": {
      "text/html": [
       "<pre>| 600       | 4.433999     | 0.113566           | 1.856717             | 0.003687      | 0.533659        |</pre>"
      ],
      "text/plain": [
       "| 600       | 4.433999     | 0.113566           | 1.856717             | 0.003687      | 0.533659        |"
      ]
     },
     "metadata": {},
     "output_type": "display_data"
    },
    {
     "data": {
      "text/html": [
       "<pre>+-----------+--------------+--------------------+----------------------+---------------+-----------------+</pre>"
      ],
      "text/plain": [
       "+-----------+--------------+--------------------+----------------------+---------------+-----------------+"
      ]
     },
     "metadata": {},
     "output_type": "display_data"
    }
   ],
   "source": [
    "dataY_train =  tc.SArray(Y_train.tolist())\n",
    "dataX_train = tc.SArray(X_train.tolist())\n",
    "data_train = tc.SFrame()\n",
    "data_train = data_train.add_column(dataX_train,'X')\n",
    "data_train = data_train.add_column(dataY_train,'Soluble')\n",
    "\n",
    "dataY_test =  tc.SArray(Y_test.tolist())\n",
    "dataX_test = tc.SArray(X_test.tolist())\n",
    "data_test = tc.SFrame()\n",
    "data_test = data_test.add_column(dataX_test,'X')\n",
    "data_test = data_test.add_column(dataY_test,'Soluble')\n",
    "\n",
    "# train_data, test_data = data.random_split(0.8)\n",
    "\n",
    "reg_model = tc.boosted_trees_regression.create(data_train, target='Soluble',features = ['X'],max_iterations = 600)"
   ]
  },
  {
   "cell_type": "code",
   "execution_count": 18,
   "metadata": {},
   "outputs": [
    {
     "name": "stdout",
     "output_type": "stream",
     "text": [
      "R2:  0.6252320480598499\n",
      "Mean Absolute Error (in g/litre):  0.3104500196566265\n",
      "Root Mean Squared Error (in g/litre):  1.1244702073383657\n"
     ]
    }
   ],
   "source": [
    "# reg_model.evaluate(data_test)\n",
    "import sklearn\n",
    "from math import sqrt\n",
    "predictions = reg_model.predict(data_test)\n",
    "pred = predictions\n",
    "act = list(data_test['Soluble'])\n",
    "R2 = sklearn.metrics.r2_score(act, pred)\n",
    "print(\"R2: \",R2)\n",
    "\n",
    "r_act = sc_y.inverse_transform(np.array(act).reshape(-1, 1))\n",
    "r_act = 10**r_act.reshape(-1,)\n",
    "\n",
    "r_pred = sc_y.inverse_transform(np.array(pred).reshape(-1, 1))\n",
    "r_pred = 10**r_pred.reshape(-1,)\n",
    "\n",
    "\n",
    "RMSE = sqrt(sklearn.metrics.mean_squared_error(r_act,r_pred))\n",
    "MAE = sklearn.metrics.mean_absolute_error(r_act,r_pred)\n",
    "\n",
    "print('Mean Absolute Error (in g/litre): ', MAE)\n",
    "print('Root Mean Squared Error (in g/litre): ', RMSE)"
   ]
  },
  {
   "cell_type": "code",
   "execution_count": 22,
   "metadata": {},
   "outputs": [
    {
     "data": {
      "image/png": "[encoded data removed]",
      "text/plain": [
       "<matplotlib.figure.Figure at 0x1c2bbd3518>"
      ]
     },
     "metadata": {},
     "output_type": "display_data"
    }
   ],
   "source": [
    "fig, ax = plt.subplots(figsize=(20, 10))\n",
    "ax.scatter(pred,act,s=10)\n",
    "plt.xlabel('Target solubility classes')\n",
    "plt.ylabel('Predicted solubility classes')\n",
    "plt.title('Performance of final Model')\n",
    "lims = [\n",
    "    np.min([ax.get_xlim(), ax.get_ylim()]),  # min of both axes\n",
    "    np.max([ax.get_xlim(), ax.get_ylim()]),  # max of both axes\n",
    "]\n",
    "\n",
    "# now plot both limits against eachother\n",
    "ax.plot(lims, lims, 'k-', alpha=0.45, zorder=0)\n",
    "ax.set_aspect('equal')\n",
    "ax.set_xlim(lims)\n",
    "ax.set_ylim(lims)\n",
    "plt.show()"
   ]
  },
  {
   "cell_type": "code",
   "execution_count": 110,
   "metadata": {},
   "outputs": [
    {
     "name": "stdout",
     "output_type": "stream",
     "text": [
      "PROGRESS: Creating a validation set from 5 percent of training data. This may take a while.\n",
      "          You can set ``validation_set=None`` to disable validation tracking.\n",
      "\n"
     ]
    },
    {
     "data": {
      "text/html": [
       "<pre>Linear regression:</pre>"
      ],
      "text/plain": [
       "Linear regression:"
      ]
     },
     "metadata": {},
     "output_type": "display_data"
    },
    {
     "data": {
      "text/html": [
       "<pre>--------------------------------------------------------</pre>"
      ],
      "text/plain": [
       "--------------------------------------------------------"
      ]
     },
     "metadata": {},
     "output_type": "display_data"
    },
    {
     "data": {
      "text/html": [
       "<pre>Number of examples          : 2438</pre>"
      ],
      "text/plain": [
       "Number of examples          : 2438"
      ]
     },
     "metadata": {},
     "output_type": "display_data"
    },
    {
     "data": {
      "text/html": [
       "<pre>Number of features          : 1</pre>"
      ],
      "text/plain": [
       "Number of features          : 1"
      ]
     },
     "metadata": {},
     "output_type": "display_data"
    },
    {
     "data": {
      "text/html": [
       "<pre>Number of unpacked features : 101</pre>"
      ],
      "text/plain": [
       "Number of unpacked features : 101"
      ]
     },
     "metadata": {},
     "output_type": "display_data"
    },
    {
     "data": {
      "text/html": [
       "<pre>Number of coefficients    : 102</pre>"
      ],
      "text/plain": [
       "Number of coefficients    : 102"
      ]
     },
     "metadata": {},
     "output_type": "display_data"
    },
    {
     "data": {
      "text/html": [
       "<pre>Starting Newton Method</pre>"
      ],
      "text/plain": [
       "Starting Newton Method"
      ]
     },
     "metadata": {},
     "output_type": "display_data"
    },
    {
     "data": {
      "text/html": [
       "<pre>--------------------------------------------------------</pre>"
      ],
      "text/plain": [
       "--------------------------------------------------------"
      ]
     },
     "metadata": {},
     "output_type": "display_data"
    },
    {
     "data": {
      "text/html": [
       "<pre>+-----------+----------+--------------+--------------------+----------------------+---------------+-----------------+</pre>"
      ],
      "text/plain": [
       "+-----------+----------+--------------+--------------------+----------------------+---------------+-----------------+"
      ]
     },
     "metadata": {},
     "output_type": "display_data"
    },
    {
     "data": {
      "text/html": [
       "<pre>| Iteration | Passes   | Elapsed Time | Training-max_error | Validation-max_error | Training-rmse | Validation-rmse |</pre>"
      ],
      "text/plain": [
       "| Iteration | Passes   | Elapsed Time | Training-max_error | Validation-max_error | Training-rmse | Validation-rmse |"
      ]
     },
     "metadata": {},
     "output_type": "display_data"
    },
    {
     "data": {
      "text/html": [
       "<pre>+-----------+----------+--------------+--------------------+----------------------+---------------+-----------------+</pre>"
      ],
      "text/plain": [
       "+-----------+----------+--------------+--------------------+----------------------+---------------+-----------------+"
      ]
     },
     "metadata": {},
     "output_type": "display_data"
    },
    {
     "data": {
      "text/html": [
       "<pre>| 1         | 2        | 0.112443     | 2.856891           | 2.148564             | 0.548878      | 0.535059        |</pre>"
      ],
      "text/plain": [
       "| 1         | 2        | 0.112443     | 2.856891           | 2.148564             | 0.548878      | 0.535059        |"
      ]
     },
     "metadata": {},
     "output_type": "display_data"
    },
    {
     "data": {
      "text/html": [
       "<pre>+-----------+----------+--------------+--------------------+----------------------+---------------+-----------------+</pre>"
      ],
      "text/plain": [
       "+-----------+----------+--------------+--------------------+----------------------+---------------+-----------------+"
      ]
     },
     "metadata": {},
     "output_type": "display_data"
    },
    {
     "data": {
      "text/html": [
       "<pre>SUCCESS: Optimal solution found.</pre>"
      ],
      "text/plain": [
       "SUCCESS: Optimal solution found."
      ]
     },
     "metadata": {},
     "output_type": "display_data"
    },
    {
     "data": {
      "text/html": [
       "<pre></pre>"
      ],
      "text/plain": []
     },
     "metadata": {},
     "output_type": "display_data"
    }
   ],
   "source": [
    "lin_reg_model = tc.linear_regression.create(data_train, target='Soluble',features = ['X'])"
   ]
  },
  {
   "cell_type": "code",
   "execution_count": 112,
   "metadata": {},
   "outputs": [
    {
     "name": "stdout",
     "output_type": "stream",
     "text": [
      "R2:  0.525234390977\n",
      "Mean Absolute Error (in g/litre):  0.354574459979\n",
      "Root Mean Squared Error (in g/litre):  1.3486846946082123\n"
     ]
    }
   ],
   "source": [
    "import sklearn\n",
    "from math import sqrt\n",
    "predictions = lin_reg_model.predict(data_test)\n",
    "pred = predictions\n",
    "act = list(data_test['Soluble'])\n",
    "R2 = sklearn.metrics.r2_score(act, pred)\n",
    "print(\"R2: \",R2)\n",
    "\n",
    "r_act = sc_y.inverse_transform(np.array(act).reshape(-1, 1))\n",
    "r_act = 10**r_act.reshape(-1,)\n",
    "\n",
    "r_pred = sc_y.inverse_transform(np.array(pred).reshape(-1, 1))\n",
    "r_pred = 10**r_pred.reshape(-1,)\n",
    "\n",
    "\n",
    "RMSE = sqrt(sklearn.metrics.mean_squared_error(r_act,r_pred))\n",
    "MAE = sklearn.metrics.mean_absolute_error(r_act,r_pred)\n",
    "\n",
    "print('Mean Absolute Error (in g/litre): ', MAE)\n",
    "print('Root Mean Squared Error (in g/litre): ', RMSE)"
   ]
  },
  {
   "cell_type": "code",
   "execution_count": 113,
   "metadata": {},
   "outputs": [
    {
     "data": {
      "image/png": "[encoded data removed]",
      "text/plain": [
       "<matplotlib.figure.Figure at 0x1c3c8315c0>"
      ]
     },
     "metadata": {},
     "output_type": "display_data"
    }
   ],
   "source": [
    "fig, ax = plt.subplots(figsize=(20, 10))\n",
    "ax.scatter(pred,act,s=10)\n",
    "plt.xlabel('Target solubility classes')\n",
    "plt.ylabel('Predicted solubility classes')\n",
    "plt.title('Performance of final Model')\n",
    "lims = [\n",
    "    np.min([ax.get_xlim(), ax.get_ylim()]),  # min of both axes\n",
    "    np.max([ax.get_xlim(), ax.get_ylim()]),  # max of both axes\n",
    "]\n",
    "\n",
    "# now plot both limits against eachother\n",
    "ax.plot(lims, lims, 'k-', alpha=0.45, zorder=0)\n",
    "ax.set_aspect('equal')\n",
    "ax.set_xlim(lims)\n",
    "ax.set_ylim(lims)\n",
    "plt.show()"
   ]
  },
  {
   "cell_type": "markdown",
   "metadata": {},
   "source": [
    "# Simple Dense Network"
   ]
  },
  {
   "cell_type": "code",
   "execution_count": 19,
   "metadata": {},
   "outputs": [],
   "source": [
    "X_train = X_train.reshape((X_train.shape[0], 101, ))\n",
    "Y_train = Y_train.reshape((Y_train.shape[0], ))\n",
    "\n",
    "X_test = X_test.reshape((X_test.shape[0], 101, ))\n",
    "Y_test = Y_test.reshape((Y_test.shape[0], ))"
   ]
  },
  {
   "cell_type": "code",
   "execution_count": 20,
   "metadata": {},
   "outputs": [],
   "source": [
    "model = Sequential()\n",
    "model.add(Dense(200, input_dim=101, kernel_initializer='normal', activation='tanh'))\n",
    "model.add(Dense(50,activation='relu'))\n",
    "model.add(Dense(10,activation='relu'))\n",
    "model.add(Dropout(0.2))\n",
    "model.add(Dense(5,activation='linear'))\n",
    "model.add(Dense(1,activation='linear'))"
   ]
  },
  {
   "cell_type": "code",
   "execution_count": 21,
   "metadata": {},
   "outputs": [],
   "source": [
    "earlystop = EarlyStopping(monitor='val_loss',patience=5, verbose=1, mode='auto')\n",
    "reduce_lr = ReduceLROnPlateau(monitor='val_loss', factor=0.1, patience=10, min_lr=0.00001)"
   ]
  },
  {
   "cell_type": "code",
   "execution_count": 22,
   "metadata": {},
   "outputs": [],
   "source": [
    "callbacks = [earlystop, reduce_lr]"
   ]
  },
  {
   "cell_type": "code",
   "execution_count": 23,
   "metadata": {
    "collapsed": true
   },
   "outputs": [
    {
     "name": "stdout",
     "output_type": "stream",
     "text": [
      "Train on 2580 samples, validate on 645 samples\n",
      "Epoch 1/100\n",
      " - 200s - loss: 0.4910 - val_loss: 0.3936\n",
      "Epoch 2/100\n",
      " - 0s - loss: 0.3526 - val_loss: 0.3042\n",
      "Epoch 3/100\n",
      " - 0s - loss: 0.3052 - val_loss: 0.3087\n",
      "Epoch 4/100\n",
      " - 0s - loss: 0.2879 - val_loss: 0.2748\n",
      "Epoch 5/100\n",
      " - 0s - loss: 0.2698 - val_loss: 0.2917\n",
      "Epoch 6/100\n",
      " - 0s - loss: 0.2661 - val_loss: 0.2930\n",
      "Epoch 7/100\n",
      " - 0s - loss: 0.2440 - val_loss: 0.2705\n",
      "Epoch 8/100\n",
      " - 0s - loss: 0.2439 - val_loss: 0.2592\n",
      "Epoch 9/100\n",
      " - 0s - loss: 0.2423 - val_loss: 0.2547\n",
      "Epoch 10/100\n",
      " - 0s - loss: 0.2319 - val_loss: 0.2708\n",
      "Epoch 11/100\n",
      " - 0s - loss: 0.2151 - val_loss: 0.2650\n",
      "Epoch 12/100\n",
      " - 0s - loss: 0.2160 - val_loss: 0.2582\n",
      "Epoch 13/100\n",
      " - 0s - loss: 0.2094 - val_loss: 0.2595\n",
      "Epoch 14/100\n",
      " - 0s - loss: 0.2054 - val_loss: 0.2408\n",
      "Epoch 15/100\n",
      " - 0s - loss: 0.2038 - val_loss: 0.2507\n",
      "Epoch 16/100\n",
      " - 0s - loss: 0.2046 - val_loss: 0.2512\n",
      "Epoch 17/100\n",
      " - 0s - loss: 0.1918 - val_loss: 0.2459\n",
      "Epoch 18/100\n",
      " - 0s - loss: 0.1822 - val_loss: 0.2507\n",
      "Epoch 19/100\n",
      " - 0s - loss: 0.1951 - val_loss: 0.2444\n",
      "Epoch 20/100\n",
      " - 0s - loss: 0.1764 - val_loss: 0.2324\n",
      "Epoch 21/100\n",
      " - 0s - loss: 0.1816 - val_loss: 0.2482\n",
      "Epoch 22/100\n",
      " - 0s - loss: 0.1799 - val_loss: 0.2591\n",
      "Epoch 23/100\n",
      " - 0s - loss: 0.1675 - val_loss: 0.2589\n",
      "Epoch 24/100\n",
      " - 0s - loss: 0.1729 - val_loss: 0.2474\n",
      "Epoch 25/100\n",
      " - 0s - loss: 0.1709 - val_loss: 0.2345\n",
      "Epoch 26/100\n",
      " - 0s - loss: 0.1753 - val_loss: 0.2714\n",
      "Epoch 27/100\n",
      " - 0s - loss: 0.1719 - val_loss: 0.2414\n",
      "Epoch 28/100\n",
      " - 0s - loss: 0.1667 - val_loss: 0.2469\n",
      "Epoch 29/100\n",
      " - 0s - loss: 0.1631 - val_loss: 0.3110\n",
      "Epoch 30/100\n",
      " - 0s - loss: 0.1590 - val_loss: 0.2584\n",
      "Epoch 31/100\n",
      " - 0s - loss: 0.1588 - val_loss: 0.2472\n",
      "Epoch 32/100\n",
      " - 0s - loss: 0.1575 - val_loss: 0.2465\n",
      "Epoch 33/100\n",
      " - 0s - loss: 0.1457 - val_loss: 0.2477\n",
      "Epoch 34/100\n",
      " - 0s - loss: 0.1514 - val_loss: 0.2415\n",
      "Epoch 35/100\n",
      " - 0s - loss: 0.1478 - val_loss: 0.2668\n",
      "Epoch 36/100\n",
      " - 0s - loss: 0.1459 - val_loss: 0.2562\n",
      "Epoch 37/100\n",
      " - 0s - loss: 0.1433 - val_loss: 0.2422\n",
      "Epoch 38/100\n",
      " - 0s - loss: 0.1387 - val_loss: 0.2370\n",
      "Epoch 39/100\n",
      " - 0s - loss: 0.1405 - val_loss: 0.2520\n",
      "Epoch 40/100\n",
      " - 0s - loss: 0.1419 - val_loss: 0.2741\n",
      "Epoch 41/100\n",
      " - 0s - loss: 0.1358 - val_loss: 0.2646\n",
      "Epoch 42/100\n",
      " - 0s - loss: 0.1367 - val_loss: 0.2594\n",
      "Epoch 43/100\n",
      " - 0s - loss: 0.1334 - val_loss: 0.2524\n",
      "Epoch 44/100\n",
      " - 0s - loss: 0.1330 - val_loss: 0.2478\n",
      "Epoch 45/100\n",
      " - 0s - loss: 0.1299 - val_loss: 0.2556\n",
      "Epoch 46/100\n",
      " - 0s - loss: 0.1276 - val_loss: 0.2430\n",
      "Epoch 47/100\n",
      " - 0s - loss: 0.1308 - val_loss: 0.2490\n",
      "Epoch 48/100\n",
      " - 0s - loss: 0.1250 - val_loss: 0.2553\n",
      "Epoch 49/100\n",
      " - 0s - loss: 0.1248 - val_loss: 0.2733\n",
      "Epoch 50/100\n",
      " - 0s - loss: 0.1289 - val_loss: 0.2663\n",
      "Epoch 51/100\n",
      " - 0s - loss: 0.1258 - val_loss: 0.2556\n",
      "Epoch 52/100\n",
      " - 0s - loss: 0.1186 - val_loss: 0.2528\n",
      "Epoch 53/100\n",
      " - 0s - loss: 0.1212 - val_loss: 0.2728\n",
      "Epoch 54/100\n",
      " - 0s - loss: 0.1218 - val_loss: 0.2772\n",
      "Epoch 55/100\n",
      " - 0s - loss: 0.1213 - val_loss: 0.2449\n",
      "Epoch 56/100\n",
      " - 0s - loss: 0.1221 - val_loss: 0.2370\n",
      "Epoch 57/100\n",
      " - 0s - loss: 0.1140 - val_loss: 0.2500\n",
      "Epoch 58/100\n",
      " - 0s - loss: 0.1220 - val_loss: 0.2517\n",
      "Epoch 59/100\n",
      " - 0s - loss: 0.1061 - val_loss: 0.2600\n",
      "Epoch 60/100\n",
      " - 0s - loss: 0.1182 - val_loss: 0.2651\n",
      "Epoch 61/100\n",
      " - 0s - loss: 0.1106 - val_loss: 0.2542\n",
      "Epoch 62/100\n",
      " - 0s - loss: 0.1090 - val_loss: 0.2682\n",
      "Epoch 63/100\n",
      " - 0s - loss: 0.1115 - val_loss: 0.2670\n",
      "Epoch 64/100\n",
      " - 0s - loss: 0.1084 - val_loss: 0.2486\n",
      "Epoch 65/100\n",
      " - 0s - loss: 0.1115 - val_loss: 0.2590\n",
      "Epoch 66/100\n",
      " - 0s - loss: 0.1019 - val_loss: 0.2602\n",
      "Epoch 67/100\n",
      " - 0s - loss: 0.1049 - val_loss: 0.2717\n",
      "Epoch 68/100\n",
      " - 0s - loss: 0.1052 - val_loss: 0.2540\n",
      "Epoch 69/100\n",
      " - 0s - loss: 0.1035 - val_loss: 0.2596\n",
      "Epoch 70/100\n",
      " - 0s - loss: 0.0984 - val_loss: 0.2610\n",
      "Epoch 71/100\n",
      " - 0s - loss: 0.1033 - val_loss: 0.2485\n",
      "Epoch 72/100\n",
      " - 0s - loss: 0.1021 - val_loss: 0.2547\n",
      "Epoch 73/100\n",
      " - 0s - loss: 0.1016 - val_loss: 0.2614\n",
      "Epoch 74/100\n",
      " - 0s - loss: 0.0983 - val_loss: 0.2461\n",
      "Epoch 75/100\n",
      " - 0s - loss: 0.0968 - val_loss: 0.2704\n",
      "Epoch 76/100\n",
      " - 0s - loss: 0.0979 - val_loss: 0.2537\n",
      "Epoch 77/100\n",
      " - 0s - loss: 0.1069 - val_loss: 0.2465\n",
      "Epoch 78/100\n",
      " - 0s - loss: 0.0992 - val_loss: 0.2556\n",
      "Epoch 79/100\n",
      " - 0s - loss: 0.0979 - val_loss: 0.2523\n",
      "Epoch 80/100\n",
      " - 0s - loss: 0.0921 - val_loss: 0.2497\n",
      "Epoch 81/100\n",
      " - 0s - loss: 0.0966 - val_loss: 0.2569\n",
      "Epoch 82/100\n",
      " - 0s - loss: 0.0948 - val_loss: 0.2495\n",
      "Epoch 83/100\n",
      " - 0s - loss: 0.0955 - val_loss: 0.2621\n",
      "Epoch 84/100\n",
      " - 0s - loss: 0.0991 - val_loss: 0.2497\n",
      "Epoch 85/100\n",
      " - 0s - loss: 0.0929 - val_loss: 0.2664\n",
      "Epoch 86/100\n",
      " - 0s - loss: 0.0893 - val_loss: 0.2482\n",
      "Epoch 87/100\n",
      " - 0s - loss: 0.0936 - val_loss: 0.2709\n",
      "Epoch 88/100\n",
      " - 0s - loss: 0.0945 - val_loss: 0.2512\n",
      "Epoch 89/100\n",
      " - 0s - loss: 0.0905 - val_loss: 0.2590\n",
      "Epoch 90/100\n",
      " - 0s - loss: 0.0985 - val_loss: 0.2699\n",
      "Epoch 91/100\n",
      " - 0s - loss: 0.0886 - val_loss: 0.2597\n",
      "Epoch 92/100\n",
      " - 0s - loss: 0.0847 - val_loss: 0.2681\n",
      "Epoch 93/100\n",
      " - 0s - loss: 0.0899 - val_loss: 0.2637\n",
      "Epoch 94/100\n",
      " - 0s - loss: 0.1009 - val_loss: 0.2627\n",
      "Epoch 95/100\n",
      " - 0s - loss: 0.0875 - val_loss: 0.2564\n",
      "Epoch 96/100\n",
      " - 0s - loss: 0.0876 - val_loss: 0.2725\n",
      "Epoch 97/100\n",
      " - 0s - loss: 0.0841 - val_loss: 0.2770\n",
      "Epoch 98/100\n",
      " - 0s - loss: 0.0841 - val_loss: 0.2758\n",
      "Epoch 99/100\n",
      " - 0s - loss: 0.0858 - val_loss: 0.2756\n",
      "Epoch 100/100\n",
      " - 0s - loss: 0.0766 - val_loss: 0.2718\n"
     ]
    }
   ],
   "source": [
    "model.compile(loss='mean_squared_error', optimizer='rmsprop')\n",
    "model_info = model.fit(X_train, Y_train, epochs=100, batch_size=100, verbose=2,\n",
    "                       validation_data=(X_test,Y_test))#,callbacks=callbacks)"
   ]
  },
  {
   "cell_type": "code",
   "execution_count": 25,
   "metadata": {},
   "outputs": [
    {
     "data": {
      "image/png": "[encoded data removed]",
      "text/plain": [
       "<matplotlib.figure.Figure at 0x7f2328468a58>"
      ]
     },
     "metadata": {},
     "output_type": "display_data"
    }
   ],
   "source": [
    "def plot_model_history(model_history):\n",
    "    fig, axs = plt.subplots(figsize=(15,5))\n",
    "    axs.plot(range(1,len(model_history.history['loss'])+1),model_history.history['loss'])\n",
    "    axs.plot(range(1,len(model_history.history['val_loss'])+1),model_history.history['val_loss'])\n",
    "    axs.set_title('Model Loss')\n",
    "    axs.set_ylabel('Loss')\n",
    "    axs.set_xlabel('Epoch')\n",
    "    axs.set_xticks(np.arange(1,len(model_history.history['loss'])+1),len(model_history.history['loss'])/10)\n",
    "    axs.legend(['train', 'val'], loc='best')\n",
    "    plt.show()\n",
    "\n",
    "plot_model_history(model_info)"
   ]
  },
  {
   "cell_type": "code",
   "execution_count": 26,
   "metadata": {},
   "outputs": [
    {
     "name": "stdout",
     "output_type": "stream",
     "text": [
      "R2:  0.6130034683908445\n",
      "Mean Absolute Error (in g/litre):  0.4949899801483527\n",
      "Root Mean Squared Error (in g/litre):  3.13025389428472\n"
     ]
    }
   ],
   "source": [
    "import sklearn\n",
    "pred = model.predict(X_test)\n",
    "act = Y_test\n",
    "R2 = sklearn.metrics.r2_score(act, pred)\n",
    "print(\"R2: \",R2)\n",
    "\n",
    "r_act = sc_y.inverse_transform(np.array(act).reshape(-1, 1))\n",
    "r_act = 10**r_act.reshape(-1,)\n",
    "\n",
    "r_pred = sc_y.inverse_transform(np.array(pred).reshape(-1, 1))\n",
    "r_pred = 10**r_pred.reshape(-1,)\n",
    "\n",
    "\n",
    "RMSE = sqrt(sklearn.metrics.mean_squared_error(r_act,r_pred))\n",
    "MAE = sklearn.metrics.mean_absolute_error(r_act,r_pred)\n",
    "\n",
    "print('Mean Absolute Error (in g/litre): ', MAE)\n",
    "print('Root Mean Squared Error (in g/litre): ', RMSE)"
   ]
  },
  {
   "cell_type": "code",
   "execution_count": 27,
   "metadata": {},
   "outputs": [
    {
     "data": {
      "image/png": "[encoded data removed]",
      "text/plain": [
       "<matplotlib.figure.Figure at 0x7f2328024d30>"
      ]
     },
     "metadata": {},
     "output_type": "display_data"
    }
   ],
   "source": [
    "fig, ax = plt.subplots(figsize=(20, 10))\n",
    "ax.scatter(Y_test,model.predict(X_test), s= 10)\n",
    "plt.xlabel('Target solubility classes')\n",
    "plt.ylabel('Predicted solubility classes')\n",
    "plt.title('Performance of final Model')\n",
    "lims = [\n",
    "    np.min([ax.get_xlim(), ax.get_ylim()]),  # min of both axes\n",
    "    np.max([ax.get_xlim(), ax.get_ylim()]),  # max of both axes\n",
    "]\n",
    "\n",
    "# now plot both limits against eachother\n",
    "ax.plot(lims, lims, 'k-', alpha=0.45, zorder=0)\n",
    "ax.set_aspect('equal')\n",
    "ax.set_xlim(lims)\n",
    "ax.set_ylim(lims)\n",
    "plt.show()"
   ]
  },
  {
   "cell_type": "markdown",
   "metadata": {},
   "source": [
    "# CNN"
   ]
  },
  {
   "cell_type": "code",
   "execution_count": 39,
   "metadata": {
    "collapsed": true
   },
   "outputs": [],
   "source": [
    "data_cnn = X_train[:,:100].reshape((X_train[:,:100].shape[0], 100, 1))\n",
    "val_data_cnn = X_test[:,:100].reshape(X_test[:,:100].shape[0],100,1)\n",
    "target = Y_train.reshape(Y_train.shape[0],1)\n",
    "val_target = Y_test.reshape(Y_test.shape[0],1)\n",
    "data_mw = X_train[:,-1].reshape((X_train[:,-1].shape[0],1))\n",
    "val_data_mw = X_test[:,-1].reshape((X_test[:,-1].shape[0],1))\n",
    "# val_target = Y_test"
   ]
  },
  {
   "cell_type": "code",
   "execution_count": 40,
   "metadata": {},
   "outputs": [
    {
     "name": "stderr",
     "output_type": "stream",
     "text": [
      "/anaconda3/lib/python3.6/site-packages/tensorflow/python/util/tf_inspect.py:45: DeprecationWarning: inspect.getargspec() is deprecated, use inspect.signature() or inspect.getfullargspec()\n",
      "  if d.decorator_argspec is not None), _inspect.getargspec(target))\n",
      "/anaconda3/lib/python3.6/site-packages/ipykernel_launcher.py:19: UserWarning: The `Merge` layer is deprecated and will be removed after 08/2017. Use instead layers from `keras.layers.merge`, e.g. `add`, `concatenate`, etc.\n"
     ]
    }
   ],
   "source": [
    "branch1 = Sequential()\n",
    "\n",
    "branch1.add(Conv1D(2,3,activation='tanh',input_shape=(100, 1)))\n",
    "branch1.add(Conv1D(4,3,activation='tanh'))\n",
    "branch1.add(Conv1D(6,3,activation='tanh'))\n",
    "branch1.add(Dropout(0.2))\n",
    "branch1.add(Conv1D(8,3,activation='tanh'))\n",
    "branch1.add(Conv1D(10,3,activation='relu'))\n",
    "branch1.add(Flatten())\n",
    "branch1.add(Dense(10))\n",
    "\n",
    "\n",
    "branch2 = Sequential()\n",
    "branch2.add(Dense(10,input_dim=1))\n",
    "branch2.add(Dense(10,activation='linear'))\n",
    "            \n",
    "            \n",
    "cnnmodel =Sequential()\n",
    "cnnmodel.add(Merge([branch1, branch2], mode = 'concat'))\n",
    "cnnmodel.add(Dense(1,activation='linear'))\n",
    "cnnmodel.add(Dense(1,activation='linear'))"
   ]
  },
  {
   "cell_type": "code",
   "execution_count": 24,
   "metadata": {},
   "outputs": [
    {
     "ename": "NameError",
     "evalue": "name 'cnnmodel' is not defined",
     "output_type": "error",
     "traceback": [
      "\u001b[0;31m---------------------------------------------------------------------------\u001b[0m",
      "\u001b[0;31mNameError\u001b[0m                                 Traceback (most recent call last)",
      "\u001b[0;32m<ipython-input-24-3b8bf27d64b7>\u001b[0m in \u001b[0;36m<module>\u001b[0;34m\u001b[0m\n\u001b[0;32m----> 1\u001b[0;31m \u001b[0mcnnmodel\u001b[0m\u001b[0;34m.\u001b[0m\u001b[0mcompile\u001b[0m\u001b[0;34m(\u001b[0m\u001b[0mloss\u001b[0m\u001b[0;34m=\u001b[0m\u001b[0;34m'mean_squared_error'\u001b[0m\u001b[0;34m,\u001b[0m \u001b[0moptimizer\u001b[0m\u001b[0;34m=\u001b[0m\u001b[0;34m'adam'\u001b[0m\u001b[0;34m)\u001b[0m\u001b[0;34m\u001b[0m\u001b[0m\n\u001b[0m\u001b[1;32m      2\u001b[0m cnnmodel_info = cnnmodel.fit([data_cnn,data_mw], target, epochs=20, batch_size=100, verbose=2,\n\u001b[1;32m      3\u001b[0m                           validation_data=([val_data_cnn,val_data_mw],val_target))\n",
      "\u001b[0;31mNameError\u001b[0m: name 'cnnmodel' is not defined"
     ]
    }
   ],
   "source": [
    "cnnmodel.compile(loss='mean_squared_error', optimizer='adam')\n",
    "cnnmodel_info = cnnmodel.fit([data_cnn,data_mw], target, epochs=20, batch_size=100, verbose=2,\n",
    "                          validation_data=([val_data_cnn,val_data_mw],val_target))"
   ]
  },
  {
   "cell_type": "code",
   "execution_count": 99,
   "metadata": {},
   "outputs": [
    {
     "name": "stdout",
     "output_type": "stream",
     "text": [
      "R2:  0.597962549453\n",
      "Mean Absolute Error (in g/litre):  0.326776055304\n",
      "Root Mean Squared Error (in g/litre):  1.281002269463329\n"
     ]
    }
   ],
   "source": [
    "import sklearn\n",
    "pred = cnnmodel.predict([val_data_cnn,val_data_mw])\n",
    "act = val_target\n",
    "R2 = sklearn.metrics.r2_score(act, pred)\n",
    "print(\"R2: \",R2)\n",
    "\n",
    "r_act = sc_y.inverse_transform(np.array(act).reshape(-1, 1))\n",
    "r_act = 10**r_act.reshape(-1,)\n",
    "\n",
    "r_pred = sc_y.inverse_transform(np.array(pred).reshape(-1, 1))\n",
    "r_pred = 10**r_pred.reshape(-1,)\n",
    "\n",
    "\n",
    "RMSE = sqrt(sklearn.metrics.mean_squared_error(r_act,r_pred))\n",
    "MAE = sklearn.metrics.mean_absolute_error(r_act,r_pred)\n",
    "\n",
    "print('Mean Absolute Error (in g/litre): ', MAE)\n",
    "print('Root Mean Squared Error (in g/litre): ', RMSE)"
   ]
  },
  {
   "cell_type": "code",
   "execution_count": 19,
   "metadata": {},
   "outputs": [
    {
     "data": {
      "image/png": "[encoded data removed]",
      "text/plain": [
       "<matplotlib.figure.Figure at 0x1c2968a940>"
      ]
     },
     "metadata": {},
     "output_type": "display_data"
    }
   ],
   "source": [
    "fig, ax = plt.subplots(figsize=(20, 10))\n",
    "ax.scatter(val_target,cnnmodel.predict([val_data_cnn,val_data_mw]), s= 10)\n",
    "plt.xlabel('Target solubility classes')\n",
    "plt.ylabel('Predicted solubility classes')\n",
    "plt.title('Performance of final Model')\n",
    "lims = [\n",
    "    np.min([ax.get_xlim(), ax.get_ylim()]),  # min of both axes\n",
    "    np.max([ax.get_xlim(), ax.get_ylim()]),  # max of both axes\n",
    "]\n",
    "\n",
    "# now plot both limits against eachother\n",
    "ax.plot(lims, lims, 'k-', alpha=0.45, zorder=0)\n",
    "ax.set_aspect('equal')\n",
    "ax.set_xlim(lims)\n",
    "ax.set_ylim(lims)\n",
    "plt.show()"
   ]
  },
  {
   "cell_type": "markdown",
   "metadata": {},
   "source": [
    "# RNN - Performs very poorly"
   ]
  },
  {
   "cell_type": "code",
   "execution_count": 61,
   "metadata": {},
   "outputs": [],
   "source": [
    "# # The standard model\n",
    "# # Here 50, the dimensionality of the output from LSTM is just a random no and has no suxh signifance, \n",
    "# # That ^^ shuould be search via a hyperparameter search\n",
    "\n",
    "# branch1 = Sequential()\n",
    "# # The a<final output> will have 50 numbers \n",
    "# branch1.add(LSTM(100, input_shape=(100, 1)))\n",
    "# # branch1.add(Dropout(0.2))\n",
    "# branch1.add(Dense(200,activation='tanh'))\n",
    "\n",
    "\n",
    "\n",
    "# branch2 = Sequential()\n",
    "# branch2.add(Dense(5,input_dim=1))\n",
    "# rnnmodel =Sequential()\n",
    "# rnnmodel.add(Merge([branch1, branch2], mode = 'concat'))\n",
    "# rnnmodel.add(Dense(10,activation='relu'))\n",
    "# rnnmodel.add(Dense(5,activation='linear'))\n",
    "# rnnmodel.add(Dense(1,activation='linear'))"
   ]
  },
  {
   "cell_type": "code",
   "execution_count": 62,
   "metadata": {
    "collapsed": true
   },
   "outputs": [],
   "source": [
    "# rnnmodel.compile(loss='mean_squared_error', optimizer='rmsprop')\n",
    "# rnnmodel_info = cnnmodel.fit([data_cnn,data_mw], target, epochs=100, batch_size=1000, verbose=2,\n",
    "#                           validation_data=([val_data_cnn,val_data_mw],val_target))"
   ]
  },
  {
   "cell_type": "code",
   "execution_count": 63,
   "metadata": {},
   "outputs": [],
   "source": [
    "# fig, ax = plt.subplots(figsize=(20, 10))\n",
    "# ax.scatter(val_target,rnnmodel.predict([val_data_cnn,val_data_mw]), s= 10)\n",
    "# plt.xlabel('Target solubility classes')\n",
    "# plt.ylabel('Predicted solubility classes')\n",
    "# plt.title('Performance of final Model')\n",
    "# lims = [\n",
    "#     np.min([ax.get_xlim(), ax.get_ylim()]),  # min of both axes\n",
    "#     np.max([ax.get_xlim(), ax.get_ylim()]),  # max of both axes\n",
    "# ]\n",
    "\n",
    "# # now plot both limits against eachother\n",
    "# ax.plot(lims, lims, 'k-', alpha=0.45, zorder=0)\n",
    "# ax.set_aspect('equal')\n",
    "# ax.set_xlim(lims)\n",
    "# ax.set_ylim(lims)\n",
    "# plt.show()"
   ]
  },
  {
   "cell_type": "markdown",
   "metadata": {},
   "source": [
    "# AutoSklearn"
   ]
  },
  {
   "cell_type": "code",
   "execution_count": 23,
   "metadata": {},
   "outputs": [],
   "source": [
    "# import sklearn.model_selection\n",
    "# import sklearn.datasets\n",
    "# import sklearn.metrics\n",
    "\n",
    "# import autosklearn.regression\n",
    "\n",
    "# X_train, X_test, Y_train, Y_test = train_test_split(X, Y, test_size=0.2, random_state=42)\n",
    "# feature_types = (['numerical'] * 101)# + ['categorical'] + (['numerical'] * 9)\n",
    "\n",
    "# automl = autosklearn.regression.AutoSklearnRegressor()\n",
    "# #     time_left_for_this_task=120,\n",
    "# #     per_run_time_limit=30,\n",
    "# #     tmp_folder='/tmp/autosklearn_regression_example_tmp',\n",
    "# #     output_folder='/tmp/autosklearn_regression_example_out',\n",
    "# # )\n",
    "\n",
    "# automl.fit(X_train, Y_train)#, dataset_name='molc',feat_type=feature_types)\n",
    "\n",
    "# print(automl.show_models())\n",
    "# predictions = automl.predict(X_test)\n",
    "# print(\"R2 score:\", sklearn.metrics.r2_score(Y_test, predictions))"
   ]
  },
  {
   "cell_type": "code",
   "execution_count": 24,
   "metadata": {
    "collapsed": true
   },
   "outputs": [
    {
     "name": "stderr",
     "output_type": "stream",
     "text": [
      "/anaconda3/lib/python3.6/site-packages/sklearn/base.py:312: UserWarning: Trying to unpickle estimator Imputer from version 0.19.2 when using version 0.19.0. This might lead to breaking code or invalid results. Use at your own risk.\n",
      "  UserWarning)\n",
      "/anaconda3/lib/python3.6/site-packages/sklearn/base.py:312: UserWarning: Trying to unpickle estimator VarianceThreshold from version 0.19.2 when using version 0.19.0. This might lead to breaking code or invalid results. Use at your own risk.\n",
      "  UserWarning)\n",
      "/anaconda3/lib/python3.6/site-packages/sklearn/base.py:312: UserWarning: Trying to unpickle estimator MinMaxScaler from version 0.19.2 when using version 0.19.0. This might lead to breaking code or invalid results. Use at your own risk.\n",
      "  UserWarning)\n",
      "/anaconda3/lib/python3.6/site-packages/sklearn/base.py:312: UserWarning: Trying to unpickle estimator SelectPercentile from version 0.19.2 when using version 0.19.0. This might lead to breaking code or invalid results. Use at your own risk.\n",
      "  UserWarning)\n",
      "/anaconda3/lib/python3.6/site-packages/sklearn/base.py:312: UserWarning: Trying to unpickle estimator Ridge from version 0.19.2 when using version 0.19.0. This might lead to breaking code or invalid results. Use at your own risk.\n",
      "  UserWarning)\n",
      "/anaconda3/lib/python3.6/site-packages/sklearn/base.py:312: UserWarning: Trying to unpickle estimator Nystroem from version 0.19.2 when using version 0.19.0. This might lead to breaking code or invalid results. Use at your own risk.\n",
      "  UserWarning)\n",
      "/anaconda3/lib/python3.6/site-packages/sklearn/base.py:312: UserWarning: Trying to unpickle estimator LinearSVR from version 0.19.2 when using version 0.19.0. This might lead to breaking code or invalid results. Use at your own risk.\n",
      "  UserWarning)\n",
      "/anaconda3/lib/python3.6/site-packages/sklearn/base.py:312: UserWarning: Trying to unpickle estimator ExtraTreeRegressor from version 0.19.2 when using version 0.19.0. This might lead to breaking code or invalid results. Use at your own risk.\n",
      "  UserWarning)\n",
      "/anaconda3/lib/python3.6/site-packages/sklearn/base.py:312: UserWarning: Trying to unpickle estimator ExtraTreesRegressor from version 0.19.2 when using version 0.19.0. This might lead to breaking code or invalid results. Use at your own risk.\n",
      "  UserWarning)\n",
      "/anaconda3/lib/python3.6/site-packages/sklearn/base.py:312: UserWarning: Trying to unpickle estimator SelectFromModel from version 0.19.2 when using version 0.19.0. This might lead to breaking code or invalid results. Use at your own risk.\n",
      "  UserWarning)\n",
      "/anaconda3/lib/python3.6/site-packages/sklearn/base.py:312: UserWarning: Trying to unpickle estimator DecisionTreeRegressor from version 0.19.2 when using version 0.19.0. This might lead to breaking code or invalid results. Use at your own risk.\n",
      "  UserWarning)\n",
      "/anaconda3/lib/python3.6/site-packages/sklearn/base.py:312: UserWarning: Trying to unpickle estimator GradientBoostingRegressor from version 0.19.2 when using version 0.19.0. This might lead to breaking code or invalid results. Use at your own risk.\n",
      "  UserWarning)\n",
      "/anaconda3/lib/python3.6/site-packages/sklearn/base.py:312: UserWarning: Trying to unpickle estimator Normalizer from version 0.19.2 when using version 0.19.0. This might lead to breaking code or invalid results. Use at your own risk.\n",
      "  UserWarning)\n",
      "/anaconda3/lib/python3.6/site-packages/sklearn/base.py:312: UserWarning: Trying to unpickle estimator RandomForestRegressor from version 0.19.2 when using version 0.19.0. This might lead to breaking code or invalid results. Use at your own risk.\n",
      "  UserWarning)\n",
      "/anaconda3/lib/python3.6/site-packages/sklearn/base.py:312: UserWarning: Trying to unpickle estimator QuantileTransformer from version 0.19.2 when using version 0.19.0. This might lead to breaking code or invalid results. Use at your own risk.\n",
      "  UserWarning)\n",
      "/anaconda3/lib/python3.6/site-packages/sklearn/base.py:312: UserWarning: Trying to unpickle estimator FeatureAgglomeration from version 0.19.2 when using version 0.19.0. This might lead to breaking code or invalid results. Use at your own risk.\n",
      "  UserWarning)\n",
      "/anaconda3/lib/python3.6/site-packages/sklearn/base.py:312: UserWarning: Trying to unpickle estimator StandardScaler from version 0.19.2 when using version 0.19.0. This might lead to breaking code or invalid results. Use at your own risk.\n",
      "  UserWarning)\n",
      "/anaconda3/lib/python3.6/site-packages/sklearn/base.py:312: UserWarning: Trying to unpickle estimator SGDRegressor from version 0.19.2 when using version 0.19.0. This might lead to breaking code or invalid results. Use at your own risk.\n",
      "  UserWarning)\n",
      "/anaconda3/lib/python3.6/site-packages/sklearn/base.py:312: UserWarning: Trying to unpickle estimator KernelCenterer from version 0.19.2 when using version 0.19.0. This might lead to breaking code or invalid results. Use at your own risk.\n",
      "  UserWarning)\n",
      "/anaconda3/lib/python3.6/site-packages/sklearn/base.py:312: UserWarning: Trying to unpickle estimator KernelPCA from version 0.19.2 when using version 0.19.0. This might lead to breaking code or invalid results. Use at your own risk.\n",
      "  UserWarning)\n",
      "/anaconda3/lib/python3.6/site-packages/sklearn/base.py:312: UserWarning: Trying to unpickle estimator SVR from version 0.19.2 when using version 0.19.0. This might lead to breaking code or invalid results. Use at your own risk.\n",
      "  UserWarning)\n",
      "/anaconda3/lib/python3.6/site-packages/sklearn/base.py:312: UserWarning: Trying to unpickle estimator RobustScaler from version 0.19.2 when using version 0.19.0. This might lead to breaking code or invalid results. Use at your own risk.\n",
      "  UserWarning)\n",
      "/anaconda3/lib/python3.6/site-packages/sklearn/base.py:312: UserWarning: Trying to unpickle estimator AdaBoostRegressor from version 0.19.2 when using version 0.19.0. This might lead to breaking code or invalid results. Use at your own risk.\n",
      "  UserWarning)\n",
      "/anaconda3/lib/python3.6/site-packages/sklearn/base.py:312: UserWarning: Trying to unpickle estimator PCA from version 0.19.2 when using version 0.19.0. This might lead to breaking code or invalid results. Use at your own risk.\n",
      "  UserWarning)\n",
      "[WARNING] [19:03:50:autosklearn.util.backend] Could not delete output dir: /tmp/autosklearn_output_2799_1042\n",
      "[WARNING] [19:03:50:autosklearn.util.backend] Could not delete tmp dir: /tmp/autosklearn_tmp_2799_1042\n"
     ]
    }
   ],
   "source": [
    "import pickle\n",
    "with open('auto_model.pkl','rb') as handle:\n",
    "    automl = pickle.load(handle)"
   ]
  },
  {
   "cell_type": "code",
   "execution_count": 100,
   "metadata": {},
   "outputs": [
    {
     "name": "stdout",
     "output_type": "stream",
     "text": [
      "R2:  0.654090017418\n",
      "Mean Absolute Error (in g/litre):  0.306127788458\n",
      "Root Mean Squared Error (in g/litre):  1.13155944277618\n"
     ]
    }
   ],
   "source": [
    "import sklearn\n",
    "pred = automl.predict(X_test)\n",
    "act = Y_test\n",
    "R2 = sklearn.metrics.r2_score(act, pred)\n",
    "print(\"R2: \",R2)\n",
    "\n",
    "r_act = sc_y.inverse_transform(np.array(act).reshape(-1, 1))\n",
    "r_act = 10**r_act.reshape(-1,)\n",
    "\n",
    "r_pred = sc_y.inverse_transform(np.array(pred).reshape(-1, 1))\n",
    "r_pred = 10**r_pred.reshape(-1,)\n",
    "\n",
    "\n",
    "RMSE = sqrt(sklearn.metrics.mean_squared_error(r_act,r_pred))\n",
    "MAE = sklearn.metrics.mean_absolute_error(r_act,r_pred)\n",
    "\n",
    "print('Mean Absolute Error (in g/litre): ', MAE)\n",
    "print('Root Mean Squared Error (in g/litre): ', RMSE)"
   ]
  },
  {
   "cell_type": "code",
   "execution_count": 25,
   "metadata": {},
   "outputs": [
    {
     "data": {
      "image/png": "[encoded data removed]",
      "text/plain": [
       "<matplotlib.figure.Figure at 0x1c30642278>"
      ]
     },
     "metadata": {},
     "output_type": "display_data"
    }
   ],
   "source": [
    "predictions = automl.predict(X_test)\n",
    "fig, ax = plt.subplots(figsize=(20, 10))\n",
    "ax.scatter(Y_test,predictions, s= 10)\n",
    "plt.xlabel('Target solubility classes')\n",
    "plt.ylabel('Predicted solubility classes')\n",
    "plt.title('Performance of final Model')\n",
    "lims = [\n",
    "    np.min([ax.get_xlim(), ax.get_ylim()]),  # min of both axes\n",
    "    np.max([ax.get_xlim(), ax.get_ylim()]),  # max of both axes\n",
    "]\n",
    "\n",
    "# now plot both limits against eachother\n",
    "ax.plot(lims, lims, 'k-', alpha=0.45, zorder=0)\n",
    "ax.set_aspect('equal')\n",
    "ax.set_xlim(lims)\n",
    "ax.set_ylim(lims)\n",
    "plt.show()"
   ]
  },
  {
   "cell_type": "markdown",
   "metadata": {},
   "source": [
    "# SkNN"
   ]
  },
  {
   "cell_type": "code",
   "execution_count": 105,
   "metadata": {},
   "outputs": [
    {
     "data": {
      "text/plain": [
       "Regressor(batch_size=1, callback=None, debug=False, dropout_rate=None,\n",
       "     f_stable=0.001,\n",
       "     hidden0=<sknn.nn.Layer `Rectifier`: name='hidden0', units=200, frozen=False>,\n",
       "     hidden1=<sknn.nn.Layer `Rectifier`: name='hidden1', units=50, frozen=False>,\n",
       "     hidden2=<sknn.nn.Layer `Linear`: name='hidden2', units=10, frozen=False>,\n",
       "     layers=[<sknn.nn.Layer `Rectifier`: name='hidden0', units=200, frozen=False>, <sknn.nn.Layer `Rectifier`: name='hidden1', units=50, frozen=False>, <sknn.nn.Layer `Linear`: name='hidden2', units=10, frozen=False>, <sknn.nn.Layer `Linear`: name='output', units=1, frozen=False>],\n",
       "     learning_momentum=0.9, learning_rate=0.002, learning_rule='sgd',\n",
       "     loss_type=None, n_iter=15, n_stable=10, normalize=None,\n",
       "     output=<sknn.nn.Layer `Linear`: name='output', units=1, frozen=False>,\n",
       "     parameters=None, random_state=None, regularize=None, valid_set=None,\n",
       "     valid_size=0.0, verbose=None, warning=None, weight_decay=None)"
      ]
     },
     "execution_count": 105,
     "metadata": {},
     "output_type": "execute_result"
    }
   ],
   "source": [
    "from sknn.mlp import Regressor, Layer\n",
    "from sklearn.grid_search import RandomizedSearchCV,GridSearchCV\n",
    "from scipy import stats\n",
    "\n",
    "\n",
    "nn = Regressor(\n",
    "    layers=[\n",
    "        Layer(\"Rectifier\", units=200),\n",
    "        Layer(\"Rectifier\", units=50),\n",
    "        Layer(\"Linear\", units=10),\n",
    "        Layer(\"Linear\")],\n",
    "    learning_rate=0.002,\n",
    "    n_iter=15)\n",
    "\n",
    "# rs = RandomizedSearchCV(nn, param_distributions={\n",
    "#     'learning_rate': stats.uniform(0.001, 0.005),\n",
    "#     'hidden0__units': stats.randint(50, 200),\n",
    "#     'hidden0__type': [\"Rectifier\", \"Sigmoid\", \"Tanh\"]})\n",
    "\n",
    "# gs = GridSearchCV(nn, param_grid={\n",
    "#     'learning_rate': [0.005, 0.001],\n",
    "#     'hidden0__units': [50, 100, 200],\n",
    "#     'hidden0__type': [\"Rectifier\", \"Sigmoid\", \"Tanh\"]})\n",
    "\n",
    "nn.fit(X_train, Y_train)"
   ]
  },
  {
   "cell_type": "code",
   "execution_count": 106,
   "metadata": {},
   "outputs": [
    {
     "name": "stdout",
     "output_type": "stream",
     "text": [
      "R2:  0.59807888513\n",
      "Mean Absolute Error (in g/litre):  0.387457642652\n",
      "Root Mean Squared Error (in g/litre):  1.559464562483134\n"
     ]
    }
   ],
   "source": [
    "import sklearn\n",
    "pred = nn.predict(X_test)\n",
    "act = Y_test\n",
    "R2 = sklearn.metrics.r2_score(act, pred)\n",
    "print(\"R2: \",R2)\n",
    "\n",
    "r_act = sc_y.inverse_transform(np.array(act).reshape(-1, 1))\n",
    "r_act = 10**r_act.reshape(-1,)\n",
    "\n",
    "r_pred = sc_y.inverse_transform(np.array(pred).reshape(-1, 1))\n",
    "r_pred = 10**r_pred.reshape(-1,)\n",
    "\n",
    "\n",
    "RMSE = sqrt(sklearn.metrics.mean_squared_error(r_act,r_pred))\n",
    "MAE = sklearn.metrics.mean_absolute_error(r_act,r_pred)\n",
    "\n",
    "print('Mean Absolute Error (in g/litre): ', MAE)\n",
    "print('Root Mean Squared Error (in g/litre): ', RMSE)"
   ]
  },
  {
   "cell_type": "code",
   "execution_count": 109,
   "metadata": {},
   "outputs": [
    {
     "data": {
      "image/png": "[encoded data removed]",
      "text/plain": [
       "<matplotlib.figure.Figure at 0x1c39b1ff60>"
      ]
     },
     "metadata": {},
     "output_type": "display_data"
    }
   ],
   "source": [
    "predictions = nn.predict(X_test)\n",
    "fig, ax = plt.subplots(figsize=(20, 10))\n",
    "ax.scatter(Y_test,predictions, s= 10)\n",
    "plt.xlabel('Target solubility classes')\n",
    "plt.ylabel('Predicted solubility classes')\n",
    "plt.title('Performance of final Model')\n",
    "lims = [\n",
    "    np.min([ax.get_xlim(), ax.get_ylim()]),  # min of both axes\n",
    "    np.max([ax.get_xlim(), ax.get_ylim()]),  # max of both axes\n",
    "]\n",
    "\n",
    "# now plot both limits against eachother\n",
    "ax.plot(lims, lims, 'k-', alpha=0.45, zorder=0)\n",
    "ax.set_aspect('equal')\n",
    "ax.set_xlim(lims)\n",
    "ax.set_ylim(lims)\n",
    "plt.show()"
   ]
  },
  {
   "cell_type": "code",
   "execution_count": null,
   "metadata": {},
   "outputs": [],
   "source": [
    "| ConvNet  | R2:  0.6282006384214354\n",
    "Mean Absolute Error (in g/litre):  0.3070177533342374\n",
    "Root Mean Squared Error (in g/litre):  1.1441674799207011 |\n",
    "| -------- | --------------------------------------------------------------------------------------------------------------------------------------- |\n",
    "| DenseNet | R2:  0.6453372173722867\n",
    "Mean Absolute Error (in g/litre):  0.37831501737500695\n",
    "Root Mean Squared Error (in g/litre):  1.380492964248265 |"
   ]
  },
  {
   "cell_type": "code",
   "execution_count": null,
   "metadata": {
    "collapsed": true
   },
   "outputs": [],
   "source": []
  }
 ],
 "metadata": {
  "kernelspec": {
   "display_name": "Python 3",
   "language": "python",
   "name": "python3"
  },
  "language_info": {
   "codemirror_mode": {
    "name": "ipython",
    "version": 2
   },
   "file_extension": ".py",
   "mimetype": "text/x-python",
   "name": "python",
   "nbconvert_exporter": "python",
   "pygments_lexer": "ipython2",
   "version": "2.7.15rc1"
  }
 },
 "nbformat": 4,
 "nbformat_minor": 2
}
