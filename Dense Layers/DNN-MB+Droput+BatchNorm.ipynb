{
 "cells": [
  {
   "cell_type": "raw",
   "metadata": {},
   "source": [
    "Added BatchNorm"
   ]
  },
  {
   "cell_type": "code",
   "execution_count": 1,
   "metadata": {},
   "outputs": [],
   "source": [
    "import torch\n",
    "import torch.nn as nn\n",
    "from torch.autograd import Variable\n",
    "import numpy as np\n",
    "import matplotlib.pyplot as plt\n",
    "\n",
    "from sklearn.model_selection import train_test_split"
   ]
  },
  {
   "cell_type": "code",
   "execution_count": 2,
   "metadata": {},
   "outputs": [],
   "source": [
    "X=np.load(\"X.npy\")\n",
    "Y=np.load(\"Y.npy\")"
   ]
  },
  {
   "cell_type": "code",
   "execution_count": 4,
   "metadata": {},
   "outputs": [],
   "source": [
    "X_train, X_test, Y_train, Y_test = train_test_split(X, Y, test_size=0.1, random_state=42)"
   ]
  },
  {
   "cell_type": "code",
   "execution_count": 5,
   "metadata": {},
   "outputs": [],
   "source": [
    "input_size = 100\n",
    "hidden_size = 200\n",
    "num_classes = 500\n",
    "num_epochs = 5\n",
    "batch_size = 100\n",
    "learning_rate = 0.0001"
   ]
  },
  {
   "cell_type": "code",
   "execution_count": 50,
   "metadata": {},
   "outputs": [],
   "source": [
    "class Net(nn.Module):\n",
    "    def __init__(self, input_size, hidden_size, num_classes):\n",
    "        super(Net, self).__init__()\n",
    "        self.fc1 = nn.Linear(input_size, hidden_size) \n",
    "        self.relu = nn.ReLU()\n",
    "        self.fc2 = nn.Linear(hidden_size, num_classes)\n",
    "        self.dropout = nn.Dropout(p=.4)\n",
    "        self.batch_norm1 = nn.BatchNorm1d(input_size)\n",
    "    \n",
    "    def forward(self, x):\n",
    "        out = self.batch_norm1(x)\n",
    "        out = self.fc1(out)\n",
    "        out = self.dropout(out)\n",
    "        out = self.relu(out)\n",
    "        out = self.fc2(out)\n",
    "        out = self.relu(out)\n",
    "        return out"
   ]
  },
  {
   "cell_type": "code",
   "execution_count": 51,
   "metadata": {},
   "outputs": [],
   "source": [
    "model = Net(input_size,hidden_size,num_classes)\n",
    "model.cuda()\n",
    "criterion = nn.CrossEntropyLoss()  \n",
    "optimizer = torch.optim.Adam(model.parameters(), lr=learning_rate)"
   ]
  },
  {
   "cell_type": "code",
   "execution_count": 52,
   "metadata": {},
   "outputs": [
    {
     "data": {
      "text/plain": [
       "293"
      ]
     },
     "execution_count": 52,
     "metadata": {},
     "output_type": "execute_result"
    }
   ],
   "source": [
    "X_train.shape[0]//10"
   ]
  },
  {
   "cell_type": "code",
   "execution_count": 53,
   "metadata": {},
   "outputs": [
    {
     "data": {
      "text/plain": [
       "(2936,)"
      ]
     },
     "execution_count": 53,
     "metadata": {},
     "output_type": "execute_result"
    }
   ],
   "source": [
    "Y_train.shape"
   ]
  },
  {
   "cell_type": "code",
   "execution_count": 54,
   "metadata": {},
   "outputs": [],
   "source": [
    "epochs = 1000"
   ]
  },
  {
   "cell_type": "code",
   "execution_count": 55,
   "metadata": {},
   "outputs": [
    {
     "data": {
      "text/plain": [
       "(2930, 100)"
      ]
     },
     "execution_count": 55,
     "metadata": {},
     "output_type": "execute_result"
    }
   ],
   "source": [
    "X_train[:-6].shape"
   ]
  },
  {
   "cell_type": "code",
   "execution_count": 65,
   "metadata": {
    "collapsed": true
   },
   "outputs": [
    {
     "name": "stdout",
     "output_type": "stream",
     "text": [
      "min() arg is an empty sequence\n",
      "10 : 1.717545747756958\n",
      "20 : 1.701324224472046\n",
      "30 : 1.5581729412078857\n",
      "40 : 1.5605641603469849\n",
      "50 : 1.7058807611465454\n",
      "60 : 1.506032943725586\n",
      "70 : 1.6366984844207764\n",
      "80 : 1.69805908203125\n",
      "90 : 1.6895725727081299\n",
      "100 : 1.7194156646728516\n",
      "110 : 1.5335307121276855\n",
      "120 : 1.9426841735839844\n",
      "130 : 1.6686550378799438\n",
      "140 : 1.8624000549316406\n",
      "150 : 1.427345633506775\n",
      "160 : 1.7895091772079468\n",
      "170 : 1.955057144165039\n",
      "180 : 1.8184086084365845\n",
      "190 : 1.5279074907302856\n",
      "200 : 1.9402443170547485\n",
      "210 : 1.5248801708221436\n",
      "220 : 1.7741355895996094\n",
      "230 : 1.5959856510162354\n",
      "240 : 1.7139194011688232\n",
      "250 : 1.6411174535751343\n",
      "260 : 2.169755220413208\n",
      "270 : 1.5349844694137573\n",
      "280 : 1.6184618473052979\n",
      "290 : 1.7093414068222046\n",
      "300 : 1.970423936843872\n",
      "310 : 1.7645256519317627\n",
      "320 : 1.467538595199585\n",
      "330 : 2.0535736083984375\n",
      "340 : 1.0993353128433228\n",
      "350 : 1.6224114894866943\n",
      "360 : 1.820237398147583\n",
      "370 : 1.4711573123931885\n",
      "380 : 1.6203842163085938\n",
      "390 : 2.004199504852295\n",
      "400 : 1.9011512994766235\n",
      "410 : 1.774041771888733\n",
      "420 : 1.5462311506271362\n",
      "430 : 1.9340511560440063\n",
      "440 : 1.486374855041504\n",
      "450 : 1.4900436401367188\n"
     ]
    },
    {
     "ename": "KeyboardInterrupt",
     "evalue": "",
     "output_type": "error",
     "traceback": [
      "\u001b[0;31m---------------------------------------------------------------------------\u001b[0m",
      "\u001b[0;31mKeyboardInterrupt\u001b[0m                         Traceback (most recent call last)",
      "\u001b[0;32m<ipython-input-65-4cbfd61fefb3>\u001b[0m in \u001b[0;36m<module>\u001b[0;34m()\u001b[0m\n\u001b[1;32m     28\u001b[0m \u001b[0;31m#         dev_set_loss.append(criterion(outputs_dev,labels_dev))\u001b[0m\u001b[0;34m\u001b[0m\u001b[0;34m\u001b[0m\u001b[0m\n\u001b[1;32m     29\u001b[0m         \u001b[0;32mtry\u001b[0m\u001b[0;34m:\u001b[0m\u001b[0;34m\u001b[0m\u001b[0m\n\u001b[0;32m---> 30\u001b[0;31m             \u001b[0;32mif\u001b[0m \u001b[0;34m(\u001b[0m\u001b[0mfloat\u001b[0m\u001b[0;34m(\u001b[0m\u001b[0mloss\u001b[0m\u001b[0;34m)\u001b[0m\u001b[0;34m<\u001b[0m\u001b[0mmin\u001b[0m\u001b[0;34m(\u001b[0m\u001b[0mlosses\u001b[0m\u001b[0;34m)\u001b[0m\u001b[0;34m)\u001b[0m\u001b[0;34m:\u001b[0m\u001b[0;34m\u001b[0m\u001b[0m\n\u001b[0m\u001b[1;32m     31\u001b[0m                 \u001b[0mtorch\u001b[0m\u001b[0;34m.\u001b[0m\u001b[0msave\u001b[0m\u001b[0;34m(\u001b[0m\u001b[0mmodel\u001b[0m\u001b[0;34m.\u001b[0m\u001b[0mstate_dict\u001b[0m\u001b[0;34m(\u001b[0m\u001b[0;34m)\u001b[0m\u001b[0;34m,\u001b[0m\u001b[0;34m\"test.pytorch\"\u001b[0m\u001b[0;34m)\u001b[0m\u001b[0;34m\u001b[0m\u001b[0m\n\u001b[1;32m     32\u001b[0m         \u001b[0;32mexcept\u001b[0m \u001b[0mValueError\u001b[0m \u001b[0;32mas\u001b[0m \u001b[0merr\u001b[0m\u001b[0;34m:\u001b[0m\u001b[0;34m\u001b[0m\u001b[0m\n",
      "\u001b[0;31mKeyboardInterrupt\u001b[0m: "
     ]
    }
   ],
   "source": [
    "# test\n",
    "losses=[]\n",
    "dev_set_loss=[]\n",
    "for epoch in range(epochs):\n",
    "    \n",
    "    epoch +=1\n",
    "    for x,y in zip(np.split(X_train[:-6],X_train.shape[0]//10,axis=0),np.split(Y_train[:-6],Y_train.shape[0]//10,axis=0)):\n",
    "        \n",
    "        x=torch.from_numpy(x)\n",
    "        y=torch.from_numpy(y)\n",
    "\n",
    "        inputs = Variable(x.type(torch.cuda.FloatTensor))\n",
    "        labels = Variable(y.type(torch.cuda.LongTensor))\n",
    "\n",
    "        #clear grads\n",
    "        optimizer.zero_grad()\n",
    "        #forward to get predicted values\n",
    "        outputs = model.forward(inputs)\n",
    "        loss = criterion(outputs, labels)\n",
    "\n",
    "#         # let's check the state of dev set\n",
    "        \n",
    "#         inputs_dev = Variable(torch.from_numpy(X_dev).type(torch.cuda.FloatTensor))\n",
    "#         labels_dev = Variable(torch.from_numpy(Y_dev).type(torch.cuda.LongTensor))\n",
    "        \n",
    "#         outputs_dev=model.forward(inputs_dev)\n",
    "        \n",
    "#         dev_set_loss.append(criterion(outputs_dev,labels_dev))\n",
    "        try:\n",
    "            if (float(loss)<min(losses)):\n",
    "                torch.save(model.state_dict(),\"DNN-MB+Droput+BatchNorm.pytorch\")\n",
    "        except ValueError as err:\n",
    "            print(err)\n",
    "        losses.append(float(loss))\n",
    "        \n",
    "        loss.backward()# back props\n",
    "        optimizer.step()# update the parameters\n",
    "    if(epoch%10 == 0):\n",
    "        print(\"{} : {}\".format(epoch,float(loss)))"
   ]
  },
  {
   "cell_type": "code",
   "execution_count": 66,
   "metadata": {},
   "outputs": [
    {
     "data": {
      "text/plain": [
       "0.04875383526086807"
      ]
     },
     "execution_count": 66,
     "metadata": {},
     "output_type": "execute_result"
    }
   ],
   "source": [
    "min(losses)"
   ]
  },
  {
   "cell_type": "markdown",
   "metadata": {},
   "source": [
    "## Evaluate the performance on the training data"
   ]
  },
  {
   "cell_type": "code",
   "execution_count": 67,
   "metadata": {
    "scrolled": true
   },
   "outputs": [
    {
     "name": "stdout",
     "output_type": "stream",
     "text": [
      "The train accuracy is 74.35286103542235\n"
     ]
    }
   ],
   "source": [
    "# X_train and Y_train\n",
    "model_pred=model(Variable(torch.from_numpy(X_train).type(torch.cuda.FloatTensor)))\n",
    "\n",
    "train_correct=0\n",
    "Y_train_pred=[]\n",
    "total_train_compounds=len(Y_train)\n",
    "for i,train_compound in enumerate(model_pred):\n",
    "    \n",
    "    \n",
    "    max_,max_index=torch.max(train_compound,0)\n",
    "    Y_train_pred.append(int(max_index))\n",
    "    if (int(max_index)==Y_train[i]):\n",
    "        train_correct+=1\n",
    "\n",
    "print(\"The train accuracy is {}\".format((train_correct/total_train_compounds)*100))"
   ]
  },
  {
   "cell_type": "markdown",
   "metadata": {},
   "source": [
    "## Evaluate the model on the testing data"
   ]
  },
  {
   "cell_type": "code",
   "execution_count": 68,
   "metadata": {},
   "outputs": [
    {
     "name": "stdout",
     "output_type": "stream",
     "text": [
      "The test accuracy is 70.9480122324159\n"
     ]
    }
   ],
   "source": [
    "# X_test and Y_test\n",
    "model_pred_test=model(Variable(torch.from_numpy(X_test).type(torch.cuda.FloatTensor)))\n",
    "\n",
    "# The test accuracy\n",
    "test_correct=0\n",
    "Y_test_pred=[]\n",
    "total_test_compounds=len(Y_test)\n",
    "for i,test_compound in enumerate(model_pred_test):\n",
    "    \n",
    "    \n",
    "    max_,max_index=torch.max(test_compound,0)\n",
    "    Y_test_pred.append(int(max_index))\n",
    "    if (int(max_index)==Y_test[i]):\n",
    "        test_correct+=1\n",
    "\n",
    "print(\"The test accuracy is {}\".format((test_correct/total_test_compounds)*100))"
   ]
  },
  {
   "cell_type": "code",
   "execution_count": 69,
   "metadata": {},
   "outputs": [],
   "source": [
    "import matplotlib.pyplot as plt\n",
    "%matplotlib inline"
   ]
  },
  {
   "cell_type": "code",
   "execution_count": 70,
   "metadata": {
    "scrolled": true
   },
   "outputs": [],
   "source": [
    "## Saved , uncomment the below line if you want to save it\n",
    "# np.save(\"Y_test\",Y_test)\n",
    "# np.save(\"Y_test_pred.npy\",np.array(Y_test_pred))"
   ]
  },
  {
   "cell_type": "code",
   "execution_count": 71,
   "metadata": {},
   "outputs": [
    {
     "data": {
      "text/plain": [
       "[<matplotlib.lines.Line2D at 0x7f1a4f99efd0>]"
      ]
     },
     "execution_count": 71,
     "metadata": {},
     "output_type": "execute_result"
    },
    {
     "data": {
      "image/png": "[encoded data removed]",
      "text/plain": [
       "<matplotlib.figure.Figure at 0x7f1a6d187588>"
      ]
     },
     "metadata": {},
     "output_type": "display_data"
    }
   ],
   "source": [
    "plt.plot(Y_test_pred)"
   ]
  },
  {
   "cell_type": "code",
   "execution_count": 72,
   "metadata": {},
   "outputs": [],
   "source": [
    "## For the entire dataset"
   ]
  },
  {
   "cell_type": "code",
   "execution_count": 73,
   "metadata": {},
   "outputs": [
    {
     "name": "stdout",
     "output_type": "stream",
     "text": [
      "The total accuracy is 73.67453263867606\n"
     ]
    }
   ],
   "source": [
    "#X and Y\n",
    "model_pred=model(Variable(torch.from_numpy(X).type(torch.cuda.FloatTensor)))\n",
    "correct=0\n",
    "Y_pred=[]\n",
    "total_compounds=len(Y)\n",
    "for i,compound in enumerate(model_pred):\n",
    "    \n",
    "    \n",
    "    max_,max_index=torch.max(compound,0)\n",
    "    Y_pred.append(int(max_index))\n",
    "    if (int(max_index)==Y[i]):\n",
    "        correct+=1\n",
    "\n",
    "print(\"The total accuracy is {}\".format((correct/total_compounds)*100))"
   ]
  },
  {
   "cell_type": "code",
   "execution_count": 74,
   "metadata": {
    "scrolled": false
   },
   "outputs": [
    {
     "data": {
      "text/plain": [
       "[<matplotlib.lines.Line2D at 0x7f1a509eaac8>]"
      ]
     },
     "execution_count": 74,
     "metadata": {},
     "output_type": "execute_result"
    },
    {
     "data": {
      "image/png": "[encoded data removed]",
      "text/plain": [
       "<matplotlib.figure.Figure at 0x7f1a6d16a320>"
      ]
     },
     "metadata": {},
     "output_type": "display_data"
    }
   ],
   "source": [
    "plt.plot(Y_pred)"
   ]
  },
  {
   "cell_type": "code",
   "execution_count": 24,
   "metadata": {},
   "outputs": [],
   "source": [
    "torch.save(model.state_dict(),\"mb_plus_droput.pytorch\")"
   ]
  },
  {
   "cell_type": "code",
   "execution_count": 80,
   "metadata": {},
   "outputs": [],
   "source": [
    "model.load_state_dict(torch.load(\"test.pytorch\"))"
   ]
  }
 ],
 "metadata": {
  "kernelspec": {
   "display_name": "Python 3",
   "language": "python",
   "name": "python3"
  },
  "language_info": {
   "codemirror_mode": {
    "name": "ipython",
    "version": 3
   },
   "file_extension": ".py",
   "mimetype": "text/x-python",
   "name": "python",
   "nbconvert_exporter": "python",
   "pygments_lexer": "ipython3",
   "version": "3.5.2"
  }
 },
 "nbformat": 4,
 "nbformat_minor": 2
}
