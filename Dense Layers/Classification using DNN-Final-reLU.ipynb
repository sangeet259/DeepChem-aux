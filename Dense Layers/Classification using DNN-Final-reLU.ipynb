{
 "cells": [
  {
   "cell_type": "raw",
   "metadata": {},
   "source": [
    "The last layer is ReLU!"
   ]
  },
  {
   "cell_type": "code",
   "execution_count": 1,
   "metadata": {},
   "outputs": [],
   "source": [
    "import torch\n",
    "import torch.nn as nn\n",
    "from torch.autograd import Variable\n",
    "import numpy as np\n",
    "import matplotlib.pyplot as plt\n",
    "\n",
    "from sklearn.model_selection import train_test_split"
   ]
  },
  {
   "cell_type": "code",
   "execution_count": 2,
   "metadata": {},
   "outputs": [],
   "source": [
    "X=np.load(\"X.npy\")\n",
    "Y=np.load(\"Y.npy\")"
   ]
  },
  {
   "cell_type": "code",
   "execution_count": 3,
   "metadata": {},
   "outputs": [],
   "source": [
    "X_train, X_test, Y_train, Y_test = train_test_split(X, Y, test_size=0.1, random_state=42)"
   ]
  },
  {
   "cell_type": "code",
   "execution_count": 11,
   "metadata": {},
   "outputs": [],
   "source": [
    "input_size = 100\n",
    "hidden_size = 200\n",
    "num_classes = 500\n",
    "num_epochs = 5\n",
    "batch_size = 100\n",
    "learning_rate = 0.0001"
   ]
  },
  {
   "cell_type": "code",
   "execution_count": 12,
   "metadata": {},
   "outputs": [],
   "source": [
    "class Net(nn.Module):\n",
    "    def __init__(self, input_size, hidden_size, num_classes):\n",
    "        super(Net, self).__init__()\n",
    "        self.fc1 = nn.Linear(input_size, hidden_size) \n",
    "        self.relu = nn.ReLU()\n",
    "        self.fc2 = nn.Linear(hidden_size, num_classes)  \n",
    "    \n",
    "    def forward(self, x):\n",
    "        out = self.fc1(x)\n",
    "        out = self.relu(out)\n",
    "        out = self.fc2(out)\n",
    "        out = self.relu(out)\n",
    "        return out"
   ]
  },
  {
   "cell_type": "code",
   "execution_count": 13,
   "metadata": {},
   "outputs": [],
   "source": [
    "model = Net(input_size,hidden_size,num_classes)\n",
    "model.cuda()\n",
    "criterion = nn.CrossEntropyLoss()  \n",
    "optimizer = torch.optim.Adam(model.parameters(), lr=learning_rate)"
   ]
  },
  {
   "cell_type": "code",
   "execution_count": 14,
   "metadata": {},
   "outputs": [],
   "source": [
    "epochs = 100"
   ]
  },
  {
   "cell_type": "code",
   "execution_count": null,
   "metadata": {},
   "outputs": [],
   "source": [
    "# test\n",
    "losses=[]\n",
    "for epoch in range(epochs):\n",
    "    \n",
    "    epoch +=1\n",
    "    \n",
    "    for x,y in zip(X_train,Y_train):\n",
    "        y=np.array([y])\n",
    "        x=torch.from_numpy(np.expand_dims(x, axis=0))\n",
    "        y=torch.from_numpy(y)\n",
    "        \n",
    "        inputs = Variable(x.type(torch.cuda.FloatTensor))\n",
    "        labels = Variable(y.type(torch.cuda.LongTensor))\n",
    "        \n",
    "        #clear grads\n",
    "        optimizer.zero_grad()\n",
    "        #forward to get predicted values\n",
    "        outputs = model.forward(inputs)\n",
    "        \n",
    "            \n",
    "        loss = criterion(outputs, labels)\n",
    "        \n",
    "\n",
    "        losses.append(float(loss))\n",
    "        loss.backward()# back props\n",
    "        optimizer.step()# update the parameters\n",
    "    print('epoch {}, loss {}'.format(epoch,loss.data[0]))"
   ]
  },
  {
   "cell_type": "markdown",
   "metadata": {},
   "source": [
    "## Evaluate the performance on the training data"
   ]
  },
  {
   "cell_type": "code",
   "execution_count": 16,
   "metadata": {},
   "outputs": [
    {
     "name": "stdout",
     "output_type": "stream",
     "text": [
      "The train accuracy is 82.9700272479564\n"
     ]
    }
   ],
   "source": [
    "# X_train and Y_train\n",
    "model_pred=model(Variable(torch.from_numpy(X_train).type(torch.cuda.FloatTensor)))\n",
    "\n",
    "train_correct=0\n",
    "Y_train_pred=[]\n",
    "total_train_compounds=len(Y_train)\n",
    "for i,train_compound in enumerate(model_pred):\n",
    "    \n",
    "    \n",
    "    max_,max_index=torch.max(train_compound,0)\n",
    "    Y_train_pred.append(int(max_index))\n",
    "    if (int(max_index)==Y_train[i]):\n",
    "        train_correct+=1\n",
    "\n",
    "print(\"The train accuracy is {}\".format((train_correct/total_train_compounds)*100))"
   ]
  },
  {
   "cell_type": "markdown",
   "metadata": {},
   "source": [
    "## Evaluate the model on the testing data"
   ]
  },
  {
   "cell_type": "code",
   "execution_count": 17,
   "metadata": {},
   "outputs": [
    {
     "name": "stdout",
     "output_type": "stream",
     "text": [
      "The test accuracy is 70.03058103975535\n"
     ]
    }
   ],
   "source": [
    "# X_test and Y_test\n",
    "model_pred_test=model(Variable(torch.from_numpy(X_test).type(torch.cuda.FloatTensor)))\n",
    "\n",
    "# The test accuracy\n",
    "test_correct=0\n",
    "Y_test_pred=[]\n",
    "total_test_compounds=len(Y_test)\n",
    "for i,test_compound in enumerate(model_pred_test):\n",
    "    \n",
    "    \n",
    "    max_,max_index=torch.max(test_compound,0)\n",
    "    Y_test_pred.append(int(max_index))\n",
    "    if (int(max_index)==Y_test[i]):\n",
    "        test_correct+=1\n",
    "\n",
    "print(\"The test accuracy is {}\".format((test_correct/total_test_compounds)*100))"
   ]
  },
  {
   "cell_type": "code",
   "execution_count": 18,
   "metadata": {},
   "outputs": [],
   "source": [
    "import matplotlib.pyplot as plt\n",
    "%matplotlib inline"
   ]
  },
  {
   "cell_type": "code",
   "execution_count": 28,
   "metadata": {
    "scrolled": true
   },
   "outputs": [],
   "source": [
    "## Saved , uncomment the below line if you want to save it\n",
    "# np.save(\"Y_test\",Y_test)\n",
    "# np.save(\"Y_test_pred.npy\",np.array(Y_test_pred))"
   ]
  },
  {
   "cell_type": "code",
   "execution_count": 19,
   "metadata": {},
   "outputs": [
    {
     "data": {
      "text/plain": [
       "[<matplotlib.lines.Line2D at 0x7f1b4aedd080>]"
      ]
     },
     "execution_count": 19,
     "metadata": {},
     "output_type": "execute_result"
    },
    {
     "data": {
      "image/png": "[encoded data removed]",
      "text/plain": [
       "<matplotlib.figure.Figure at 0x7f1b8c0372b0>"
      ]
     },
     "metadata": {},
     "output_type": "display_data"
    }
   ],
   "source": [
    "plt.plot(Y_test_pred)"
   ]
  },
  {
   "cell_type": "code",
   "execution_count": 20,
   "metadata": {},
   "outputs": [],
   "source": [
    "## For the entire dataset"
   ]
  },
  {
   "cell_type": "code",
   "execution_count": 21,
   "metadata": {},
   "outputs": [
    {
     "name": "stdout",
     "output_type": "stream",
     "text": [
      "The total accuracy is 81.67330677290838\n"
     ]
    }
   ],
   "source": [
    "#X and Y\n",
    "model_pred=model(Variable(torch.from_numpy(X).type(torch.cuda.FloatTensor)))\n",
    "correct=0\n",
    "Y_pred=[]\n",
    "total_compounds=len(Y)\n",
    "for i,compound in enumerate(model_pred):\n",
    "    \n",
    "    \n",
    "    max_,max_index=torch.max(compound,0)\n",
    "    Y_pred.append(int(max_index))\n",
    "    if (int(max_index)==Y[i]):\n",
    "        correct+=1\n",
    "\n",
    "print(\"The total accuracy is {}\".format((correct/total_compounds)*100))"
   ]
  },
  {
   "cell_type": "code",
   "execution_count": 22,
   "metadata": {
    "scrolled": true
   },
   "outputs": [
    {
     "data": {
      "text/plain": [
       "[<matplotlib.lines.Line2D at 0x7f1b49652358>]"
      ]
     },
     "execution_count": 22,
     "metadata": {},
     "output_type": "execute_result"
    },
    {
     "data": {
      "image/png": "[encoded data removed]",
      "text/plain": [
       "<matplotlib.figure.Figure at 0x7f1b4aefb6d8>"
      ]
     },
     "metadata": {},
     "output_type": "display_data"
    }
   ],
   "source": [
    "plt.plot(Y_pred)"
   ]
  }
 ],
 "metadata": {
  "kernelspec": {
   "display_name": "Python 3",
   "language": "python",
   "name": "python3"
  },
  "language_info": {
   "codemirror_mode": {
    "name": "ipython",
    "version": 3
   },
   "file_extension": ".py",
   "mimetype": "text/x-python",
   "name": "python",
   "nbconvert_exporter": "python",
   "pygments_lexer": "ipython3",
   "version": "3.5.2"
  }
 },
 "nbformat": 4,
 "nbformat_minor": 2
}
