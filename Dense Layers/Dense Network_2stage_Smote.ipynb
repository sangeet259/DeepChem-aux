{
 "cells": [
  {
   "cell_type": "code",
   "execution_count": 1,
   "metadata": {
    "collapsed": true
   },
   "outputs": [],
   "source": [
    "#https://stackoverflow.com/questions/43396572/dimension-of-shape-in-conv1d"
   ]
  },
  {
   "cell_type": "code",
   "execution_count": 6,
   "metadata": {},
   "outputs": [],
   "source": [
    "from sklearn.utils import class_weight\n",
    "\n",
    "from sklearn.model_selection import train_test_split\n",
    "import numpy as np\n",
    "from keras.models import Sequential\n",
    "from keras.layers import Dense,Merge,Flatten,Dropout\n",
    "from keras.layers import Conv1D,Reshape\n",
    "import keras\n",
    "\n",
    "# For the plots \n",
    "import matplotlib.pyplot as plt\n",
    "\n",
    "# For controlling the training parameters in the midst of training itself\n",
    "from keras.callbacks import ModelCheckpoint,EarlyStopping, ReduceLROnPlateau\n",
    "\n",
    "# For creating directory to save the models\n",
    "import os\n",
    "from imblearn.over_sampling import SMOTE\n",
    "\n",
    "from sklearn.utils import class_weight\n",
    "\n",
    "from keras.utils.np_utils import to_categorical   \n",
    "\n",
    "\n",
    "import turicreate as tc\n"
   ]
  },
  {
   "cell_type": "code",
   "execution_count": 7,
   "metadata": {
    "collapsed": true
   },
   "outputs": [],
   "source": [
    "# Load the data\n",
    "X = np.load(\"X (1).npy\")\n",
    "Y = np.load(\"Y (1).npy\")\n",
    "\n",
    "YY = []\n",
    "for s in Y:\n",
    "    YY.append(int(np.floor(s/3)))\n",
    "    \n",
    "Y = YY\n",
    "\n",
    "# XT = np.column_stack( (X,Y) )\n",
    "YT = []\n",
    "for y in Y:\n",
    "    if y ==0:\n",
    "        YT.append(0)\n",
    "    elif y>=1 and y<=20:\n",
    "        YT.append(1)\n",
    "    else:\n",
    "        YT.append(2)\n",
    "        \n",
    "YT = np.array(YT)"
   ]
  },
  {
   "cell_type": "code",
   "execution_count": 8,
   "metadata": {},
   "outputs": [
    {
     "name": "stdout",
     "output_type": "stream",
     "text": [
      "Counter({0: 2818, 1: 92, 2: 64, 3: 40, 7: 26, 6: 23, 4: 22, 5: 21, 9: 18, 8: 14, 13: 13, 10: 13, 11: 13, 12: 9, 19: 7, 14: 6, 17: 6, 20: 5, 15: 5, 18: 5, 16: 5, 47: 2, 31: 2, 21: 2, 36: 1, 52: 1, 57: 1, 61: 1, 63: 1, 66: 1, 34: 1, 27: 1, 53: 1, 28: 1, 33: 1, 30: 1, 23: 1, 25: 1, 39: 1, 22: 1, 32: 1})\n"
     ]
    }
   ],
   "source": [
    "import collections\n",
    "counter=collections.Counter(Y)\n",
    "print(counter)"
   ]
  },
  {
   "cell_type": "code",
   "execution_count": 9,
   "metadata": {},
   "outputs": [
    {
     "data": {
      "text/html": [
       "<pre>Materializing SArray...</pre>"
      ],
      "text/plain": [
       "Materializing SArray..."
      ]
     },
     "metadata": {},
     "output_type": "display_data"
    },
    {
     "data": {
      "text/html": [
       "<pre>Done.</pre>"
      ],
      "text/plain": [
       "Done."
      ]
     },
     "metadata": {},
     "output_type": "display_data"
    },
    {
     "data": {
      "text/html": [
       "<html>                 <body>                     <iframe style=\"border:0;margin:0\" width=\"800\" height=\"620\" srcdoc='<html lang=\"en\">                         <head>                             <script src=\"https://cdnjs.cloudflare.com/ajax/libs/vega/3.0.8/vega.js\"></script>                             <script src=\"https://cdnjs.cloudflare.com/ajax/libs/vega-embed/3.0.0-rc7/vega-embed.js\"></script>                             <script src=\"https://cdnjs.cloudflare.com/ajax/libs/vega-tooltip/0.5.1/vega-tooltip.min.js\"></script>                             <link rel=\"stylesheet\" type=\"text/css\" href=\"https://cdnjs.cloudflare.com/ajax/libs/vega-tooltip/0.5.1/vega-tooltip.min.css\">                             <style>                             .vega-actions > a{                                 color:white;                                 text-decoration: none;                                 font-family: \"Arial\";                                 cursor:pointer;                                 padding:5px;                                 background:#AAAAAA;                                 border-radius:4px;                                 padding-left:10px;                                 padding-right:10px;                                 margin-right:5px;                             }                             .vega-actions{                                 margin-top:20px;                                 text-align:center                             }                            .vega-actions > a{                                 background:#999999;                            }                             </style>                         </head>                         <body>                             <div id=\"vis\">                             </div>                             <script>                                 var vega_json = \"{\\\"$schema\\\": \\\"https://vega.github.io/schema/vega/v3.0.json\\\", \\\"description\\\": \\\"A simple bar chart with embedded data.\\\", \\\"autosize\\\": \\\"pad\\\", \\\"padding\\\": 5, \\\"width\\\": 600, \\\"height\\\": 400, \\\"title\\\": {\\\"text\\\": \\\"Distribution of Values [integer]\\\", \\\"offset\\\": 30}, \\\"style\\\": \\\"cell\\\", \\\"data\\\": [{\\\"name\\\": \\\"source_2\\\", \\\"values\\\": [{\\\"left\\\": -1.46956, \\\"right\\\": 1.97108, \\\"count\\\": 2910}, {\\\"left\\\": 1.97108, \\\"right\\\": 5.41172, \\\"count\\\": 147}, {\\\"left\\\": 5.41172, \\\"right\\\": 8.85236, \\\"count\\\": 63}, {\\\"left\\\": 8.85236, \\\"right\\\": 12.293, \\\"count\\\": 53}, {\\\"left\\\": 12.293, \\\"right\\\": 15.7336, \\\"count\\\": 24}, {\\\"left\\\": 15.7336, \\\"right\\\": 19.1743, \\\"count\\\": 23}, {\\\"left\\\": 19.1743, \\\"right\\\": 22.6149, \\\"count\\\": 8}, {\\\"left\\\": 22.6149, \\\"right\\\": 26.0556, \\\"count\\\": 2}, {\\\"left\\\": 26.0556, \\\"right\\\": 29.4962, \\\"count\\\": 2}, {\\\"left\\\": 29.4962, \\\"right\\\": 32.9368, \\\"count\\\": 4}, {\\\"left\\\": 32.9368, \\\"right\\\": 36.3775, \\\"count\\\": 3}, {\\\"left\\\": 36.3775, \\\"right\\\": 39.8181, \\\"count\\\": 1}, {\\\"left\\\": 39.8181, \\\"right\\\": 43.2588, \\\"count\\\": 0}, {\\\"left\\\": 43.2588, \\\"right\\\": 46.6994, \\\"count\\\": 0}, {\\\"left\\\": 46.6994, \\\"right\\\": 50.14, \\\"count\\\": 2}, {\\\"left\\\": 50.14, \\\"right\\\": 53.5807, \\\"count\\\": 2}, {\\\"left\\\": 53.5807, \\\"right\\\": 57.0213, \\\"count\\\": 1}, {\\\"left\\\": 57.0213, \\\"right\\\": 60.462, \\\"count\\\": 0}, {\\\"left\\\": 60.462, \\\"right\\\": 63.9026, \\\"count\\\": 2}, {\\\"left\\\": 63.9026, \\\"right\\\": 67.3432, \\\"count\\\": 1}], \\\"progress\\\": 100.0}, {\\\"name\\\": \\\"data_0\\\", \\\"source\\\": \\\"source_2\\\", \\\"transform\\\": [{\\\"type\\\": \\\"formula\\\", \\\"expr\\\": \\\"toNumber(datum[\\\\\\\"left\\\\\\\"])\\\", \\\"as\\\": \\\"left\\\"}, {\\\"type\\\": \\\"formula\\\", \\\"expr\\\": \\\"toNumber(datum[\\\\\\\"right\\\\\\\"])\\\", \\\"as\\\": \\\"right\\\"}, {\\\"type\\\": \\\"formula\\\", \\\"expr\\\": \\\"toNumber(datum[\\\\\\\"count\\\\\\\"])\\\", \\\"as\\\": \\\"count\\\"}, {\\\"type\\\": \\\"filter\\\", \\\"expr\\\": \\\"datum[\\\\\\\"left\\\\\\\"] !== null && !isNaN(datum[\\\\\\\"left\\\\\\\"]) && datum[\\\\\\\"count\\\\\\\"] !== null && !isNaN(datum[\\\\\\\"count\\\\\\\"])\\\"}]}], \\\"marks\\\": [{\\\"name\\\": \\\"marks\\\", \\\"type\\\": \\\"rect\\\", \\\"style\\\": [\\\"rect\\\"], \\\"from\\\": {\\\"data\\\": \\\"data_0\\\"}, \\\"encode\\\": {\\\"hover\\\": {\\\"fill\\\": {\\\"value\\\": \\\"#7EC2F3\\\"}}, \\\"update\\\": {\\\"x\\\": {\\\"scale\\\": \\\"x\\\", \\\"field\\\": \\\"left\\\"}, \\\"x2\\\": {\\\"scale\\\": \\\"x\\\", \\\"field\\\": \\\"right\\\"}, \\\"y\\\": {\\\"scale\\\": \\\"y\\\", \\\"field\\\": \\\"count\\\"}, \\\"y2\\\": {\\\"scale\\\": \\\"y\\\", \\\"value\\\": 0}, \\\"fill\\\": {\\\"value\\\": \\\"#108EE9\\\"}}}}], \\\"scales\\\": [{\\\"name\\\": \\\"x\\\", \\\"type\\\": \\\"linear\\\", \\\"domain\\\": {\\\"data\\\": \\\"data_0\\\", \\\"fields\\\": [\\\"left\\\", \\\"right\\\"], \\\"sort\\\": true}, \\\"range\\\": [0, {\\\"signal\\\": \\\"width\\\"}], \\\"nice\\\": true, \\\"zero\\\": false}, {\\\"name\\\": \\\"y\\\", \\\"type\\\": \\\"linear\\\", \\\"domain\\\": {\\\"data\\\": \\\"data_0\\\", \\\"field\\\": \\\"count\\\"}, \\\"range\\\": [{\\\"signal\\\": \\\"height\\\"}, 0], \\\"nice\\\": true, \\\"zero\\\": true}], \\\"axes\\\": [{\\\"title\\\": \\\"Values\\\", \\\"scale\\\": \\\"x\\\", \\\"labelOverlap\\\": true, \\\"orient\\\": \\\"bottom\\\", \\\"tickCount\\\": {\\\"signal\\\": \\\"ceil(width/40)\\\"}, \\\"zindex\\\": 1}, {\\\"scale\\\": \\\"x\\\", \\\"domain\\\": false, \\\"grid\\\": true, \\\"labels\\\": false, \\\"maxExtent\\\": 0, \\\"minExtent\\\": 0, \\\"orient\\\": \\\"bottom\\\", \\\"tickCount\\\": {\\\"signal\\\": \\\"ceil(width/40)\\\"}, \\\"ticks\\\": false, \\\"zindex\\\": 0, \\\"gridScale\\\": \\\"y\\\"}, {\\\"title\\\": \\\"Count\\\", \\\"scale\\\": \\\"y\\\", \\\"labelOverlap\\\": true, \\\"orient\\\": \\\"left\\\", \\\"tickCount\\\": {\\\"signal\\\": \\\"ceil(height/40)\\\"}, \\\"zindex\\\": 1}, {\\\"scale\\\": \\\"y\\\", \\\"domain\\\": false, \\\"grid\\\": true, \\\"labels\\\": false, \\\"maxExtent\\\": 0, \\\"minExtent\\\": 0, \\\"orient\\\": \\\"left\\\", \\\"tickCount\\\": {\\\"signal\\\": \\\"ceil(height/40)\\\"}, \\\"ticks\\\": false, \\\"zindex\\\": 0, \\\"gridScale\\\": \\\"x\\\"}], \\\"config\\\": {\\\"axis\\\": {\\\"labelFont\\\": \\\"HelveticaNeue, Arial\\\", \\\"labelFontSize\\\": 12, \\\"labelPadding\\\": 10, \\\"labelColor\\\": \\\"rgba(0,0,0,0.65)\\\", \\\"titleFont\\\": \\\"HelveticaNeue-Medium, Arial\\\", \\\"titleFontWeight\\\": \\\"normal\\\", \\\"titlePadding\\\": 30, \\\"titleFontSize\\\": 15, \\\"titleColor\\\": \\\"rgba(0,0,0,0.65)\\\"}, \\\"axisY\\\": {\\\"minExtent\\\": 30}, \\\"style\\\": {\\\"rect\\\": {\\\"stroke\\\": \\\"rgba(200, 200, 200, 0.5)\\\"}, \\\"group-title\\\": {\\\"fontSize\\\": 29, \\\"font\\\": \\\"HelveticaNeue, Arial\\\", \\\"fontWeight\\\": \\\"normal\\\", \\\"fill\\\": \\\"rgba(0,0,0,0.65)\\\"}}}}\";                                 var vega_json_parsed = JSON.parse(vega_json);                                 var toolTipOpts = {                                     showAllFields: true                                 };                                 if(vega_json_parsed[\"metadata\"] != null){                                     if(vega_json_parsed[\"metadata\"][\"bubbleOpts\"] != null){                                         toolTipOpts = vega_json_parsed[\"metadata\"][\"bubbleOpts\"];                                     };                                 };                                 vegaEmbed(\"#vis\", vega_json_parsed).then(function (result) {                                     vegaTooltip.vega(result.view, toolTipOpts);                                  });                             </script>                         </body>                     </html>' src=\"demo_iframe_srcdoc.htm\">                         <p>Your browser does not support iframes.</p>                     </iframe>                 </body>             </html>"
      ],
      "text/plain": [
       "<IPython.core.display.HTML object>"
      ]
     },
     "metadata": {},
     "output_type": "display_data"
    }
   ],
   "source": [
    "SY =  tc.SArray(Y)\n",
    "SY.show()"
   ]
  },
  {
   "cell_type": "markdown",
   "metadata": {},
   "source": [
    "# Stage 1: Binary Classifier"
   ]
  },
  {
   "cell_type": "code",
   "execution_count": 10,
   "metadata": {},
   "outputs": [],
   "source": [
    "sm = SMOTE(random_state=12, ratio = 'minority', k_neighbors = 5)\n",
    "SynX, SynY = sm.fit_sample(X, YT)"
   ]
  },
  {
   "cell_type": "code",
   "execution_count": 11,
   "metadata": {},
   "outputs": [
    {
     "name": "stdout",
     "output_type": "stream",
     "text": [
      "PROGRESS: Creating a validation set from 5 percent of training data. This may take a while.\n",
      "          You can set ``validation_set=None`` to disable validation tracking.\n",
      "\n",
      "PROGRESS: The following methods are available for this type of problem.\n",
      "PROGRESS: BoostedTreesClassifier, RandomForestClassifier, DecisionTreeClassifier, LogisticClassifier\n",
      "PROGRESS: The returned model will be chosen according to validation accuracy.\n"
     ]
    },
    {
     "data": {
      "text/html": [
       "<pre>Boosted trees classifier:</pre>"
      ],
      "text/plain": [
       "Boosted trees classifier:"
      ]
     },
     "metadata": {},
     "output_type": "display_data"
    },
    {
     "data": {
      "text/html": [
       "<pre>--------------------------------------------------------</pre>"
      ],
      "text/plain": [
       "--------------------------------------------------------"
      ]
     },
     "metadata": {},
     "output_type": "display_data"
    },
    {
     "data": {
      "text/html": [
       "<pre>Number of examples          : 4588</pre>"
      ],
      "text/plain": [
       "Number of examples          : 4588"
      ]
     },
     "metadata": {},
     "output_type": "display_data"
    },
    {
     "data": {
      "text/html": [
       "<pre>Number of classes           : 3</pre>"
      ],
      "text/plain": [
       "Number of classes           : 3"
      ]
     },
     "metadata": {},
     "output_type": "display_data"
    },
    {
     "data": {
      "text/html": [
       "<pre>Number of feature columns   : 1</pre>"
      ],
      "text/plain": [
       "Number of feature columns   : 1"
      ]
     },
     "metadata": {},
     "output_type": "display_data"
    },
    {
     "data": {
      "text/html": [
       "<pre>Number of unpacked features : 101</pre>"
      ],
      "text/plain": [
       "Number of unpacked features : 101"
      ]
     },
     "metadata": {},
     "output_type": "display_data"
    },
    {
     "data": {
      "text/html": [
       "<pre>+-----------+--------------+-------------------+---------------------+-------------------+---------------------+</pre>"
      ],
      "text/plain": [
       "+-----------+--------------+-------------------+---------------------+-------------------+---------------------+"
      ]
     },
     "metadata": {},
     "output_type": "display_data"
    },
    {
     "data": {
      "text/html": [
       "<pre>| Iteration | Elapsed Time | Training-accuracy | Validation-accuracy | Training-log_loss | Validation-log_loss |</pre>"
      ],
      "text/plain": [
       "| Iteration | Elapsed Time | Training-accuracy | Validation-accuracy | Training-log_loss | Validation-log_loss |"
      ]
     },
     "metadata": {},
     "output_type": "display_data"
    },
    {
     "data": {
      "text/html": [
       "<pre>+-----------+--------------+-------------------+---------------------+-------------------+---------------------+</pre>"
      ],
      "text/plain": [
       "+-----------+--------------+-------------------+---------------------+-------------------+---------------------+"
      ]
     },
     "metadata": {},
     "output_type": "display_data"
    },
    {
     "data": {
      "text/html": [
       "<pre>| 1         | 0.250093     | 0.941805          | 0.893519            | 0.767042          | 0.795102            |</pre>"
      ],
      "text/plain": [
       "| 1         | 0.250093     | 0.941805          | 0.893519            | 0.767042          | 0.795102            |"
      ]
     },
     "metadata": {},
     "output_type": "display_data"
    },
    {
     "data": {
      "text/html": [
       "<pre>| 2         | 0.498117     | 0.946382          | 0.912037            | 0.572600          | 0.619603            |</pre>"
      ],
      "text/plain": [
       "| 2         | 0.498117     | 0.946382          | 0.912037            | 0.572600          | 0.619603            |"
      ]
     },
     "metadata": {},
     "output_type": "display_data"
    },
    {
     "data": {
      "text/html": [
       "<pre>| 3         | 0.665178     | 0.950959          | 0.912037            | 0.440682          | 0.507501            |</pre>"
      ],
      "text/plain": [
       "| 3         | 0.665178     | 0.950959          | 0.912037            | 0.440682          | 0.507501            |"
      ]
     },
     "metadata": {},
     "output_type": "display_data"
    },
    {
     "data": {
      "text/html": [
       "<pre>| 4         | 0.836260     | 0.955100          | 0.912037            | 0.347105          | 0.434618            |</pre>"
      ],
      "text/plain": [
       "| 4         | 0.836260     | 0.955100          | 0.912037            | 0.347105          | 0.434618            |"
      ]
     },
     "metadata": {},
     "output_type": "display_data"
    },
    {
     "data": {
      "text/html": [
       "<pre>| 5         | 1.011097     | 0.961639          | 0.907407            | 0.280069          | 0.383110            |</pre>"
      ],
      "text/plain": [
       "| 5         | 1.011097     | 0.961639          | 0.907407            | 0.280069          | 0.383110            |"
      ]
     },
     "metadata": {},
     "output_type": "display_data"
    },
    {
     "data": {
      "text/html": [
       "<pre>| 6         | 1.179138     | 0.966652          | 0.907407            | 0.230783          | 0.349219            |</pre>"
      ],
      "text/plain": [
       "| 6         | 1.179138     | 0.966652          | 0.907407            | 0.230783          | 0.349219            |"
      ]
     },
     "metadata": {},
     "output_type": "display_data"
    },
    {
     "data": {
      "text/html": [
       "<pre>| 10        | 1.851402     | 0.979076          | 0.907407            | 0.118517          | 0.281496            |</pre>"
      ],
      "text/plain": [
       "| 10        | 1.851402     | 0.979076          | 0.907407            | 0.118517          | 0.281496            |"
      ]
     },
     "metadata": {},
     "output_type": "display_data"
    },
    {
     "data": {
      "text/html": [
       "<pre>+-----------+--------------+-------------------+---------------------+-------------------+---------------------+</pre>"
      ],
      "text/plain": [
       "+-----------+--------------+-------------------+---------------------+-------------------+---------------------+"
      ]
     },
     "metadata": {},
     "output_type": "display_data"
    },
    {
     "data": {
      "text/html": [
       "<pre>Random forest classifier:</pre>"
      ],
      "text/plain": [
       "Random forest classifier:"
      ]
     },
     "metadata": {},
     "output_type": "display_data"
    },
    {
     "data": {
      "text/html": [
       "<pre>--------------------------------------------------------</pre>"
      ],
      "text/plain": [
       "--------------------------------------------------------"
      ]
     },
     "metadata": {},
     "output_type": "display_data"
    },
    {
     "data": {
      "text/html": [
       "<pre>Number of examples          : 4588</pre>"
      ],
      "text/plain": [
       "Number of examples          : 4588"
      ]
     },
     "metadata": {},
     "output_type": "display_data"
    },
    {
     "data": {
      "text/html": [
       "<pre>Number of classes           : 3</pre>"
      ],
      "text/plain": [
       "Number of classes           : 3"
      ]
     },
     "metadata": {},
     "output_type": "display_data"
    },
    {
     "data": {
      "text/html": [
       "<pre>Number of feature columns   : 1</pre>"
      ],
      "text/plain": [
       "Number of feature columns   : 1"
      ]
     },
     "metadata": {},
     "output_type": "display_data"
    },
    {
     "data": {
      "text/html": [
       "<pre>Number of unpacked features : 101</pre>"
      ],
      "text/plain": [
       "Number of unpacked features : 101"
      ]
     },
     "metadata": {},
     "output_type": "display_data"
    },
    {
     "data": {
      "text/html": [
       "<pre>+-----------+--------------+-------------------+---------------------+-------------------+---------------------+</pre>"
      ],
      "text/plain": [
       "+-----------+--------------+-------------------+---------------------+-------------------+---------------------+"
      ]
     },
     "metadata": {},
     "output_type": "display_data"
    },
    {
     "data": {
      "text/html": [
       "<pre>| Iteration | Elapsed Time | Training-accuracy | Validation-accuracy | Training-log_loss | Validation-log_loss |</pre>"
      ],
      "text/plain": [
       "| Iteration | Elapsed Time | Training-accuracy | Validation-accuracy | Training-log_loss | Validation-log_loss |"
      ]
     },
     "metadata": {},
     "output_type": "display_data"
    },
    {
     "data": {
      "text/html": [
       "<pre>+-----------+--------------+-------------------+---------------------+-------------------+---------------------+</pre>"
      ],
      "text/plain": [
       "+-----------+--------------+-------------------+---------------------+-------------------+---------------------+"
      ]
     },
     "metadata": {},
     "output_type": "display_data"
    },
    {
     "data": {
      "text/html": [
       "<pre>| 1         | 0.145250     | 0.930689          | 0.847222            | 0.360856          | 0.491818            |</pre>"
      ],
      "text/plain": [
       "| 1         | 0.145250     | 0.930689          | 0.847222            | 0.360856          | 0.491818            |"
      ]
     },
     "metadata": {},
     "output_type": "display_data"
    },
    {
     "data": {
      "text/html": [
       "<pre>| 2         | 0.266596     | 0.940061          | 0.898148            | 0.339226          | 0.442869            |</pre>"
      ],
      "text/plain": [
       "| 2         | 0.266596     | 0.940061          | 0.898148            | 0.339226          | 0.442869            |"
      ]
     },
     "metadata": {},
     "output_type": "display_data"
    },
    {
     "data": {
      "text/html": [
       "<pre>| 3         | 0.428142     | 0.943112          | 0.902778            | 0.331125          | 0.426695            |</pre>"
      ],
      "text/plain": [
       "| 3         | 0.428142     | 0.943112          | 0.902778            | 0.331125          | 0.426695            |"
      ]
     },
     "metadata": {},
     "output_type": "display_data"
    },
    {
     "data": {
      "text/html": [
       "<pre>| 4         | 0.585394     | 0.942459          | 0.912037            | 0.330901          | 0.425145            |</pre>"
      ],
      "text/plain": [
       "| 4         | 0.585394     | 0.942459          | 0.912037            | 0.330901          | 0.425145            |"
      ]
     },
     "metadata": {},
     "output_type": "display_data"
    },
    {
     "data": {
      "text/html": [
       "<pre>| 5         | 0.741630     | 0.942677          | 0.902778            | 0.331112          | 0.418934            |</pre>"
      ],
      "text/plain": [
       "| 5         | 0.741630     | 0.942677          | 0.902778            | 0.331112          | 0.418934            |"
      ]
     },
     "metadata": {},
     "output_type": "display_data"
    },
    {
     "data": {
      "text/html": [
       "<pre>| 6         | 0.875921     | 0.943330          | 0.907407            | 0.329155          | 0.416467            |</pre>"
      ],
      "text/plain": [
       "| 6         | 0.875921     | 0.943330          | 0.907407            | 0.329155          | 0.416467            |"
      ]
     },
     "metadata": {},
     "output_type": "display_data"
    },
    {
     "data": {
      "text/html": [
       "<pre>| 10        | 1.411018     | 0.943548          | 0.912037            | 0.327483          | 0.415150            |</pre>"
      ],
      "text/plain": [
       "| 10        | 1.411018     | 0.943548          | 0.912037            | 0.327483          | 0.415150            |"
      ]
     },
     "metadata": {},
     "output_type": "display_data"
    },
    {
     "data": {
      "text/html": [
       "<pre>+-----------+--------------+-------------------+---------------------+-------------------+---------------------+</pre>"
      ],
      "text/plain": [
       "+-----------+--------------+-------------------+---------------------+-------------------+---------------------+"
      ]
     },
     "metadata": {},
     "output_type": "display_data"
    },
    {
     "data": {
      "text/html": [
       "<pre>Decision tree classifier:</pre>"
      ],
      "text/plain": [
       "Decision tree classifier:"
      ]
     },
     "metadata": {},
     "output_type": "display_data"
    },
    {
     "data": {
      "text/html": [
       "<pre>--------------------------------------------------------</pre>"
      ],
      "text/plain": [
       "--------------------------------------------------------"
      ]
     },
     "metadata": {},
     "output_type": "display_data"
    },
    {
     "data": {
      "text/html": [
       "<pre>Number of examples          : 4588</pre>"
      ],
      "text/plain": [
       "Number of examples          : 4588"
      ]
     },
     "metadata": {},
     "output_type": "display_data"
    },
    {
     "data": {
      "text/html": [
       "<pre>Number of classes           : 3</pre>"
      ],
      "text/plain": [
       "Number of classes           : 3"
      ]
     },
     "metadata": {},
     "output_type": "display_data"
    },
    {
     "data": {
      "text/html": [
       "<pre>Number of feature columns   : 1</pre>"
      ],
      "text/plain": [
       "Number of feature columns   : 1"
      ]
     },
     "metadata": {},
     "output_type": "display_data"
    },
    {
     "data": {
      "text/html": [
       "<pre>Number of unpacked features : 101</pre>"
      ],
      "text/plain": [
       "Number of unpacked features : 101"
      ]
     },
     "metadata": {},
     "output_type": "display_data"
    },
    {
     "data": {
      "text/html": [
       "<pre>+-----------+--------------+-------------------+---------------------+-------------------+---------------------+</pre>"
      ],
      "text/plain": [
       "+-----------+--------------+-------------------+---------------------+-------------------+---------------------+"
      ]
     },
     "metadata": {},
     "output_type": "display_data"
    },
    {
     "data": {
      "text/html": [
       "<pre>| Iteration | Elapsed Time | Training-accuracy | Validation-accuracy | Training-log_loss | Validation-log_loss |</pre>"
      ],
      "text/plain": [
       "| Iteration | Elapsed Time | Training-accuracy | Validation-accuracy | Training-log_loss | Validation-log_loss |"
      ]
     },
     "metadata": {},
     "output_type": "display_data"
    },
    {
     "data": {
      "text/html": [
       "<pre>+-----------+--------------+-------------------+---------------------+-------------------+---------------------+</pre>"
      ],
      "text/plain": [
       "+-----------+--------------+-------------------+---------------------+-------------------+---------------------+"
      ]
     },
     "metadata": {},
     "output_type": "display_data"
    },
    {
     "data": {
      "text/html": [
       "<pre>| 1         | 0.284774     | 0.941805          | 0.893519            | 0.328826          | 0.416822            |</pre>"
      ],
      "text/plain": [
       "| 1         | 0.284774     | 0.941805          | 0.893519            | 0.328826          | 0.416822            |"
      ]
     },
     "metadata": {},
     "output_type": "display_data"
    },
    {
     "data": {
      "text/html": [
       "<pre>+-----------+--------------+-------------------+---------------------+-------------------+---------------------+</pre>"
      ],
      "text/plain": [
       "+-----------+--------------+-------------------+---------------------+-------------------+---------------------+"
      ]
     },
     "metadata": {},
     "output_type": "display_data"
    },
    {
     "data": {
      "text/html": [
       "<pre>Logistic regression:</pre>"
      ],
      "text/plain": [
       "Logistic regression:"
      ]
     },
     "metadata": {},
     "output_type": "display_data"
    },
    {
     "data": {
      "text/html": [
       "<pre>--------------------------------------------------------</pre>"
      ],
      "text/plain": [
       "--------------------------------------------------------"
      ]
     },
     "metadata": {},
     "output_type": "display_data"
    },
    {
     "data": {
      "text/html": [
       "<pre>Number of examples          : 4588</pre>"
      ],
      "text/plain": [
       "Number of examples          : 4588"
      ]
     },
     "metadata": {},
     "output_type": "display_data"
    },
    {
     "data": {
      "text/html": [
       "<pre>Number of classes           : 3</pre>"
      ],
      "text/plain": [
       "Number of classes           : 3"
      ]
     },
     "metadata": {},
     "output_type": "display_data"
    },
    {
     "data": {
      "text/html": [
       "<pre>Number of feature columns   : 1</pre>"
      ],
      "text/plain": [
       "Number of feature columns   : 1"
      ]
     },
     "metadata": {},
     "output_type": "display_data"
    },
    {
     "data": {
      "text/html": [
       "<pre>Number of unpacked features : 101</pre>"
      ],
      "text/plain": [
       "Number of unpacked features : 101"
      ]
     },
     "metadata": {},
     "output_type": "display_data"
    },
    {
     "data": {
      "text/html": [
       "<pre>Number of coefficients      : 204</pre>"
      ],
      "text/plain": [
       "Number of coefficients      : 204"
      ]
     },
     "metadata": {},
     "output_type": "display_data"
    },
    {
     "data": {
      "text/html": [
       "<pre>Starting Newton Method</pre>"
      ],
      "text/plain": [
       "Starting Newton Method"
      ]
     },
     "metadata": {},
     "output_type": "display_data"
    },
    {
     "data": {
      "text/html": [
       "<pre>--------------------------------------------------------</pre>"
      ],
      "text/plain": [
       "--------------------------------------------------------"
      ]
     },
     "metadata": {},
     "output_type": "display_data"
    },
    {
     "data": {
      "text/html": [
       "<pre>+-----------+----------+--------------+-------------------+---------------------+</pre>"
      ],
      "text/plain": [
       "+-----------+----------+--------------+-------------------+---------------------+"
      ]
     },
     "metadata": {},
     "output_type": "display_data"
    },
    {
     "data": {
      "text/html": [
       "<pre>| Iteration | Passes   | Elapsed Time | Training-accuracy | Validation-accuracy |</pre>"
      ],
      "text/plain": [
       "| Iteration | Passes   | Elapsed Time | Training-accuracy | Validation-accuracy |"
      ]
     },
     "metadata": {},
     "output_type": "display_data"
    },
    {
     "data": {
      "text/html": [
       "<pre>+-----------+----------+--------------+-------------------+---------------------+</pre>"
      ],
      "text/plain": [
       "+-----------+----------+--------------+-------------------+---------------------+"
      ]
     },
     "metadata": {},
     "output_type": "display_data"
    },
    {
     "data": {
      "text/html": [
       "<pre>| 1         | 2        | 2.510897     | 0.896251          | 0.851852            |</pre>"
      ],
      "text/plain": [
       "| 1         | 2        | 2.510897     | 0.896251          | 0.851852            |"
      ]
     },
     "metadata": {},
     "output_type": "display_data"
    },
    {
     "data": {
      "text/html": [
       "<pre>| 2         | 3        | 3.918687     | 0.920227          | 0.884259            |</pre>"
      ],
      "text/plain": [
       "| 2         | 3        | 3.918687     | 0.920227          | 0.884259            |"
      ]
     },
     "metadata": {},
     "output_type": "display_data"
    },
    {
     "data": {
      "text/html": [
       "<pre>| 3         | 4        | 5.487463     | 0.928509          | 0.912037            |</pre>"
      ],
      "text/plain": [
       "| 3         | 4        | 5.487463     | 0.928509          | 0.912037            |"
      ]
     },
     "metadata": {},
     "output_type": "display_data"
    },
    {
     "data": {
      "text/html": [
       "<pre>| 4         | 5        | 6.738634     | 0.933086          | 0.907407            |</pre>"
      ],
      "text/plain": [
       "| 4         | 5        | 6.738634     | 0.933086          | 0.907407            |"
      ]
     },
     "metadata": {},
     "output_type": "display_data"
    },
    {
     "data": {
      "text/html": [
       "<pre>| 5         | 6        | 7.586926     | 0.935266          | 0.902778            |</pre>"
      ],
      "text/plain": [
       "| 5         | 6        | 7.586926     | 0.935266          | 0.902778            |"
      ]
     },
     "metadata": {},
     "output_type": "display_data"
    },
    {
     "data": {
      "text/html": [
       "<pre>| 6         | 7        | 8.738383     | 0.938099          | 0.902778            |</pre>"
      ],
      "text/plain": [
       "| 6         | 7        | 8.738383     | 0.938099          | 0.902778            |"
      ]
     },
     "metadata": {},
     "output_type": "display_data"
    },
    {
     "data": {
      "text/html": [
       "<pre>| 7         | 8        | 10.025520    | 0.938317          | 0.902778            |</pre>"
      ],
      "text/plain": [
       "| 7         | 8        | 10.025520    | 0.938317          | 0.902778            |"
      ]
     },
     "metadata": {},
     "output_type": "display_data"
    },
    {
     "data": {
      "text/html": [
       "<pre>| 8         | 9        | 11.167291    | 0.939189          | 0.907407            |</pre>"
      ],
      "text/plain": [
       "| 8         | 9        | 11.167291    | 0.939189          | 0.907407            |"
      ]
     },
     "metadata": {},
     "output_type": "display_data"
    },
    {
     "data": {
      "text/html": [
       "<pre>| 9         | 10       | 12.179369    | 0.939407          | 0.907407            |</pre>"
      ],
      "text/plain": [
       "| 9         | 10       | 12.179369    | 0.939407          | 0.907407            |"
      ]
     },
     "metadata": {},
     "output_type": "display_data"
    },
    {
     "data": {
      "text/html": [
       "<pre>| 10        | 11       | 13.133673    | 0.939407          | 0.907407            |</pre>"
      ],
      "text/plain": [
       "| 10        | 11       | 13.133673    | 0.939407          | 0.907407            |"
      ]
     },
     "metadata": {},
     "output_type": "display_data"
    },
    {
     "data": {
      "text/html": [
       "<pre>+-----------+----------+--------------+-------------------+---------------------+</pre>"
      ],
      "text/plain": [
       "+-----------+----------+--------------+-------------------+---------------------+"
      ]
     },
     "metadata": {},
     "output_type": "display_data"
    },
    {
     "data": {
      "text/html": [
       "<pre>TERMINATED: Iteration limit reached.</pre>"
      ],
      "text/plain": [
       "TERMINATED: Iteration limit reached."
      ]
     },
     "metadata": {},
     "output_type": "display_data"
    },
    {
     "data": {
      "text/html": [
       "<pre>This model may not be optimal. To improve it, consider increasing `max_iterations`.</pre>"
      ],
      "text/plain": [
       "This model may not be optimal. To improve it, consider increasing `max_iterations`."
      ]
     },
     "metadata": {},
     "output_type": "display_data"
    },
    {
     "name": "stdout",
     "output_type": "stream",
     "text": [
      "PROGRESS: Model selection based on validation accuracy:\n",
      "PROGRESS: ---------------------------------------------\n",
      "PROGRESS: BoostedTreesClassifier          : 0.9074074029922485\n",
      "PROGRESS: RandomForestClassifier          : 0.9120370149612427\n",
      "PROGRESS: DecisionTreeClassifier          : 0.8935185074806213\n",
      "PROGRESS: LogisticClassifier              : 0.907407\n",
      "PROGRESS: ---------------------------------------------\n",
      "PROGRESS: Selecting RandomForestClassifier based on validation set performance.\n"
     ]
    }
   ],
   "source": [
    "# Load the data\n",
    "syndataY =  tc.SArray(SynY)\n",
    "syndataX = tc.SArray(SynX.tolist())\n",
    "\n",
    "\n",
    "syndata = tc.SFrame()\n",
    "syndata = syndata.add_column(syndataX,'X')\n",
    "syndata = syndata.add_column(syndataY,'Soluble')\n",
    "# Make a train-test split\n",
    "syntrain_data, syntest_data = syndata.random_split(0.8)\n",
    "\n",
    "\n",
    "dataY =  tc.SArray(YT)\n",
    "dataX = tc.SArray(X.tolist())\n",
    "data = tc.SFrame()\n",
    "data = data.add_column(dataX,'X')\n",
    "data = data.add_column(dataY,'Soluble')\n",
    "# Make a train-test split\n",
    "train_data, test_data = data.random_split(0.8)\n",
    "\n",
    "stage1_binary_model = tc.classifier.create(syntrain_data, target='Soluble',\n",
    "                             features = ['X'])"
   ]
  },
  {
   "cell_type": "code",
   "execution_count": 15,
   "metadata": {},
   "outputs": [
    {
     "name": "stdout",
     "output_type": "stream",
     "text": [
      "PROGRESS: Creating a validation set from 5 percent of training data. This may take a while.\n",
      "          You can set ``validation_set=None`` to disable validation tracking.\n",
      "\n"
     ]
    },
    {
     "data": {
      "text/html": [
       "<pre>Random forest classifier:</pre>"
      ],
      "text/plain": [
       "Random forest classifier:"
      ]
     },
     "metadata": {},
     "output_type": "display_data"
    },
    {
     "data": {
      "text/html": [
       "<pre>--------------------------------------------------------</pre>"
      ],
      "text/plain": [
       "--------------------------------------------------------"
      ]
     },
     "metadata": {},
     "output_type": "display_data"
    },
    {
     "data": {
      "text/html": [
       "<pre>Number of examples          : 4542</pre>"
      ],
      "text/plain": [
       "Number of examples          : 4542"
      ]
     },
     "metadata": {},
     "output_type": "display_data"
    },
    {
     "data": {
      "text/html": [
       "<pre>Number of classes           : 3</pre>"
      ],
      "text/plain": [
       "Number of classes           : 3"
      ]
     },
     "metadata": {},
     "output_type": "display_data"
    },
    {
     "data": {
      "text/html": [
       "<pre>Number of feature columns   : 1</pre>"
      ],
      "text/plain": [
       "Number of feature columns   : 1"
      ]
     },
     "metadata": {},
     "output_type": "display_data"
    },
    {
     "data": {
      "text/html": [
       "<pre>Number of unpacked features : 101</pre>"
      ],
      "text/plain": [
       "Number of unpacked features : 101"
      ]
     },
     "metadata": {},
     "output_type": "display_data"
    },
    {
     "data": {
      "text/html": [
       "<pre>+-----------+--------------+-------------------+---------------------+-------------------+---------------------+</pre>"
      ],
      "text/plain": [
       "+-----------+--------------+-------------------+---------------------+-------------------+---------------------+"
      ]
     },
     "metadata": {},
     "output_type": "display_data"
    },
    {
     "data": {
      "text/html": [
       "<pre>| Iteration | Elapsed Time | Training-accuracy | Validation-accuracy | Training-log_loss | Validation-log_loss |</pre>"
      ],
      "text/plain": [
       "| Iteration | Elapsed Time | Training-accuracy | Validation-accuracy | Training-log_loss | Validation-log_loss |"
      ]
     },
     "metadata": {},
     "output_type": "display_data"
    },
    {
     "data": {
      "text/html": [
       "<pre>+-----------+--------------+-------------------+---------------------+-------------------+---------------------+</pre>"
      ],
      "text/plain": [
       "+-----------+--------------+-------------------+---------------------+-------------------+---------------------+"
      ]
     },
     "metadata": {},
     "output_type": "display_data"
    },
    {
     "data": {
      "text/html": [
       "<pre>| 1         | 0.141051     | 0.925804          | 0.900763            | 0.387878          | 0.423975            |</pre>"
      ],
      "text/plain": [
       "| 1         | 0.141051     | 0.925804          | 0.900763            | 0.387878          | 0.423975            |"
      ]
     },
     "metadata": {},
     "output_type": "display_data"
    },
    {
     "data": {
      "text/html": [
       "<pre>| 2         | 0.277811     | 0.936812          | 0.912214            | 0.353335          | 0.397910            |</pre>"
      ],
      "text/plain": [
       "| 2         | 0.277811     | 0.936812          | 0.912214            | 0.353335          | 0.397910            |"
      ]
     },
     "metadata": {},
     "output_type": "display_data"
    },
    {
     "data": {
      "text/html": [
       "<pre>| 3         | 0.464784     | 0.940775          | 0.908397            | 0.343294          | 0.386533            |</pre>"
      ],
      "text/plain": [
       "| 3         | 0.464784     | 0.940775          | 0.908397            | 0.343294          | 0.386533            |"
      ]
     },
     "metadata": {},
     "output_type": "display_data"
    },
    {
     "data": {
      "text/html": [
       "<pre>| 4         | 0.667095     | 0.940555          | 0.908397            | 0.338715          | 0.382388            |</pre>"
      ],
      "text/plain": [
       "| 4         | 0.667095     | 0.940555          | 0.908397            | 0.338715          | 0.382388            |"
      ]
     },
     "metadata": {},
     "output_type": "display_data"
    },
    {
     "data": {
      "text/html": [
       "<pre>| 5         | 0.817417     | 0.942096          | 0.912214            | 0.335413          | 0.380766            |</pre>"
      ],
      "text/plain": [
       "| 5         | 0.817417     | 0.942096          | 0.912214            | 0.335413          | 0.380766            |"
      ]
     },
     "metadata": {},
     "output_type": "display_data"
    },
    {
     "data": {
      "text/html": [
       "<pre>| 6         | 0.969729     | 0.942316          | 0.912214            | 0.333413          | 0.379945            |</pre>"
      ],
      "text/plain": [
       "| 6         | 0.969729     | 0.942316          | 0.912214            | 0.333413          | 0.379945            |"
      ]
     },
     "metadata": {},
     "output_type": "display_data"
    },
    {
     "data": {
      "text/html": [
       "<pre>| 10        | 1.487698     | 0.941876          | 0.908397            | 0.332416          | 0.379849            |</pre>"
      ],
      "text/plain": [
       "| 10        | 1.487698     | 0.941876          | 0.908397            | 0.332416          | 0.379849            |"
      ]
     },
     "metadata": {},
     "output_type": "display_data"
    },
    {
     "data": {
      "text/html": [
       "<pre>+-----------+--------------+-------------------+---------------------+-------------------+---------------------+</pre>"
      ],
      "text/plain": [
       "+-----------+--------------+-------------------+---------------------+-------------------+---------------------+"
      ]
     },
     "metadata": {},
     "output_type": "display_data"
    }
   ],
   "source": [
    "stage1_final_model = tc.random_forest_classifier.create(syntrain_data, target='Soluble',\n",
    "                             features = ['X'])"
   ]
  },
  {
   "cell_type": "code",
   "execution_count": 16,
   "metadata": {},
   "outputs": [
    {
     "data": {
      "text/plain": [
       "{'accuracy': 0.8955453149001537,\n",
       " 'auc': 0.9406607147579047,\n",
       " 'confusion_matrix': Columns:\n",
       " \ttarget_label\tint\n",
       " \tpredicted_label\tint\n",
       " \tcount\tint\n",
       " \n",
       " Rows: 6\n",
       " \n",
       " Data:\n",
       " +--------------+-----------------+-------+\n",
       " | target_label | predicted_label | count |\n",
       " +--------------+-----------------+-------+\n",
       " |      1       |        1        |   15  |\n",
       " |      1       |        2        |   13  |\n",
       " |      1       |        0        |   49  |\n",
       " |      2       |        2        |   3   |\n",
       " |      0       |        0        |  565  |\n",
       " |      0       |        2        |   6   |\n",
       " +--------------+-----------------+-------+\n",
       " [6 rows x 3 columns],\n",
       " 'f1_score': 0.5065578181373449,\n",
       " 'log_loss': 0.4145655025370156,\n",
       " 'precision': 0.68551969203435,\n",
       " 'recall': 0.7280991046315038,\n",
       " 'roc_curve': Columns:\n",
       " \tthreshold\tfloat\n",
       " \tfpr\tfloat\n",
       " \ttpr\tfloat\n",
       " \tp\tint\n",
       " \tn\tint\n",
       " \tclass\tint\n",
       " \n",
       " Rows: 300003\n",
       " \n",
       " Data:\n",
       " +-----------+-----+-----+-----+----+-------+\n",
       " | threshold | fpr | tpr |  p  | n  | class |\n",
       " +-----------+-----+-----+-----+----+-------+\n",
       " |    0.0    | 1.0 | 1.0 | 571 | 80 |   0   |\n",
       " |   1e-05   | 1.0 | 1.0 | 571 | 80 |   0   |\n",
       " |   2e-05   | 1.0 | 1.0 | 571 | 80 |   0   |\n",
       " |   3e-05   | 1.0 | 1.0 | 571 | 80 |   0   |\n",
       " |   4e-05   | 1.0 | 1.0 | 571 | 80 |   0   |\n",
       " |   5e-05   | 1.0 | 1.0 | 571 | 80 |   0   |\n",
       " |   6e-05   | 1.0 | 1.0 | 571 | 80 |   0   |\n",
       " |   7e-05   | 1.0 | 1.0 | 571 | 80 |   0   |\n",
       " |   8e-05   | 1.0 | 1.0 | 571 | 80 |   0   |\n",
       " |   9e-05   | 1.0 | 1.0 | 571 | 80 |   0   |\n",
       " +-----------+-----+-----+-----+----+-------+\n",
       " [300003 rows x 6 columns]\n",
       " Note: Only the head of the SFrame is printed.\n",
       " You can use print_rows(num_rows=m, num_columns=n) to print more rows and columns.}"
      ]
     },
     "execution_count": 16,
     "metadata": {},
     "output_type": "execute_result"
    }
   ],
   "source": [
    "# predictions = stage1_binary_model.classify(test_data)\n",
    "\n",
    "results = stage1_binary_model.evaluate(test_data)\n",
    "results"
   ]
  },
  {
   "cell_type": "markdown",
   "metadata": {},
   "source": [
    "## Training Stage 2"
   ]
  },
  {
   "cell_type": "code",
   "execution_count": 17,
   "metadata": {},
   "outputs": [],
   "source": [
    "# predictions = stage1_binary_model.classify(data)\n",
    "# pl = list(predictions['class'])\n",
    "midX = []\n",
    "midY = []\n",
    "highX = []\n",
    "highY = []\n",
    "midYT = []\n",
    "highYT = []\n",
    "for i in range(len(YT)):\n",
    "    if YT[i]==1:\n",
    "        midX.append(dataX[i])\n",
    "        midY.append(Y[i])\n",
    "        midYT.append(np.ceil(Y[i]/1))\n",
    "    if YT[i]==2:\n",
    "        highX.append(dataX[i])\n",
    "        highY.append(Y[i])\n",
    "        highYT.append(YT[i])"
   ]
  },
  {
   "cell_type": "code",
   "execution_count": 18,
   "metadata": {},
   "outputs": [
    {
     "name": "stdout",
     "output_type": "stream",
     "text": [
      "Counter({1: 92, 2: 64, 3: 40, 7: 26, 6: 23, 4: 22, 5: 21, 9: 18, 8: 14, 13: 13, 10: 13, 11: 13, 12: 9, 19: 7, 14: 6, 17: 6, 20: 5, 15: 5, 18: 5, 16: 5})\n"
     ]
    }
   ],
   "source": [
    "import collections\n",
    "counter=collections.Counter(midY)\n",
    "print(counter)"
   ]
  },
  {
   "cell_type": "code",
   "execution_count": 19,
   "metadata": {},
   "outputs": [
    {
     "data": {
      "text/html": [
       "<pre>Materializing SArray...</pre>"
      ],
      "text/plain": [
       "Materializing SArray..."
      ]
     },
     "metadata": {},
     "output_type": "display_data"
    },
    {
     "data": {
      "text/html": [
       "<pre>Done.</pre>"
      ],
      "text/plain": [
       "Done."
      ]
     },
     "metadata": {},
     "output_type": "display_data"
    },
    {
     "data": {
      "text/html": [
       "<html>                 <body>                     <iframe style=\"border:0;margin:0\" width=\"800\" height=\"620\" srcdoc='<html lang=\"en\">                         <head>                             <script src=\"https://cdnjs.cloudflare.com/ajax/libs/vega/3.0.8/vega.js\"></script>                             <script src=\"https://cdnjs.cloudflare.com/ajax/libs/vega-embed/3.0.0-rc7/vega-embed.js\"></script>                             <script src=\"https://cdnjs.cloudflare.com/ajax/libs/vega-tooltip/0.5.1/vega-tooltip.min.js\"></script>                             <link rel=\"stylesheet\" type=\"text/css\" href=\"https://cdnjs.cloudflare.com/ajax/libs/vega-tooltip/0.5.1/vega-tooltip.min.css\">                             <style>                             .vega-actions > a{                                 color:white;                                 text-decoration: none;                                 font-family: \"Arial\";                                 cursor:pointer;                                 padding:5px;                                 background:#AAAAAA;                                 border-radius:4px;                                 padding-left:10px;                                 padding-right:10px;                                 margin-right:5px;                             }                             .vega-actions{                                 margin-top:20px;                                 text-align:center                             }                            .vega-actions > a{                                 background:#999999;                            }                             </style>                         </head>                         <body>                             <div id=\"vis\">                             </div>                             <script>                                 var vega_json = \"{\\\"$schema\\\": \\\"https://vega.github.io/schema/vega/v3.0.json\\\", \\\"description\\\": \\\"A simple bar chart with embedded data.\\\", \\\"autosize\\\": \\\"pad\\\", \\\"padding\\\": 5, \\\"width\\\": 600, \\\"height\\\": 400, \\\"title\\\": {\\\"text\\\": \\\"Distribution of Values [integer]\\\", \\\"offset\\\": 30}, \\\"style\\\": \\\"cell\\\", \\\"data\\\": [{\\\"name\\\": \\\"source_2\\\", \\\"values\\\": [{\\\"left\\\": 0.924, \\\"right\\\": 1.884, \\\"count\\\": 92}, {\\\"left\\\": 1.884, \\\"right\\\": 2.844, \\\"count\\\": 64}, {\\\"left\\\": 2.844, \\\"right\\\": 3.804, \\\"count\\\": 40}, {\\\"left\\\": 3.804, \\\"right\\\": 4.764, \\\"count\\\": 22}, {\\\"left\\\": 4.764, \\\"right\\\": 5.724, \\\"count\\\": 21}, {\\\"left\\\": 5.724, \\\"right\\\": 6.684, \\\"count\\\": 23}, {\\\"left\\\": 6.684, \\\"right\\\": 7.644, \\\"count\\\": 26}, {\\\"left\\\": 7.644, \\\"right\\\": 8.604, \\\"count\\\": 14}, {\\\"left\\\": 8.604, \\\"right\\\": 9.564, \\\"count\\\": 18}, {\\\"left\\\": 9.564, \\\"right\\\": 10.524, \\\"count\\\": 13}, {\\\"left\\\": 10.524, \\\"right\\\": 11.484, \\\"count\\\": 13}, {\\\"left\\\": 11.484, \\\"right\\\": 12.444, \\\"count\\\": 9}, {\\\"left\\\": 12.444, \\\"right\\\": 13.404, \\\"count\\\": 13}, {\\\"left\\\": 13.404, \\\"right\\\": 14.364, \\\"count\\\": 6}, {\\\"left\\\": 14.364, \\\"right\\\": 15.324, \\\"count\\\": 5}, {\\\"left\\\": 15.324, \\\"right\\\": 16.284, \\\"count\\\": 5}, {\\\"left\\\": 16.284, \\\"right\\\": 17.244, \\\"count\\\": 6}, {\\\"left\\\": 17.244, \\\"right\\\": 18.204, \\\"count\\\": 5}, {\\\"left\\\": 18.204, \\\"right\\\": 19.164, \\\"count\\\": 7}, {\\\"left\\\": 19.164, \\\"right\\\": 20.124, \\\"count\\\": 5}], \\\"progress\\\": 100.0}, {\\\"name\\\": \\\"data_0\\\", \\\"source\\\": \\\"source_2\\\", \\\"transform\\\": [{\\\"type\\\": \\\"formula\\\", \\\"expr\\\": \\\"toNumber(datum[\\\\\\\"left\\\\\\\"])\\\", \\\"as\\\": \\\"left\\\"}, {\\\"type\\\": \\\"formula\\\", \\\"expr\\\": \\\"toNumber(datum[\\\\\\\"right\\\\\\\"])\\\", \\\"as\\\": \\\"right\\\"}, {\\\"type\\\": \\\"formula\\\", \\\"expr\\\": \\\"toNumber(datum[\\\\\\\"count\\\\\\\"])\\\", \\\"as\\\": \\\"count\\\"}, {\\\"type\\\": \\\"filter\\\", \\\"expr\\\": \\\"datum[\\\\\\\"left\\\\\\\"] !== null && !isNaN(datum[\\\\\\\"left\\\\\\\"]) && datum[\\\\\\\"count\\\\\\\"] !== null && !isNaN(datum[\\\\\\\"count\\\\\\\"])\\\"}]}], \\\"marks\\\": [{\\\"name\\\": \\\"marks\\\", \\\"type\\\": \\\"rect\\\", \\\"style\\\": [\\\"rect\\\"], \\\"from\\\": {\\\"data\\\": \\\"data_0\\\"}, \\\"encode\\\": {\\\"hover\\\": {\\\"fill\\\": {\\\"value\\\": \\\"#7EC2F3\\\"}}, \\\"update\\\": {\\\"x\\\": {\\\"scale\\\": \\\"x\\\", \\\"field\\\": \\\"left\\\"}, \\\"x2\\\": {\\\"scale\\\": \\\"x\\\", \\\"field\\\": \\\"right\\\"}, \\\"y\\\": {\\\"scale\\\": \\\"y\\\", \\\"field\\\": \\\"count\\\"}, \\\"y2\\\": {\\\"scale\\\": \\\"y\\\", \\\"value\\\": 0}, \\\"fill\\\": {\\\"value\\\": \\\"#108EE9\\\"}}}}], \\\"scales\\\": [{\\\"name\\\": \\\"x\\\", \\\"type\\\": \\\"linear\\\", \\\"domain\\\": {\\\"data\\\": \\\"data_0\\\", \\\"fields\\\": [\\\"left\\\", \\\"right\\\"], \\\"sort\\\": true}, \\\"range\\\": [0, {\\\"signal\\\": \\\"width\\\"}], \\\"nice\\\": true, \\\"zero\\\": false}, {\\\"name\\\": \\\"y\\\", \\\"type\\\": \\\"linear\\\", \\\"domain\\\": {\\\"data\\\": \\\"data_0\\\", \\\"field\\\": \\\"count\\\"}, \\\"range\\\": [{\\\"signal\\\": \\\"height\\\"}, 0], \\\"nice\\\": true, \\\"zero\\\": true}], \\\"axes\\\": [{\\\"title\\\": \\\"Values\\\", \\\"scale\\\": \\\"x\\\", \\\"labelOverlap\\\": true, \\\"orient\\\": \\\"bottom\\\", \\\"tickCount\\\": {\\\"signal\\\": \\\"ceil(width/40)\\\"}, \\\"zindex\\\": 1}, {\\\"scale\\\": \\\"x\\\", \\\"domain\\\": false, \\\"grid\\\": true, \\\"labels\\\": false, \\\"maxExtent\\\": 0, \\\"minExtent\\\": 0, \\\"orient\\\": \\\"bottom\\\", \\\"tickCount\\\": {\\\"signal\\\": \\\"ceil(width/40)\\\"}, \\\"ticks\\\": false, \\\"zindex\\\": 0, \\\"gridScale\\\": \\\"y\\\"}, {\\\"title\\\": \\\"Count\\\", \\\"scale\\\": \\\"y\\\", \\\"labelOverlap\\\": true, \\\"orient\\\": \\\"left\\\", \\\"tickCount\\\": {\\\"signal\\\": \\\"ceil(height/40)\\\"}, \\\"zindex\\\": 1}, {\\\"scale\\\": \\\"y\\\", \\\"domain\\\": false, \\\"grid\\\": true, \\\"labels\\\": false, \\\"maxExtent\\\": 0, \\\"minExtent\\\": 0, \\\"orient\\\": \\\"left\\\", \\\"tickCount\\\": {\\\"signal\\\": \\\"ceil(height/40)\\\"}, \\\"ticks\\\": false, \\\"zindex\\\": 0, \\\"gridScale\\\": \\\"x\\\"}], \\\"config\\\": {\\\"axis\\\": {\\\"labelFont\\\": \\\"HelveticaNeue, Arial\\\", \\\"labelFontSize\\\": 12, \\\"labelPadding\\\": 10, \\\"labelColor\\\": \\\"rgba(0,0,0,0.65)\\\", \\\"titleFont\\\": \\\"HelveticaNeue-Medium, Arial\\\", \\\"titleFontWeight\\\": \\\"normal\\\", \\\"titlePadding\\\": 30, \\\"titleFontSize\\\": 15, \\\"titleColor\\\": \\\"rgba(0,0,0,0.65)\\\"}, \\\"axisY\\\": {\\\"minExtent\\\": 30}, \\\"style\\\": {\\\"rect\\\": {\\\"stroke\\\": \\\"rgba(200, 200, 200, 0.5)\\\"}, \\\"group-title\\\": {\\\"fontSize\\\": 29, \\\"font\\\": \\\"HelveticaNeue, Arial\\\", \\\"fontWeight\\\": \\\"normal\\\", \\\"fill\\\": \\\"rgba(0,0,0,0.65)\\\"}}}}\";                                 var vega_json_parsed = JSON.parse(vega_json);                                 var toolTipOpts = {                                     showAllFields: true                                 };                                 if(vega_json_parsed[\"metadata\"] != null){                                     if(vega_json_parsed[\"metadata\"][\"bubbleOpts\"] != null){                                         toolTipOpts = vega_json_parsed[\"metadata\"][\"bubbleOpts\"];                                     };                                 };                                 vegaEmbed(\"#vis\", vega_json_parsed).then(function (result) {                                     vegaTooltip.vega(result.view, toolTipOpts);                                  });                             </script>                         </body>                     </html>' src=\"demo_iframe_srcdoc.htm\">                         <p>Your browser does not support iframes.</p>                     </iframe>                 </body>             </html>"
      ],
      "text/plain": [
       "<IPython.core.display.HTML object>"
      ]
     },
     "metadata": {},
     "output_type": "display_data"
    }
   ],
   "source": [
    "S2Y =  tc.SArray(midY)\n",
    "S2Y.show()"
   ]
  },
  {
   "cell_type": "code",
   "execution_count": 79,
   "metadata": {
    "collapsed": true
   },
   "outputs": [],
   "source": [
    "midtemp_ps = np.column_stack((midX,midY))\n",
    "x2_ps_train, x2_ps_test, yt_ps_train, yt_ps_test = train_test_split(midtemp_ps, midYT, test_size=0.2, random_state=12)"
   ]
  },
  {
   "cell_type": "code",
   "execution_count": 81,
   "metadata": {},
   "outputs": [
    {
     "name": "stderr",
     "output_type": "stream",
     "text": [
      "/anaconda3/lib/python3.6/site-packages/sklearn/utils/deprecation.py:75: DeprecationWarning: Function _ratio_float is deprecated; Use a float for 'ratio' is deprecated from version 0.2. The support will be removed in 0.4. Use a dict, str, or a callable instead.\n",
      "  warnings.warn(msg, category=DeprecationWarning)\n"
     ]
    }
   ],
   "source": [
    "sm = SMOTE(random_state=12, ratio = 1.0, k_neighbors = 2)\n",
    "Syn2X, Syn2Y = sm.fit_sample(x2_ps_train, yt_ps_train)\n",
    "Syn2Y = Syn2X[:,-1].astype(int)\n",
    "Syn2X = Syn2X[:,:-1]\n",
    "\n",
    "test2Y = x2_ps_test[:,-1].astype(int)\n",
    "test2X = x2_ps_test[:,:-1]"
   ]
  },
  {
   "cell_type": "code",
   "execution_count": 82,
   "metadata": {},
   "outputs": [
    {
     "data": {
      "text/html": [
       "<pre>Materializing SArray...</pre>"
      ],
      "text/plain": [
       "Materializing SArray..."
      ]
     },
     "metadata": {},
     "output_type": "display_data"
    },
    {
     "data": {
      "text/html": [
       "<pre>Done.</pre>"
      ],
      "text/plain": [
       "Done."
      ]
     },
     "metadata": {},
     "output_type": "display_data"
    },
    {
     "data": {
      "text/html": [
       "<html>                 <body>                     <iframe style=\"border:0;margin:0\" width=\"800\" height=\"620\" srcdoc='<html lang=\"en\">                         <head>                             <script src=\"https://cdnjs.cloudflare.com/ajax/libs/vega/3.0.8/vega.js\"></script>                             <script src=\"https://cdnjs.cloudflare.com/ajax/libs/vega-embed/3.0.0-rc7/vega-embed.js\"></script>                             <script src=\"https://cdnjs.cloudflare.com/ajax/libs/vega-tooltip/0.5.1/vega-tooltip.min.js\"></script>                             <link rel=\"stylesheet\" type=\"text/css\" href=\"https://cdnjs.cloudflare.com/ajax/libs/vega-tooltip/0.5.1/vega-tooltip.min.css\">                             <style>                             .vega-actions > a{                                 color:white;                                 text-decoration: none;                                 font-family: \"Arial\";                                 cursor:pointer;                                 padding:5px;                                 background:#AAAAAA;                                 border-radius:4px;                                 padding-left:10px;                                 padding-right:10px;                                 margin-right:5px;                             }                             .vega-actions{                                 margin-top:20px;                                 text-align:center                             }                            .vega-actions > a{                                 background:#999999;                            }                             </style>                         </head>                         <body>                             <div id=\"vis\">                             </div>                             <script>                                 var vega_json = \"{\\\"$schema\\\": \\\"https://vega.github.io/schema/vega/v3.0.json\\\", \\\"description\\\": \\\"A simple bar chart with embedded data.\\\", \\\"autosize\\\": \\\"pad\\\", \\\"padding\\\": 5, \\\"width\\\": 600, \\\"height\\\": 400, \\\"title\\\": {\\\"text\\\": \\\"Distribution of Values [integer]\\\", \\\"offset\\\": 30}, \\\"style\\\": \\\"cell\\\", \\\"data\\\": [{\\\"name\\\": \\\"source_2\\\", \\\"values\\\": [{\\\"left\\\": 0.832, \\\"right\\\": 1.8, \\\"count\\\": 71}, {\\\"left\\\": 1.8, \\\"right\\\": 2.768, \\\"count\\\": 71}, {\\\"left\\\": 2.768, \\\"right\\\": 3.736, \\\"count\\\": 71}, {\\\"left\\\": 3.736, \\\"right\\\": 4.704, \\\"count\\\": 71}, {\\\"left\\\": 4.704, \\\"right\\\": 5.672, \\\"count\\\": 71}, {\\\"left\\\": 5.672, \\\"right\\\": 6.64, \\\"count\\\": 71}, {\\\"left\\\": 6.64, \\\"right\\\": 7.608, \\\"count\\\": 71}, {\\\"left\\\": 7.608, \\\"right\\\": 8.576, \\\"count\\\": 71}, {\\\"left\\\": 8.576, \\\"right\\\": 9.544, \\\"count\\\": 71}, {\\\"left\\\": 9.544, \\\"right\\\": 10.512, \\\"count\\\": 71}, {\\\"left\\\": 10.512, \\\"right\\\": 11.48, \\\"count\\\": 71}, {\\\"left\\\": 11.48, \\\"right\\\": 12.448, \\\"count\\\": 71}, {\\\"left\\\": 12.448, \\\"right\\\": 13.416, \\\"count\\\": 71}, {\\\"left\\\": 13.416, \\\"right\\\": 14.384, \\\"count\\\": 71}, {\\\"left\\\": 14.384, \\\"right\\\": 15.352, \\\"count\\\": 71}, {\\\"left\\\": 15.352, \\\"right\\\": 16.32, \\\"count\\\": 71}, {\\\"left\\\": 16.32, \\\"right\\\": 17.288, \\\"count\\\": 71}, {\\\"left\\\": 17.288, \\\"right\\\": 18.256, \\\"count\\\": 71}, {\\\"left\\\": 18.256, \\\"right\\\": 19.224, \\\"count\\\": 71}, {\\\"left\\\": 19.224, \\\"right\\\": 20.192, \\\"count\\\": 71}], \\\"progress\\\": 100.0}, {\\\"name\\\": \\\"data_0\\\", \\\"source\\\": \\\"source_2\\\", \\\"transform\\\": [{\\\"type\\\": \\\"formula\\\", \\\"expr\\\": \\\"toNumber(datum[\\\\\\\"left\\\\\\\"])\\\", \\\"as\\\": \\\"left\\\"}, {\\\"type\\\": \\\"formula\\\", \\\"expr\\\": \\\"toNumber(datum[\\\\\\\"right\\\\\\\"])\\\", \\\"as\\\": \\\"right\\\"}, {\\\"type\\\": \\\"formula\\\", \\\"expr\\\": \\\"toNumber(datum[\\\\\\\"count\\\\\\\"])\\\", \\\"as\\\": \\\"count\\\"}, {\\\"type\\\": \\\"filter\\\", \\\"expr\\\": \\\"datum[\\\\\\\"left\\\\\\\"] !== null && !isNaN(datum[\\\\\\\"left\\\\\\\"]) && datum[\\\\\\\"count\\\\\\\"] !== null && !isNaN(datum[\\\\\\\"count\\\\\\\"])\\\"}]}], \\\"marks\\\": [{\\\"name\\\": \\\"marks\\\", \\\"type\\\": \\\"rect\\\", \\\"style\\\": [\\\"rect\\\"], \\\"from\\\": {\\\"data\\\": \\\"data_0\\\"}, \\\"encode\\\": {\\\"hover\\\": {\\\"fill\\\": {\\\"value\\\": \\\"#7EC2F3\\\"}}, \\\"update\\\": {\\\"x\\\": {\\\"scale\\\": \\\"x\\\", \\\"field\\\": \\\"left\\\"}, \\\"x2\\\": {\\\"scale\\\": \\\"x\\\", \\\"field\\\": \\\"right\\\"}, \\\"y\\\": {\\\"scale\\\": \\\"y\\\", \\\"field\\\": \\\"count\\\"}, \\\"y2\\\": {\\\"scale\\\": \\\"y\\\", \\\"value\\\": 0}, \\\"fill\\\": {\\\"value\\\": \\\"#108EE9\\\"}}}}], \\\"scales\\\": [{\\\"name\\\": \\\"x\\\", \\\"type\\\": \\\"linear\\\", \\\"domain\\\": {\\\"data\\\": \\\"data_0\\\", \\\"fields\\\": [\\\"left\\\", \\\"right\\\"], \\\"sort\\\": true}, \\\"range\\\": [0, {\\\"signal\\\": \\\"width\\\"}], \\\"nice\\\": true, \\\"zero\\\": false}, {\\\"name\\\": \\\"y\\\", \\\"type\\\": \\\"linear\\\", \\\"domain\\\": {\\\"data\\\": \\\"data_0\\\", \\\"field\\\": \\\"count\\\"}, \\\"range\\\": [{\\\"signal\\\": \\\"height\\\"}, 0], \\\"nice\\\": true, \\\"zero\\\": true}], \\\"axes\\\": [{\\\"title\\\": \\\"Values\\\", \\\"scale\\\": \\\"x\\\", \\\"labelOverlap\\\": true, \\\"orient\\\": \\\"bottom\\\", \\\"tickCount\\\": {\\\"signal\\\": \\\"ceil(width/40)\\\"}, \\\"zindex\\\": 1}, {\\\"scale\\\": \\\"x\\\", \\\"domain\\\": false, \\\"grid\\\": true, \\\"labels\\\": false, \\\"maxExtent\\\": 0, \\\"minExtent\\\": 0, \\\"orient\\\": \\\"bottom\\\", \\\"tickCount\\\": {\\\"signal\\\": \\\"ceil(width/40)\\\"}, \\\"ticks\\\": false, \\\"zindex\\\": 0, \\\"gridScale\\\": \\\"y\\\"}, {\\\"title\\\": \\\"Count\\\", \\\"scale\\\": \\\"y\\\", \\\"labelOverlap\\\": true, \\\"orient\\\": \\\"left\\\", \\\"tickCount\\\": {\\\"signal\\\": \\\"ceil(height/40)\\\"}, \\\"zindex\\\": 1}, {\\\"scale\\\": \\\"y\\\", \\\"domain\\\": false, \\\"grid\\\": true, \\\"labels\\\": false, \\\"maxExtent\\\": 0, \\\"minExtent\\\": 0, \\\"orient\\\": \\\"left\\\", \\\"tickCount\\\": {\\\"signal\\\": \\\"ceil(height/40)\\\"}, \\\"ticks\\\": false, \\\"zindex\\\": 0, \\\"gridScale\\\": \\\"x\\\"}], \\\"config\\\": {\\\"axis\\\": {\\\"labelFont\\\": \\\"HelveticaNeue, Arial\\\", \\\"labelFontSize\\\": 12, \\\"labelPadding\\\": 10, \\\"labelColor\\\": \\\"rgba(0,0,0,0.65)\\\", \\\"titleFont\\\": \\\"HelveticaNeue-Medium, Arial\\\", \\\"titleFontWeight\\\": \\\"normal\\\", \\\"titlePadding\\\": 30, \\\"titleFontSize\\\": 15, \\\"titleColor\\\": \\\"rgba(0,0,0,0.65)\\\"}, \\\"axisY\\\": {\\\"minExtent\\\": 30}, \\\"style\\\": {\\\"rect\\\": {\\\"stroke\\\": \\\"rgba(200, 200, 200, 0.5)\\\"}, \\\"group-title\\\": {\\\"fontSize\\\": 29, \\\"font\\\": \\\"HelveticaNeue, Arial\\\", \\\"fontWeight\\\": \\\"normal\\\", \\\"fill\\\": \\\"rgba(0,0,0,0.65)\\\"}}}}\";                                 var vega_json_parsed = JSON.parse(vega_json);                                 var toolTipOpts = {                                     showAllFields: true                                 };                                 if(vega_json_parsed[\"metadata\"] != null){                                     if(vega_json_parsed[\"metadata\"][\"bubbleOpts\"] != null){                                         toolTipOpts = vega_json_parsed[\"metadata\"][\"bubbleOpts\"];                                     };                                 };                                 vegaEmbed(\"#vis\", vega_json_parsed).then(function (result) {                                     vegaTooltip.vega(result.view, toolTipOpts);                                  });                             </script>                         </body>                     </html>' src=\"demo_iframe_srcdoc.htm\">                         <p>Your browser does not support iframes.</p>                     </iframe>                 </body>             </html>"
      ],
      "text/plain": [
       "<IPython.core.display.HTML object>"
      ]
     },
     "metadata": {},
     "output_type": "display_data"
    }
   ],
   "source": [
    "midsyndataY =  tc.SArray(Syn2Y.tolist())\n",
    "midsyndataY.show()"
   ]
  },
  {
   "cell_type": "code",
   "execution_count": 87,
   "metadata": {},
   "outputs": [
    {
     "name": "stdout",
     "output_type": "stream",
     "text": [
      "PROGRESS: Creating a validation set from 5 percent of training data. This may take a while.\n",
      "          You can set ``validation_set=None`` to disable validation tracking.\n",
      "\n"
     ]
    },
    {
     "data": {
      "text/html": [
       "<pre>Boosted trees regression:</pre>"
      ],
      "text/plain": [
       "Boosted trees regression:"
      ]
     },
     "metadata": {},
     "output_type": "display_data"
    },
    {
     "data": {
      "text/html": [
       "<pre>--------------------------------------------------------</pre>"
      ],
      "text/plain": [
       "--------------------------------------------------------"
      ]
     },
     "metadata": {},
     "output_type": "display_data"
    },
    {
     "data": {
      "text/html": [
       "<pre>Number of examples          : 1346</pre>"
      ],
      "text/plain": [
       "Number of examples          : 1346"
      ]
     },
     "metadata": {},
     "output_type": "display_data"
    },
    {
     "data": {
      "text/html": [
       "<pre>Number of features          : 1</pre>"
      ],
      "text/plain": [
       "Number of features          : 1"
      ]
     },
     "metadata": {},
     "output_type": "display_data"
    },
    {
     "data": {
      "text/html": [
       "<pre>Number of unpacked features : 101</pre>"
      ],
      "text/plain": [
       "Number of unpacked features : 101"
      ]
     },
     "metadata": {},
     "output_type": "display_data"
    },
    {
     "data": {
      "text/html": [
       "<pre>+-----------+--------------+--------------------+----------------------+---------------+-----------------+</pre>"
      ],
      "text/plain": [
       "+-----------+--------------+--------------------+----------------------+---------------+-----------------+"
      ]
     },
     "metadata": {},
     "output_type": "display_data"
    },
    {
     "data": {
      "text/html": [
       "<pre>| Iteration | Elapsed Time | Training-max_error | Validation-max_error | Training-rmse | Validation-rmse |</pre>"
      ],
      "text/plain": [
       "| Iteration | Elapsed Time | Training-max_error | Validation-max_error | Training-rmse | Validation-rmse |"
      ]
     },
     "metadata": {},
     "output_type": "display_data"
    },
    {
     "data": {
      "text/html": [
       "<pre>+-----------+--------------+--------------------+----------------------+---------------+-----------------+</pre>"
      ],
      "text/plain": [
       "+-----------+--------------+--------------------+----------------------+---------------+-----------------+"
      ]
     },
     "metadata": {},
     "output_type": "display_data"
    },
    {
     "data": {
      "text/html": [
       "<pre>| 1         | 0.086569     | 16.875629          | 16.875629            | 8.459133      | 8.156734        |</pre>"
      ],
      "text/plain": [
       "| 1         | 0.086569     | 16.875629          | 16.875629            | 8.459133      | 8.156734        |"
      ]
     },
     "metadata": {},
     "output_type": "display_data"
    },
    {
     "data": {
      "text/html": [
       "<pre>| 2         | 0.132427     | 15.018274          | 15.018274            | 6.303905      | 6.439706        |</pre>"
      ],
      "text/plain": [
       "| 2         | 0.132427     | 15.018274          | 15.018274            | 6.303905      | 6.439706        |"
      ]
     },
     "metadata": {},
     "output_type": "display_data"
    },
    {
     "data": {
      "text/html": [
       "<pre>| 3         | 0.160897     | 12.344540          | 12.344540            | 4.790155      | 5.308600        |</pre>"
      ],
      "text/plain": [
       "| 3         | 0.160897     | 12.344540          | 12.344540            | 4.790155      | 5.308600        |"
      ]
     },
     "metadata": {},
     "output_type": "display_data"
    },
    {
     "data": {
      "text/html": [
       "<pre>| 4         | 0.200557     | 10.401073          | 10.401073            | 3.659265      | 4.466558        |</pre>"
      ],
      "text/plain": [
       "| 4         | 0.200557     | 10.401073          | 10.401073            | 3.659265      | 4.466558        |"
      ]
     },
     "metadata": {},
     "output_type": "display_data"
    },
    {
     "data": {
      "text/html": [
       "<pre>| 5         | 0.238089     | 10.631455          | 10.631455            | 2.903746      | 3.955844        |</pre>"
      ],
      "text/plain": [
       "| 5         | 0.238089     | 10.631455          | 10.631455            | 2.903746      | 3.955844        |"
      ]
     },
     "metadata": {},
     "output_type": "display_data"
    },
    {
     "data": {
      "text/html": [
       "<pre>| 6         | 0.272552     | 11.111418          | 11.100265            | 2.407680      | 3.741387        |</pre>"
      ],
      "text/plain": [
       "| 6         | 0.272552     | 11.111418          | 11.100265            | 2.407680      | 3.741387        |"
      ]
     },
     "metadata": {},
     "output_type": "display_data"
    },
    {
     "data": {
      "text/html": [
       "<pre>+-----------+--------------+--------------------+----------------------+---------------+-----------------+</pre>"
      ],
      "text/plain": [
       "+-----------+--------------+--------------------+----------------------+---------------+-----------------+"
      ]
     },
     "metadata": {},
     "output_type": "display_data"
    }
   ],
   "source": [
    "midsyndataY =  tc.SArray(Syn2Y.tolist())\n",
    "midsyndataX = tc.SArray(Syn2X.tolist())\n",
    "midsyndata = tc.SFrame()\n",
    "midsyndata = midsyndata.add_column(midsyndataX,'X')\n",
    "midsyndata = midsyndata.add_column(midsyndataY,'Soluble')\n",
    "# Make a train-test split\n",
    "# midsyntrain_data, midsyntest_data = midsyndata.random_split(0.8)\n",
    "\n",
    "\n",
    "middataY =  tc.SArray(test2Y.tolist())\n",
    "middataX = tc.SArray(test2X.tolist())\n",
    "middata = tc.SFrame()\n",
    "middata = middata.add_column(middataX,'X')\n",
    "middata_T = middata.add_column(middataY,'Soluble')\n",
    "# # Make a train-test split\n",
    "# midtrain_data, midtest_data = middata.random_split(0.8)\n",
    "\n",
    "\n",
    "mid_model = tc.regression.create(midsyndata, target='Soluble',features = ['X'])#, max_iterations = 100, max_depth=3)"
   ]
  },
  {
   "cell_type": "code",
   "execution_count": 94,
   "metadata": {},
   "outputs": [
    {
     "name": "stdout",
     "output_type": "stream",
     "text": [
      "PROGRESS: Creating a validation set from 5 percent of training data. This may take a while.\n",
      "          You can set ``validation_set=None`` to disable validation tracking.\n",
      "\n"
     ]
    },
    {
     "data": {
      "text/html": [
       "<pre>Boosted trees regression:</pre>"
      ],
      "text/plain": [
       "Boosted trees regression:"
      ]
     },
     "metadata": {},
     "output_type": "display_data"
    },
    {
     "data": {
      "text/html": [
       "<pre>--------------------------------------------------------</pre>"
      ],
      "text/plain": [
       "--------------------------------------------------------"
      ]
     },
     "metadata": {},
     "output_type": "display_data"
    },
    {
     "data": {
      "text/html": [
       "<pre>Number of examples          : 1350</pre>"
      ],
      "text/plain": [
       "Number of examples          : 1350"
      ]
     },
     "metadata": {},
     "output_type": "display_data"
    },
    {
     "data": {
      "text/html": [
       "<pre>Number of features          : 1</pre>"
      ],
      "text/plain": [
       "Number of features          : 1"
      ]
     },
     "metadata": {},
     "output_type": "display_data"
    },
    {
     "data": {
      "text/html": [
       "<pre>Number of unpacked features : 101</pre>"
      ],
      "text/plain": [
       "Number of unpacked features : 101"
      ]
     },
     "metadata": {},
     "output_type": "display_data"
    },
    {
     "data": {
      "text/html": [
       "<pre>+-----------+--------------+--------------------+----------------------+---------------+-----------------+</pre>"
      ],
      "text/plain": [
       "+-----------+--------------+--------------------+----------------------+---------------+-----------------+"
      ]
     },
     "metadata": {},
     "output_type": "display_data"
    },
    {
     "data": {
      "text/html": [
       "<pre>| Iteration | Elapsed Time | Training-max_error | Validation-max_error | Training-rmse | Validation-rmse |</pre>"
      ],
      "text/plain": [
       "| Iteration | Elapsed Time | Training-max_error | Validation-max_error | Training-rmse | Validation-rmse |"
      ]
     },
     "metadata": {},
     "output_type": "display_data"
    },
    {
     "data": {
      "text/html": [
       "<pre>+-----------+--------------+--------------------+----------------------+---------------+-----------------+</pre>"
      ],
      "text/plain": [
       "+-----------+--------------+--------------------+----------------------+---------------+-----------------+"
      ]
     },
     "metadata": {},
     "output_type": "display_data"
    },
    {
     "data": {
      "text/html": [
       "<pre>| 1         | 0.047606     | 16.805128          | 14.261062            | 8.448672      | 8.231899        |</pre>"
      ],
      "text/plain": [
       "| 1         | 0.047606     | 16.805128          | 14.261062            | 8.448672      | 8.231899        |"
      ]
     },
     "metadata": {},
     "output_type": "display_data"
    },
    {
     "data": {
      "text/html": [
       "<pre>| 2         | 0.079830     | 14.753772          | 10.956456            | 6.294088      | 6.289026        |</pre>"
      ],
      "text/plain": [
       "| 2         | 0.079830     | 14.753772          | 10.956456            | 6.294088      | 6.289026        |"
      ]
     },
     "metadata": {},
     "output_type": "display_data"
    },
    {
     "data": {
      "text/html": [
       "<pre>| 3         | 0.112754     | 12.461279          | 9.336037             | 4.809749      | 5.055851        |</pre>"
      ],
      "text/plain": [
       "| 3         | 0.112754     | 12.461279          | 9.336037             | 4.809749      | 5.055851        |"
      ]
     },
     "metadata": {},
     "output_type": "display_data"
    },
    {
     "data": {
      "text/html": [
       "<pre>| 4         | 0.143304     | 10.105598          | 8.095402             | 3.681468      | 4.056776        |</pre>"
      ],
      "text/plain": [
       "| 4         | 0.143304     | 10.105598          | 8.095402             | 3.681468      | 4.056776        |"
      ]
     },
     "metadata": {},
     "output_type": "display_data"
    },
    {
     "data": {
      "text/html": [
       "<pre>| 5         | 0.168671     | 11.064136          | 9.580372             | 2.867502      | 3.518204        |</pre>"
      ],
      "text/plain": [
       "| 5         | 0.168671     | 11.064136          | 9.580372             | 2.867502      | 3.518204        |"
      ]
     },
     "metadata": {},
     "output_type": "display_data"
    },
    {
     "data": {
      "text/html": [
       "<pre>| 6         | 0.193689     | 12.093029          | 10.609265            | 2.312481      | 3.144075        |</pre>"
      ],
      "text/plain": [
       "| 6         | 0.193689     | 12.093029          | 10.609265            | 2.312481      | 3.144075        |"
      ]
     },
     "metadata": {},
     "output_type": "display_data"
    },
    {
     "data": {
      "text/html": [
       "<pre>| 11        | 0.300888     | 9.826557           | 11.041177            | 1.118549      | 2.636843        |</pre>"
      ],
      "text/plain": [
       "| 11        | 0.300888     | 9.826557           | 11.041177            | 1.118549      | 2.636843        |"
      ]
     },
     "metadata": {},
     "output_type": "display_data"
    },
    {
     "data": {
      "text/html": [
       "<pre>| 50        | 1.173881     | 0.652021           | 11.410685            | 0.106603      | 2.415777        |</pre>"
      ],
      "text/plain": [
       "| 50        | 1.173881     | 0.652021           | 11.410685            | 0.106603      | 2.415777        |"
      ]
     },
     "metadata": {},
     "output_type": "display_data"
    },
    {
     "data": {
      "text/html": [
       "<pre>| 51        | 1.200007     | 0.593971           | 11.416141            | 0.102043      | 2.416721        |</pre>"
      ],
      "text/plain": [
       "| 51        | 1.200007     | 0.593971           | 11.416141            | 0.102043      | 2.416721        |"
      ]
     },
     "metadata": {},
     "output_type": "display_data"
    },
    {
     "data": {
      "text/html": [
       "<pre>| 100       | 2.337573     | 0.109907           | 11.394834            | 0.023423      | 2.410208        |</pre>"
      ],
      "text/plain": [
       "| 100       | 2.337573     | 0.109907           | 11.394834            | 0.023423      | 2.410208        |"
      ]
     },
     "metadata": {},
     "output_type": "display_data"
    },
    {
     "data": {
      "text/html": [
       "<pre>| 101       | 2.359450     | 0.098951           | 11.394405            | 0.022897      | 2.409658        |</pre>"
      ],
      "text/plain": [
       "| 101       | 2.359450     | 0.098951           | 11.394405            | 0.022897      | 2.409658        |"
      ]
     },
     "metadata": {},
     "output_type": "display_data"
    },
    {
     "data": {
      "text/html": [
       "<pre>| 150       | 3.414796     | 0.039168           | 11.402285            | 0.007608      | 2.408878        |</pre>"
      ],
      "text/plain": [
       "| 150       | 3.414796     | 0.039168           | 11.402285            | 0.007608      | 2.408878        |"
      ]
     },
     "metadata": {},
     "output_type": "display_data"
    },
    {
     "data": {
      "text/html": [
       "<pre>| 200       | 4.611702     | 0.012693           | 11.402111            | 0.003014      | 2.408759        |</pre>"
      ],
      "text/plain": [
       "| 200       | 4.611702     | 0.012693           | 11.402111            | 0.003014      | 2.408759        |"
      ]
     },
     "metadata": {},
     "output_type": "display_data"
    },
    {
     "data": {
      "text/html": [
       "<pre>+-----------+--------------+--------------------+----------------------+---------------+-----------------+</pre>"
      ],
      "text/plain": [
       "+-----------+--------------+--------------------+----------------------+---------------+-----------------+"
      ]
     },
     "metadata": {},
     "output_type": "display_data"
    }
   ],
   "source": [
    "mid_fine_model = tc.boosted_trees_regression.create(midsyndata, target='Soluble',features = ['X'],max_iterations=200)"
   ]
  },
  {
   "cell_type": "code",
   "execution_count": 96,
   "metadata": {},
   "outputs": [
    {
     "data": {
      "image/png": "[encoded data removed]",
      "text/plain": [
       "<matplotlib.figure.Figure at 0x1c2b8ec908>"
      ]
     },
     "metadata": {},
     "output_type": "display_data"
    }
   ],
   "source": [
    "# predictions = mid_fine_model.classify(middata_T)\n",
    "predictions = mid_fine_model.predict(middata_T)\n",
    "\n",
    "\n",
    "# print(predictions)\n",
    "\n",
    "# pred = list(predictions['class'])\n",
    "pred = predictions\n",
    "\n",
    "act = list(middata_T['Soluble'])\n",
    "\n",
    "# pred\n",
    "# act\n",
    "# counter=collections.Counter(act)\n",
    "# print(counter)\n",
    "\n",
    "# counter=collections.Counter(pred)\n",
    "# print(counter)\n",
    "plt.scatter(pred,act,s=10)\n",
    "plt.show()"
   ]
  },
  {
   "cell_type": "code",
   "execution_count": 50,
   "metadata": {
    "collapsed": true
   },
   "outputs": [],
   "source": [
    "# stage2X_train, stage2X_test, stage2Y_train, stage2Y_test = train_test_split(stage2X, stage2Y, test_size=0.2)#, random_state=42)\n",
    "stage2X_train, stage2X_test, stage2Y_train, stage2Y_test = train_test_split(Syn2X, Syn2Y, test_size=0.2)#, random_state=42)"
   ]
  },
  {
   "cell_type": "code",
   "execution_count": 53,
   "metadata": {},
   "outputs": [],
   "source": [
    "# from sklearn.utils import class_weight\n",
    "# cw = class_weight.compute_class_weight('balanced', np.unique(Syn2Y), Syn2Y)\n",
    "# cw"
   ]
  },
  {
   "cell_type": "code",
   "execution_count": null,
   "metadata": {},
   "outputs": [],
   "source": [
    "# # X = X[:,:100]\n",
    "# # X[0].shape\n",
    "# import random\n",
    "# combined = list(zip(X, Y))\n",
    "# random.shuffle(combined)\n",
    "\n",
    "# X[:], Y[:] = zip(*combined)"
   ]
  },
  {
   "cell_type": "code",
   "execution_count": null,
   "metadata": {},
   "outputs": [],
   "source": [
    "# plt.plot(stage2Y_train)\n",
    "# plt.show()"
   ]
  },
  {
   "cell_type": "code",
   "execution_count": 70,
   "metadata": {},
   "outputs": [],
   "source": [
    "stage2X_train = np.array(stage2X_train)\n",
    "stage2Y_train = np.array(stage2Y_train)\n",
    "stage2X_test = np.array(stage2X_test)\n",
    "stage2Y_test = np.array(stage2Y_test)\n",
    "\n",
    "midX_test_nn = np.array(midX)\n",
    "midY_test_nn = np.array(midY)\n",
    "\n",
    "\n",
    "\n",
    "\n",
    "stage2X_train = stage2X_train.reshape((stage2X_train.shape[0], 101, ))\n",
    "stage2Y_train = stage2Y_train.reshape((stage2Y_train.shape[0], ))\n",
    "\n",
    "stage2X_test = stage2X_test.reshape((stage2X_test.shape[0], 101, ))\n",
    "stage2Y_test = stage2Y_test.reshape((stage2Y_test.shape[0], ))"
   ]
  },
  {
   "cell_type": "code",
   "execution_count": 58,
   "metadata": {},
   "outputs": [
    {
     "name": "stderr",
     "output_type": "stream",
     "text": [
      "/anaconda3/lib/python3.6/site-packages/tensorflow/python/util/tf_inspect.py:45: DeprecationWarning: inspect.getargspec() is deprecated, use inspect.signature() or inspect.getfullargspec()\n",
      "  if d.decorator_argspec is not None), _inspect.getargspec(target))\n"
     ]
    }
   ],
   "source": [
    "model = Sequential()\n",
    "# model.add(Dense(80,input_dim=101))\n",
    "model.add(Dense(200, input_dim=101, kernel_initializer='normal', activation='tanh'))\n",
    "model.add(Dense(100,activation='tanh'))\n",
    "model.add(Dropout(0.2))\n",
    "model.add(Dense(50,activation='tanh'))\n",
    "model.add(Dropout(0.1))\n",
    "model.add(Dense(10,activation='tanh'))\n",
    "model.add(Dense(5,activation='tanh'))\n",
    "model.add(Dense(1,activation='relu'))"
   ]
  },
  {
   "cell_type": "code",
   "execution_count": null,
   "metadata": {
    "collapsed": true
   },
   "outputs": [],
   "source": [
    "# The callback function for model checkpoint saving\n",
    "# checkpoint = ModelCheckpoint(filepath, monitor='val_acc', verbose=1,save_best_only=True,\\\n",
    "#                              save_weights_only=True,mode='auto')\n",
    "\n",
    "# The callback function for earlystopping\n",
    "\n",
    "earlystop = EarlyStopping(monitor='val_loss',patience=10, \\\n",
    "                          verbose=1, mode='auto')\n",
    "\n",
    "# The callback function for reducing learning rate on plateus\n",
    "\n",
    "reduce_lr = ReduceLROnPlateau(monitor='val_loss', factor=0.1,\n",
    "                              patience=10, min_lr=0.00001)"
   ]
  },
  {
   "cell_type": "code",
   "execution_count": null,
   "metadata": {
    "collapsed": true
   },
   "outputs": [],
   "source": [
    "callbacks = [earlystop, reduce_lr]\n",
    "# callbacks = [checkpoint, reduce_lr]\n",
    "# opt = keras.optimizers.rmsprop(lr=0.001, decay=1e-6)"
   ]
  },
  {
   "cell_type": "code",
   "execution_count": 59,
   "metadata": {
    "scrolled": true
   },
   "outputs": [
    {
     "name": "stdout",
     "output_type": "stream",
     "text": [
      "Train on 1472 samples, validate on 368 samples\n",
      "Epoch 1/1000\n",
      "0s - loss: 112.0432 - acc: 0.0279 - val_loss: 105.7780 - val_acc: 0.0408\n",
      "Epoch 2/1000\n",
      "0s - loss: 99.3277 - acc: 0.0360 - val_loss: 98.6991 - val_acc: 0.0380\n",
      "Epoch 3/1000\n",
      "0s - loss: 93.0031 - acc: 0.0442 - val_loss: 92.2528 - val_acc: 0.0380\n",
      "Epoch 4/1000\n",
      "0s - loss: 88.2765 - acc: 0.0482 - val_loss: 88.6462 - val_acc: 0.0435\n",
      "Epoch 5/1000\n",
      "0s - loss: 83.8294 - acc: 0.0489 - val_loss: 84.4020 - val_acc: 0.0598\n",
      "Epoch 6/1000\n",
      "0s - loss: 80.2334 - acc: 0.0510 - val_loss: 80.6369 - val_acc: 0.0543\n",
      "Epoch 7/1000\n",
      "0s - loss: 76.9055 - acc: 0.0496 - val_loss: 77.5465 - val_acc: 0.0516\n",
      "Epoch 8/1000\n",
      "0s - loss: 74.1479 - acc: 0.0489 - val_loss: 74.8707 - val_acc: 0.0543\n",
      "Epoch 9/1000\n",
      "0s - loss: 71.6327 - acc: 0.0496 - val_loss: 72.3926 - val_acc: 0.0543\n",
      "Epoch 10/1000\n",
      "0s - loss: 69.3062 - acc: 0.0448 - val_loss: 70.1165 - val_acc: 0.0489\n",
      "Epoch 11/1000\n",
      "0s - loss: 67.1399 - acc: 0.0503 - val_loss: 67.9747 - val_acc: 0.0462\n",
      "Epoch 12/1000\n",
      "0s - loss: 65.0758 - acc: 0.0503 - val_loss: 65.8961 - val_acc: 0.0462\n",
      "Epoch 13/1000\n",
      "0s - loss: 63.1705 - acc: 0.0510 - val_loss: 63.8961 - val_acc: 0.0462\n",
      "Epoch 14/1000\n",
      "0s - loss: 61.3482 - acc: 0.0503 - val_loss: 62.0459 - val_acc: 0.0462\n",
      "Epoch 15/1000\n",
      "0s - loss: 59.6215 - acc: 0.0510 - val_loss: 60.5375 - val_acc: 0.0462\n",
      "Epoch 16/1000\n",
      "0s - loss: 58.1473 - acc: 0.0496 - val_loss: 60.5270 - val_acc: 0.0435\n",
      "Epoch 17/1000\n",
      "0s - loss: 56.7603 - acc: 0.0469 - val_loss: 57.7538 - val_acc: 0.0516\n",
      "Epoch 18/1000\n",
      "0s - loss: 55.0879 - acc: 0.0503 - val_loss: 56.8203 - val_acc: 0.0462\n",
      "Epoch 19/1000\n",
      "0s - loss: 53.7701 - acc: 0.0455 - val_loss: 55.7063 - val_acc: 0.0489\n",
      "Epoch 20/1000\n",
      "0s - loss: 52.4366 - acc: 0.0496 - val_loss: 53.3134 - val_acc: 0.0516\n",
      "Epoch 21/1000\n",
      "0s - loss: 50.9770 - acc: 0.0489 - val_loss: 51.9757 - val_acc: 0.0489\n",
      "Epoch 22/1000\n",
      "0s - loss: 50.0741 - acc: 0.0462 - val_loss: 50.7803 - val_acc: 0.0516\n",
      "Epoch 23/1000\n",
      "0s - loss: 48.5822 - acc: 0.0564 - val_loss: 49.0504 - val_acc: 0.0462\n",
      "Epoch 24/1000\n",
      "0s - loss: 47.3892 - acc: 0.0537 - val_loss: 47.8635 - val_acc: 0.0489\n",
      "Epoch 25/1000\n",
      "0s - loss: 46.1595 - acc: 0.0591 - val_loss: 46.9655 - val_acc: 0.0435\n",
      "Epoch 26/1000\n",
      "0s - loss: 45.1161 - acc: 0.0564 - val_loss: 45.6748 - val_acc: 0.0435\n",
      "Epoch 27/1000\n",
      "0s - loss: 44.1898 - acc: 0.0550 - val_loss: 44.5591 - val_acc: 0.0516\n",
      "Epoch 28/1000\n",
      "0s - loss: 43.0800 - acc: 0.0591 - val_loss: 43.6856 - val_acc: 0.0408\n",
      "Epoch 29/1000\n",
      "0s - loss: 42.2492 - acc: 0.0543 - val_loss: 42.9647 - val_acc: 0.0408\n",
      "Epoch 30/1000\n",
      "0s - loss: 41.5209 - acc: 0.0516 - val_loss: 42.3462 - val_acc: 0.0435\n",
      "Epoch 31/1000\n",
      "0s - loss: 40.8064 - acc: 0.0659 - val_loss: 41.4764 - val_acc: 0.0489\n",
      "Epoch 32/1000\n",
      "0s - loss: 39.7750 - acc: 0.0543 - val_loss: 40.6739 - val_acc: 0.0516\n",
      "Epoch 33/1000\n",
      "0s - loss: 38.7637 - acc: 0.0611 - val_loss: 39.9327 - val_acc: 0.0489\n",
      "Epoch 34/1000\n",
      "0s - loss: 37.9597 - acc: 0.0611 - val_loss: 39.3536 - val_acc: 0.0598\n",
      "Epoch 35/1000\n",
      "0s - loss: 37.2344 - acc: 0.0611 - val_loss: 38.5167 - val_acc: 0.0571\n",
      "Epoch 36/1000\n",
      "0s - loss: 36.4939 - acc: 0.0673 - val_loss: 37.7803 - val_acc: 0.0652\n",
      "Epoch 37/1000\n",
      "0s - loss: 35.9040 - acc: 0.0673 - val_loss: 37.1332 - val_acc: 0.0652\n",
      "Epoch 38/1000\n",
      "0s - loss: 35.3368 - acc: 0.0679 - val_loss: 36.2509 - val_acc: 0.0652\n",
      "Epoch 39/1000\n",
      "0s - loss: 34.6228 - acc: 0.0808 - val_loss: 35.7608 - val_acc: 0.0571\n",
      "Epoch 40/1000\n",
      "0s - loss: 33.9677 - acc: 0.0788 - val_loss: 34.8204 - val_acc: 0.0788\n",
      "Epoch 41/1000\n",
      "0s - loss: 32.9718 - acc: 0.0659 - val_loss: 33.9002 - val_acc: 0.0788\n",
      "Epoch 42/1000\n",
      "0s - loss: 31.9379 - acc: 0.0870 - val_loss: 33.1272 - val_acc: 0.0924\n",
      "Epoch 43/1000\n",
      "0s - loss: 31.3518 - acc: 0.0795 - val_loss: 32.1264 - val_acc: 0.0734\n",
      "Epoch 44/1000\n",
      "0s - loss: 30.4180 - acc: 0.0754 - val_loss: 31.4384 - val_acc: 0.0897\n",
      "Epoch 45/1000\n",
      "0s - loss: 29.7529 - acc: 0.0734 - val_loss: 31.3153 - val_acc: 0.0951\n",
      "Epoch 46/1000\n",
      "0s - loss: 28.7493 - acc: 0.0849 - val_loss: 30.3170 - val_acc: 0.1033\n",
      "Epoch 47/1000\n",
      "0s - loss: 27.4605 - acc: 0.0917 - val_loss: 28.8121 - val_acc: 0.1114\n",
      "Epoch 48/1000\n",
      "0s - loss: 26.9685 - acc: 0.0944 - val_loss: 28.3677 - val_acc: 0.1332\n",
      "Epoch 49/1000\n",
      "0s - loss: 26.5379 - acc: 0.1135 - val_loss: 27.6393 - val_acc: 0.1168\n",
      "Epoch 50/1000\n",
      "0s - loss: 25.5601 - acc: 0.1080 - val_loss: 27.6159 - val_acc: 0.0870\n",
      "Epoch 51/1000\n",
      "0s - loss: 24.5212 - acc: 0.1114 - val_loss: 25.9311 - val_acc: 0.0815\n",
      "Epoch 52/1000\n",
      "0s - loss: 23.8516 - acc: 0.1175 - val_loss: 24.8757 - val_acc: 0.1005\n",
      "Epoch 53/1000\n",
      "0s - loss: 23.1318 - acc: 0.1189 - val_loss: 24.1816 - val_acc: 0.1060\n",
      "Epoch 54/1000\n",
      "0s - loss: 22.7654 - acc: 0.1325 - val_loss: 24.5594 - val_acc: 0.1060\n",
      "Epoch 55/1000\n",
      "0s - loss: 21.6817 - acc: 0.1264 - val_loss: 22.9930 - val_acc: 0.1168\n",
      "Epoch 56/1000\n",
      "0s - loss: 20.9998 - acc: 0.1379 - val_loss: 22.4683 - val_acc: 0.1114\n",
      "Epoch 57/1000\n",
      "0s - loss: 20.3852 - acc: 0.1338 - val_loss: 21.6059 - val_acc: 0.1413\n",
      "Epoch 58/1000\n",
      "0s - loss: 19.9156 - acc: 0.1433 - val_loss: 20.7186 - val_acc: 0.1332\n",
      "Epoch 59/1000\n",
      "0s - loss: 19.2361 - acc: 0.1535 - val_loss: 20.3593 - val_acc: 0.1332\n",
      "Epoch 60/1000\n",
      "0s - loss: 18.7739 - acc: 0.1372 - val_loss: 19.7356 - val_acc: 0.1386\n",
      "Epoch 61/1000\n",
      "0s - loss: 17.7696 - acc: 0.1603 - val_loss: 19.1544 - val_acc: 0.1440\n",
      "Epoch 62/1000\n",
      "0s - loss: 17.2619 - acc: 0.1522 - val_loss: 18.6438 - val_acc: 0.1332\n",
      "Epoch 63/1000\n",
      "0s - loss: 16.6751 - acc: 0.1569 - val_loss: 18.3724 - val_acc: 0.1196\n",
      "Epoch 64/1000\n",
      "0s - loss: 16.1699 - acc: 0.1590 - val_loss: 17.2361 - val_acc: 0.1630\n",
      "Epoch 65/1000\n",
      "0s - loss: 15.5559 - acc: 0.1603 - val_loss: 17.2104 - val_acc: 0.1766\n",
      "Epoch 66/1000\n",
      "0s - loss: 15.2738 - acc: 0.1705 - val_loss: 16.7267 - val_acc: 0.1332\n",
      "Epoch 67/1000\n",
      "0s - loss: 14.6914 - acc: 0.1712 - val_loss: 16.5749 - val_acc: 0.1413\n",
      "Epoch 68/1000\n",
      "0s - loss: 14.4106 - acc: 0.1766 - val_loss: 16.3264 - val_acc: 0.1658\n",
      "Epoch 69/1000\n",
      "0s - loss: 13.8620 - acc: 0.1773 - val_loss: 15.7486 - val_acc: 0.1549\n",
      "Epoch 70/1000\n",
      "0s - loss: 13.2124 - acc: 0.1780 - val_loss: 15.2556 - val_acc: 0.1495\n",
      "Epoch 71/1000\n",
      "0s - loss: 12.8123 - acc: 0.1861 - val_loss: 14.8423 - val_acc: 0.1576\n",
      "Epoch 72/1000\n",
      "0s - loss: 13.0694 - acc: 0.1685 - val_loss: 15.8215 - val_acc: 0.1413\n",
      "Epoch 73/1000\n",
      "0s - loss: 12.6235 - acc: 0.1664 - val_loss: 14.7253 - val_acc: 0.1630\n",
      "Epoch 74/1000\n",
      "0s - loss: 12.2677 - acc: 0.1562 - val_loss: 14.1546 - val_acc: 0.1332\n",
      "Epoch 75/1000\n",
      "0s - loss: 11.4105 - acc: 0.1957 - val_loss: 13.6818 - val_acc: 0.1495\n",
      "Epoch 76/1000\n",
      "0s - loss: 11.1790 - acc: 0.1814 - val_loss: 13.2681 - val_acc: 0.1549\n",
      "Epoch 77/1000\n",
      "0s - loss: 10.8148 - acc: 0.1889 - val_loss: 14.0450 - val_acc: 0.1630\n",
      "Epoch 78/1000\n",
      "0s - loss: 10.7206 - acc: 0.1970 - val_loss: 12.7693 - val_acc: 0.1495\n",
      "Epoch 79/1000\n",
      "0s - loss: 10.3818 - acc: 0.1841 - val_loss: 12.5951 - val_acc: 0.1440\n",
      "Epoch 80/1000\n",
      "0s - loss: 10.0502 - acc: 0.1977 - val_loss: 12.1643 - val_acc: 0.1766\n",
      "Epoch 81/1000\n",
      "0s - loss: 9.7329 - acc: 0.1848 - val_loss: 12.6901 - val_acc: 0.1685\n",
      "Epoch 82/1000\n",
      "0s - loss: 9.3356 - acc: 0.2004 - val_loss: 11.7320 - val_acc: 0.1793\n",
      "Epoch 83/1000\n",
      "0s - loss: 8.9837 - acc: 0.2031 - val_loss: 11.4342 - val_acc: 0.1522\n",
      "Epoch 84/1000\n",
      "0s - loss: 8.7012 - acc: 0.2072 - val_loss: 11.0745 - val_acc: 0.2174\n",
      "Epoch 85/1000\n",
      "0s - loss: 8.4153 - acc: 0.2228 - val_loss: 10.6227 - val_acc: 0.1766\n",
      "Epoch 86/1000\n",
      "0s - loss: 8.1697 - acc: 0.2201 - val_loss: 11.5985 - val_acc: 0.1821\n",
      "Epoch 87/1000\n",
      "0s - loss: 8.1680 - acc: 0.2038 - val_loss: 10.3378 - val_acc: 0.1848\n",
      "Epoch 88/1000\n",
      "0s - loss: 7.8863 - acc: 0.2208 - val_loss: 10.5016 - val_acc: 0.1739\n",
      "Epoch 89/1000\n",
      "0s - loss: 7.8804 - acc: 0.2188 - val_loss: 10.3034 - val_acc: 0.2038\n",
      "Epoch 90/1000\n",
      "0s - loss: 7.6000 - acc: 0.1984 - val_loss: 10.3547 - val_acc: 0.2364\n",
      "Epoch 91/1000\n",
      "0s - loss: 7.3868 - acc: 0.2052 - val_loss: 9.9711 - val_acc: 0.2174\n",
      "Epoch 92/1000\n",
      "0s - loss: 6.9823 - acc: 0.2364 - val_loss: 9.8050 - val_acc: 0.2418\n",
      "Epoch 93/1000\n",
      "0s - loss: 6.8182 - acc: 0.2194 - val_loss: 9.3062 - val_acc: 0.2582\n",
      "Epoch 94/1000\n",
      "0s - loss: 6.6451 - acc: 0.2391 - val_loss: 9.3806 - val_acc: 0.2636\n",
      "Epoch 95/1000\n",
      "0s - loss: 6.3983 - acc: 0.2452 - val_loss: 9.0949 - val_acc: 0.2717\n",
      "Epoch 96/1000\n",
      "0s - loss: 6.3072 - acc: 0.2249 - val_loss: 9.3227 - val_acc: 0.2527\n",
      "Epoch 97/1000\n",
      "0s - loss: 6.3361 - acc: 0.2160 - val_loss: 9.0249 - val_acc: 0.2527\n",
      "Epoch 98/1000\n"
     ]
    },
    {
     "name": "stdout",
     "output_type": "stream",
     "text": [
      "0s - loss: 6.0619 - acc: 0.2371 - val_loss: 8.9858 - val_acc: 0.2364\n",
      "Epoch 99/1000\n",
      "0s - loss: 5.8067 - acc: 0.2317 - val_loss: 8.5859 - val_acc: 0.2418\n",
      "Epoch 100/1000\n",
      "0s - loss: 5.7078 - acc: 0.2371 - val_loss: 9.3195 - val_acc: 0.2500\n",
      "Epoch 101/1000\n",
      "0s - loss: 5.6849 - acc: 0.2582 - val_loss: 8.5645 - val_acc: 0.2418\n",
      "Epoch 102/1000\n",
      "0s - loss: 5.4590 - acc: 0.2507 - val_loss: 8.6061 - val_acc: 0.2364\n",
      "Epoch 103/1000\n",
      "0s - loss: 5.9879 - acc: 0.2147 - val_loss: 9.8206 - val_acc: 0.2120\n",
      "Epoch 104/1000\n",
      "0s - loss: 5.3922 - acc: 0.2364 - val_loss: 8.2032 - val_acc: 0.2527\n",
      "Epoch 105/1000\n",
      "0s - loss: 5.0320 - acc: 0.2636 - val_loss: 8.3469 - val_acc: 0.2446\n",
      "Epoch 106/1000\n",
      "0s - loss: 4.7685 - acc: 0.2582 - val_loss: 8.2758 - val_acc: 0.2310\n",
      "Epoch 107/1000\n",
      "0s - loss: 4.7771 - acc: 0.2670 - val_loss: 7.6661 - val_acc: 0.2364\n",
      "Epoch 108/1000\n",
      "0s - loss: 4.6414 - acc: 0.2690 - val_loss: 7.9896 - val_acc: 0.2717\n",
      "Epoch 109/1000\n",
      "0s - loss: 4.3864 - acc: 0.2751 - val_loss: 7.3900 - val_acc: 0.2772\n",
      "Epoch 110/1000\n",
      "0s - loss: 4.3344 - acc: 0.2745 - val_loss: 7.3868 - val_acc: 0.2636\n",
      "Epoch 111/1000\n",
      "0s - loss: 4.2277 - acc: 0.2772 - val_loss: 7.1377 - val_acc: 0.2799\n",
      "Epoch 112/1000\n",
      "0s - loss: 4.1084 - acc: 0.2724 - val_loss: 7.3769 - val_acc: 0.2935\n",
      "Epoch 113/1000\n",
      "0s - loss: 3.9314 - acc: 0.3098 - val_loss: 7.2972 - val_acc: 0.2880\n",
      "Epoch 114/1000\n",
      "0s - loss: 3.8793 - acc: 0.2989 - val_loss: 7.1104 - val_acc: 0.2717\n",
      "Epoch 115/1000\n",
      "0s - loss: 3.7803 - acc: 0.2765 - val_loss: 7.4397 - val_acc: 0.2717\n",
      "Epoch 116/1000\n",
      "0s - loss: 3.6820 - acc: 0.2785 - val_loss: 7.2608 - val_acc: 0.2826\n",
      "Epoch 117/1000\n",
      "0s - loss: 3.7692 - acc: 0.2921 - val_loss: 6.5333 - val_acc: 0.2473\n",
      "Epoch 118/1000\n",
      "0s - loss: 3.5207 - acc: 0.2846 - val_loss: 7.0031 - val_acc: 0.3315\n",
      "Epoch 119/1000\n",
      "0s - loss: 3.4782 - acc: 0.2826 - val_loss: 6.7399 - val_acc: 0.2690\n",
      "Epoch 120/1000\n",
      "0s - loss: 3.1143 - acc: 0.2914 - val_loss: 6.9098 - val_acc: 0.2989\n",
      "Epoch 121/1000\n",
      "0s - loss: 3.0916 - acc: 0.3003 - val_loss: 7.1534 - val_acc: 0.3071\n",
      "Epoch 122/1000\n",
      "0s - loss: 2.9889 - acc: 0.2996 - val_loss: 6.5702 - val_acc: 0.3207\n",
      "Epoch 123/1000\n",
      "0s - loss: 2.9830 - acc: 0.2717 - val_loss: 7.0460 - val_acc: 0.3261\n",
      "Epoch 124/1000\n",
      "0s - loss: 2.8041 - acc: 0.3057 - val_loss: 6.6081 - val_acc: 0.3261\n",
      "Epoch 125/1000\n",
      "0s - loss: 2.7212 - acc: 0.3125 - val_loss: 6.8932 - val_acc: 0.2989\n",
      "Epoch 126/1000\n",
      "0s - loss: 2.6269 - acc: 0.3200 - val_loss: 6.6368 - val_acc: 0.3342\n",
      "Epoch 127/1000\n",
      "0s - loss: 2.6271 - acc: 0.2989 - val_loss: 6.1473 - val_acc: 0.3016\n",
      "Epoch 128/1000\n",
      "0s - loss: 2.5812 - acc: 0.2867 - val_loss: 6.4305 - val_acc: 0.3288\n",
      "Epoch 129/1000\n",
      "0s - loss: 2.4356 - acc: 0.3166 - val_loss: 5.8460 - val_acc: 0.3207\n",
      "Epoch 130/1000\n",
      "0s - loss: 2.4653 - acc: 0.3139 - val_loss: 6.7629 - val_acc: 0.3179\n",
      "Epoch 131/1000\n",
      "0s - loss: 2.3264 - acc: 0.2982 - val_loss: 5.9424 - val_acc: 0.3451\n",
      "Epoch 132/1000\n",
      "0s - loss: 2.2649 - acc: 0.3010 - val_loss: 6.0266 - val_acc: 0.3125\n",
      "Epoch 133/1000\n",
      "0s - loss: 2.3647 - acc: 0.3016 - val_loss: 5.8112 - val_acc: 0.3587\n",
      "Epoch 134/1000\n",
      "0s - loss: 2.1792 - acc: 0.3173 - val_loss: 6.1504 - val_acc: 0.3016\n",
      "Epoch 135/1000\n",
      "0s - loss: 2.0951 - acc: 0.3397 - val_loss: 6.3320 - val_acc: 0.3179\n",
      "Epoch 136/1000\n",
      "0s - loss: 2.0416 - acc: 0.3349 - val_loss: 5.9809 - val_acc: 0.3234\n",
      "Epoch 137/1000\n",
      "0s - loss: 2.0835 - acc: 0.3220 - val_loss: 6.1773 - val_acc: 0.3288\n",
      "Epoch 138/1000\n",
      "0s - loss: 2.0631 - acc: 0.3213 - val_loss: 6.3172 - val_acc: 0.3370\n",
      "Epoch 139/1000\n",
      "0s - loss: 1.9680 - acc: 0.3342 - val_loss: 5.9829 - val_acc: 0.3342\n",
      "Epoch 140/1000\n",
      "0s - loss: 1.8794 - acc: 0.3451 - val_loss: 5.8323 - val_acc: 0.3668\n",
      "Epoch 141/1000\n",
      "0s - loss: 1.8797 - acc: 0.3655 - val_loss: 5.7144 - val_acc: 0.3370\n",
      "Epoch 142/1000\n",
      "0s - loss: 1.8878 - acc: 0.3342 - val_loss: 6.0169 - val_acc: 0.3451\n",
      "Epoch 143/1000\n",
      "0s - loss: 1.8110 - acc: 0.3478 - val_loss: 5.3372 - val_acc: 0.3234\n",
      "Epoch 144/1000\n",
      "0s - loss: 1.9228 - acc: 0.3186 - val_loss: 5.7385 - val_acc: 0.3614\n",
      "Epoch 145/1000\n",
      "0s - loss: 1.7397 - acc: 0.3417 - val_loss: 6.1184 - val_acc: 0.3179\n",
      "Epoch 146/1000\n",
      "0s - loss: 1.6680 - acc: 0.3519 - val_loss: 6.0330 - val_acc: 0.3505\n",
      "Epoch 147/1000\n",
      "0s - loss: 1.6493 - acc: 0.3533 - val_loss: 5.8479 - val_acc: 0.3641\n",
      "Epoch 148/1000\n",
      "0s - loss: 1.7154 - acc: 0.3512 - val_loss: 5.5773 - val_acc: 0.3315\n",
      "Epoch 149/1000\n",
      "0s - loss: 1.6556 - acc: 0.3404 - val_loss: 6.0460 - val_acc: 0.3451\n",
      "Epoch 150/1000\n",
      "0s - loss: 1.5753 - acc: 0.3512 - val_loss: 5.9636 - val_acc: 0.3505\n",
      "Epoch 151/1000\n",
      "0s - loss: 1.5588 - acc: 0.3471 - val_loss: 5.7887 - val_acc: 0.3750\n",
      "Epoch 152/1000\n",
      "0s - loss: 1.4950 - acc: 0.3594 - val_loss: 5.9905 - val_acc: 0.3913\n",
      "Epoch 153/1000\n",
      "0s - loss: 1.5019 - acc: 0.3614 - val_loss: 6.3195 - val_acc: 0.3641\n",
      "Epoch 154/1000\n",
      "0s - loss: 1.4876 - acc: 0.3560 - val_loss: 5.5833 - val_acc: 0.3886\n",
      "Epoch 155/1000\n",
      "0s - loss: 1.4103 - acc: 0.3614 - val_loss: 5.5098 - val_acc: 0.4212\n",
      "Epoch 156/1000\n",
      "0s - loss: 1.4706 - acc: 0.3546 - val_loss: 4.7819 - val_acc: 0.4076\n",
      "Epoch 157/1000\n",
      "0s - loss: 1.3916 - acc: 0.3689 - val_loss: 5.0625 - val_acc: 0.4049\n",
      "Epoch 158/1000\n",
      "0s - loss: 1.3695 - acc: 0.3791 - val_loss: 5.6550 - val_acc: 0.4049\n",
      "Epoch 159/1000\n",
      "0s - loss: 1.3685 - acc: 0.3730 - val_loss: 6.1203 - val_acc: 0.4130\n",
      "Epoch 160/1000\n",
      "0s - loss: 1.3148 - acc: 0.3899 - val_loss: 5.4904 - val_acc: 0.4022\n",
      "Epoch 161/1000\n",
      "0s - loss: 1.3487 - acc: 0.3750 - val_loss: 4.9478 - val_acc: 0.4293\n",
      "Epoch 162/1000\n",
      "0s - loss: 1.2918 - acc: 0.3872 - val_loss: 5.4400 - val_acc: 0.4158\n",
      "Epoch 163/1000\n",
      "0s - loss: 1.2565 - acc: 0.3798 - val_loss: 4.9548 - val_acc: 0.4103\n",
      "Epoch 164/1000\n",
      "0s - loss: 1.3475 - acc: 0.3743 - val_loss: 5.3889 - val_acc: 0.3967\n",
      "Epoch 165/1000\n",
      "0s - loss: 1.3249 - acc: 0.3750 - val_loss: 5.3981 - val_acc: 0.3832\n",
      "Epoch 166/1000\n",
      "0s - loss: 1.2998 - acc: 0.3879 - val_loss: 4.3831 - val_acc: 0.4130\n",
      "Epoch 167/1000\n",
      "0s - loss: 1.2735 - acc: 0.3736 - val_loss: 4.8323 - val_acc: 0.3913\n",
      "Epoch 168/1000\n",
      "0s - loss: 1.1890 - acc: 0.4056 - val_loss: 4.8749 - val_acc: 0.3886\n",
      "Epoch 169/1000\n",
      "0s - loss: 1.1843 - acc: 0.3818 - val_loss: 5.0972 - val_acc: 0.4266\n",
      "Epoch 170/1000\n",
      "0s - loss: 1.2018 - acc: 0.3859 - val_loss: 5.2807 - val_acc: 0.3967\n",
      "Epoch 171/1000\n",
      "0s - loss: 1.1893 - acc: 0.3913 - val_loss: 6.0319 - val_acc: 0.3668\n",
      "Epoch 172/1000\n",
      "0s - loss: 1.1370 - acc: 0.4164 - val_loss: 5.1239 - val_acc: 0.4076\n",
      "Epoch 173/1000\n",
      "0s - loss: 1.1267 - acc: 0.3838 - val_loss: 4.8679 - val_acc: 0.4266\n",
      "Epoch 174/1000\n",
      "0s - loss: 1.1128 - acc: 0.4063 - val_loss: 4.9823 - val_acc: 0.4130\n",
      "Epoch 175/1000\n",
      "0s - loss: 1.1107 - acc: 0.4056 - val_loss: 5.0756 - val_acc: 0.3995\n",
      "Epoch 176/1000\n",
      "0s - loss: 1.0714 - acc: 0.4069 - val_loss: 5.1165 - val_acc: 0.4321\n",
      "Epoch 177/1000\n",
      "0s - loss: 1.1652 - acc: 0.4124 - val_loss: 4.6099 - val_acc: 0.3315\n",
      "Epoch 178/1000\n",
      "0s - loss: 1.3175 - acc: 0.3614 - val_loss: 4.7960 - val_acc: 0.3424\n",
      "Epoch 179/1000\n",
      "0s - loss: 1.1292 - acc: 0.3913 - val_loss: 4.9980 - val_acc: 0.4185\n",
      "Epoch 180/1000\n",
      "0s - loss: 1.0483 - acc: 0.4280 - val_loss: 4.3928 - val_acc: 0.4158\n",
      "Epoch 181/1000\n",
      "0s - loss: 0.9965 - acc: 0.4029 - val_loss: 4.0779 - val_acc: 0.4375\n",
      "Epoch 182/1000\n",
      "0s - loss: 0.9445 - acc: 0.4260 - val_loss: 4.5944 - val_acc: 0.4755\n",
      "Epoch 183/1000\n",
      "0s - loss: 0.9933 - acc: 0.4226 - val_loss: 4.6459 - val_acc: 0.4239\n",
      "Epoch 184/1000\n",
      "0s - loss: 0.9149 - acc: 0.4287 - val_loss: 4.2482 - val_acc: 0.4647\n",
      "Epoch 185/1000\n",
      "0s - loss: 0.9362 - acc: 0.4226 - val_loss: 4.7842 - val_acc: 0.4647\n",
      "Epoch 186/1000\n",
      "0s - loss: 1.1023 - acc: 0.3899 - val_loss: 4.5353 - val_acc: 0.4130\n",
      "Epoch 187/1000\n",
      "0s - loss: 0.9909 - acc: 0.4062 - val_loss: 4.5011 - val_acc: 0.4076\n",
      "Epoch 188/1000\n",
      "0s - loss: 0.9184 - acc: 0.4253 - val_loss: 5.2571 - val_acc: 0.4402\n",
      "Epoch 189/1000\n",
      "0s - loss: 0.9274 - acc: 0.4130 - val_loss: 5.4221 - val_acc: 0.4321\n",
      "Epoch 190/1000\n",
      "0s - loss: 0.8848 - acc: 0.4164 - val_loss: 4.6585 - val_acc: 0.4701\n",
      "Epoch 191/1000\n",
      "0s - loss: 0.8070 - acc: 0.4314 - val_loss: 4.5224 - val_acc: 0.4946\n",
      "Epoch 192/1000\n",
      "0s - loss: 0.8183 - acc: 0.4395 - val_loss: 4.3681 - val_acc: 0.4891\n",
      "Epoch 193/1000\n",
      "0s - loss: 0.8461 - acc: 0.4423 - val_loss: 4.6321 - val_acc: 0.5109\n",
      "Epoch 194/1000\n",
      "0s - loss: 0.8227 - acc: 0.4287 - val_loss: 4.7667 - val_acc: 0.4755\n",
      "Epoch 195/1000\n",
      "0s - loss: 0.8530 - acc: 0.4287 - val_loss: 4.3425 - val_acc: 0.5027\n",
      "Epoch 196/1000\n"
     ]
    },
    {
     "name": "stdout",
     "output_type": "stream",
     "text": [
      "0s - loss: 1.0465 - acc: 0.4151 - val_loss: 4.4260 - val_acc: 0.4565\n",
      "Epoch 197/1000\n",
      "0s - loss: 0.9202 - acc: 0.4273 - val_loss: 4.8087 - val_acc: 0.4592\n",
      "Epoch 198/1000\n",
      "0s - loss: 0.8765 - acc: 0.4280 - val_loss: 4.7375 - val_acc: 0.5217\n",
      "Epoch 199/1000\n",
      "0s - loss: 0.8063 - acc: 0.4463 - val_loss: 5.0594 - val_acc: 0.5054\n",
      "Epoch 200/1000\n",
      "0s - loss: 0.7496 - acc: 0.4586 - val_loss: 4.4095 - val_acc: 0.4647\n",
      "Epoch 201/1000\n",
      "0s - loss: 0.7723 - acc: 0.4443 - val_loss: 4.3571 - val_acc: 0.4511\n",
      "Epoch 202/1000\n",
      "0s - loss: 0.7588 - acc: 0.4429 - val_loss: 4.4790 - val_acc: 0.4755\n",
      "Epoch 203/1000\n",
      "0s - loss: 0.7532 - acc: 0.4579 - val_loss: 4.1945 - val_acc: 0.4973\n",
      "Epoch 204/1000\n",
      "0s - loss: 0.7391 - acc: 0.4552 - val_loss: 4.0127 - val_acc: 0.4918\n",
      "Epoch 205/1000\n",
      "0s - loss: 0.7266 - acc: 0.4667 - val_loss: 4.4227 - val_acc: 0.5299\n",
      "Epoch 206/1000\n",
      "0s - loss: 0.6977 - acc: 0.4789 - val_loss: 4.4021 - val_acc: 0.5245\n",
      "Epoch 207/1000\n",
      "0s - loss: 0.7020 - acc: 0.4640 - val_loss: 3.9593 - val_acc: 0.5000\n",
      "Epoch 208/1000\n",
      "0s - loss: 0.7373 - acc: 0.4687 - val_loss: 4.0470 - val_acc: 0.5136\n",
      "Epoch 209/1000\n",
      "0s - loss: 0.7065 - acc: 0.4681 - val_loss: 3.9402 - val_acc: 0.4810\n",
      "Epoch 210/1000\n",
      "0s - loss: 0.6519 - acc: 0.4796 - val_loss: 3.8685 - val_acc: 0.5163\n",
      "Epoch 211/1000\n",
      "0s - loss: 0.6917 - acc: 0.4851 - val_loss: 3.9915 - val_acc: 0.5163\n",
      "Epoch 212/1000\n",
      "0s - loss: 0.7327 - acc: 0.4647 - val_loss: 4.0717 - val_acc: 0.5489\n",
      "Epoch 213/1000\n",
      "0s - loss: 0.6369 - acc: 0.4830 - val_loss: 4.1088 - val_acc: 0.4810\n",
      "Epoch 214/1000\n",
      "0s - loss: 0.6649 - acc: 0.4851 - val_loss: 4.0283 - val_acc: 0.5516\n",
      "Epoch 215/1000\n",
      "0s - loss: 0.6413 - acc: 0.4742 - val_loss: 4.4137 - val_acc: 0.5380\n",
      "Epoch 216/1000\n",
      "0s - loss: 0.6634 - acc: 0.4701 - val_loss: 4.4371 - val_acc: 0.5299\n",
      "Epoch 217/1000\n",
      "0s - loss: 0.6280 - acc: 0.4959 - val_loss: 4.7210 - val_acc: 0.4973\n",
      "Epoch 218/1000\n",
      "0s - loss: 0.6857 - acc: 0.4837 - val_loss: 4.2106 - val_acc: 0.5516\n",
      "Epoch 219/1000\n",
      "0s - loss: 0.6466 - acc: 0.5007 - val_loss: 4.2537 - val_acc: 0.5353\n",
      "Epoch 220/1000\n",
      "0s - loss: 0.6206 - acc: 0.5115 - val_loss: 4.2997 - val_acc: 0.5571\n",
      "Epoch 221/1000\n",
      "0s - loss: 0.6014 - acc: 0.4898 - val_loss: 4.0559 - val_acc: 0.5380\n",
      "Epoch 222/1000\n",
      "0s - loss: 0.6137 - acc: 0.4769 - val_loss: 4.9155 - val_acc: 0.5815\n",
      "Epoch 223/1000\n",
      "0s - loss: 0.6873 - acc: 0.4932 - val_loss: 5.2944 - val_acc: 0.4429\n",
      "Epoch 224/1000\n",
      "0s - loss: 0.6245 - acc: 0.4864 - val_loss: 4.3118 - val_acc: 0.5217\n",
      "Epoch 225/1000\n",
      "0s - loss: 0.6478 - acc: 0.4837 - val_loss: 3.7195 - val_acc: 0.5870\n",
      "Epoch 226/1000\n",
      "0s - loss: 0.5299 - acc: 0.5163 - val_loss: 4.1041 - val_acc: 0.5788\n",
      "Epoch 227/1000\n",
      "0s - loss: 0.5383 - acc: 0.5217 - val_loss: 4.4598 - val_acc: 0.5897\n",
      "Epoch 228/1000\n",
      "0s - loss: 0.5786 - acc: 0.5020 - val_loss: 4.0424 - val_acc: 0.5761\n",
      "Epoch 229/1000\n",
      "0s - loss: 0.6032 - acc: 0.5102 - val_loss: 4.0954 - val_acc: 0.4647\n",
      "Epoch 230/1000\n",
      "0s - loss: 0.5774 - acc: 0.5190 - val_loss: 3.9583 - val_acc: 0.6168\n",
      "Epoch 231/1000\n",
      "0s - loss: 0.5729 - acc: 0.4980 - val_loss: 4.1543 - val_acc: 0.5734\n",
      "Epoch 232/1000\n",
      "0s - loss: 0.5946 - acc: 0.5075 - val_loss: 3.9822 - val_acc: 0.5380\n",
      "Epoch 233/1000\n",
      "0s - loss: 0.6344 - acc: 0.4891 - val_loss: 3.5057 - val_acc: 0.5217\n",
      "Epoch 234/1000\n",
      "0s - loss: 0.5466 - acc: 0.5129 - val_loss: 4.0302 - val_acc: 0.5734\n",
      "Epoch 235/1000\n",
      "0s - loss: 0.5252 - acc: 0.5353 - val_loss: 4.1267 - val_acc: 0.5788\n",
      "Epoch 236/1000\n",
      "0s - loss: 0.5288 - acc: 0.5027 - val_loss: 3.7819 - val_acc: 0.5679\n",
      "Epoch 237/1000\n",
      "0s - loss: 0.5423 - acc: 0.5258 - val_loss: 3.9970 - val_acc: 0.5734\n",
      "Epoch 238/1000\n",
      "0s - loss: 0.5723 - acc: 0.5224 - val_loss: 3.8712 - val_acc: 0.5734\n",
      "Epoch 239/1000\n",
      "0s - loss: 0.4944 - acc: 0.5557 - val_loss: 3.7006 - val_acc: 0.5924\n",
      "Epoch 240/1000\n",
      "0s - loss: 0.5405 - acc: 0.5299 - val_loss: 4.4317 - val_acc: 0.6005\n",
      "Epoch 241/1000\n",
      "0s - loss: 0.5528 - acc: 0.5163 - val_loss: 3.6192 - val_acc: 0.6332\n",
      "Epoch 242/1000\n",
      "0s - loss: 0.5107 - acc: 0.5380 - val_loss: 3.7506 - val_acc: 0.6332\n",
      "Epoch 243/1000\n",
      "0s - loss: 0.5496 - acc: 0.5353 - val_loss: 3.7270 - val_acc: 0.6114\n",
      "Epoch 244/1000\n",
      "0s - loss: 0.6152 - acc: 0.5204 - val_loss: 4.3327 - val_acc: 0.5625\n",
      "Epoch 245/1000\n",
      "0s - loss: 0.5452 - acc: 0.5190 - val_loss: 3.9363 - val_acc: 0.5897\n",
      "Epoch 246/1000\n",
      "0s - loss: 0.5271 - acc: 0.5421 - val_loss: 3.6757 - val_acc: 0.6440\n",
      "Epoch 247/1000\n",
      "0s - loss: 0.4857 - acc: 0.5435 - val_loss: 4.0309 - val_acc: 0.6005\n",
      "Epoch 248/1000\n",
      "0s - loss: 0.6713 - acc: 0.5353 - val_loss: 3.2872 - val_acc: 0.5217\n",
      "Epoch 249/1000\n",
      "0s - loss: 0.5421 - acc: 0.5360 - val_loss: 3.3892 - val_acc: 0.5734\n",
      "Epoch 250/1000\n",
      "0s - loss: 0.4914 - acc: 0.5401 - val_loss: 3.6898 - val_acc: 0.5978\n",
      "Epoch 251/1000\n",
      "0s - loss: 0.5079 - acc: 0.5394 - val_loss: 3.2291 - val_acc: 0.6087\n",
      "Epoch 252/1000\n",
      "0s - loss: 0.4987 - acc: 0.5516 - val_loss: 3.0409 - val_acc: 0.6522\n",
      "Epoch 253/1000\n",
      "0s - loss: 0.4544 - acc: 0.5774 - val_loss: 3.3233 - val_acc: 0.6277\n",
      "Epoch 254/1000\n",
      "0s - loss: 0.4269 - acc: 0.5598 - val_loss: 3.3043 - val_acc: 0.6304\n",
      "Epoch 255/1000\n",
      "0s - loss: 0.4912 - acc: 0.5815 - val_loss: 3.4813 - val_acc: 0.6196\n",
      "Epoch 256/1000\n",
      "0s - loss: 0.4523 - acc: 0.5625 - val_loss: 3.5492 - val_acc: 0.6386\n",
      "Epoch 257/1000\n",
      "0s - loss: 0.4286 - acc: 0.5802 - val_loss: 3.3610 - val_acc: 0.6277\n",
      "Epoch 258/1000\n",
      "0s - loss: 0.4316 - acc: 0.5720 - val_loss: 3.2717 - val_acc: 0.6359\n",
      "Epoch 259/1000\n",
      "0s - loss: 0.4243 - acc: 0.5774 - val_loss: 3.4738 - val_acc: 0.6386\n",
      "Epoch 260/1000\n",
      "0s - loss: 0.3919 - acc: 0.5985 - val_loss: 3.3930 - val_acc: 0.6739\n",
      "Epoch 261/1000\n",
      "0s - loss: 0.3983 - acc: 0.5999 - val_loss: 3.5136 - val_acc: 0.6576\n",
      "Epoch 262/1000\n",
      "0s - loss: 0.3889 - acc: 0.6067 - val_loss: 3.5071 - val_acc: 0.6359\n",
      "Epoch 263/1000\n",
      "0s - loss: 0.3745 - acc: 0.6107 - val_loss: 3.3561 - val_acc: 0.6875\n",
      "Epoch 264/1000\n",
      "0s - loss: 0.4190 - acc: 0.5808 - val_loss: 3.6707 - val_acc: 0.6766\n",
      "Epoch 265/1000\n",
      "0s - loss: 0.4446 - acc: 0.5910 - val_loss: 3.3415 - val_acc: 0.6658\n",
      "Epoch 266/1000\n",
      "0s - loss: 0.3944 - acc: 0.5951 - val_loss: 3.4669 - val_acc: 0.6929\n",
      "Epoch 267/1000\n",
      "0s - loss: 0.3845 - acc: 0.5951 - val_loss: 3.6692 - val_acc: 0.6766\n",
      "Epoch 268/1000\n",
      "0s - loss: 0.3706 - acc: 0.6107 - val_loss: 3.5878 - val_acc: 0.6821\n",
      "Epoch 269/1000\n",
      "0s - loss: 0.3569 - acc: 0.6379 - val_loss: 3.5080 - val_acc: 0.6304\n",
      "Epoch 270/1000\n",
      "0s - loss: 0.4242 - acc: 0.5978 - val_loss: 3.5976 - val_acc: 0.6957\n",
      "Epoch 271/1000\n",
      "0s - loss: 0.3746 - acc: 0.6107 - val_loss: 3.8181 - val_acc: 0.6250\n",
      "Epoch 272/1000\n",
      "0s - loss: 0.3991 - acc: 0.5958 - val_loss: 3.5933 - val_acc: 0.6440\n",
      "Epoch 273/1000\n",
      "0s - loss: 0.3910 - acc: 0.5944 - val_loss: 3.5705 - val_acc: 0.6766\n",
      "Epoch 274/1000\n",
      "0s - loss: 0.3422 - acc: 0.6304 - val_loss: 3.6244 - val_acc: 0.6386\n",
      "Epoch 275/1000\n",
      "0s - loss: 0.3586 - acc: 0.6182 - val_loss: 3.5348 - val_acc: 0.6929\n",
      "Epoch 276/1000\n",
      "0s - loss: 0.3530 - acc: 0.6209 - val_loss: 3.1806 - val_acc: 0.7011\n",
      "Epoch 277/1000\n",
      "0s - loss: 0.3617 - acc: 0.6196 - val_loss: 3.5543 - val_acc: 0.6929\n",
      "Epoch 278/1000\n",
      "0s - loss: 0.3622 - acc: 0.6270 - val_loss: 3.7098 - val_acc: 0.7011\n",
      "Epoch 279/1000\n",
      "0s - loss: 0.3624 - acc: 0.6284 - val_loss: 3.6457 - val_acc: 0.7011\n",
      "Epoch 280/1000\n",
      "0s - loss: 0.3705 - acc: 0.6067 - val_loss: 3.5601 - val_acc: 0.6005\n",
      "Epoch 281/1000\n",
      "0s - loss: 0.3284 - acc: 0.6399 - val_loss: 3.4786 - val_acc: 0.6821\n",
      "Epoch 282/1000\n",
      "0s - loss: 0.3234 - acc: 0.6590 - val_loss: 4.0029 - val_acc: 0.7092\n",
      "Epoch 283/1000\n",
      "0s - loss: 0.3463 - acc: 0.6352 - val_loss: 3.7423 - val_acc: 0.6658\n",
      "Epoch 284/1000\n",
      "0s - loss: 0.3344 - acc: 0.6447 - val_loss: 4.2510 - val_acc: 0.6766\n",
      "Epoch 285/1000\n",
      "0s - loss: 0.3588 - acc: 0.6223 - val_loss: 3.6288 - val_acc: 0.6902\n",
      "Epoch 286/1000\n",
      "0s - loss: 0.3610 - acc: 0.6311 - val_loss: 3.7986 - val_acc: 0.7065\n",
      "Epoch 287/1000\n",
      "0s - loss: 0.3313 - acc: 0.6590 - val_loss: 3.6134 - val_acc: 0.7065\n",
      "Epoch 288/1000\n",
      "0s - loss: 0.3475 - acc: 0.6311 - val_loss: 3.4903 - val_acc: 0.6957\n",
      "Epoch 289/1000\n",
      "0s - loss: 0.3162 - acc: 0.6386 - val_loss: 3.4429 - val_acc: 0.7065\n",
      "Epoch 290/1000\n",
      "0s - loss: 0.2928 - acc: 0.6610 - val_loss: 3.5933 - val_acc: 0.7038\n",
      "Epoch 291/1000\n",
      "0s - loss: 0.2974 - acc: 0.6508 - val_loss: 4.2376 - val_acc: 0.7038\n",
      "Epoch 292/1000\n",
      "0s - loss: 0.3399 - acc: 0.6563 - val_loss: 3.3574 - val_acc: 0.6766\n",
      "Epoch 293/1000\n",
      "0s - loss: 0.3087 - acc: 0.6542 - val_loss: 3.6098 - val_acc: 0.6848\n",
      "Epoch 294/1000\n"
     ]
    },
    {
     "name": "stdout",
     "output_type": "stream",
     "text": [
      "0s - loss: 0.3192 - acc: 0.6406 - val_loss: 4.0884 - val_acc: 0.6929\n",
      "Epoch 295/1000\n",
      "0s - loss: 0.3171 - acc: 0.6535 - val_loss: 3.9313 - val_acc: 0.7038\n",
      "Epoch 296/1000\n",
      "0s - loss: 0.3127 - acc: 0.6549 - val_loss: 3.7040 - val_acc: 0.6957\n",
      "Epoch 297/1000\n",
      "0s - loss: 0.3145 - acc: 0.6664 - val_loss: 3.7980 - val_acc: 0.7228\n",
      "Epoch 298/1000\n",
      "0s - loss: 0.2873 - acc: 0.6726 - val_loss: 3.8243 - val_acc: 0.7527\n",
      "Epoch 299/1000\n",
      "0s - loss: 0.3205 - acc: 0.6671 - val_loss: 3.9951 - val_acc: 0.7310\n",
      "Epoch 300/1000\n",
      "0s - loss: 0.3123 - acc: 0.6501 - val_loss: 3.8210 - val_acc: 0.7364\n",
      "Epoch 301/1000\n",
      "0s - loss: 0.2837 - acc: 0.6678 - val_loss: 3.8330 - val_acc: 0.7364\n",
      "Epoch 302/1000\n",
      "0s - loss: 0.3144 - acc: 0.6610 - val_loss: 3.9644 - val_acc: 0.7337\n",
      "Epoch 303/1000\n",
      "0s - loss: 0.3376 - acc: 0.6542 - val_loss: 3.5533 - val_acc: 0.7364\n",
      "Epoch 304/1000\n",
      "0s - loss: 0.2887 - acc: 0.6726 - val_loss: 3.9341 - val_acc: 0.7310\n",
      "Epoch 305/1000\n",
      "0s - loss: 0.2982 - acc: 0.6583 - val_loss: 3.4035 - val_acc: 0.7418\n",
      "Epoch 306/1000\n",
      "0s - loss: 0.2921 - acc: 0.6698 - val_loss: 3.4915 - val_acc: 0.7527\n",
      "Epoch 307/1000\n",
      "0s - loss: 0.2721 - acc: 0.6957 - val_loss: 3.8015 - val_acc: 0.7174\n",
      "Epoch 308/1000\n",
      "0s - loss: 0.2844 - acc: 0.6753 - val_loss: 3.9109 - val_acc: 0.7717\n",
      "Epoch 309/1000\n",
      "0s - loss: 0.2743 - acc: 0.6984 - val_loss: 3.7395 - val_acc: 0.7527\n",
      "Epoch 310/1000\n",
      "0s - loss: 0.2662 - acc: 0.7079 - val_loss: 3.7437 - val_acc: 0.7609\n",
      "Epoch 311/1000\n",
      "0s - loss: 0.2607 - acc: 0.6970 - val_loss: 3.7651 - val_acc: 0.7527\n",
      "Epoch 312/1000\n",
      "0s - loss: 0.2614 - acc: 0.7086 - val_loss: 3.4938 - val_acc: 0.8043\n",
      "Epoch 313/1000\n",
      "0s - loss: 0.2583 - acc: 0.7011 - val_loss: 3.5166 - val_acc: 0.7880\n",
      "Epoch 314/1000\n",
      "0s - loss: 0.2565 - acc: 0.7018 - val_loss: 3.5912 - val_acc: 0.7717\n",
      "Epoch 315/1000\n",
      "0s - loss: 0.2924 - acc: 0.6977 - val_loss: 3.5426 - val_acc: 0.7908\n",
      "Epoch 316/1000\n",
      "0s - loss: 0.2733 - acc: 0.7004 - val_loss: 3.5832 - val_acc: 0.7582\n",
      "Epoch 317/1000\n",
      "0s - loss: 0.3058 - acc: 0.6698 - val_loss: 3.6413 - val_acc: 0.7745\n",
      "Epoch 318/1000\n",
      "0s - loss: 0.5367 - acc: 0.6895 - val_loss: 4.6693 - val_acc: 0.6685\n",
      "Epoch 319/1000\n",
      "0s - loss: 1.2829 - acc: 0.5238 - val_loss: 4.4010 - val_acc: 0.6005\n",
      "Epoch 320/1000\n",
      "0s - loss: 0.7794 - acc: 0.5503 - val_loss: 3.4676 - val_acc: 0.6522\n",
      "Epoch 321/1000\n",
      "0s - loss: 0.4476 - acc: 0.6080 - val_loss: 3.6957 - val_acc: 0.7283\n",
      "Epoch 322/1000\n",
      "0s - loss: 0.3955 - acc: 0.6488 - val_loss: 3.8110 - val_acc: 0.7174\n",
      "Epoch 323/1000\n",
      "0s - loss: 0.3271 - acc: 0.6705 - val_loss: 3.8045 - val_acc: 0.7527\n",
      "Epoch 324/1000\n",
      "0s - loss: 0.3028 - acc: 0.6929 - val_loss: 3.8783 - val_acc: 0.7799\n",
      "Epoch 325/1000\n",
      "0s - loss: 0.2927 - acc: 0.7018 - val_loss: 3.4951 - val_acc: 0.7636\n",
      "Epoch 326/1000\n",
      "0s - loss: 0.2814 - acc: 0.7086 - val_loss: 4.0484 - val_acc: 0.7554\n",
      "Epoch 327/1000\n",
      "0s - loss: 0.2725 - acc: 0.6977 - val_loss: 3.8146 - val_acc: 0.7554\n",
      "Epoch 328/1000\n",
      "0s - loss: 0.2514 - acc: 0.7323 - val_loss: 3.6165 - val_acc: 0.7636\n",
      "Epoch 329/1000\n",
      "0s - loss: 0.2574 - acc: 0.7235 - val_loss: 3.8656 - val_acc: 0.7690\n",
      "Epoch 330/1000\n",
      "0s - loss: 0.2530 - acc: 0.7249 - val_loss: 4.0251 - val_acc: 0.7636\n",
      "Epoch 331/1000\n",
      "0s - loss: 0.2842 - acc: 0.6990 - val_loss: 3.5648 - val_acc: 0.7772\n",
      "Epoch 332/1000\n",
      "0s - loss: 0.2853 - acc: 0.6916 - val_loss: 3.5865 - val_acc: 0.7690\n",
      "Epoch 333/1000\n",
      "0s - loss: 0.2476 - acc: 0.7106 - val_loss: 3.7778 - val_acc: 0.7582\n",
      "Epoch 334/1000\n",
      "0s - loss: 0.2720 - acc: 0.7140 - val_loss: 3.2357 - val_acc: 0.7745\n",
      "Epoch 335/1000\n",
      "0s - loss: 0.2424 - acc: 0.7262 - val_loss: 3.9502 - val_acc: 0.7690\n",
      "Epoch 336/1000\n",
      "0s - loss: 0.2379 - acc: 0.7425 - val_loss: 3.4460 - val_acc: 0.7745\n",
      "Epoch 337/1000\n",
      "0s - loss: 0.2687 - acc: 0.7133 - val_loss: 3.8193 - val_acc: 0.7636\n",
      "Epoch 338/1000\n",
      "0s - loss: 0.2369 - acc: 0.7235 - val_loss: 4.0060 - val_acc: 0.7908\n",
      "Epoch 339/1000\n",
      "0s - loss: 0.2467 - acc: 0.7242 - val_loss: 3.5644 - val_acc: 0.8043\n",
      "Epoch 340/1000\n",
      "0s - loss: 0.2415 - acc: 0.7249 - val_loss: 3.6032 - val_acc: 0.7799\n",
      "Epoch 341/1000\n",
      "0s - loss: 0.2522 - acc: 0.7167 - val_loss: 3.5673 - val_acc: 0.7772\n",
      "Epoch 342/1000\n",
      "0s - loss: 0.2344 - acc: 0.7323 - val_loss: 3.7200 - val_acc: 0.7826\n",
      "Epoch 343/1000\n",
      "0s - loss: 0.2353 - acc: 0.7208 - val_loss: 3.8647 - val_acc: 0.7908\n",
      "Epoch 344/1000\n",
      "0s - loss: 0.2412 - acc: 0.7262 - val_loss: 3.6706 - val_acc: 0.7772\n",
      "Epoch 345/1000\n",
      "0s - loss: 0.2417 - acc: 0.7357 - val_loss: 3.4477 - val_acc: 0.7962\n",
      "Epoch 346/1000\n",
      "0s - loss: 0.2194 - acc: 0.7507 - val_loss: 3.9003 - val_acc: 0.7908\n",
      "Epoch 347/1000\n",
      "0s - loss: 0.2419 - acc: 0.7337 - val_loss: 3.6351 - val_acc: 0.7880\n",
      "Epoch 348/1000\n",
      "0s - loss: 0.2476 - acc: 0.7452 - val_loss: 3.6104 - val_acc: 0.8043\n",
      "Epoch 349/1000\n",
      "0s - loss: 0.2523 - acc: 0.7215 - val_loss: 3.5280 - val_acc: 0.7853\n",
      "Epoch 350/1000\n",
      "0s - loss: 0.2422 - acc: 0.7255 - val_loss: 3.2721 - val_acc: 0.8098\n",
      "Epoch 351/1000\n",
      "0s - loss: 0.2354 - acc: 0.7310 - val_loss: 3.5229 - val_acc: 0.7880\n",
      "Epoch 352/1000\n",
      "0s - loss: 0.2348 - acc: 0.7459 - val_loss: 3.4090 - val_acc: 0.7853\n",
      "Epoch 353/1000\n",
      "0s - loss: 0.2225 - acc: 0.7500 - val_loss: 3.4379 - val_acc: 0.7908\n",
      "Epoch 354/1000\n",
      "0s - loss: 0.2217 - acc: 0.7439 - val_loss: 3.4503 - val_acc: 0.7636\n",
      "Epoch 355/1000\n",
      "0s - loss: 0.2280 - acc: 0.7303 - val_loss: 3.3845 - val_acc: 0.7554\n",
      "Epoch 356/1000\n",
      "0s - loss: 0.2087 - acc: 0.7486 - val_loss: 3.6950 - val_acc: 0.7962\n",
      "Epoch 357/1000\n",
      "0s - loss: 0.2105 - acc: 0.7609 - val_loss: 3.4378 - val_acc: 0.7799\n",
      "Epoch 358/1000\n",
      "0s - loss: 0.2609 - acc: 0.7344 - val_loss: 3.7209 - val_acc: 0.8043\n",
      "Epoch 359/1000\n",
      "0s - loss: 0.2535 - acc: 0.7446 - val_loss: 3.8927 - val_acc: 0.7799\n",
      "Epoch 360/1000\n",
      "0s - loss: 0.2934 - acc: 0.7106 - val_loss: 3.6139 - val_acc: 0.7853\n",
      "Epoch 361/1000\n",
      "0s - loss: 0.2154 - acc: 0.7609 - val_loss: 3.2892 - val_acc: 0.8152\n",
      "Epoch 362/1000\n",
      "0s - loss: 0.2302 - acc: 0.7357 - val_loss: 3.5295 - val_acc: 0.7935\n",
      "Epoch 363/1000\n",
      "0s - loss: 0.2175 - acc: 0.7602 - val_loss: 3.0638 - val_acc: 0.8043\n",
      "Epoch 364/1000\n",
      "0s - loss: 0.2344 - acc: 0.7480 - val_loss: 2.8436 - val_acc: 0.7989\n",
      "Epoch 365/1000\n",
      "0s - loss: 0.2224 - acc: 0.7385 - val_loss: 3.5457 - val_acc: 0.8016\n",
      "Epoch 366/1000\n",
      "0s - loss: 0.2202 - acc: 0.7459 - val_loss: 3.5390 - val_acc: 0.7935\n",
      "Epoch 367/1000\n",
      "0s - loss: 0.2243 - acc: 0.7398 - val_loss: 3.4506 - val_acc: 0.8043\n",
      "Epoch 368/1000\n",
      "0s - loss: 0.1999 - acc: 0.7704 - val_loss: 3.8672 - val_acc: 0.8071\n",
      "Epoch 369/1000\n",
      "0s - loss: 0.2174 - acc: 0.7690 - val_loss: 3.6256 - val_acc: 0.7989\n",
      "Epoch 370/1000\n",
      "0s - loss: 0.2232 - acc: 0.7500 - val_loss: 3.6148 - val_acc: 0.8071\n",
      "Epoch 371/1000\n",
      "0s - loss: 0.1932 - acc: 0.7609 - val_loss: 3.7616 - val_acc: 0.8016\n",
      "Epoch 372/1000\n",
      "0s - loss: 0.2220 - acc: 0.7493 - val_loss: 3.6395 - val_acc: 0.7935\n",
      "Epoch 373/1000\n",
      "0s - loss: 0.2162 - acc: 0.7588 - val_loss: 3.4170 - val_acc: 0.8098\n",
      "Epoch 374/1000\n",
      "0s - loss: 0.1970 - acc: 0.7649 - val_loss: 3.5381 - val_acc: 0.8234\n",
      "Epoch 375/1000\n",
      "0s - loss: 0.2179 - acc: 0.7541 - val_loss: 3.1877 - val_acc: 0.8152\n",
      "Epoch 376/1000\n",
      "0s - loss: 0.1972 - acc: 0.7609 - val_loss: 3.1503 - val_acc: 0.8152\n",
      "Epoch 377/1000\n",
      "0s - loss: 0.2066 - acc: 0.7629 - val_loss: 3.4716 - val_acc: 0.8098\n",
      "Epoch 378/1000\n",
      "0s - loss: 0.1919 - acc: 0.7622 - val_loss: 3.5545 - val_acc: 0.8125\n",
      "Epoch 379/1000\n",
      "0s - loss: 0.2092 - acc: 0.7717 - val_loss: 3.4996 - val_acc: 0.7853\n",
      "Epoch 380/1000\n",
      "0s - loss: 0.1956 - acc: 0.7711 - val_loss: 3.1895 - val_acc: 0.7908\n",
      "Epoch 381/1000\n",
      "0s - loss: 0.2052 - acc: 0.7425 - val_loss: 3.3277 - val_acc: 0.8043\n",
      "Epoch 382/1000\n",
      "0s - loss: 0.1968 - acc: 0.7649 - val_loss: 3.3583 - val_acc: 0.7962\n",
      "Epoch 383/1000\n",
      "0s - loss: 0.2251 - acc: 0.7561 - val_loss: 3.2410 - val_acc: 0.8234\n",
      "Epoch 384/1000\n",
      "0s - loss: 0.2039 - acc: 0.7779 - val_loss: 3.4075 - val_acc: 0.8043\n",
      "Epoch 385/1000\n",
      "0s - loss: 0.2024 - acc: 0.7677 - val_loss: 3.1448 - val_acc: 0.8016\n",
      "Epoch 386/1000\n",
      "0s - loss: 0.2066 - acc: 0.7731 - val_loss: 3.1986 - val_acc: 0.7989\n",
      "Epoch 387/1000\n",
      "0s - loss: 0.2728 - acc: 0.7486 - val_loss: 2.9274 - val_acc: 0.7745\n",
      "Epoch 388/1000\n",
      "0s - loss: 0.2258 - acc: 0.7507 - val_loss: 3.0491 - val_acc: 0.7853\n",
      "Epoch 389/1000\n",
      "0s - loss: 0.1949 - acc: 0.7663 - val_loss: 3.3786 - val_acc: 0.7799\n",
      "Epoch 390/1000\n",
      "0s - loss: 0.1996 - acc: 0.7683 - val_loss: 3.2683 - val_acc: 0.8098\n",
      "Epoch 391/1000\n",
      "0s - loss: 0.1800 - acc: 0.7901 - val_loss: 3.4646 - val_acc: 0.8016\n",
      "Epoch 392/1000\n"
     ]
    },
    {
     "name": "stdout",
     "output_type": "stream",
     "text": [
      "0s - loss: 0.2037 - acc: 0.7663 - val_loss: 2.8874 - val_acc: 0.7690\n",
      "Epoch 393/1000\n",
      "0s - loss: 0.1919 - acc: 0.7765 - val_loss: 3.0546 - val_acc: 0.8071\n",
      "Epoch 394/1000\n",
      "0s - loss: 0.1852 - acc: 0.7874 - val_loss: 3.2746 - val_acc: 0.8098\n",
      "Epoch 395/1000\n",
      "0s - loss: 0.1771 - acc: 0.7901 - val_loss: 3.3131 - val_acc: 0.8098\n",
      "Epoch 396/1000\n",
      "0s - loss: 0.1966 - acc: 0.7765 - val_loss: 3.3411 - val_acc: 0.8016\n",
      "Epoch 397/1000\n",
      "0s - loss: 0.1647 - acc: 0.7982 - val_loss: 3.0976 - val_acc: 0.8125\n",
      "Epoch 398/1000\n",
      "0s - loss: 0.1702 - acc: 0.7914 - val_loss: 3.3646 - val_acc: 0.8179\n",
      "Epoch 399/1000\n",
      "0s - loss: 0.1903 - acc: 0.7765 - val_loss: 3.2571 - val_acc: 0.8152\n",
      "Epoch 400/1000\n",
      "0s - loss: 0.3223 - acc: 0.7126 - val_loss: 3.9644 - val_acc: 0.7391\n",
      "Epoch 401/1000\n",
      "0s - loss: 0.3016 - acc: 0.7296 - val_loss: 2.5621 - val_acc: 0.7690\n",
      "Epoch 402/1000\n",
      "0s - loss: 0.2336 - acc: 0.7425 - val_loss: 3.1511 - val_acc: 0.8043\n",
      "Epoch 403/1000\n",
      "0s - loss: 0.2216 - acc: 0.7296 - val_loss: 3.4284 - val_acc: 0.7935\n",
      "Epoch 404/1000\n",
      "0s - loss: 0.1929 - acc: 0.7792 - val_loss: 3.5436 - val_acc: 0.7935\n",
      "Epoch 405/1000\n",
      "0s - loss: 0.1840 - acc: 0.7724 - val_loss: 3.4702 - val_acc: 0.8179\n",
      "Epoch 406/1000\n",
      "0s - loss: 0.1900 - acc: 0.7738 - val_loss: 3.7949 - val_acc: 0.8043\n",
      "Epoch 407/1000\n",
      "0s - loss: 0.1793 - acc: 0.7982 - val_loss: 3.6980 - val_acc: 0.8071\n",
      "Epoch 408/1000\n",
      "0s - loss: 0.1938 - acc: 0.7663 - val_loss: 3.7414 - val_acc: 0.8179\n",
      "Epoch 409/1000\n",
      "0s - loss: 0.1847 - acc: 0.7785 - val_loss: 3.5114 - val_acc: 0.8179\n",
      "Epoch 410/1000\n",
      "0s - loss: 0.1928 - acc: 0.7690 - val_loss: 3.6163 - val_acc: 0.8207\n",
      "Epoch 411/1000\n",
      "0s - loss: 0.2058 - acc: 0.7724 - val_loss: 3.2574 - val_acc: 0.8152\n",
      "Epoch 412/1000\n",
      "0s - loss: 0.2079 - acc: 0.7724 - val_loss: 3.2424 - val_acc: 0.8152\n",
      "Epoch 413/1000\n",
      "0s - loss: 0.1978 - acc: 0.7792 - val_loss: 2.9385 - val_acc: 0.8125\n",
      "Epoch 414/1000\n",
      "0s - loss: 0.1864 - acc: 0.7683 - val_loss: 3.0303 - val_acc: 0.8016\n",
      "Epoch 415/1000\n",
      "0s - loss: 0.1879 - acc: 0.7887 - val_loss: 3.3049 - val_acc: 0.8234\n",
      "Epoch 416/1000\n",
      "0s - loss: 0.1705 - acc: 0.7921 - val_loss: 3.2061 - val_acc: 0.8207\n",
      "Epoch 417/1000\n",
      "0s - loss: 0.1791 - acc: 0.7962 - val_loss: 3.6771 - val_acc: 0.8071\n",
      "Epoch 418/1000\n",
      "0s - loss: 0.1753 - acc: 0.7914 - val_loss: 3.3279 - val_acc: 0.8016\n",
      "Epoch 419/1000\n",
      "0s - loss: 0.2073 - acc: 0.7697 - val_loss: 3.7239 - val_acc: 0.8125\n",
      "Epoch 420/1000\n",
      "0s - loss: 0.1895 - acc: 0.7785 - val_loss: 3.9357 - val_acc: 0.8207\n",
      "Epoch 421/1000\n",
      "0s - loss: 0.1932 - acc: 0.7887 - val_loss: 3.6987 - val_acc: 0.8179\n",
      "Epoch 422/1000\n",
      "0s - loss: 0.2428 - acc: 0.7588 - val_loss: 3.7613 - val_acc: 0.8016\n",
      "Epoch 423/1000\n",
      "0s - loss: 0.1892 - acc: 0.7779 - val_loss: 3.4383 - val_acc: 0.8016\n",
      "Epoch 424/1000\n",
      "0s - loss: 0.2228 - acc: 0.7670 - val_loss: 3.4914 - val_acc: 0.7989\n",
      "Epoch 425/1000\n",
      "0s - loss: 0.2160 - acc: 0.7595 - val_loss: 3.4956 - val_acc: 0.8043\n",
      "Epoch 426/1000\n",
      "0s - loss: 0.2226 - acc: 0.7548 - val_loss: 3.3693 - val_acc: 0.8043\n",
      "Epoch 427/1000\n",
      "0s - loss: 0.1854 - acc: 0.7928 - val_loss: 3.1300 - val_acc: 0.7962\n",
      "Epoch 428/1000\n",
      "0s - loss: 0.1976 - acc: 0.7887 - val_loss: 3.1703 - val_acc: 0.7962\n",
      "Epoch 429/1000\n",
      "0s - loss: 0.1962 - acc: 0.7806 - val_loss: 3.4023 - val_acc: 0.8261\n",
      "Epoch 430/1000\n",
      "0s - loss: 0.1811 - acc: 0.7785 - val_loss: 3.3294 - val_acc: 0.8125\n",
      "Epoch 431/1000\n",
      "0s - loss: 0.1696 - acc: 0.7860 - val_loss: 3.2585 - val_acc: 0.8234\n",
      "Epoch 432/1000\n",
      "0s - loss: 0.1706 - acc: 0.7969 - val_loss: 3.2492 - val_acc: 0.8152\n",
      "Epoch 433/1000\n",
      "0s - loss: 0.1610 - acc: 0.8145 - val_loss: 3.3213 - val_acc: 0.8424\n",
      "Epoch 434/1000\n",
      "0s - loss: 0.1598 - acc: 0.8186 - val_loss: 3.5790 - val_acc: 0.8179\n",
      "Epoch 435/1000\n",
      "0s - loss: 0.1538 - acc: 0.8159 - val_loss: 3.5705 - val_acc: 0.8179\n",
      "Epoch 436/1000\n",
      "0s - loss: 0.1643 - acc: 0.8016 - val_loss: 3.3984 - val_acc: 0.8315\n",
      "Epoch 437/1000\n",
      "0s - loss: 0.1785 - acc: 0.7935 - val_loss: 3.6440 - val_acc: 0.8179\n",
      "Epoch 438/1000\n",
      "0s - loss: 0.1592 - acc: 0.8098 - val_loss: 3.7274 - val_acc: 0.8234\n",
      "Epoch 439/1000\n",
      "0s - loss: 0.1576 - acc: 0.8247 - val_loss: 3.3684 - val_acc: 0.8424\n",
      "Epoch 440/1000\n",
      "0s - loss: 0.1656 - acc: 0.8173 - val_loss: 3.6327 - val_acc: 0.8370\n",
      "Epoch 441/1000\n",
      "0s - loss: 0.1724 - acc: 0.8010 - val_loss: 3.4521 - val_acc: 0.8207\n",
      "Epoch 442/1000\n",
      "0s - loss: 0.1634 - acc: 0.8132 - val_loss: 3.5939 - val_acc: 0.8234\n",
      "Epoch 443/1000\n",
      "0s - loss: 0.1845 - acc: 0.7962 - val_loss: 2.7893 - val_acc: 0.8261\n",
      "Epoch 444/1000\n",
      "0s - loss: 0.1550 - acc: 0.8207 - val_loss: 3.4551 - val_acc: 0.8152\n",
      "Epoch 445/1000\n",
      "0s - loss: 0.1607 - acc: 0.8125 - val_loss: 2.9826 - val_acc: 0.8315\n",
      "Epoch 446/1000\n",
      "0s - loss: 0.1571 - acc: 0.8105 - val_loss: 2.9808 - val_acc: 0.8315\n",
      "Epoch 447/1000\n",
      "0s - loss: 0.1524 - acc: 0.8186 - val_loss: 3.4619 - val_acc: 0.8288\n",
      "Epoch 448/1000\n",
      "0s - loss: 0.1595 - acc: 0.8037 - val_loss: 3.3289 - val_acc: 0.8288\n",
      "Epoch 449/1000\n",
      "0s - loss: 0.1520 - acc: 0.8111 - val_loss: 3.3627 - val_acc: 0.8261\n",
      "Epoch 450/1000\n",
      "0s - loss: 0.1454 - acc: 0.8315 - val_loss: 3.3654 - val_acc: 0.8288\n",
      "Epoch 451/1000\n",
      "0s - loss: 0.1636 - acc: 0.8268 - val_loss: 3.2194 - val_acc: 0.8342\n",
      "Epoch 452/1000\n",
      "0s - loss: 0.1665 - acc: 0.8118 - val_loss: 3.4529 - val_acc: 0.8370\n",
      "Epoch 453/1000\n",
      "0s - loss: 0.1514 - acc: 0.8152 - val_loss: 3.3341 - val_acc: 0.8288\n",
      "Epoch 454/1000\n",
      "0s - loss: 0.1454 - acc: 0.8288 - val_loss: 3.2031 - val_acc: 0.8261\n",
      "Epoch 455/1000\n",
      "0s - loss: 0.1446 - acc: 0.8336 - val_loss: 3.3025 - val_acc: 0.8370\n",
      "Epoch 456/1000\n",
      "0s - loss: 0.1644 - acc: 0.8016 - val_loss: 3.3746 - val_acc: 0.8152\n",
      "Epoch 457/1000\n",
      "0s - loss: 0.1497 - acc: 0.8254 - val_loss: 3.4676 - val_acc: 0.8152\n",
      "Epoch 458/1000\n",
      "0s - loss: 0.1683 - acc: 0.8030 - val_loss: 3.2445 - val_acc: 0.8342\n",
      "Epoch 459/1000\n",
      "0s - loss: 0.1499 - acc: 0.8186 - val_loss: 3.4086 - val_acc: 0.8179\n",
      "Epoch 460/1000\n",
      "0s - loss: 0.1566 - acc: 0.8173 - val_loss: 3.1287 - val_acc: 0.8424\n",
      "Epoch 461/1000\n",
      "0s - loss: 0.1556 - acc: 0.8139 - val_loss: 3.6142 - val_acc: 0.8288\n",
      "Epoch 462/1000\n",
      "0s - loss: 0.1437 - acc: 0.8370 - val_loss: 3.5314 - val_acc: 0.8451\n",
      "Epoch 463/1000\n",
      "0s - loss: 0.1511 - acc: 0.8118 - val_loss: 3.3065 - val_acc: 0.8342\n",
      "Epoch 464/1000\n",
      "0s - loss: 0.1378 - acc: 0.8431 - val_loss: 3.3321 - val_acc: 0.8261\n",
      "Epoch 465/1000\n",
      "0s - loss: 0.1440 - acc: 0.8268 - val_loss: 3.3903 - val_acc: 0.8234\n",
      "Epoch 466/1000\n",
      "0s - loss: 0.1491 - acc: 0.8268 - val_loss: 3.3771 - val_acc: 0.8125\n",
      "Epoch 467/1000\n",
      "0s - loss: 0.1521 - acc: 0.8247 - val_loss: 3.3644 - val_acc: 0.8288\n",
      "Epoch 468/1000\n",
      "0s - loss: 0.1425 - acc: 0.8288 - val_loss: 3.1400 - val_acc: 0.8315\n",
      "Epoch 469/1000\n",
      "0s - loss: 0.1411 - acc: 0.8383 - val_loss: 3.1289 - val_acc: 0.8207\n",
      "Epoch 470/1000\n",
      "0s - loss: 0.1429 - acc: 0.8329 - val_loss: 3.3660 - val_acc: 0.8342\n",
      "Epoch 471/1000\n",
      "0s - loss: 0.1502 - acc: 0.8268 - val_loss: 3.0289 - val_acc: 0.7989\n",
      "Epoch 472/1000\n",
      "0s - loss: 0.1516 - acc: 0.8274 - val_loss: 3.2830 - val_acc: 0.8207\n",
      "Epoch 473/1000\n",
      "0s - loss: 0.1486 - acc: 0.8322 - val_loss: 3.4178 - val_acc: 0.8342\n",
      "Epoch 474/1000\n",
      "0s - loss: 0.1408 - acc: 0.8322 - val_loss: 3.1894 - val_acc: 0.8397\n",
      "Epoch 475/1000\n",
      "0s - loss: 0.1396 - acc: 0.8410 - val_loss: 3.0893 - val_acc: 0.8315\n",
      "Epoch 476/1000\n",
      "0s - loss: 0.1538 - acc: 0.8064 - val_loss: 3.3211 - val_acc: 0.8152\n",
      "Epoch 477/1000\n",
      "0s - loss: 0.1483 - acc: 0.8261 - val_loss: 3.2692 - val_acc: 0.8043\n",
      "Epoch 478/1000\n",
      "0s - loss: 0.1449 - acc: 0.8437 - val_loss: 3.0720 - val_acc: 0.8288\n",
      "Epoch 479/1000\n",
      "0s - loss: 0.1372 - acc: 0.8397 - val_loss: 3.3054 - val_acc: 0.8342\n",
      "Epoch 480/1000\n",
      "0s - loss: 0.1402 - acc: 0.8329 - val_loss: 3.4685 - val_acc: 0.8288\n",
      "Epoch 481/1000\n",
      "0s - loss: 0.1375 - acc: 0.8410 - val_loss: 3.2760 - val_acc: 0.8288\n",
      "Epoch 482/1000\n",
      "0s - loss: 0.1470 - acc: 0.8342 - val_loss: 3.4011 - val_acc: 0.8234\n",
      "Epoch 483/1000\n",
      "0s - loss: 0.1379 - acc: 0.8329 - val_loss: 3.0042 - val_acc: 0.8451\n",
      "Epoch 484/1000\n",
      "0s - loss: 0.1380 - acc: 0.8295 - val_loss: 3.5374 - val_acc: 0.8016\n",
      "Epoch 485/1000\n",
      "0s - loss: 0.1485 - acc: 0.8234 - val_loss: 3.2058 - val_acc: 0.8152\n",
      "Epoch 486/1000\n",
      "0s - loss: 0.1912 - acc: 0.8152 - val_loss: 2.7798 - val_acc: 0.7962\n",
      "Epoch 487/1000\n",
      "0s - loss: 0.2050 - acc: 0.7935 - val_loss: 3.4320 - val_acc: 0.8043\n",
      "Epoch 488/1000\n",
      "0s - loss: 0.1588 - acc: 0.8166 - val_loss: 3.8644 - val_acc: 0.8125\n",
      "Epoch 489/1000\n",
      "0s - loss: 0.1511 - acc: 0.8173 - val_loss: 3.6430 - val_acc: 0.8152\n",
      "Epoch 490/1000\n"
     ]
    },
    {
     "name": "stdout",
     "output_type": "stream",
     "text": [
      "0s - loss: 0.1454 - acc: 0.8207 - val_loss: 3.7435 - val_acc: 0.8315\n",
      "Epoch 491/1000\n",
      "0s - loss: 0.1424 - acc: 0.8288 - val_loss: 3.4749 - val_acc: 0.8315\n",
      "Epoch 492/1000\n",
      "0s - loss: 0.1443 - acc: 0.8370 - val_loss: 3.2231 - val_acc: 0.8397\n",
      "Epoch 493/1000\n",
      "0s - loss: 0.1401 - acc: 0.8281 - val_loss: 3.3814 - val_acc: 0.8478\n",
      "Epoch 494/1000\n",
      "0s - loss: 0.1295 - acc: 0.8437 - val_loss: 3.4860 - val_acc: 0.8315\n",
      "Epoch 495/1000\n",
      "0s - loss: 0.1329 - acc: 0.8390 - val_loss: 3.1132 - val_acc: 0.8478\n",
      "Epoch 496/1000\n",
      "0s - loss: 0.1357 - acc: 0.8370 - val_loss: 3.1887 - val_acc: 0.8424\n",
      "Epoch 497/1000\n",
      "0s - loss: 0.1286 - acc: 0.8601 - val_loss: 3.0005 - val_acc: 0.8424\n",
      "Epoch 498/1000\n",
      "0s - loss: 0.1328 - acc: 0.8437 - val_loss: 3.1468 - val_acc: 0.8207\n",
      "Epoch 499/1000\n",
      "0s - loss: 0.1271 - acc: 0.8614 - val_loss: 3.1384 - val_acc: 0.8424\n",
      "Epoch 500/1000\n",
      "0s - loss: 0.1451 - acc: 0.8288 - val_loss: 3.1074 - val_acc: 0.8342\n",
      "Epoch 501/1000\n",
      "0s - loss: 0.1288 - acc: 0.8519 - val_loss: 2.9806 - val_acc: 0.8234\n",
      "Epoch 502/1000\n",
      "0s - loss: 0.1378 - acc: 0.8505 - val_loss: 3.4686 - val_acc: 0.8370\n",
      "Epoch 503/1000\n",
      "0s - loss: 0.1322 - acc: 0.8363 - val_loss: 3.2267 - val_acc: 0.8315\n",
      "Epoch 504/1000\n",
      "0s - loss: 0.1677 - acc: 0.8261 - val_loss: 3.7198 - val_acc: 0.8125\n",
      "Epoch 505/1000\n",
      "0s - loss: 0.3087 - acc: 0.7867 - val_loss: 3.4499 - val_acc: 0.7255\n",
      "Epoch 506/1000\n",
      "0s - loss: 0.3668 - acc: 0.7405 - val_loss: 5.5987 - val_acc: 0.7310\n",
      "Epoch 507/1000\n",
      "0s - loss: 0.6395 - acc: 0.6848 - val_loss: 4.5607 - val_acc: 0.7364\n",
      "Epoch 508/1000\n",
      "0s - loss: 0.5086 - acc: 0.6685 - val_loss: 3.7499 - val_acc: 0.7364\n",
      "Epoch 509/1000\n",
      "0s - loss: 0.3570 - acc: 0.7167 - val_loss: 4.4964 - val_acc: 0.7799\n",
      "Epoch 510/1000\n",
      "0s - loss: 0.3179 - acc: 0.7500 - val_loss: 4.0028 - val_acc: 0.7826\n",
      "Epoch 511/1000\n",
      "0s - loss: 0.2568 - acc: 0.7412 - val_loss: 3.8920 - val_acc: 0.7772\n",
      "Epoch 512/1000\n",
      "0s - loss: 0.1762 - acc: 0.7982 - val_loss: 4.0541 - val_acc: 0.8125\n",
      "Epoch 513/1000\n",
      "0s - loss: 0.1664 - acc: 0.8186 - val_loss: 3.5469 - val_acc: 0.8125\n",
      "Epoch 514/1000\n",
      "0s - loss: 0.1638 - acc: 0.8200 - val_loss: 3.6509 - val_acc: 0.8207\n",
      "Epoch 515/1000\n",
      "0s - loss: 0.1541 - acc: 0.8118 - val_loss: 3.8206 - val_acc: 0.8261\n",
      "Epoch 516/1000\n",
      "0s - loss: 0.1598 - acc: 0.8240 - val_loss: 3.8407 - val_acc: 0.8288\n",
      "Epoch 517/1000\n",
      "0s - loss: 0.1480 - acc: 0.8268 - val_loss: 3.8824 - val_acc: 0.8098\n",
      "Epoch 518/1000\n",
      "0s - loss: 0.1443 - acc: 0.8247 - val_loss: 3.9570 - val_acc: 0.8098\n",
      "Epoch 519/1000\n",
      "0s - loss: 0.1651 - acc: 0.8383 - val_loss: 3.9116 - val_acc: 0.8016\n",
      "Epoch 520/1000\n",
      "0s - loss: 0.1443 - acc: 0.8342 - val_loss: 3.7169 - val_acc: 0.8370\n",
      "Epoch 521/1000\n",
      "0s - loss: 0.1393 - acc: 0.8370 - val_loss: 3.7797 - val_acc: 0.8315\n",
      "Epoch 522/1000\n",
      "0s - loss: 0.1572 - acc: 0.8200 - val_loss: 3.7841 - val_acc: 0.8179\n",
      "Epoch 523/1000\n",
      "0s - loss: 0.1487 - acc: 0.8288 - val_loss: 3.8147 - val_acc: 0.8234\n",
      "Epoch 524/1000\n",
      "0s - loss: 0.1454 - acc: 0.8471 - val_loss: 3.9126 - val_acc: 0.8288\n",
      "Epoch 525/1000\n",
      "0s - loss: 0.1309 - acc: 0.8465 - val_loss: 3.7591 - val_acc: 0.8288\n",
      "Epoch 526/1000\n",
      "0s - loss: 0.1260 - acc: 0.8533 - val_loss: 3.6252 - val_acc: 0.8424\n",
      "Epoch 527/1000\n",
      "0s - loss: 0.1336 - acc: 0.8505 - val_loss: 3.4911 - val_acc: 0.8370\n",
      "Epoch 528/1000\n",
      "0s - loss: 0.1315 - acc: 0.8492 - val_loss: 3.9280 - val_acc: 0.8261\n",
      "Epoch 529/1000\n",
      "0s - loss: 0.1312 - acc: 0.8356 - val_loss: 3.7902 - val_acc: 0.8207\n",
      "Epoch 530/1000\n",
      "0s - loss: 0.1274 - acc: 0.8533 - val_loss: 3.6636 - val_acc: 0.8424\n",
      "Epoch 531/1000\n",
      "0s - loss: 0.1286 - acc: 0.8533 - val_loss: 3.6598 - val_acc: 0.8261\n",
      "Epoch 532/1000\n",
      "0s - loss: 0.1317 - acc: 0.8641 - val_loss: 3.7993 - val_acc: 0.8370\n",
      "Epoch 533/1000\n",
      "0s - loss: 0.1314 - acc: 0.8458 - val_loss: 3.6555 - val_acc: 0.8424\n",
      "Epoch 534/1000\n",
      "0s - loss: 0.1236 - acc: 0.8505 - val_loss: 3.7373 - val_acc: 0.8342\n",
      "Epoch 535/1000\n",
      "0s - loss: 0.1255 - acc: 0.8546 - val_loss: 3.9641 - val_acc: 0.8288\n",
      "Epoch 536/1000\n",
      "0s - loss: 0.1603 - acc: 0.8261 - val_loss: 3.6621 - val_acc: 0.8207\n",
      "Epoch 537/1000\n",
      "0s - loss: 0.1453 - acc: 0.8505 - val_loss: 3.6226 - val_acc: 0.8288\n",
      "Epoch 538/1000\n",
      "0s - loss: 0.1355 - acc: 0.8492 - val_loss: 3.7201 - val_acc: 0.8261\n",
      "Epoch 539/1000\n",
      "0s - loss: 0.1221 - acc: 0.8478 - val_loss: 3.5803 - val_acc: 0.8288\n",
      "Epoch 540/1000\n",
      "0s - loss: 0.1264 - acc: 0.8539 - val_loss: 3.5106 - val_acc: 0.8342\n",
      "Epoch 541/1000\n",
      "0s - loss: 0.1283 - acc: 0.8546 - val_loss: 3.7187 - val_acc: 0.8315\n",
      "Epoch 542/1000\n",
      "0s - loss: 0.1282 - acc: 0.8621 - val_loss: 3.6600 - val_acc: 0.8179\n",
      "Epoch 543/1000\n",
      "0s - loss: 0.1209 - acc: 0.8648 - val_loss: 3.6696 - val_acc: 0.8261\n",
      "Epoch 544/1000\n",
      "0s - loss: 0.1196 - acc: 0.8655 - val_loss: 3.7296 - val_acc: 0.8342\n",
      "Epoch 545/1000\n",
      "0s - loss: 0.1249 - acc: 0.8628 - val_loss: 3.6983 - val_acc: 0.8288\n",
      "Epoch 546/1000\n",
      "0s - loss: 0.1251 - acc: 0.8655 - val_loss: 3.7993 - val_acc: 0.8315\n",
      "Epoch 547/1000\n",
      "0s - loss: 0.1221 - acc: 0.8526 - val_loss: 3.6535 - val_acc: 0.8315\n",
      "Epoch 548/1000\n",
      "0s - loss: 0.1244 - acc: 0.8573 - val_loss: 3.6542 - val_acc: 0.8315\n",
      "Epoch 549/1000\n",
      "0s - loss: 0.1248 - acc: 0.8546 - val_loss: 3.8269 - val_acc: 0.8424\n",
      "Epoch 550/1000\n",
      "0s - loss: 0.1247 - acc: 0.8573 - val_loss: 3.9902 - val_acc: 0.8288\n",
      "Epoch 551/1000\n",
      "0s - loss: 0.1146 - acc: 0.8635 - val_loss: 3.9440 - val_acc: 0.8397\n",
      "Epoch 552/1000\n",
      "0s - loss: 0.1191 - acc: 0.8668 - val_loss: 3.8753 - val_acc: 0.8370\n",
      "Epoch 553/1000\n",
      "0s - loss: 0.1104 - acc: 0.8832 - val_loss: 3.8084 - val_acc: 0.8342\n",
      "Epoch 554/1000\n",
      "0s - loss: 0.1242 - acc: 0.8573 - val_loss: 3.4542 - val_acc: 0.8451\n",
      "Epoch 555/1000\n",
      "0s - loss: 0.1294 - acc: 0.8668 - val_loss: 3.6462 - val_acc: 0.8342\n",
      "Epoch 556/1000\n",
      "0s - loss: 0.1228 - acc: 0.8587 - val_loss: 3.6430 - val_acc: 0.8478\n",
      "Epoch 557/1000\n",
      "0s - loss: 0.1154 - acc: 0.8641 - val_loss: 3.5918 - val_acc: 0.8370\n",
      "Epoch 558/1000\n",
      "0s - loss: 0.1222 - acc: 0.8614 - val_loss: 3.4785 - val_acc: 0.8315\n",
      "Epoch 559/1000\n",
      "0s - loss: 0.1115 - acc: 0.8716 - val_loss: 3.8096 - val_acc: 0.8370\n",
      "Epoch 560/1000\n",
      "0s - loss: 0.1141 - acc: 0.8702 - val_loss: 3.7839 - val_acc: 0.8261\n",
      "Epoch 561/1000\n",
      "0s - loss: 0.1195 - acc: 0.8601 - val_loss: 3.6421 - val_acc: 0.8315\n",
      "Epoch 562/1000\n",
      "0s - loss: 0.1092 - acc: 0.8845 - val_loss: 3.6807 - val_acc: 0.8261\n",
      "Epoch 563/1000\n",
      "0s - loss: 0.1191 - acc: 0.8716 - val_loss: 3.9255 - val_acc: 0.8342\n",
      "Epoch 564/1000\n",
      "0s - loss: 0.1213 - acc: 0.8655 - val_loss: 3.8043 - val_acc: 0.8342\n",
      "Epoch 565/1000\n",
      "0s - loss: 0.1132 - acc: 0.8777 - val_loss: 3.7075 - val_acc: 0.8315\n",
      "Epoch 566/1000\n",
      "0s - loss: 0.1100 - acc: 0.8736 - val_loss: 3.7257 - val_acc: 0.8315\n",
      "Epoch 567/1000\n",
      "0s - loss: 0.1172 - acc: 0.8607 - val_loss: 3.8576 - val_acc: 0.8315\n",
      "Epoch 568/1000\n",
      "0s - loss: 0.1242 - acc: 0.8682 - val_loss: 3.5910 - val_acc: 0.8370\n",
      "Epoch 569/1000\n",
      "0s - loss: 0.1088 - acc: 0.8750 - val_loss: 3.5171 - val_acc: 0.8424\n",
      "Epoch 570/1000\n",
      "0s - loss: 0.1131 - acc: 0.8648 - val_loss: 3.7351 - val_acc: 0.8288\n",
      "Epoch 571/1000\n",
      "0s - loss: 0.1194 - acc: 0.8662 - val_loss: 3.8928 - val_acc: 0.8315\n",
      "Epoch 572/1000\n",
      "0s - loss: 0.1088 - acc: 0.8777 - val_loss: 3.7554 - val_acc: 0.8370\n",
      "Epoch 573/1000\n",
      "0s - loss: 0.1113 - acc: 0.8716 - val_loss: 3.7414 - val_acc: 0.8505\n",
      "Epoch 574/1000\n",
      "0s - loss: 0.1092 - acc: 0.8913 - val_loss: 3.5645 - val_acc: 0.8342\n",
      "Epoch 575/1000\n",
      "0s - loss: 0.1274 - acc: 0.8628 - val_loss: 3.7421 - val_acc: 0.8288\n",
      "Epoch 576/1000\n",
      "0s - loss: 0.1029 - acc: 0.8750 - val_loss: 3.7168 - val_acc: 0.8342\n",
      "Epoch 577/1000\n",
      "0s - loss: 0.1132 - acc: 0.8689 - val_loss: 3.6611 - val_acc: 0.8370\n",
      "Epoch 578/1000\n",
      "0s - loss: 0.1069 - acc: 0.8784 - val_loss: 3.5343 - val_acc: 0.8505\n",
      "Epoch 579/1000\n",
      "0s - loss: 0.1187 - acc: 0.8614 - val_loss: 3.6325 - val_acc: 0.8342\n",
      "Epoch 580/1000\n",
      "0s - loss: 0.1147 - acc: 0.8730 - val_loss: 3.4539 - val_acc: 0.8505\n",
      "Epoch 581/1000\n",
      "0s - loss: 0.0994 - acc: 0.8893 - val_loss: 3.3007 - val_acc: 0.8505\n",
      "Epoch 582/1000\n",
      "0s - loss: 0.1065 - acc: 0.8709 - val_loss: 3.5640 - val_acc: 0.8397\n",
      "Epoch 583/1000\n",
      "0s - loss: 0.1223 - acc: 0.8764 - val_loss: 3.4370 - val_acc: 0.8451\n",
      "Epoch 584/1000\n",
      "0s - loss: 0.1110 - acc: 0.8804 - val_loss: 3.5160 - val_acc: 0.8288\n",
      "Epoch 585/1000\n",
      "0s - loss: 0.1050 - acc: 0.8872 - val_loss: 3.7617 - val_acc: 0.8370\n",
      "Epoch 586/1000\n",
      "0s - loss: 0.1242 - acc: 0.8505 - val_loss: 3.8265 - val_acc: 0.8315\n",
      "Epoch 587/1000\n",
      "0s - loss: 0.1024 - acc: 0.8940 - val_loss: 3.6962 - val_acc: 0.8288\n",
      "Epoch 588/1000\n",
      "0s - loss: 0.1157 - acc: 0.8730 - val_loss: 3.4743 - val_acc: 0.8342\n",
      "Epoch 589/1000\n"
     ]
    },
    {
     "name": "stdout",
     "output_type": "stream",
     "text": [
      "0s - loss: 0.1178 - acc: 0.8696 - val_loss: 3.8214 - val_acc: 0.8370\n",
      "Epoch 590/1000\n",
      "0s - loss: 0.1119 - acc: 0.8743 - val_loss: 3.8952 - val_acc: 0.8261\n",
      "Epoch 591/1000\n",
      "0s - loss: 0.1132 - acc: 0.8702 - val_loss: 3.4667 - val_acc: 0.8397\n",
      "Epoch 592/1000\n",
      "0s - loss: 0.2056 - acc: 0.8587 - val_loss: 3.4016 - val_acc: 0.7826\n",
      "Epoch 593/1000\n",
      "0s - loss: 0.2486 - acc: 0.7677 - val_loss: 3.6163 - val_acc: 0.7989\n",
      "Epoch 594/1000\n",
      "0s - loss: 0.1654 - acc: 0.8207 - val_loss: 3.2876 - val_acc: 0.8234\n",
      "Epoch 595/1000\n",
      "0s - loss: 0.1316 - acc: 0.8512 - val_loss: 3.4455 - val_acc: 0.8288\n",
      "Epoch 596/1000\n",
      "0s - loss: 0.1581 - acc: 0.8519 - val_loss: 3.5799 - val_acc: 0.8261\n",
      "Epoch 597/1000\n",
      "0s - loss: 0.1316 - acc: 0.8635 - val_loss: 3.0178 - val_acc: 0.8261\n",
      "Epoch 598/1000\n",
      "0s - loss: 0.1222 - acc: 0.8492 - val_loss: 3.2495 - val_acc: 0.8152\n",
      "Epoch 599/1000\n",
      "0s - loss: 0.1161 - acc: 0.8743 - val_loss: 3.3533 - val_acc: 0.8342\n",
      "Epoch 600/1000\n",
      "0s - loss: 0.1573 - acc: 0.8648 - val_loss: 3.4663 - val_acc: 0.7826\n",
      "Epoch 601/1000\n",
      "0s - loss: 0.1850 - acc: 0.8193 - val_loss: 3.3953 - val_acc: 0.7989\n",
      "Epoch 602/1000\n",
      "0s - loss: 0.1420 - acc: 0.8417 - val_loss: 3.6517 - val_acc: 0.8261\n",
      "Epoch 603/1000\n",
      "0s - loss: 0.1305 - acc: 0.8560 - val_loss: 3.5508 - val_acc: 0.8315\n",
      "Epoch 604/1000\n",
      "0s - loss: 0.1258 - acc: 0.8526 - val_loss: 3.4514 - val_acc: 0.8207\n",
      "Epoch 605/1000\n",
      "0s - loss: 0.1086 - acc: 0.8825 - val_loss: 3.4955 - val_acc: 0.8288\n",
      "Epoch 606/1000\n",
      "0s - loss: 0.1240 - acc: 0.8607 - val_loss: 3.3445 - val_acc: 0.8424\n",
      "Epoch 607/1000\n",
      "0s - loss: 0.1173 - acc: 0.8723 - val_loss: 2.9623 - val_acc: 0.8179\n",
      "Epoch 608/1000\n",
      "0s - loss: 0.1501 - acc: 0.8458 - val_loss: 3.0288 - val_acc: 0.7826\n",
      "Epoch 609/1000\n",
      "0s - loss: 0.1417 - acc: 0.8383 - val_loss: 3.2740 - val_acc: 0.8234\n",
      "Epoch 610/1000\n",
      "0s - loss: 0.1183 - acc: 0.8546 - val_loss: 3.4327 - val_acc: 0.8043\n",
      "Epoch 611/1000\n",
      "0s - loss: 0.1072 - acc: 0.8716 - val_loss: 3.2272 - val_acc: 0.8288\n",
      "Epoch 612/1000\n",
      "0s - loss: 0.1083 - acc: 0.8770 - val_loss: 3.2915 - val_acc: 0.8315\n",
      "Epoch 613/1000\n",
      "0s - loss: 0.1022 - acc: 0.8845 - val_loss: 3.4354 - val_acc: 0.8179\n",
      "Epoch 614/1000\n",
      "0s - loss: 0.1191 - acc: 0.8689 - val_loss: 3.3545 - val_acc: 0.8370\n",
      "Epoch 615/1000\n",
      "0s - loss: 0.1195 - acc: 0.8702 - val_loss: 3.3745 - val_acc: 0.8288\n",
      "Epoch 616/1000\n",
      "0s - loss: 0.1159 - acc: 0.8682 - val_loss: 3.0955 - val_acc: 0.8315\n",
      "Epoch 617/1000\n",
      "0s - loss: 0.1148 - acc: 0.8628 - val_loss: 3.1681 - val_acc: 0.8370\n",
      "Epoch 618/1000\n",
      "0s - loss: 0.1033 - acc: 0.8865 - val_loss: 3.1752 - val_acc: 0.8234\n",
      "Epoch 619/1000\n",
      "0s - loss: 0.1049 - acc: 0.8770 - val_loss: 3.4513 - val_acc: 0.8505\n",
      "Epoch 620/1000\n",
      "0s - loss: 0.1002 - acc: 0.8899 - val_loss: 3.5722 - val_acc: 0.8342\n",
      "Epoch 621/1000\n",
      "0s - loss: 0.0990 - acc: 0.8879 - val_loss: 3.6883 - val_acc: 0.8288\n",
      "Epoch 622/1000\n",
      "0s - loss: 0.1068 - acc: 0.8832 - val_loss: 3.6842 - val_acc: 0.8370\n",
      "Epoch 623/1000\n",
      "0s - loss: 0.1092 - acc: 0.8750 - val_loss: 3.6847 - val_acc: 0.8397\n",
      "Epoch 624/1000\n",
      "0s - loss: 0.1066 - acc: 0.8838 - val_loss: 3.5006 - val_acc: 0.8424\n",
      "Epoch 625/1000\n",
      "0s - loss: 0.1064 - acc: 0.8913 - val_loss: 3.3072 - val_acc: 0.8505\n",
      "Epoch 626/1000\n",
      "0s - loss: 0.1072 - acc: 0.8872 - val_loss: 3.1884 - val_acc: 0.8424\n",
      "Epoch 627/1000\n",
      "0s - loss: 0.0960 - acc: 0.8961 - val_loss: 3.3631 - val_acc: 0.8342\n",
      "Epoch 628/1000\n",
      "0s - loss: 0.0980 - acc: 0.8913 - val_loss: 3.0461 - val_acc: 0.8478\n",
      "Epoch 629/1000\n",
      "0s - loss: 0.1151 - acc: 0.8818 - val_loss: 3.1978 - val_acc: 0.8370\n",
      "Epoch 630/1000\n",
      "0s - loss: 0.1034 - acc: 0.8798 - val_loss: 3.6165 - val_acc: 0.8397\n",
      "Epoch 631/1000\n",
      "0s - loss: 0.1071 - acc: 0.8859 - val_loss: 3.2604 - val_acc: 0.8424\n",
      "Epoch 632/1000\n",
      "0s - loss: 0.0992 - acc: 0.8933 - val_loss: 3.7316 - val_acc: 0.8424\n",
      "Epoch 633/1000\n",
      "0s - loss: 0.2756 - acc: 0.8268 - val_loss: 4.1496 - val_acc: 0.6766\n",
      "Epoch 634/1000\n",
      "0s - loss: 0.2357 - acc: 0.7840 - val_loss: 2.5871 - val_acc: 0.8152\n",
      "Epoch 635/1000\n",
      "0s - loss: 0.1557 - acc: 0.8247 - val_loss: 3.1901 - val_acc: 0.8261\n",
      "Epoch 636/1000\n",
      "0s - loss: 0.1231 - acc: 0.8580 - val_loss: 2.9898 - val_acc: 0.8560\n",
      "Epoch 637/1000\n",
      "0s - loss: 0.1271 - acc: 0.8662 - val_loss: 3.4149 - val_acc: 0.8261\n",
      "Epoch 638/1000\n",
      "0s - loss: 0.1181 - acc: 0.8730 - val_loss: 3.2364 - val_acc: 0.8342\n",
      "Epoch 639/1000\n",
      "0s - loss: 0.1046 - acc: 0.8859 - val_loss: 3.1957 - val_acc: 0.8451\n",
      "Epoch 640/1000\n",
      "0s - loss: 0.1018 - acc: 0.8893 - val_loss: 3.1329 - val_acc: 0.8397\n",
      "Epoch 641/1000\n",
      "0s - loss: 0.1101 - acc: 0.8770 - val_loss: 3.2781 - val_acc: 0.8451\n",
      "Epoch 642/1000\n",
      "0s - loss: 0.0999 - acc: 0.8906 - val_loss: 3.7098 - val_acc: 0.8288\n",
      "Epoch 643/1000\n",
      "0s - loss: 0.1080 - acc: 0.8777 - val_loss: 3.5593 - val_acc: 0.8424\n",
      "Epoch 644/1000\n",
      "0s - loss: 0.1008 - acc: 0.8913 - val_loss: 3.1619 - val_acc: 0.8505\n",
      "Epoch 645/1000\n",
      "0s - loss: 0.0953 - acc: 0.8920 - val_loss: 3.2772 - val_acc: 0.8451\n",
      "Epoch 646/1000\n",
      "0s - loss: 0.1057 - acc: 0.8825 - val_loss: 3.1992 - val_acc: 0.8451\n",
      "Epoch 647/1000\n",
      "0s - loss: 0.0906 - acc: 0.8974 - val_loss: 3.1065 - val_acc: 0.8397\n",
      "Epoch 648/1000\n",
      "0s - loss: 0.1014 - acc: 0.8879 - val_loss: 3.2917 - val_acc: 0.8397\n",
      "Epoch 649/1000\n",
      "0s - loss: 0.1015 - acc: 0.8974 - val_loss: 3.4176 - val_acc: 0.8342\n",
      "Epoch 650/1000\n",
      "0s - loss: 0.1053 - acc: 0.8811 - val_loss: 3.1932 - val_acc: 0.8505\n",
      "Epoch 651/1000\n",
      "0s - loss: 0.0956 - acc: 0.8886 - val_loss: 3.2243 - val_acc: 0.8451\n",
      "Epoch 652/1000\n",
      "0s - loss: 0.0952 - acc: 0.8906 - val_loss: 3.4347 - val_acc: 0.8397\n",
      "Epoch 653/1000\n",
      "0s - loss: 0.1002 - acc: 0.8899 - val_loss: 3.4861 - val_acc: 0.8261\n",
      "Epoch 654/1000\n",
      "0s - loss: 0.1106 - acc: 0.8798 - val_loss: 3.3353 - val_acc: 0.8370\n",
      "Epoch 655/1000\n",
      "0s - loss: 0.0936 - acc: 0.9015 - val_loss: 3.3048 - val_acc: 0.8342\n",
      "Epoch 656/1000\n",
      "0s - loss: 0.0984 - acc: 0.8913 - val_loss: 3.5020 - val_acc: 0.8424\n",
      "Epoch 657/1000\n",
      "0s - loss: 0.1010 - acc: 0.8872 - val_loss: 3.3046 - val_acc: 0.8451\n",
      "Epoch 658/1000\n",
      "0s - loss: 0.0989 - acc: 0.9049 - val_loss: 3.2615 - val_acc: 0.8397\n",
      "Epoch 659/1000\n",
      "0s - loss: 0.0984 - acc: 0.8845 - val_loss: 3.4363 - val_acc: 0.8397\n",
      "Epoch 660/1000\n",
      "0s - loss: 0.1002 - acc: 0.8906 - val_loss: 3.4652 - val_acc: 0.8478\n",
      "Epoch 661/1000\n",
      "0s - loss: 0.0927 - acc: 0.8927 - val_loss: 3.4842 - val_acc: 0.8397\n",
      "Epoch 662/1000\n",
      "0s - loss: 0.0930 - acc: 0.9056 - val_loss: 3.5121 - val_acc: 0.8397\n",
      "Epoch 663/1000\n",
      "0s - loss: 0.0918 - acc: 0.9035 - val_loss: 3.4101 - val_acc: 0.8342\n",
      "Epoch 664/1000\n",
      "0s - loss: 0.0980 - acc: 0.8893 - val_loss: 3.5246 - val_acc: 0.8234\n",
      "Epoch 665/1000\n",
      "0s - loss: 0.0955 - acc: 0.8974 - val_loss: 3.2780 - val_acc: 0.8451\n",
      "Epoch 666/1000\n",
      "0s - loss: 0.1214 - acc: 0.8988 - val_loss: 3.5586 - val_acc: 0.8207\n",
      "Epoch 667/1000\n",
      "0s - loss: 0.1023 - acc: 0.8913 - val_loss: 3.8541 - val_acc: 0.8261\n",
      "Epoch 668/1000\n",
      "0s - loss: 0.1052 - acc: 0.8886 - val_loss: 3.7933 - val_acc: 0.8315\n",
      "Epoch 669/1000\n",
      "0s - loss: 0.1382 - acc: 0.8872 - val_loss: 3.3146 - val_acc: 0.8397\n",
      "Epoch 670/1000\n",
      "0s - loss: 0.1348 - acc: 0.8621 - val_loss: 3.1283 - val_acc: 0.8505\n",
      "Epoch 671/1000\n",
      "0s - loss: 0.1177 - acc: 0.8662 - val_loss: 3.4320 - val_acc: 0.8451\n",
      "Epoch 672/1000\n",
      "0s - loss: 0.1132 - acc: 0.8852 - val_loss: 3.6377 - val_acc: 0.8424\n",
      "Epoch 673/1000\n",
      "0s - loss: 0.0903 - acc: 0.9022 - val_loss: 3.6082 - val_acc: 0.8315\n",
      "Epoch 674/1000\n",
      "0s - loss: 0.0932 - acc: 0.8995 - val_loss: 3.6027 - val_acc: 0.8397\n",
      "Epoch 675/1000\n",
      "0s - loss: 0.1152 - acc: 0.8852 - val_loss: 2.7419 - val_acc: 0.8370\n",
      "Epoch 676/1000\n",
      "0s - loss: 0.1586 - acc: 0.8560 - val_loss: 2.9158 - val_acc: 0.8370\n",
      "Epoch 677/1000\n",
      "0s - loss: 0.1372 - acc: 0.8594 - val_loss: 3.5952 - val_acc: 0.8071\n",
      "Epoch 678/1000\n",
      "0s - loss: 0.1321 - acc: 0.8607 - val_loss: 3.2619 - val_acc: 0.8152\n",
      "Epoch 679/1000\n",
      "0s - loss: 0.1509 - acc: 0.8628 - val_loss: 3.3483 - val_acc: 0.8179\n",
      "Epoch 680/1000\n",
      "0s - loss: 0.1199 - acc: 0.8682 - val_loss: 2.9485 - val_acc: 0.8505\n",
      "Epoch 681/1000\n",
      "0s - loss: 0.1199 - acc: 0.8961 - val_loss: 2.8957 - val_acc: 0.8370\n",
      "Epoch 682/1000\n",
      "0s - loss: 0.1081 - acc: 0.8859 - val_loss: 2.7965 - val_acc: 0.8424\n",
      "Epoch 683/1000\n",
      "0s - loss: 0.1078 - acc: 0.8784 - val_loss: 3.0566 - val_acc: 0.8370\n",
      "Epoch 684/1000\n",
      "0s - loss: 0.1205 - acc: 0.8770 - val_loss: 3.2385 - val_acc: 0.8288\n",
      "Epoch 685/1000\n",
      "0s - loss: 0.1722 - acc: 0.8675 - val_loss: 3.1723 - val_acc: 0.8179\n",
      "Epoch 686/1000\n",
      "0s - loss: 0.1003 - acc: 0.8933 - val_loss: 3.0733 - val_acc: 0.8342\n",
      "Epoch 687/1000\n"
     ]
    },
    {
     "name": "stdout",
     "output_type": "stream",
     "text": [
      "0s - loss: 0.1070 - acc: 0.8736 - val_loss: 3.0228 - val_acc: 0.8370\n",
      "Epoch 688/1000\n",
      "0s - loss: 0.0959 - acc: 0.8974 - val_loss: 3.0684 - val_acc: 0.8234\n",
      "Epoch 689/1000\n",
      "0s - loss: 0.0955 - acc: 0.8988 - val_loss: 3.3814 - val_acc: 0.8370\n",
      "Epoch 690/1000\n",
      "0s - loss: 0.1011 - acc: 0.9049 - val_loss: 3.4558 - val_acc: 0.8288\n",
      "Epoch 691/1000\n",
      "0s - loss: 0.0963 - acc: 0.8899 - val_loss: 3.3512 - val_acc: 0.8342\n",
      "Epoch 692/1000\n",
      "0s - loss: 0.0919 - acc: 0.9137 - val_loss: 3.4002 - val_acc: 0.8397\n",
      "Epoch 693/1000\n",
      "0s - loss: 0.0938 - acc: 0.9008 - val_loss: 3.1073 - val_acc: 0.8424\n",
      "Epoch 694/1000\n",
      "0s - loss: 0.1005 - acc: 0.8906 - val_loss: 3.3571 - val_acc: 0.8261\n",
      "Epoch 695/1000\n",
      "0s - loss: 0.0848 - acc: 0.9158 - val_loss: 3.0707 - val_acc: 0.8478\n",
      "Epoch 696/1000\n",
      "0s - loss: 0.0894 - acc: 0.9049 - val_loss: 2.8904 - val_acc: 0.8478\n",
      "Epoch 697/1000\n",
      "0s - loss: 0.0927 - acc: 0.9090 - val_loss: 2.9560 - val_acc: 0.8424\n",
      "Epoch 698/1000\n",
      "0s - loss: 0.0908 - acc: 0.9049 - val_loss: 3.0239 - val_acc: 0.8370\n",
      "Epoch 699/1000\n",
      "0s - loss: 0.0937 - acc: 0.8981 - val_loss: 3.1439 - val_acc: 0.8451\n",
      "Epoch 700/1000\n",
      "0s - loss: 0.0850 - acc: 0.9103 - val_loss: 3.1330 - val_acc: 0.8505\n",
      "Epoch 701/1000\n",
      "0s - loss: 0.0876 - acc: 0.9117 - val_loss: 3.0517 - val_acc: 0.8478\n",
      "Epoch 702/1000\n",
      "0s - loss: 0.0930 - acc: 0.8879 - val_loss: 3.2680 - val_acc: 0.8370\n",
      "Epoch 703/1000\n",
      "0s - loss: 0.0950 - acc: 0.9001 - val_loss: 3.2627 - val_acc: 0.8451\n",
      "Epoch 704/1000\n",
      "0s - loss: 0.0968 - acc: 0.8927 - val_loss: 3.1084 - val_acc: 0.8505\n",
      "Epoch 705/1000\n",
      "0s - loss: 0.0837 - acc: 0.9103 - val_loss: 2.9262 - val_acc: 0.8505\n",
      "Epoch 706/1000\n",
      "0s - loss: 0.0876 - acc: 0.9056 - val_loss: 3.0326 - val_acc: 0.8424\n",
      "Epoch 707/1000\n",
      "0s - loss: 0.0880 - acc: 0.9117 - val_loss: 3.0939 - val_acc: 0.8424\n",
      "Epoch 708/1000\n",
      "0s - loss: 0.0833 - acc: 0.9117 - val_loss: 3.1309 - val_acc: 0.8478\n",
      "Epoch 709/1000\n",
      "0s - loss: 0.0902 - acc: 0.9062 - val_loss: 3.0468 - val_acc: 0.8397\n",
      "Epoch 710/1000\n",
      "0s - loss: 0.0853 - acc: 0.9110 - val_loss: 2.9986 - val_acc: 0.8370\n",
      "Epoch 711/1000\n",
      "0s - loss: 0.0940 - acc: 0.8940 - val_loss: 3.0417 - val_acc: 0.8451\n",
      "Epoch 712/1000\n",
      "0s - loss: 0.0852 - acc: 0.9171 - val_loss: 2.9514 - val_acc: 0.8505\n",
      "Epoch 713/1000\n",
      "0s - loss: 0.0896 - acc: 0.9035 - val_loss: 3.1271 - val_acc: 0.8478\n",
      "Epoch 714/1000\n",
      "0s - loss: 0.0859 - acc: 0.9117 - val_loss: 3.0544 - val_acc: 0.8424\n",
      "Epoch 715/1000\n",
      "0s - loss: 0.0843 - acc: 0.9158 - val_loss: 2.9241 - val_acc: 0.8560\n",
      "Epoch 716/1000\n",
      "0s - loss: 0.0834 - acc: 0.9226 - val_loss: 2.9444 - val_acc: 0.8478\n",
      "Epoch 717/1000\n",
      "0s - loss: 0.0847 - acc: 0.9124 - val_loss: 3.1390 - val_acc: 0.8424\n",
      "Epoch 718/1000\n",
      "0s - loss: 0.0947 - acc: 0.8913 - val_loss: 2.8388 - val_acc: 0.8424\n",
      "Epoch 719/1000\n",
      "0s - loss: 0.0952 - acc: 0.9008 - val_loss: 3.1327 - val_acc: 0.8533\n",
      "Epoch 720/1000\n",
      "0s - loss: 0.0905 - acc: 0.9056 - val_loss: 3.1327 - val_acc: 0.8370\n",
      "Epoch 721/1000\n",
      "0s - loss: 0.0839 - acc: 0.9137 - val_loss: 3.1189 - val_acc: 0.8424\n",
      "Epoch 722/1000\n",
      "0s - loss: 0.0876 - acc: 0.9022 - val_loss: 2.8126 - val_acc: 0.8451\n",
      "Epoch 723/1000\n",
      "0s - loss: 0.0889 - acc: 0.9049 - val_loss: 3.1331 - val_acc: 0.8207\n",
      "Epoch 724/1000\n",
      "0s - loss: 0.0966 - acc: 0.8954 - val_loss: 3.2845 - val_acc: 0.8397\n",
      "Epoch 725/1000\n",
      "0s - loss: 0.0841 - acc: 0.9178 - val_loss: 3.0182 - val_acc: 0.8478\n",
      "Epoch 726/1000\n",
      "0s - loss: 0.7893 - acc: 0.8071 - val_loss: 4.4848 - val_acc: 0.7147\n",
      "Epoch 727/1000\n",
      "0s - loss: 0.6966 - acc: 0.6821 - val_loss: 3.4777 - val_acc: 0.7310\n",
      "Epoch 728/1000\n",
      "0s - loss: 0.6460 - acc: 0.6882 - val_loss: 3.8045 - val_acc: 0.6929\n",
      "Epoch 729/1000\n",
      "0s - loss: 0.3133 - acc: 0.7255 - val_loss: 3.1016 - val_acc: 0.7799\n",
      "Epoch 730/1000\n",
      "0s - loss: 0.2196 - acc: 0.7955 - val_loss: 3.4498 - val_acc: 0.7989\n",
      "Epoch 731/1000\n",
      "0s - loss: 0.1965 - acc: 0.8105 - val_loss: 3.1171 - val_acc: 0.8125\n",
      "Epoch 732/1000\n",
      "0s - loss: 0.1850 - acc: 0.8077 - val_loss: 3.2597 - val_acc: 0.8043\n",
      "Epoch 733/1000\n",
      "0s - loss: 0.1454 - acc: 0.8451 - val_loss: 2.8307 - val_acc: 0.8016\n",
      "Epoch 734/1000\n",
      "0s - loss: 0.1628 - acc: 0.8370 - val_loss: 2.9370 - val_acc: 0.8179\n",
      "Epoch 735/1000\n",
      "0s - loss: 0.1327 - acc: 0.8526 - val_loss: 2.9267 - val_acc: 0.8125\n",
      "Epoch 736/1000\n",
      "0s - loss: 0.1312 - acc: 0.8594 - val_loss: 3.0980 - val_acc: 0.8207\n",
      "Epoch 737/1000\n",
      "0s - loss: 0.1202 - acc: 0.8641 - val_loss: 3.3693 - val_acc: 0.8179\n",
      "Epoch 738/1000\n",
      "0s - loss: 0.1326 - acc: 0.8505 - val_loss: 3.1539 - val_acc: 0.8179\n",
      "Epoch 739/1000\n",
      "0s - loss: 0.3077 - acc: 0.8777 - val_loss: 3.0447 - val_acc: 0.8207\n",
      "Epoch 740/1000\n",
      "0s - loss: 0.1344 - acc: 0.8587 - val_loss: 3.1458 - val_acc: 0.8234\n",
      "Epoch 741/1000\n",
      "0s - loss: 0.1402 - acc: 0.8560 - val_loss: 3.1298 - val_acc: 0.8098\n",
      "Epoch 742/1000\n",
      "0s - loss: 0.1280 - acc: 0.8560 - val_loss: 3.0498 - val_acc: 0.8207\n",
      "Epoch 743/1000\n",
      "0s - loss: 0.1055 - acc: 0.8818 - val_loss: 3.1593 - val_acc: 0.8370\n",
      "Epoch 744/1000\n",
      "0s - loss: 0.1089 - acc: 0.8777 - val_loss: 3.0699 - val_acc: 0.8342\n",
      "Epoch 745/1000\n",
      "0s - loss: 0.1107 - acc: 0.8736 - val_loss: 3.1197 - val_acc: 0.8315\n",
      "Epoch 746/1000\n",
      "0s - loss: 0.1080 - acc: 0.8879 - val_loss: 3.0363 - val_acc: 0.8288\n",
      "Epoch 747/1000\n",
      "0s - loss: 0.1038 - acc: 0.8872 - val_loss: 3.1657 - val_acc: 0.8315\n",
      "Epoch 748/1000\n",
      "0s - loss: 0.0941 - acc: 0.9008 - val_loss: 3.0995 - val_acc: 0.8397\n",
      "Epoch 749/1000\n",
      "0s - loss: 0.1031 - acc: 0.8865 - val_loss: 3.1669 - val_acc: 0.8342\n",
      "Epoch 750/1000\n",
      "0s - loss: 0.1038 - acc: 0.8899 - val_loss: 3.1938 - val_acc: 0.8315\n",
      "Epoch 751/1000\n",
      "0s - loss: 0.1044 - acc: 0.8920 - val_loss: 3.1818 - val_acc: 0.8315\n",
      "Epoch 752/1000\n",
      "0s - loss: 0.0985 - acc: 0.8933 - val_loss: 3.0341 - val_acc: 0.8315\n",
      "Epoch 753/1000\n",
      "0s - loss: 0.1043 - acc: 0.8920 - val_loss: 3.0720 - val_acc: 0.8397\n",
      "Epoch 754/1000\n",
      "0s - loss: 0.1012 - acc: 0.8927 - val_loss: 3.0542 - val_acc: 0.8397\n",
      "Epoch 755/1000\n",
      "0s - loss: 0.1092 - acc: 0.8791 - val_loss: 3.1391 - val_acc: 0.8424\n",
      "Epoch 756/1000\n",
      "0s - loss: 0.1037 - acc: 0.8865 - val_loss: 3.1057 - val_acc: 0.8370\n",
      "Epoch 757/1000\n",
      "0s - loss: 0.1090 - acc: 0.8852 - val_loss: 3.1215 - val_acc: 0.8261\n",
      "Epoch 758/1000\n",
      "0s - loss: 0.0982 - acc: 0.8967 - val_loss: 3.0437 - val_acc: 0.8342\n",
      "Epoch 759/1000\n",
      "0s - loss: 0.0954 - acc: 0.8838 - val_loss: 3.0413 - val_acc: 0.8370\n",
      "Epoch 760/1000\n",
      "0s - loss: 0.1068 - acc: 0.8865 - val_loss: 3.0408 - val_acc: 0.8370\n",
      "Epoch 761/1000\n",
      "0s - loss: 0.0923 - acc: 0.9001 - val_loss: 3.0325 - val_acc: 0.8397\n",
      "Epoch 762/1000\n",
      "0s - loss: 0.0940 - acc: 0.8967 - val_loss: 3.0901 - val_acc: 0.8342\n",
      "Epoch 763/1000\n",
      "0s - loss: 0.0980 - acc: 0.8872 - val_loss: 3.0438 - val_acc: 0.8424\n",
      "Epoch 764/1000\n",
      "0s - loss: 0.0999 - acc: 0.8981 - val_loss: 2.9355 - val_acc: 0.8342\n",
      "Epoch 765/1000\n",
      "0s - loss: 0.0975 - acc: 0.8954 - val_loss: 3.0825 - val_acc: 0.8370\n",
      "Epoch 766/1000\n",
      "0s - loss: 0.0907 - acc: 0.9083 - val_loss: 3.1123 - val_acc: 0.8397\n",
      "Epoch 767/1000\n",
      "0s - loss: 0.0932 - acc: 0.9008 - val_loss: 3.0185 - val_acc: 0.8370\n",
      "Epoch 768/1000\n",
      "0s - loss: 0.0887 - acc: 0.9069 - val_loss: 3.0968 - val_acc: 0.8397\n",
      "Epoch 769/1000\n",
      "0s - loss: 0.0907 - acc: 0.9096 - val_loss: 3.1813 - val_acc: 0.8424\n",
      "Epoch 770/1000\n",
      "0s - loss: 0.0814 - acc: 0.9205 - val_loss: 3.1364 - val_acc: 0.8342\n",
      "Epoch 771/1000\n",
      "0s - loss: 0.0954 - acc: 0.8981 - val_loss: 3.1662 - val_acc: 0.8342\n",
      "Epoch 772/1000\n",
      "0s - loss: 0.0956 - acc: 0.9022 - val_loss: 3.0496 - val_acc: 0.8478\n",
      "Epoch 773/1000\n",
      "0s - loss: 0.0963 - acc: 0.8906 - val_loss: 3.1426 - val_acc: 0.8397\n",
      "Epoch 774/1000\n",
      "0s - loss: 0.0881 - acc: 0.9117 - val_loss: 2.9185 - val_acc: 0.8424\n",
      "Epoch 775/1000\n",
      "0s - loss: 0.0793 - acc: 0.9260 - val_loss: 3.0473 - val_acc: 0.8397\n",
      "Epoch 776/1000\n",
      "0s - loss: 0.0820 - acc: 0.9192 - val_loss: 2.9622 - val_acc: 0.8424\n",
      "Epoch 777/1000\n",
      "0s - loss: 0.0923 - acc: 0.8988 - val_loss: 2.9897 - val_acc: 0.8478\n",
      "Epoch 778/1000\n",
      "0s - loss: 0.0839 - acc: 0.9137 - val_loss: 3.1830 - val_acc: 0.8424\n",
      "Epoch 779/1000\n",
      "0s - loss: 0.0870 - acc: 0.9056 - val_loss: 3.0286 - val_acc: 0.8342\n",
      "Epoch 780/1000\n",
      "0s - loss: 0.0865 - acc: 0.9151 - val_loss: 3.1042 - val_acc: 0.8397\n",
      "Epoch 781/1000\n",
      "0s - loss: 0.0845 - acc: 0.9151 - val_loss: 3.1648 - val_acc: 0.8478\n",
      "Epoch 782/1000\n",
      "0s - loss: 0.0875 - acc: 0.9205 - val_loss: 3.1404 - val_acc: 0.8478\n",
      "Epoch 783/1000\n",
      "0s - loss: 0.0884 - acc: 0.9096 - val_loss: 3.0286 - val_acc: 0.8478\n",
      "Epoch 784/1000\n",
      "0s - loss: 0.0825 - acc: 0.9042 - val_loss: 2.9931 - val_acc: 0.8451\n",
      "Epoch 785/1000\n"
     ]
    },
    {
     "name": "stdout",
     "output_type": "stream",
     "text": [
      "0s - loss: 0.0917 - acc: 0.9022 - val_loss: 2.8258 - val_acc: 0.8478\n",
      "Epoch 786/1000\n",
      "0s - loss: 0.0856 - acc: 0.9062 - val_loss: 2.9164 - val_acc: 0.8505\n",
      "Epoch 787/1000\n",
      "0s - loss: 0.0844 - acc: 0.9110 - val_loss: 2.9401 - val_acc: 0.8288\n",
      "Epoch 788/1000\n",
      "0s - loss: 0.0897 - acc: 0.9130 - val_loss: 3.0732 - val_acc: 0.8370\n",
      "Epoch 789/1000\n",
      "0s - loss: 0.0839 - acc: 0.9076 - val_loss: 2.9270 - val_acc: 0.8397\n",
      "Epoch 790/1000\n",
      "0s - loss: 0.0782 - acc: 0.9219 - val_loss: 2.8804 - val_acc: 0.8505\n",
      "Epoch 791/1000\n",
      "0s - loss: 0.0846 - acc: 0.9219 - val_loss: 2.9273 - val_acc: 0.8533\n",
      "Epoch 792/1000\n",
      "0s - loss: 0.0821 - acc: 0.9083 - val_loss: 2.9438 - val_acc: 0.8533\n",
      "Epoch 793/1000\n",
      "0s - loss: 0.0810 - acc: 0.9124 - val_loss: 2.8776 - val_acc: 0.8614\n",
      "Epoch 794/1000\n",
      "0s - loss: 0.0842 - acc: 0.9144 - val_loss: 3.0327 - val_acc: 0.8533\n",
      "Epoch 795/1000\n",
      "0s - loss: 0.0849 - acc: 0.9124 - val_loss: 3.0357 - val_acc: 0.8451\n",
      "Epoch 796/1000\n",
      "0s - loss: 0.0823 - acc: 0.9185 - val_loss: 3.0105 - val_acc: 0.8451\n",
      "Epoch 797/1000\n",
      "0s - loss: 0.0784 - acc: 0.9314 - val_loss: 2.9586 - val_acc: 0.8370\n",
      "Epoch 798/1000\n",
      "0s - loss: 0.0791 - acc: 0.9212 - val_loss: 3.0365 - val_acc: 0.8478\n",
      "Epoch 799/1000\n",
      "0s - loss: 0.0835 - acc: 0.9151 - val_loss: 3.0724 - val_acc: 0.8424\n",
      "Epoch 800/1000\n",
      "0s - loss: 0.0794 - acc: 0.9158 - val_loss: 2.9295 - val_acc: 0.8315\n",
      "Epoch 801/1000\n",
      "0s - loss: 0.0877 - acc: 0.8995 - val_loss: 3.1245 - val_acc: 0.8315\n",
      "Epoch 802/1000\n",
      "0s - loss: 0.0792 - acc: 0.9219 - val_loss: 2.9490 - val_acc: 0.8451\n",
      "Epoch 803/1000\n",
      "0s - loss: 0.0739 - acc: 0.9273 - val_loss: 3.0995 - val_acc: 0.8505\n",
      "Epoch 804/1000\n",
      "0s - loss: 0.0849 - acc: 0.9158 - val_loss: 3.1838 - val_acc: 0.8478\n",
      "Epoch 805/1000\n",
      "0s - loss: 0.0786 - acc: 0.9232 - val_loss: 3.1040 - val_acc: 0.8478\n",
      "Epoch 806/1000\n",
      "0s - loss: 0.0947 - acc: 0.9110 - val_loss: 2.8479 - val_acc: 0.8451\n",
      "Epoch 807/1000\n",
      "0s - loss: 0.0794 - acc: 0.9192 - val_loss: 3.0952 - val_acc: 0.8424\n",
      "Epoch 808/1000\n",
      "0s - loss: 0.0794 - acc: 0.9185 - val_loss: 3.0577 - val_acc: 0.8587\n",
      "Epoch 809/1000\n",
      "0s - loss: 0.0745 - acc: 0.9273 - val_loss: 3.0989 - val_acc: 0.8533\n",
      "Epoch 810/1000\n",
      "0s - loss: 0.0802 - acc: 0.9226 - val_loss: 3.1161 - val_acc: 0.8533\n",
      "Epoch 811/1000\n",
      "0s - loss: 0.0781 - acc: 0.9260 - val_loss: 3.0343 - val_acc: 0.8424\n",
      "Epoch 812/1000\n",
      "0s - loss: 0.0837 - acc: 0.9158 - val_loss: 3.2542 - val_acc: 0.8370\n",
      "Epoch 813/1000\n",
      "0s - loss: 0.0822 - acc: 0.9239 - val_loss: 3.0626 - val_acc: 0.8451\n",
      "Epoch 814/1000\n",
      "0s - loss: 0.0781 - acc: 0.9205 - val_loss: 3.1444 - val_acc: 0.8478\n",
      "Epoch 815/1000\n",
      "0s - loss: 0.0749 - acc: 0.9232 - val_loss: 2.9433 - val_acc: 0.8424\n",
      "Epoch 816/1000\n",
      "0s - loss: 0.0795 - acc: 0.9171 - val_loss: 3.0605 - val_acc: 0.8451\n",
      "Epoch 817/1000\n",
      "0s - loss: 0.0832 - acc: 0.9151 - val_loss: 3.1363 - val_acc: 0.8424\n",
      "Epoch 818/1000\n",
      "0s - loss: 0.0723 - acc: 0.9395 - val_loss: 3.0811 - val_acc: 0.8505\n",
      "Epoch 819/1000\n",
      "0s - loss: 0.0704 - acc: 0.9273 - val_loss: 3.0952 - val_acc: 0.8397\n",
      "Epoch 820/1000\n",
      "0s - loss: 0.0811 - acc: 0.9158 - val_loss: 3.0645 - val_acc: 0.8424\n",
      "Epoch 821/1000\n",
      "0s - loss: 0.0770 - acc: 0.9219 - val_loss: 3.0781 - val_acc: 0.8451\n",
      "Epoch 822/1000\n",
      "0s - loss: 0.0817 - acc: 0.9164 - val_loss: 3.2021 - val_acc: 0.8424\n",
      "Epoch 823/1000\n",
      "0s - loss: 0.0834 - acc: 0.9144 - val_loss: 3.1356 - val_acc: 0.8451\n",
      "Epoch 824/1000\n",
      "0s - loss: 0.0741 - acc: 0.9375 - val_loss: 3.1160 - val_acc: 0.8533\n",
      "Epoch 825/1000\n",
      "0s - loss: 0.0687 - acc: 0.9334 - val_loss: 3.0716 - val_acc: 0.8451\n",
      "Epoch 826/1000\n",
      "0s - loss: 0.0807 - acc: 0.9171 - val_loss: 3.0721 - val_acc: 0.8451\n",
      "Epoch 827/1000\n",
      "0s - loss: 0.0780 - acc: 0.9205 - val_loss: 3.0959 - val_acc: 0.8505\n",
      "Epoch 828/1000\n",
      "0s - loss: 0.0780 - acc: 0.9287 - val_loss: 2.9847 - val_acc: 0.8424\n",
      "Epoch 829/1000\n",
      "0s - loss: 0.0938 - acc: 0.9110 - val_loss: 2.9760 - val_acc: 0.8424\n",
      "Epoch 830/1000\n",
      "0s - loss: 0.0784 - acc: 0.9110 - val_loss: 2.9538 - val_acc: 0.8478\n",
      "Epoch 831/1000\n",
      "0s - loss: 0.0840 - acc: 0.9130 - val_loss: 3.0042 - val_acc: 0.8533\n",
      "Epoch 832/1000\n",
      "0s - loss: 0.0723 - acc: 0.9321 - val_loss: 3.1037 - val_acc: 0.8397\n",
      "Epoch 833/1000\n",
      "0s - loss: 0.0856 - acc: 0.9198 - val_loss: 2.8886 - val_acc: 0.8478\n",
      "Epoch 834/1000\n",
      "0s - loss: 0.0762 - acc: 0.9300 - val_loss: 3.1585 - val_acc: 0.8451\n",
      "Epoch 835/1000\n",
      "0s - loss: 0.0774 - acc: 0.9226 - val_loss: 3.1556 - val_acc: 0.8424\n",
      "Epoch 836/1000\n",
      "0s - loss: 0.0835 - acc: 0.9144 - val_loss: 3.0257 - val_acc: 0.8451\n",
      "Epoch 837/1000\n",
      "0s - loss: 0.0879 - acc: 0.9042 - val_loss: 2.9056 - val_acc: 0.8451\n",
      "Epoch 838/1000\n",
      "0s - loss: 0.0797 - acc: 0.9205 - val_loss: 3.0308 - val_acc: 0.8478\n",
      "Epoch 839/1000\n",
      "0s - loss: 0.0792 - acc: 0.9171 - val_loss: 2.9930 - val_acc: 0.8587\n",
      "Epoch 840/1000\n",
      "0s - loss: 0.0728 - acc: 0.9212 - val_loss: 3.0289 - val_acc: 0.8478\n",
      "Epoch 841/1000\n",
      "0s - loss: 0.0732 - acc: 0.9239 - val_loss: 3.0457 - val_acc: 0.8370\n",
      "Epoch 842/1000\n",
      "0s - loss: 0.0802 - acc: 0.9232 - val_loss: 2.9987 - val_acc: 0.8587\n",
      "Epoch 843/1000\n",
      "0s - loss: 0.0692 - acc: 0.9314 - val_loss: 2.9141 - val_acc: 0.8505\n",
      "Epoch 844/1000\n",
      "0s - loss: 0.0788 - acc: 0.9158 - val_loss: 2.9021 - val_acc: 0.8587\n",
      "Epoch 845/1000\n",
      "0s - loss: 0.0831 - acc: 0.9219 - val_loss: 2.8983 - val_acc: 0.8614\n",
      "Epoch 846/1000\n",
      "0s - loss: 0.0734 - acc: 0.9361 - val_loss: 2.8569 - val_acc: 0.8533\n",
      "Epoch 847/1000\n",
      "0s - loss: 0.0766 - acc: 0.9192 - val_loss: 2.6879 - val_acc: 0.8478\n",
      "Epoch 848/1000\n",
      "0s - loss: 0.0812 - acc: 0.9239 - val_loss: 3.2151 - val_acc: 0.8342\n",
      "Epoch 849/1000\n",
      "0s - loss: 0.1123 - acc: 0.8974 - val_loss: 3.4034 - val_acc: 0.8234\n",
      "Epoch 850/1000\n",
      "0s - loss: 0.0949 - acc: 0.9008 - val_loss: 2.6847 - val_acc: 0.8370\n",
      "Epoch 851/1000\n",
      "0s - loss: 0.0862 - acc: 0.9110 - val_loss: 3.1216 - val_acc: 0.8397\n",
      "Epoch 852/1000\n",
      "0s - loss: 0.0792 - acc: 0.9219 - val_loss: 2.9596 - val_acc: 0.8478\n",
      "Epoch 853/1000\n",
      "0s - loss: 0.0744 - acc: 0.9293 - val_loss: 3.0995 - val_acc: 0.8451\n",
      "Epoch 854/1000\n",
      "0s - loss: 0.0739 - acc: 0.9293 - val_loss: 3.0260 - val_acc: 0.8451\n",
      "Epoch 855/1000\n",
      "0s - loss: 0.0676 - acc: 0.9334 - val_loss: 3.1065 - val_acc: 0.8342\n",
      "Epoch 856/1000\n",
      "0s - loss: 0.0771 - acc: 0.9198 - val_loss: 3.0060 - val_acc: 0.8451\n",
      "Epoch 857/1000\n",
      "0s - loss: 0.0755 - acc: 0.9260 - val_loss: 3.0571 - val_acc: 0.8560\n",
      "Epoch 858/1000\n",
      "0s - loss: 0.0699 - acc: 0.9389 - val_loss: 3.0322 - val_acc: 0.8533\n",
      "Epoch 859/1000\n",
      "0s - loss: 0.0845 - acc: 0.9130 - val_loss: 2.9454 - val_acc: 0.8478\n",
      "Epoch 860/1000\n",
      "0s - loss: 0.0755 - acc: 0.9293 - val_loss: 3.0485 - val_acc: 0.8533\n",
      "Epoch 861/1000\n",
      "0s - loss: 0.0663 - acc: 0.9355 - val_loss: 3.0338 - val_acc: 0.8451\n",
      "Epoch 862/1000\n",
      "0s - loss: 0.0696 - acc: 0.9307 - val_loss: 3.0166 - val_acc: 0.8451\n",
      "Epoch 863/1000\n",
      "0s - loss: 0.0751 - acc: 0.9226 - val_loss: 2.8907 - val_acc: 0.8505\n",
      "Epoch 864/1000\n",
      "0s - loss: 0.0764 - acc: 0.9327 - val_loss: 2.7374 - val_acc: 0.8641\n",
      "Epoch 865/1000\n",
      "0s - loss: 0.0812 - acc: 0.9198 - val_loss: 3.1432 - val_acc: 0.8505\n",
      "Epoch 866/1000\n",
      "0s - loss: 0.0789 - acc: 0.9219 - val_loss: 3.1386 - val_acc: 0.8505\n",
      "Epoch 867/1000\n",
      "0s - loss: 0.0816 - acc: 0.9185 - val_loss: 3.1510 - val_acc: 0.8451\n",
      "Epoch 868/1000\n",
      "0s - loss: 0.0858 - acc: 0.9158 - val_loss: 3.0505 - val_acc: 0.8397\n",
      "Epoch 869/1000\n",
      "0s - loss: 0.0938 - acc: 0.9117 - val_loss: 2.6389 - val_acc: 0.8397\n",
      "Epoch 870/1000\n",
      "0s - loss: 0.0864 - acc: 0.9124 - val_loss: 3.0617 - val_acc: 0.8451\n",
      "Epoch 871/1000\n",
      "0s - loss: 0.0789 - acc: 0.9192 - val_loss: 2.8861 - val_acc: 0.8397\n",
      "Epoch 872/1000\n",
      "0s - loss: 0.0735 - acc: 0.9232 - val_loss: 3.0396 - val_acc: 0.8614\n",
      "Epoch 873/1000\n",
      "0s - loss: 0.0798 - acc: 0.9192 - val_loss: 3.1511 - val_acc: 0.8533\n",
      "Epoch 874/1000\n",
      "0s - loss: 0.0761 - acc: 0.9205 - val_loss: 2.9639 - val_acc: 0.8451\n",
      "Epoch 875/1000\n",
      "0s - loss: 0.0744 - acc: 0.9327 - val_loss: 2.9401 - val_acc: 0.8370\n",
      "Epoch 876/1000\n",
      "0s - loss: 0.0767 - acc: 0.9246 - val_loss: 3.0099 - val_acc: 0.8397\n",
      "Epoch 877/1000\n",
      "0s - loss: 0.0774 - acc: 0.9219 - val_loss: 2.9308 - val_acc: 0.8533\n",
      "Epoch 878/1000\n",
      "0s - loss: 0.0666 - acc: 0.9327 - val_loss: 2.7679 - val_acc: 0.8370\n",
      "Epoch 879/1000\n",
      "0s - loss: 0.0704 - acc: 0.9273 - val_loss: 3.0245 - val_acc: 0.8424\n",
      "Epoch 880/1000\n",
      "0s - loss: 0.0678 - acc: 0.9348 - val_loss: 2.9727 - val_acc: 0.8587\n",
      "Epoch 881/1000\n",
      "0s - loss: 0.0703 - acc: 0.9361 - val_loss: 3.0393 - val_acc: 0.8478\n",
      "Epoch 882/1000\n",
      "0s - loss: 0.0669 - acc: 0.9361 - val_loss: 2.7471 - val_acc: 0.8478\n",
      "Epoch 883/1000\n",
      "0s - loss: 0.0754 - acc: 0.9300 - val_loss: 2.7609 - val_acc: 0.8478\n"
     ]
    },
    {
     "name": "stdout",
     "output_type": "stream",
     "text": [
      "Epoch 884/1000\n",
      "0s - loss: 0.0711 - acc: 0.9334 - val_loss: 2.5567 - val_acc: 0.8451\n",
      "Epoch 885/1000\n",
      "0s - loss: 0.0645 - acc: 0.9389 - val_loss: 2.5845 - val_acc: 0.8478\n",
      "Epoch 886/1000\n",
      "0s - loss: 0.0717 - acc: 0.9226 - val_loss: 2.6877 - val_acc: 0.8478\n",
      "Epoch 887/1000\n",
      "0s - loss: 0.0699 - acc: 0.9307 - val_loss: 2.7642 - val_acc: 0.8342\n",
      "Epoch 888/1000\n",
      "0s - loss: 0.0745 - acc: 0.9334 - val_loss: 3.1721 - val_acc: 0.8451\n",
      "Epoch 889/1000\n",
      "0s - loss: 0.0758 - acc: 0.9232 - val_loss: 2.9885 - val_acc: 0.8424\n",
      "Epoch 890/1000\n",
      "0s - loss: 0.0751 - acc: 0.9273 - val_loss: 3.0866 - val_acc: 0.8370\n",
      "Epoch 891/1000\n",
      "0s - loss: 0.0821 - acc: 0.9144 - val_loss: 2.9125 - val_acc: 0.8560\n",
      "Epoch 892/1000\n",
      "0s - loss: 0.0708 - acc: 0.9314 - val_loss: 2.7141 - val_acc: 0.8451\n",
      "Epoch 893/1000\n",
      "0s - loss: 0.0823 - acc: 0.9192 - val_loss: 2.7763 - val_acc: 0.8587\n",
      "Epoch 894/1000\n",
      "0s - loss: 0.0778 - acc: 0.9321 - val_loss: 2.8511 - val_acc: 0.8424\n",
      "Epoch 895/1000\n",
      "0s - loss: 0.0784 - acc: 0.9266 - val_loss: 3.0025 - val_acc: 0.8533\n",
      "Epoch 896/1000\n",
      "0s - loss: 0.0739 - acc: 0.9198 - val_loss: 2.8421 - val_acc: 0.8315\n",
      "Epoch 897/1000\n",
      "0s - loss: 0.0701 - acc: 0.9375 - val_loss: 2.7948 - val_acc: 0.8397\n",
      "Epoch 898/1000\n",
      "0s - loss: 0.0711 - acc: 0.9293 - val_loss: 3.1300 - val_acc: 0.8451\n",
      "Epoch 899/1000\n",
      "0s - loss: 0.0836 - acc: 0.9293 - val_loss: 2.7868 - val_acc: 0.8424\n",
      "Epoch 900/1000\n",
      "0s - loss: 0.0701 - acc: 0.9334 - val_loss: 2.9686 - val_acc: 0.8560\n",
      "Epoch 901/1000\n",
      "0s - loss: 0.0704 - acc: 0.9355 - val_loss: 3.0372 - val_acc: 0.8505\n",
      "Epoch 902/1000\n",
      "0s - loss: 0.0633 - acc: 0.9457 - val_loss: 3.0291 - val_acc: 0.8370\n",
      "Epoch 903/1000\n",
      "0s - loss: 0.0717 - acc: 0.9307 - val_loss: 2.9707 - val_acc: 0.8370\n",
      "Epoch 904/1000\n",
      "0s - loss: 0.0717 - acc: 0.9253 - val_loss: 2.8368 - val_acc: 0.8451\n",
      "Epoch 905/1000\n",
      "0s - loss: 0.0793 - acc: 0.9300 - val_loss: 3.0423 - val_acc: 0.8315\n",
      "Epoch 906/1000\n",
      "0s - loss: 0.1313 - acc: 0.9151 - val_loss: 3.0702 - val_acc: 0.8179\n",
      "Epoch 907/1000\n",
      "0s - loss: 0.1172 - acc: 0.8899 - val_loss: 3.1260 - val_acc: 0.8152\n",
      "Epoch 908/1000\n",
      "0s - loss: 0.1141 - acc: 0.9178 - val_loss: 3.1200 - val_acc: 0.8179\n",
      "Epoch 909/1000\n",
      "0s - loss: 0.1062 - acc: 0.8872 - val_loss: 3.1870 - val_acc: 0.8342\n",
      "Epoch 910/1000\n",
      "0s - loss: 0.2178 - acc: 0.8818 - val_loss: 2.3735 - val_acc: 0.7391\n",
      "Epoch 911/1000\n",
      "0s - loss: 0.4313 - acc: 0.7602 - val_loss: 3.8115 - val_acc: 0.7120\n",
      "Epoch 912/1000\n",
      "0s - loss: 0.4546 - acc: 0.7215 - val_loss: 3.4020 - val_acc: 0.6902\n",
      "Epoch 913/1000\n",
      "0s - loss: 0.7497 - acc: 0.6739 - val_loss: 4.3063 - val_acc: 0.5571\n",
      "Epoch 914/1000\n",
      "0s - loss: 0.3789 - acc: 0.7337 - val_loss: 4.1217 - val_acc: 0.8016\n",
      "Epoch 915/1000\n",
      "0s - loss: 0.2175 - acc: 0.7996 - val_loss: 3.3089 - val_acc: 0.7989\n",
      "Epoch 916/1000\n",
      "0s - loss: 0.1833 - acc: 0.8295 - val_loss: 3.3460 - val_acc: 0.8179\n",
      "Epoch 917/1000\n",
      "0s - loss: 0.1476 - acc: 0.8444 - val_loss: 3.1928 - val_acc: 0.8342\n",
      "Epoch 918/1000\n",
      "0s - loss: 0.1239 - acc: 0.8587 - val_loss: 3.3223 - val_acc: 0.8288\n",
      "Epoch 919/1000\n",
      "0s - loss: 0.1146 - acc: 0.8899 - val_loss: 3.3793 - val_acc: 0.8179\n",
      "Epoch 920/1000\n",
      "0s - loss: 0.1145 - acc: 0.8879 - val_loss: 3.1281 - val_acc: 0.8397\n",
      "Epoch 921/1000\n",
      "0s - loss: 0.1146 - acc: 0.8777 - val_loss: 2.9397 - val_acc: 0.8370\n",
      "Epoch 922/1000\n",
      "0s - loss: 0.0990 - acc: 0.8920 - val_loss: 3.0391 - val_acc: 0.8342\n",
      "Epoch 923/1000\n",
      "0s - loss: 0.0918 - acc: 0.9008 - val_loss: 3.1786 - val_acc: 0.8342\n",
      "Epoch 924/1000\n",
      "0s - loss: 0.0933 - acc: 0.9001 - val_loss: 3.2265 - val_acc: 0.8505\n",
      "Epoch 925/1000\n",
      "0s - loss: 0.0901 - acc: 0.9049 - val_loss: 3.2766 - val_acc: 0.8560\n",
      "Epoch 926/1000\n",
      "0s - loss: 0.0873 - acc: 0.9239 - val_loss: 3.2598 - val_acc: 0.8587\n",
      "Epoch 927/1000\n",
      "0s - loss: 0.0832 - acc: 0.9198 - val_loss: 3.2794 - val_acc: 0.8668\n",
      "Epoch 928/1000\n",
      "0s - loss: 0.0937 - acc: 0.8974 - val_loss: 3.3138 - val_acc: 0.8668\n",
      "Epoch 929/1000\n",
      "0s - loss: 0.0842 - acc: 0.9103 - val_loss: 3.3029 - val_acc: 0.8560\n",
      "Epoch 930/1000\n",
      "0s - loss: 0.0817 - acc: 0.9130 - val_loss: 3.3185 - val_acc: 0.8587\n",
      "Epoch 931/1000\n",
      "0s - loss: 0.0816 - acc: 0.9232 - val_loss: 3.3283 - val_acc: 0.8560\n",
      "Epoch 932/1000\n",
      "0s - loss: 0.0796 - acc: 0.9198 - val_loss: 3.3251 - val_acc: 0.8533\n",
      "Epoch 933/1000\n",
      "0s - loss: 0.0846 - acc: 0.9158 - val_loss: 3.2767 - val_acc: 0.8614\n",
      "Epoch 934/1000\n",
      "0s - loss: 0.0981 - acc: 0.9110 - val_loss: 3.1689 - val_acc: 0.8614\n",
      "Epoch 935/1000\n",
      "0s - loss: 0.0792 - acc: 0.9253 - val_loss: 3.1037 - val_acc: 0.8614\n",
      "Epoch 936/1000\n",
      "0s - loss: 0.0835 - acc: 0.9205 - val_loss: 3.0566 - val_acc: 0.8641\n",
      "Epoch 937/1000\n",
      "0s - loss: 0.0831 - acc: 0.9178 - val_loss: 3.1384 - val_acc: 0.8587\n",
      "Epoch 938/1000\n",
      "0s - loss: 0.0727 - acc: 0.9266 - val_loss: 3.0910 - val_acc: 0.8587\n",
      "Epoch 939/1000\n",
      "0s - loss: 0.0833 - acc: 0.9232 - val_loss: 3.1508 - val_acc: 0.8587\n",
      "Epoch 940/1000\n",
      "0s - loss: 0.0741 - acc: 0.9314 - val_loss: 3.1559 - val_acc: 0.8641\n",
      "Epoch 941/1000\n",
      "0s - loss: 0.0761 - acc: 0.9382 - val_loss: 3.1895 - val_acc: 0.8560\n",
      "Epoch 942/1000\n",
      "0s - loss: 0.0803 - acc: 0.9158 - val_loss: 3.1214 - val_acc: 0.8614\n",
      "Epoch 943/1000\n",
      "0s - loss: 0.0762 - acc: 0.9293 - val_loss: 3.1014 - val_acc: 0.8587\n",
      "Epoch 944/1000\n",
      "0s - loss: 0.0768 - acc: 0.9212 - val_loss: 3.1856 - val_acc: 0.8614\n",
      "Epoch 945/1000\n",
      "0s - loss: 0.0709 - acc: 0.9266 - val_loss: 3.2334 - val_acc: 0.8505\n",
      "Epoch 946/1000\n",
      "0s - loss: 0.0888 - acc: 0.9198 - val_loss: 3.1114 - val_acc: 0.8560\n",
      "Epoch 947/1000\n",
      "0s - loss: 0.0753 - acc: 0.9300 - val_loss: 3.2591 - val_acc: 0.8587\n",
      "Epoch 948/1000\n",
      "0s - loss: 0.0782 - acc: 0.9314 - val_loss: 3.2284 - val_acc: 0.8560\n",
      "Epoch 949/1000\n",
      "0s - loss: 0.0686 - acc: 0.9382 - val_loss: 3.2113 - val_acc: 0.8560\n",
      "Epoch 950/1000\n",
      "0s - loss: 0.0702 - acc: 0.9341 - val_loss: 3.1818 - val_acc: 0.8560\n",
      "Epoch 951/1000\n",
      "0s - loss: 0.0693 - acc: 0.9314 - val_loss: 3.1105 - val_acc: 0.8587\n",
      "Epoch 952/1000\n",
      "0s - loss: 0.0686 - acc: 0.9389 - val_loss: 3.0760 - val_acc: 0.8641\n",
      "Epoch 953/1000\n",
      "0s - loss: 0.0716 - acc: 0.9355 - val_loss: 3.1672 - val_acc: 0.8614\n",
      "Epoch 954/1000\n",
      "0s - loss: 0.0712 - acc: 0.9321 - val_loss: 3.1887 - val_acc: 0.8614\n",
      "Epoch 955/1000\n",
      "0s - loss: 0.0705 - acc: 0.9287 - val_loss: 3.2023 - val_acc: 0.8587\n",
      "Epoch 956/1000\n",
      "0s - loss: 0.0641 - acc: 0.9361 - val_loss: 3.1735 - val_acc: 0.8614\n",
      "Epoch 957/1000\n",
      "0s - loss: 0.0584 - acc: 0.9416 - val_loss: 3.1474 - val_acc: 0.8587\n",
      "Epoch 958/1000\n",
      "0s - loss: 0.0718 - acc: 0.9361 - val_loss: 2.9978 - val_acc: 0.8668\n",
      "Epoch 959/1000\n",
      "0s - loss: 0.0676 - acc: 0.9375 - val_loss: 3.0881 - val_acc: 0.8614\n",
      "Epoch 960/1000\n",
      "0s - loss: 0.0706 - acc: 0.9375 - val_loss: 3.0105 - val_acc: 0.8723\n",
      "Epoch 961/1000\n",
      "0s - loss: 0.0694 - acc: 0.9260 - val_loss: 3.0589 - val_acc: 0.8587\n",
      "Epoch 962/1000\n",
      "0s - loss: 0.0702 - acc: 0.9307 - val_loss: 3.0805 - val_acc: 0.8587\n",
      "Epoch 963/1000\n",
      "0s - loss: 0.0629 - acc: 0.9429 - val_loss: 3.1015 - val_acc: 0.8478\n",
      "Epoch 964/1000\n",
      "0s - loss: 0.0719 - acc: 0.9307 - val_loss: 3.0888 - val_acc: 0.8614\n",
      "Epoch 965/1000\n",
      "0s - loss: 0.0717 - acc: 0.9348 - val_loss: 3.1316 - val_acc: 0.8614\n",
      "Epoch 966/1000\n",
      "0s - loss: 0.0691 - acc: 0.9382 - val_loss: 3.0659 - val_acc: 0.8723\n",
      "Epoch 967/1000\n",
      "0s - loss: 0.0622 - acc: 0.9450 - val_loss: 3.0221 - val_acc: 0.8587\n",
      "Epoch 968/1000\n",
      "0s - loss: 0.0671 - acc: 0.9436 - val_loss: 2.9836 - val_acc: 0.8641\n",
      "Epoch 969/1000\n",
      "0s - loss: 0.0669 - acc: 0.9416 - val_loss: 2.9944 - val_acc: 0.8641\n",
      "Epoch 970/1000\n",
      "0s - loss: 0.0611 - acc: 0.9470 - val_loss: 3.0417 - val_acc: 0.8668\n",
      "Epoch 971/1000\n",
      "0s - loss: 0.0630 - acc: 0.9395 - val_loss: 3.1164 - val_acc: 0.8614\n",
      "Epoch 972/1000\n",
      "0s - loss: 0.0651 - acc: 0.9395 - val_loss: 3.0480 - val_acc: 0.8614\n",
      "Epoch 973/1000\n",
      "0s - loss: 0.0682 - acc: 0.9375 - val_loss: 3.0010 - val_acc: 0.8668\n",
      "Epoch 974/1000\n",
      "0s - loss: 0.0720 - acc: 0.9375 - val_loss: 3.1454 - val_acc: 0.8505\n",
      "Epoch 975/1000\n",
      "0s - loss: 0.0653 - acc: 0.9409 - val_loss: 3.2155 - val_acc: 0.8505\n",
      "Epoch 976/1000\n",
      "0s - loss: 0.0753 - acc: 0.9327 - val_loss: 3.2194 - val_acc: 0.8560\n",
      "Epoch 977/1000\n",
      "0s - loss: 0.0684 - acc: 0.9375 - val_loss: 3.1229 - val_acc: 0.8614\n",
      "Epoch 978/1000\n",
      "0s - loss: 0.0657 - acc: 0.9402 - val_loss: 3.0608 - val_acc: 0.8505\n",
      "Epoch 979/1000\n",
      "0s - loss: 0.0646 - acc: 0.9423 - val_loss: 3.0658 - val_acc: 0.8505\n",
      "Epoch 980/1000\n",
      "0s - loss: 0.0623 - acc: 0.9457 - val_loss: 3.0947 - val_acc: 0.8641\n",
      "Epoch 981/1000\n",
      "0s - loss: 0.0645 - acc: 0.9463 - val_loss: 3.0687 - val_acc: 0.8614\n",
      "Epoch 982/1000\n"
     ]
    },
    {
     "name": "stdout",
     "output_type": "stream",
     "text": [
      "0s - loss: 0.0635 - acc: 0.9423 - val_loss: 3.0860 - val_acc: 0.8587\n",
      "Epoch 983/1000\n",
      "0s - loss: 0.0687 - acc: 0.9280 - val_loss: 3.0713 - val_acc: 0.8533\n",
      "Epoch 984/1000\n",
      "0s - loss: 0.0762 - acc: 0.9368 - val_loss: 3.0628 - val_acc: 0.8505\n",
      "Epoch 985/1000\n",
      "0s - loss: 0.0620 - acc: 0.9436 - val_loss: 3.0287 - val_acc: 0.8560\n",
      "Epoch 986/1000\n",
      "0s - loss: 0.0705 - acc: 0.9355 - val_loss: 3.0887 - val_acc: 0.8533\n",
      "Epoch 987/1000\n",
      "0s - loss: 0.0668 - acc: 0.9389 - val_loss: 3.0149 - val_acc: 0.8560\n",
      "Epoch 988/1000\n",
      "0s - loss: 0.0688 - acc: 0.9416 - val_loss: 2.9345 - val_acc: 0.8560\n",
      "Epoch 989/1000\n",
      "0s - loss: 0.0726 - acc: 0.9321 - val_loss: 2.8990 - val_acc: 0.8696\n",
      "Epoch 990/1000\n",
      "0s - loss: 0.0720 - acc: 0.9321 - val_loss: 2.9091 - val_acc: 0.8451\n",
      "Epoch 991/1000\n",
      "0s - loss: 0.0606 - acc: 0.9484 - val_loss: 3.1492 - val_acc: 0.8560\n",
      "Epoch 992/1000\n",
      "0s - loss: 0.0622 - acc: 0.9436 - val_loss: 3.1874 - val_acc: 0.8587\n",
      "Epoch 993/1000\n",
      "0s - loss: 0.0629 - acc: 0.9477 - val_loss: 3.1308 - val_acc: 0.8560\n",
      "Epoch 994/1000\n",
      "0s - loss: 0.0709 - acc: 0.9327 - val_loss: 3.2378 - val_acc: 0.8451\n",
      "Epoch 995/1000\n",
      "0s - loss: 0.0686 - acc: 0.9293 - val_loss: 3.2790 - val_acc: 0.8505\n",
      "Epoch 996/1000\n",
      "0s - loss: 0.0692 - acc: 0.9307 - val_loss: 3.0856 - val_acc: 0.8397\n",
      "Epoch 997/1000\n",
      "0s - loss: 0.0732 - acc: 0.9416 - val_loss: 3.1852 - val_acc: 0.8478\n",
      "Epoch 998/1000\n",
      "0s - loss: 0.0661 - acc: 0.9429 - val_loss: 3.1236 - val_acc: 0.8533\n",
      "Epoch 999/1000\n",
      "0s - loss: 0.0645 - acc: 0.9375 - val_loss: 3.1841 - val_acc: 0.8614\n",
      "Epoch 1000/1000\n",
      "0s - loss: 0.0586 - acc: 0.9457 - val_loss: 3.2526 - val_acc: 0.8505\n"
     ]
    }
   ],
   "source": [
    "model.compile(loss='mean_squared_error', optimizer='adam',metrics=['acc'])\n",
    "model_info = model.fit(stage2X_train, stage2Y_train, epochs=1000, batch_size=50, verbose=2,\n",
    "                       validation_data=(stage2X_test,stage2Y_test))#,class_weight=cw)#,callbacks=callbacks)"
   ]
  },
  {
   "cell_type": "code",
   "execution_count": null,
   "metadata": {},
   "outputs": [],
   "source": [
    "stage2X_train.shape, stage2Y_train.shape, stage2X_test.shape,stage2Y_test.shape"
   ]
  },
  {
   "cell_type": "code",
   "execution_count": null,
   "metadata": {},
   "outputs": [],
   "source": [
    "max(stage2Y_train), max(stage2Y_test)"
   ]
  },
  {
   "cell_type": "code",
   "execution_count": 61,
   "metadata": {
    "collapsed": true
   },
   "outputs": [],
   "source": [
    "def plot_model_history(model_history):\n",
    "    fig, axs = plt.subplots(1,2,figsize=(15,5))\n",
    "    # summarize history for accuracy\n",
    "    axs[0].plot(range(1,len(model_history.history['acc'])+1),model_history.history['acc'])\n",
    "    axs[0].plot(range(1,len(model_history.history['val_acc'])+1),model_history.history['val_acc'])\n",
    "    axs[0].set_title('Model Accuracy')\n",
    "    axs[0].set_ylabel('Accuracy')\n",
    "    axs[0].set_xlabel('Epoch')\n",
    "    axs[0].set_xticks(np.arange(1,len(model_history.history['acc'])+1),len(model_history.history['acc'])/10)\n",
    "    axs[0].legend(['train', 'val'], loc='best')\n",
    "    # summarize history for loss\n",
    "    axs[1].plot(range(1,len(model_history.history['loss'])+1),model_history.history['loss'])\n",
    "    axs[1].plot(range(1,len(model_history.history['val_loss'])+1),model_history.history['val_loss'])\n",
    "    axs[1].set_title('Model Loss')\n",
    "    axs[1].set_ylabel('Loss')\n",
    "    axs[1].set_xlabel('Epoch')\n",
    "    axs[1].set_xticks(np.arange(1,len(model_history.history['loss'])+1),len(model_history.history['loss'])/10)\n",
    "    axs[1].legend(['train', 'val'], loc='best')\n",
    "    plt.show()"
   ]
  },
  {
   "cell_type": "code",
   "execution_count": 62,
   "metadata": {},
   "outputs": [
    {
     "data": {
      "image/png": "[encoded data removed]",
      "text/plain": [
       "<matplotlib.figure.Figure at 0x1c2a24f828>"
      ]
     },
     "metadata": {},
     "output_type": "display_data"
    }
   ],
   "source": [
    "plot_model_history(model_info)"
   ]
  },
  {
   "cell_type": "code",
   "execution_count": 72,
   "metadata": {},
   "outputs": [
    {
     "data": {
      "image/png": "[encoded data removed]",
      "text/plain": [
       "<matplotlib.figure.Figure at 0x1c37039668>"
      ]
     },
     "metadata": {},
     "output_type": "display_data"
    }
   ],
   "source": [
    "fig, ax = plt.subplots(figsize=(20, 10))\n",
    "# ax.scatter(np.asarray(newY_train),np.round(model.predict(np.asarray(newX_train))), s= 10)\n",
    "ax.scatter(midY_test_nn,model.predict(midX_test_nn), s= 20)\n",
    "plt.xlabel('Target solubility classes')\n",
    "plt.ylabel('Predicted solubility classes')\n",
    "plt.title('Performance of final Model')\n",
    "lims = [\n",
    "    np.min([ax.get_xlim(), ax.get_ylim()]),  # min of both axes\n",
    "    np.max([ax.get_xlim(), ax.get_ylim()]),  # max of both axes\n",
    "]\n",
    "\n",
    "# now plot both limits against eachother\n",
    "ax.plot(lims, lims, 'k-', alpha=0.45, zorder=0)\n",
    "ax.set_aspect('equal')\n",
    "ax.set_xlim(lims)\n",
    "ax.set_ylim(lims)\n",
    "plt.show()"
   ]
  },
  {
   "cell_type": "code",
   "execution_count": null,
   "metadata": {},
   "outputs": [],
   "source": [
    "Y_train_predict = model.predict(X_train)\n",
    "Y_train_predict.shape"
   ]
  },
  {
   "cell_type": "code",
   "execution_count": null,
   "metadata": {
    "collapsed": true
   },
   "outputs": [],
   "source": [
    "Y_train_predict=np.reshape(Y_train_predict,(2598,))"
   ]
  },
  {
   "cell_type": "code",
   "execution_count": null,
   "metadata": {},
   "outputs": [],
   "source": [
    "Y_test_predict = model.predict(X_test)\n",
    "Y_test_predict.shape"
   ]
  },
  {
   "cell_type": "code",
   "execution_count": null,
   "metadata": {
    "collapsed": true
   },
   "outputs": [],
   "source": [
    "Y_test_predict=np.reshape(Y_test_predict,(650,))"
   ]
  },
  {
   "cell_type": "code",
   "execution_count": null,
   "metadata": {},
   "outputs": [],
   "source": [
    "dif = np.subtract(Y_train,Y_train_predict)\n",
    "tbd = []\n",
    "for i in range(len(dif)):\n",
    "    d = dif[i]\n",
    "    if abs(d)>3:\n",
    "        tbd.append(i)\n",
    "        \n",
    "newX_train=[]\n",
    "newY_train = []\n",
    "for i in range(len(X_train)):\n",
    "    if i not in tbd:\n",
    "        newX_train.append(X_train[i])\n",
    "        newY_train.append(Y_train[i])\n",
    "        \n",
    "len(newX_train)"
   ]
  },
  {
   "cell_type": "code",
   "execution_count": null,
   "metadata": {},
   "outputs": [],
   "source": [
    "dif = np.subtract(Y_test,Y_test_predict)\n",
    "tbd = []\n",
    "for i in range(len(dif)):\n",
    "    d = dif[i]\n",
    "    if (Y_test[i]==0 and Y_test_predict[i]>0) or (Y_test[i]>0 and Y_test_predict[i]==0) or abs(d)>12:\n",
    "        tbd.append(i)\n",
    "        \n",
    "\n",
    "newX_test=[]\n",
    "newY_test = []\n",
    "for i in range(len(X_test)):\n",
    "    if i not in tbd:\n",
    "        newX_test.append(X_test[i])\n",
    "        newY_test.append(Y_test[i])\n",
    "\n",
    "len(newY_test)"
   ]
  },
  {
   "cell_type": "code",
   "execution_count": null,
   "metadata": {},
   "outputs": [],
   "source": [
    "np.asarray(newX_train).tofile('X_train.csv')\n",
    "np.asarray(newY_train).tofile('Y_train.csv')\n",
    "np.asarray(newX_test).tofile('X_test.csv')\n",
    "np.asarray(newY_test).tofile('Y_test.csv')"
   ]
  },
  {
   "cell_type": "code",
   "execution_count": null,
   "metadata": {
    "collapsed": true
   },
   "outputs": [],
   "source": [
    "newX = []\n",
    "newX.extend(newX_train)\n",
    "newX.extend(newX_test)\n",
    "\n",
    "newY = []\n",
    "newY.extend(newY_train)\n",
    "newY.extend(newY_test)\n",
    "\n",
    "np.save('newX.npy',np.asarray(newX))\n",
    "np.save('newY.npy',np.asarray(newY))\n",
    "np.save('newX_train.npy',np.asarray(newX_train))\n",
    "np.save('newY_train.npy',np.asarray(newY_train))\n",
    "np.save('newX_test.npy',np.asarray(newX_test))\n",
    "np.save('newY_test.npy',np.asarray(newY_test))"
   ]
  },
  {
   "cell_type": "code",
   "execution_count": null,
   "metadata": {
    "collapsed": true
   },
   "outputs": [],
   "source": [
    "from sklearn.metrics import mean_squared_error\n",
    "mse = mean_squared_error(newY_test, np.round(model.predict(newX_test)))"
   ]
  },
  {
   "cell_type": "code",
   "execution_count": null,
   "metadata": {
    "collapsed": true
   },
   "outputs": [],
   "source": [
    "print(np.round(model.predict([val_data_lstm,val_data_mw])))"
   ]
  },
  {
   "cell_type": "code",
   "execution_count": null,
   "metadata": {},
   "outputs": [],
   "source": [
    "mse*19/200"
   ]
  },
  {
   "cell_type": "code",
   "execution_count": null,
   "metadata": {},
   "outputs": [],
   "source": [
    "(19/200)*3"
   ]
  },
  {
   "cell_type": "code",
   "execution_count": null,
   "metadata": {
    "collapsed": true
   },
   "outputs": [],
   "source": [
    "mean_squared_error(target,np.round(model.predict([data_lstm,data_mw])))*19/200"
   ]
  },
  {
   "cell_type": "code",
   "execution_count": null,
   "metadata": {},
   "outputs": [],
   "source": [
    "import sklearn\n",
    "sklearn.metrics.precision_recall_fscore_support(newY_test, np.round(model.predict(newX_test)),average='weighted')"
   ]
  },
  {
   "cell_type": "code",
   "execution_count": null,
   "metadata": {
    "collapsed": true
   },
   "outputs": [],
   "source": []
  },
  {
   "cell_type": "code",
   "execution_count": null,
   "metadata": {
    "collapsed": true
   },
   "outputs": [],
   "source": []
  },
  {
   "cell_type": "code",
   "execution_count": null,
   "metadata": {
    "collapsed": true
   },
   "outputs": [],
   "source": []
  },
  {
   "cell_type": "code",
   "execution_count": null,
   "metadata": {
    "collapsed": true
   },
   "outputs": [],
   "source": []
  }
 ],
 "metadata": {
  "kernelspec": {
   "display_name": "Python 3",
   "language": "python",
   "name": "python3"
  },
  "language_info": {
   "codemirror_mode": {
    "name": "ipython",
    "version": 3
   },
   "file_extension": ".py",
   "mimetype": "text/x-python",
   "name": "python",
   "nbconvert_exporter": "python",
   "pygments_lexer": "ipython3",
   "version": "3.6.2"
  }
 },
 "nbformat": 4,
 "nbformat_minor": 2
}
