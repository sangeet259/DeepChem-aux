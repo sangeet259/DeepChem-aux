{
 "cells": [
  {
   "cell_type": "raw",
   "metadata": {},
   "source": [
    "The last layer is ReLU!"
   ]
  },
  {
   "cell_type": "code",
   "execution_count": 1,
   "metadata": {
    "collapsed": true
   },
   "outputs": [],
   "source": [
    "import torch\n",
    "import torch.nn as nn\n",
    "from torch.autograd import Variable\n",
    "import numpy as np\n",
    "import matplotlib.pyplot as plt\n",
    "\n",
    "from sklearn.model_selection import train_test_split"
   ]
  },
  {
   "cell_type": "code",
   "execution_count": 2,
   "metadata": {
    "collapsed": true
   },
   "outputs": [],
   "source": [
    "X=np.load(\"X.npy\")\n",
    "Y=np.load(\"Y.npy\")"
   ]
  },
  {
   "cell_type": "code",
   "execution_count": 3,
   "metadata": {
    "collapsed": true
   },
   "outputs": [],
   "source": [
    "X_train, X_test, Y_train, Y_test = train_test_split(X, Y, test_size=0.1, random_state=42)"
   ]
  },
  {
   "cell_type": "code",
   "execution_count": 4,
   "metadata": {
    "collapsed": true
   },
   "outputs": [],
   "source": [
    "input_size = 100\n",
    "hidden_size = 200\n",
    "num_classes = 500\n",
    "num_epochs = 5\n",
    "batch_size = 100\n",
    "learning_rate = 0.0001"
   ]
  },
  {
   "cell_type": "code",
   "execution_count": 5,
   "metadata": {
    "collapsed": true
   },
   "outputs": [],
   "source": [
    "class Net(nn.Module):\n",
    "    def __init__(self, input_size, hidden_size, num_classes):\n",
    "        super(Net, self).__init__()\n",
    "        self.fc1 = nn.Linear(input_size, hidden_size) \n",
    "        self.relu = nn.ReLU()\n",
    "        self.fc2 = nn.Linear(hidden_size, num_classes)  \n",
    "    \n",
    "    def forward(self, x):\n",
    "        out = self.fc1(x)\n",
    "        out = self.relu(out)\n",
    "        out = self.fc2(out)\n",
    "        out = self.relu(out)\n",
    "        return out"
   ]
  },
  {
   "cell_type": "code",
   "execution_count": 20,
   "metadata": {
    "collapsed": true
   },
   "outputs": [],
   "source": [
    "model = Net(input_size,hidden_size,num_classes)\n",
    "#model.cuda()\n",
    "criterion = nn.CrossEntropyLoss()  \n",
    "optimizer = torch.optim.RMSprop(model.parameters(), lr=learning_rate) #Adam"
   ]
  },
  {
   "cell_type": "code",
   "execution_count": 7,
   "metadata": {
    "collapsed": true
   },
   "outputs": [],
   "source": [
    "epochs = 100"
   ]
  },
  {
   "cell_type": "code",
   "execution_count": 9,
   "metadata": {},
   "outputs": [
    {
     "name": "stdout",
     "output_type": "stream",
     "text": [
      "epoch 1, loss 0.3746865391731262\n",
      "epoch 2, loss 0.3043023943901062\n",
      "epoch 3, loss 0.2895157039165497\n",
      "epoch 4, loss 0.29486140608787537\n",
      "epoch 5, loss 0.31053265929222107\n",
      "epoch 6, loss 0.32243481278419495\n",
      "epoch 7, loss 0.3307904899120331\n",
      "epoch 8, loss 0.34121212363243103\n",
      "epoch 9, loss 0.34323665499687195\n",
      "epoch 10, loss 0.3438132107257843\n",
      "epoch 11, loss 0.3415423631668091\n",
      "epoch 12, loss 0.3419231176376343\n",
      "epoch 13, loss 0.34146401286125183\n",
      "epoch 14, loss 0.34240132570266724\n",
      "epoch 15, loss 0.34272265434265137\n",
      "epoch 16, loss 0.3428555130958557\n",
      "epoch 17, loss 0.3404766023159027\n",
      "epoch 18, loss 0.3363470733165741\n",
      "epoch 19, loss 0.33732181787490845\n",
      "epoch 20, loss 0.3365790545940399\n",
      "epoch 21, loss 0.3382005989551544\n",
      "epoch 22, loss 0.3384447395801544\n",
      "epoch 23, loss 0.34148550033569336\n",
      "epoch 24, loss 0.3458572328090668\n",
      "epoch 25, loss 0.34628596901893616\n",
      "epoch 26, loss 0.3418442904949188\n",
      "epoch 27, loss 0.3532123863697052\n",
      "epoch 28, loss 0.3487386703491211\n",
      "epoch 29, loss 0.3484891951084137\n",
      "epoch 30, loss 0.3578254282474518\n",
      "epoch 31, loss 0.3611876666545868\n",
      "epoch 32, loss 0.36716917157173157\n",
      "epoch 33, loss 0.37015533447265625\n",
      "epoch 34, loss 0.37753915786743164\n",
      "epoch 35, loss 0.3789884150028229\n",
      "epoch 36, loss 0.39040106534957886\n",
      "epoch 37, loss 0.39367255568504333\n",
      "epoch 38, loss 0.39218056201934814\n",
      "epoch 39, loss 0.40497249364852905\n",
      "epoch 40, loss 0.4130171835422516\n",
      "epoch 41, loss 0.4163183271884918\n",
      "epoch 42, loss 0.424557626247406\n",
      "epoch 43, loss 0.4316239058971405\n",
      "epoch 44, loss 0.4456346333026886\n",
      "epoch 45, loss 0.45577913522720337\n",
      "epoch 46, loss 0.46728408336639404\n",
      "epoch 47, loss 0.46591490507125854\n",
      "epoch 48, loss 0.46674737334251404\n",
      "epoch 49, loss 0.47274401783943176\n",
      "epoch 50, loss 0.47937890887260437\n",
      "epoch 51, loss 0.48949095606803894\n",
      "epoch 52, loss 0.503083348274231\n",
      "epoch 53, loss 0.5094097256660461\n",
      "epoch 54, loss 0.516339898109436\n",
      "epoch 55, loss 0.5250535607337952\n",
      "epoch 56, loss 0.5283042192459106\n",
      "epoch 57, loss 0.5398119688034058\n",
      "epoch 58, loss 0.545483410358429\n",
      "epoch 59, loss 0.5388936400413513\n",
      "epoch 60, loss 0.5591241717338562\n",
      "epoch 61, loss 0.5592054724693298\n",
      "epoch 62, loss 0.5684364438056946\n",
      "epoch 63, loss 0.5676428079605103\n",
      "epoch 64, loss 0.5756308436393738\n",
      "epoch 65, loss 0.593230664730072\n",
      "epoch 66, loss 0.6008171439170837\n",
      "epoch 67, loss 0.5989691019058228\n",
      "epoch 68, loss 0.5835806131362915\n",
      "epoch 69, loss 0.5979046821594238\n",
      "epoch 70, loss 0.6103134751319885\n",
      "epoch 71, loss 0.6083835363388062\n",
      "epoch 72, loss 0.6145564317703247\n",
      "epoch 73, loss 0.6196078658103943\n",
      "epoch 74, loss 0.6244361400604248\n",
      "epoch 75, loss 0.6253991723060608\n",
      "epoch 76, loss 0.6315401792526245\n",
      "epoch 77, loss 0.6328575015068054\n",
      "epoch 78, loss 0.6456006169319153\n",
      "epoch 79, loss 0.6510865688323975\n",
      "epoch 80, loss 0.6617409586906433\n",
      "epoch 81, loss 0.6805387735366821\n",
      "epoch 82, loss 0.6921586394309998\n",
      "epoch 83, loss 0.6971213817596436\n",
      "epoch 84, loss 0.7014719247817993\n",
      "epoch 85, loss 0.7119788527488708\n",
      "epoch 86, loss 0.7152701020240784\n",
      "epoch 87, loss 0.7113032341003418\n",
      "epoch 88, loss 0.7375167608261108\n",
      "epoch 89, loss 0.7201575636863708\n",
      "epoch 90, loss 0.7403353452682495\n",
      "epoch 91, loss 0.7239729762077332\n",
      "epoch 92, loss 0.7470337152481079\n",
      "epoch 93, loss 0.7341691255569458\n",
      "epoch 94, loss 0.7219504714012146\n",
      "epoch 95, loss 0.7225509881973267\n",
      "epoch 96, loss 0.7250828742980957\n",
      "epoch 97, loss 0.735026478767395\n",
      "epoch 98, loss 0.7287360429763794\n",
      "epoch 99, loss 0.7318034768104553\n",
      "epoch 100, loss 0.7201676964759827\n"
     ]
    }
   ],
   "source": [
    "# test\n",
    "losses=[]\n",
    "for epoch in range(epochs):\n",
    "    \n",
    "    epoch +=1\n",
    "    \n",
    "    for x,y in zip(X_train,Y_train):\n",
    "        y=np.array([y])\n",
    "        x=torch.from_numpy(np.expand_dims(x, axis=0))\n",
    "        y=torch.from_numpy(y)\n",
    "        \n",
    "        inputs = Variable(x.type(torch.FloatTensor))\n",
    "        labels = Variable(y.type(torch.LongTensor))\n",
    "        \n",
    "        #clear grads\n",
    "        optimizer.zero_grad()\n",
    "        #forward to get predicted values\n",
    "        outputs = model.forward(inputs)\n",
    "        \n",
    "            \n",
    "        loss = criterion(outputs, labels)\n",
    "        \n",
    "\n",
    "        losses.append(float(loss))\n",
    "        loss.backward()# back props\n",
    "        optimizer.step()# update the parameters\n",
    "    print('epoch {}, loss {}'.format(epoch,loss.data[0]))"
   ]
  },
  {
   "cell_type": "markdown",
   "metadata": {},
   "source": [
    "## Evaluate the performance on the training data"
   ]
  },
  {
   "cell_type": "code",
   "execution_count": 10,
   "metadata": {},
   "outputs": [
    {
     "name": "stdout",
     "output_type": "stream",
     "text": [
      "The train accuracy is 78.54223433242507\n"
     ]
    }
   ],
   "source": [
    "# X_train and Y_train\n",
    "model_pred=model(Variable(torch.from_numpy(X_train).type(torch.FloatTensor)))\n",
    "\n",
    "train_correct=0\n",
    "Y_train_pred=[]\n",
    "total_train_compounds=len(Y_train)\n",
    "for i,train_compound in enumerate(model_pred):\n",
    "    \n",
    "    \n",
    "    max_,max_index=torch.max(train_compound,0)\n",
    "    Y_train_pred.append(int(max_index))\n",
    "    if (int(max_index)==Y_train[i]):\n",
    "        train_correct+=1\n",
    "\n",
    "print(\"The train accuracy is {}\".format((train_correct/total_train_compounds)*100))"
   ]
  },
  {
   "cell_type": "markdown",
   "metadata": {},
   "source": [
    "## Evaluate the model on the testing data"
   ]
  },
  {
   "cell_type": "code",
   "execution_count": 12,
   "metadata": {},
   "outputs": [
    {
     "name": "stdout",
     "output_type": "stream",
     "text": [
      "The test accuracy is 72.78287461773701\n"
     ]
    }
   ],
   "source": [
    "# X_test and Y_test\n",
    "model_pred_test=model(Variable(torch.from_numpy(X_test).type(torch.FloatTensor)))\n",
    "\n",
    "# The test accuracy\n",
    "test_correct=0\n",
    "Y_test_pred=[]\n",
    "total_test_compounds=len(Y_test)\n",
    "for i,test_compound in enumerate(model_pred_test):\n",
    "    \n",
    "    \n",
    "    max_,max_index=torch.max(test_compound,0)\n",
    "    Y_test_pred.append(int(max_index))\n",
    "    if (int(max_index)==Y_test[i]):\n",
    "        test_correct+=1\n",
    "\n",
    "print(\"The test accuracy is {}\".format((test_correct/total_test_compounds)*100))"
   ]
  },
  {
   "cell_type": "code",
   "execution_count": 13,
   "metadata": {
    "collapsed": true
   },
   "outputs": [],
   "source": [
    "import matplotlib.pyplot as plt\n",
    "%matplotlib inline"
   ]
  },
  {
   "cell_type": "code",
   "execution_count": 14,
   "metadata": {
    "collapsed": true,
    "scrolled": true
   },
   "outputs": [],
   "source": [
    "## Saved , uncomment the below line if you want to save it\n",
    "# np.save(\"Y_test\",Y_test)\n",
    "# np.save(\"Y_test_pred.npy\",np.array(Y_test_pred))"
   ]
  },
  {
   "cell_type": "code",
   "execution_count": 15,
   "metadata": {},
   "outputs": [
    {
     "data": {
      "text/plain": [
       "[<matplotlib.lines.Line2D at 0x1a0eb7a470>]"
      ]
     },
     "execution_count": 15,
     "metadata": {},
     "output_type": "execute_result"
    },
    {
     "data": {
      "image/png": "[encoded data removed]",
      "text/plain": [
       "<matplotlib.figure.Figure at 0x10e12fc50>"
      ]
     },
     "metadata": {},
     "output_type": "display_data"
    }
   ],
   "source": [
    "plt.plot(Y_test_pred)"
   ]
  },
  {
   "cell_type": "code",
   "execution_count": 16,
   "metadata": {
    "collapsed": true
   },
   "outputs": [],
   "source": [
    "## For the entire dataset"
   ]
  },
  {
   "cell_type": "code",
   "execution_count": 18,
   "metadata": {},
   "outputs": [
    {
     "name": "stdout",
     "output_type": "stream",
     "text": [
      "The total accuracy is 77.96506282562059\n"
     ]
    }
   ],
   "source": [
    "#X and Y\n",
    "model_pred=model(Variable(torch.from_numpy(X).type(torch.FloatTensor)))\n",
    "correct=0\n",
    "Y_pred=[]\n",
    "total_compounds=len(Y)\n",
    "for i,compound in enumerate(model_pred):\n",
    "    \n",
    "    \n",
    "    max_,max_index=torch.max(compound,0)\n",
    "    Y_pred.append(int(max_index))\n",
    "    if (int(max_index)==Y[i]):\n",
    "        correct+=1\n",
    "\n",
    "print(\"The total accuracy is {}\".format((correct/total_compounds)*100))"
   ]
  },
  {
   "cell_type": "code",
   "execution_count": 19,
   "metadata": {
    "scrolled": true
   },
   "outputs": [
    {
     "data": {
      "text/plain": [
       "[<matplotlib.lines.Line2D at 0x1a19ca95f8>]"
      ]
     },
     "execution_count": 19,
     "metadata": {},
     "output_type": "execute_result"
    },
    {
     "data": {
      "image/png": "[encoded data removed]",
      "text/plain": [
       "<matplotlib.figure.Figure at 0x1a0ef31dd8>"
      ]
     },
     "metadata": {},
     "output_type": "display_data"
    }
   ],
   "source": [
    "plt.plot(Y_pred)"
   ]
  },
  {
   "cell_type": "code",
   "execution_count": null,
   "metadata": {
    "collapsed": true
   },
   "outputs": [],
   "source": []
  },
  {
   "cell_type": "code",
   "execution_count": null,
   "metadata": {
    "collapsed": true
   },
   "outputs": [],
   "source": []
  }
 ],
 "metadata": {
  "kernelspec": {
   "display_name": "Python 3",
   "language": "python",
   "name": "python3"
  },
  "language_info": {
   "codemirror_mode": {
    "name": "ipython",
    "version": 3
   },
   "file_extension": ".py",
   "mimetype": "text/x-python",
   "name": "python",
   "nbconvert_exporter": "python",
   "pygments_lexer": "ipython3",
   "version": "3.6.2"
  }
 },
 "nbformat": 4,
 "nbformat_minor": 2
}
